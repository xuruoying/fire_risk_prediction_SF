{
 "cells": [
  {
   "cell_type": "code",
   "execution_count": 1,
   "metadata": {},
   "outputs": [],
   "source": [
    "import pandas as pd\n"
   ]
  },
  {
   "cell_type": "code",
   "execution_count": 2,
   "metadata": {},
   "outputs": [],
   "source": [
    "# the dataset is created year by year using geopandas under virtual environment\n",
    "\n",
    "df = pd.read_csv('second_analysis.csv')"
   ]
  },
  {
   "cell_type": "code",
   "execution_count": 3,
   "metadata": {},
   "outputs": [
    {
     "data": {
      "text/plain": [
       "(2021084, 27)"
      ]
     },
     "execution_count": 3,
     "metadata": {},
     "output_type": "execute_result"
    }
   ],
   "source": [
    "df.shape"
   ]
  },
  {
   "cell_type": "code",
   "execution_count": 4,
   "metadata": {},
   "outputs": [
    {
     "data": {
      "text/plain": [
       "Index(['yrbuilt', 'from_st', 'total_uses', 'shape_area', 'cie', 'landuse',\n",
       "       'mips', 'mapblklot', 'objectid', 'shape_leng', 'visitor', 'st_type',\n",
       "       'bldgsqft', 'resunits', 'pdr', 'street', 'retail', 'to_st', 'block_num',\n",
       "       'blklot', 'lot_num', 'med', 'fire_count', 'fire_count_last year',\n",
       "       'year', 'complaints_count', 'violation_count'],\n",
       "      dtype='object')"
      ]
     },
     "execution_count": 4,
     "metadata": {},
     "output_type": "execute_result"
    }
   ],
   "source": [
    "df.columns"
   ]
  },
  {
   "cell_type": "code",
   "execution_count": 5,
   "metadata": {},
   "outputs": [
    {
     "name": "stdout",
     "output_type": "stream",
     "text": [
      "(2021084, 15)\n",
      "(2021084, 15)\n"
     ]
    }
   ],
   "source": [
    "cols_to_use = ['fire_count','fire_count_last year','year',\n",
    "               'yrbuilt','bldgsqft','total_uses','cie','mips','visitor', 'pdr', 'retail', 'med','resunits',\n",
    "               'complaints_count', 'violation_count']\n",
    "\n",
    "df_model = df[cols_to_use]\n",
    "print(df_model.shape)\n",
    "df_model = df_model.dropna(how='any')\n",
    "print(df_model.shape)"
   ]
  },
  {
   "cell_type": "code",
   "execution_count": 6,
   "metadata": {},
   "outputs": [
    {
     "data": {
      "text/plain": [
       "0"
      ]
     },
     "execution_count": 6,
     "metadata": {},
     "output_type": "execute_result"
    }
   ],
   "source": [
    "# check any null value in each feature\n",
    "df_model['fire_count'].isnull().sum()"
   ]
  },
  {
   "cell_type": "code",
   "execution_count": 7,
   "metadata": {},
   "outputs": [
    {
     "data": {
      "text/plain": [
       "0.0    1996458\n",
       "1.0      23364\n",
       "2.0       1072\n",
       "3.0        155\n",
       "4.0         25\n",
       "5.0          7\n",
       "7.0          2\n",
       "6.0          1\n",
       "Name: fire_count, dtype: int64"
      ]
     },
     "execution_count": 7,
     "metadata": {},
     "output_type": "execute_result"
    }
   ],
   "source": [
    "# there are some building that caught on fire more than twice in a year. But they are rare.\n",
    "df_model['fire_count'].value_counts()"
   ]
  },
  {
   "cell_type": "code",
   "execution_count": 8,
   "metadata": {},
   "outputs": [
    {
     "data": {
      "text/plain": [
       "0    1996458\n",
       "1      24626\n",
       "Name: fire, dtype: int64"
      ]
     },
     "execution_count": 8,
     "metadata": {},
     "output_type": "execute_result"
    }
   ],
   "source": [
    "df_model['fire'] = 0\n",
    "df_model.loc[(df_model['fire_count'] > 0),'fire'] = 1\n",
    "df_model.drop('fire_count',inplace=True, axis=1)\n",
    "df_model['fire'].value_counts()"
   ]
  },
  {
   "cell_type": "code",
   "execution_count": 9,
   "metadata": {},
   "outputs": [
    {
     "data": {
      "text/plain": [
       "Index(['fire_count_last year', 'year', 'yrbuilt', 'bldgsqft', 'total_uses',\n",
       "       'cie', 'mips', 'visitor', 'pdr', 'retail', 'med', 'resunits',\n",
       "       'complaints_count', 'violation_count', 'fire'],\n",
       "      dtype='object')"
      ]
     },
     "execution_count": 9,
     "metadata": {},
     "output_type": "execute_result"
    }
   ],
   "source": [
    "df_model.columns"
   ]
  },
  {
   "cell_type": "code",
   "execution_count": 10,
   "metadata": {},
   "outputs": [],
   "source": [
    "from sklearn.model_selection import train_test_split\n",
    "from sklearn.ensemble import RandomForestClassifier, GradientBoostingClassifier\n",
    "from sklearn.feature_selection import SelectFromModel\n",
    "from sklearn.metrics import roc_curve, roc_auc_score\n",
    "from sklearn.pipeline import Pipeline\n",
    "from sklearn.model_selection import cross_validate, GridSearchCV, learning_curve\n",
    "from sklearn.preprocessing import StandardScaler, LabelEncoder\n",
    "from sklearn.linear_model import LogisticRegression\n",
    "from sklearn.model_selection import cross_val_score\n",
    "from sklearn.model_selection import RepeatedStratifiedKFold"
   ]
  },
  {
   "cell_type": "code",
   "execution_count": 11,
   "metadata": {},
   "outputs": [],
   "source": [
    "import numpy as np\n",
    "import pandas as pd\n",
    "import seaborn as sns\n",
    "import matplotlib.pyplot as plt\n",
    "import time\n",
    "plt.style.use('seaborn-talk')\n",
    "#For mapping\n",
    "#import folium\n",
    "#from branca.utilities import split_six"
   ]
  },
  {
   "cell_type": "code",
   "execution_count": null,
   "metadata": {},
   "outputs": [],
   "source": [
    "# in sklearn, there are many ways of calculating accuracy of models. Use this command to display them all\n",
    "import sklearn\n",
    "sorted(sklearn.metrics.SCORERS.keys())"
   ]
  },
  {
   "cell_type": "code",
   "execution_count": 12,
   "metadata": {},
   "outputs": [],
   "source": [
    "# divide the data\n",
    "x_cols = cols_to_use[1:]\n",
    "\n",
    "validate = df_model[df_model['year']==2019]\n",
    "traintest = df_model[df_model['year']<2019]\n",
    "\n",
    "df_x = traintest[x_cols]\n",
    "df_y = traintest['fire']\n",
    "\n",
    "# a validation set used for ptrediction\n",
    "validate_x = validate[x_cols]\n",
    "validate_y = validate['fire']"
   ]
  },
  {
   "cell_type": "code",
   "execution_count": 48,
   "metadata": {},
   "outputs": [
    {
     "data": {
      "text/html": [
       "<div>\n",
       "<style scoped>\n",
       "    .dataframe tbody tr th:only-of-type {\n",
       "        vertical-align: middle;\n",
       "    }\n",
       "\n",
       "    .dataframe tbody tr th {\n",
       "        vertical-align: top;\n",
       "    }\n",
       "\n",
       "    .dataframe thead th {\n",
       "        text-align: right;\n",
       "    }\n",
       "</style>\n",
       "<table border=\"1\" class=\"dataframe\">\n",
       "  <thead>\n",
       "    <tr style=\"text-align: right;\">\n",
       "      <th></th>\n",
       "      <th>fire_count_last year</th>\n",
       "      <th>year</th>\n",
       "      <th>yrbuilt</th>\n",
       "      <th>bldgsqft</th>\n",
       "      <th>total_uses</th>\n",
       "      <th>cie</th>\n",
       "      <th>mips</th>\n",
       "      <th>visitor</th>\n",
       "      <th>pdr</th>\n",
       "      <th>retail</th>\n",
       "      <th>med</th>\n",
       "      <th>resunits</th>\n",
       "      <th>complaints_count</th>\n",
       "      <th>violation_count</th>\n",
       "    </tr>\n",
       "  </thead>\n",
       "  <tbody>\n",
       "    <tr>\n",
       "      <th>0</th>\n",
       "      <td>0.0</td>\n",
       "      <td>2007</td>\n",
       "      <td>1912</td>\n",
       "      <td>5460</td>\n",
       "      <td>0</td>\n",
       "      <td>0</td>\n",
       "      <td>0</td>\n",
       "      <td>0</td>\n",
       "      <td>0</td>\n",
       "      <td>0</td>\n",
       "      <td>0</td>\n",
       "      <td>5</td>\n",
       "      <td>0.0</td>\n",
       "      <td>0.0</td>\n",
       "    </tr>\n",
       "    <tr>\n",
       "      <th>1</th>\n",
       "      <td>0.0</td>\n",
       "      <td>2007</td>\n",
       "      <td>1900</td>\n",
       "      <td>4500</td>\n",
       "      <td>3471</td>\n",
       "      <td>0</td>\n",
       "      <td>3471</td>\n",
       "      <td>0</td>\n",
       "      <td>0</td>\n",
       "      <td>0</td>\n",
       "      <td>0</td>\n",
       "      <td>1</td>\n",
       "      <td>0.0</td>\n",
       "      <td>0.0</td>\n",
       "    </tr>\n",
       "    <tr>\n",
       "      <th>2</th>\n",
       "      <td>0.0</td>\n",
       "      <td>2007</td>\n",
       "      <td>1900</td>\n",
       "      <td>5783</td>\n",
       "      <td>0</td>\n",
       "      <td>0</td>\n",
       "      <td>0</td>\n",
       "      <td>0</td>\n",
       "      <td>0</td>\n",
       "      <td>0</td>\n",
       "      <td>0</td>\n",
       "      <td>2</td>\n",
       "      <td>0.0</td>\n",
       "      <td>0.0</td>\n",
       "    </tr>\n",
       "    <tr>\n",
       "      <th>3</th>\n",
       "      <td>0.0</td>\n",
       "      <td>2007</td>\n",
       "      <td>1940</td>\n",
       "      <td>3700</td>\n",
       "      <td>0</td>\n",
       "      <td>0</td>\n",
       "      <td>0</td>\n",
       "      <td>0</td>\n",
       "      <td>0</td>\n",
       "      <td>0</td>\n",
       "      <td>0</td>\n",
       "      <td>2</td>\n",
       "      <td>0.0</td>\n",
       "      <td>0.0</td>\n",
       "    </tr>\n",
       "    <tr>\n",
       "      <th>4</th>\n",
       "      <td>0.0</td>\n",
       "      <td>2007</td>\n",
       "      <td>1938</td>\n",
       "      <td>4543</td>\n",
       "      <td>0</td>\n",
       "      <td>0</td>\n",
       "      <td>0</td>\n",
       "      <td>0</td>\n",
       "      <td>0</td>\n",
       "      <td>0</td>\n",
       "      <td>0</td>\n",
       "      <td>2</td>\n",
       "      <td>0.0</td>\n",
       "      <td>0.0</td>\n",
       "    </tr>\n",
       "  </tbody>\n",
       "</table>\n",
       "</div>"
      ],
      "text/plain": [
       "   fire_count_last year  year  yrbuilt  bldgsqft  total_uses  cie  mips  \\\n",
       "0                   0.0  2007     1912      5460           0    0     0   \n",
       "1                   0.0  2007     1900      4500        3471    0  3471   \n",
       "2                   0.0  2007     1900      5783           0    0     0   \n",
       "3                   0.0  2007     1940      3700           0    0     0   \n",
       "4                   0.0  2007     1938      4543           0    0     0   \n",
       "\n",
       "   visitor  pdr  retail  med  resunits  complaints_count  violation_count  \n",
       "0        0    0       0    0         5               0.0              0.0  \n",
       "1        0    0       0    0         1               0.0              0.0  \n",
       "2        0    0       0    0         2               0.0              0.0  \n",
       "3        0    0       0    0         2               0.0              0.0  \n",
       "4        0    0       0    0         2               0.0              0.0  "
      ]
     },
     "execution_count": 48,
     "metadata": {},
     "output_type": "execute_result"
    }
   ],
   "source": [
    "df_x.head()"
   ]
  },
  {
   "cell_type": "code",
   "execution_count": 28,
   "metadata": {},
   "outputs": [],
   "source": [
    "test_parameters_RF = {\n",
    "        'classify__n_estimators': [200],\n",
    "        'classify__max_depth': [15],\n",
    "        'classify__min_samples_split':[8],\n",
    "        'classify__min_samples_leaf':[30],\n",
    "        'classify__class_weight':['balanced_subsample']\n",
    "}"
   ]
  },
  {
   "cell_type": "code",
   "execution_count": 29,
   "metadata": {},
   "outputs": [],
   "source": [
    "def generate_pipeline_RC(scale=False,select=True,test_parameters=False):\n",
    "\n",
    "    '''\n",
    "    Set up modelling pipline for random forest classifier\n",
    "    User selects parameters to conduct grid search and number of folds of CV\n",
    "    '''\n",
    "\n",
    "    #Scaling\n",
    "    SC = StandardScaler()\n",
    "\n",
    "    #Classifier \n",
    "    RC = RandomForestClassifier()\n",
    "    #Feature selector\n",
    "    FS = SelectFromModel(estimator=RC,threshold='mean')\n",
    "    #Pipeline\n",
    "    if (scale == True) and (select == True):\n",
    "        RC_pipeline = Pipeline([('scale',SC),('select',FS),('classify', RC)])\n",
    "    elif (scale == True) and (select == False):\n",
    "        RC_pipeline = Pipeline([('scale',SC),('classify', RC)])\n",
    "    elif (scale == False) and (select == True ):\n",
    "        RC_pipeline = Pipeline([('select',FS),('classify', RC)])\n",
    "    else:\n",
    "        RC_pipeline = Pipeline([('classify', RC)])\n",
    "\n",
    "    if test_parameters == False:\n",
    "\n",
    "        #Parameters to search over\n",
    "        test_parameters = {\n",
    "        'classify__n_estimators': [100],\n",
    "        'classify__max_depth': [15],\n",
    "        'classify__min_samples_leaf':[30]\n",
    "        }\n",
    "\n",
    "    #Number of folds\n",
    "    nfolds=5\n",
    "\n",
    "    #Grid search object to set up\n",
    "    grid_search = GridSearchCV(RC_pipeline, test_parameters, \\\n",
    "                           scoring='roc_auc',verbose=1, cv=nfolds, n_jobs=4)\n",
    "\n",
    "    return RC_pipeline, grid_search, test_parameters"
   ]
  },
  {
   "cell_type": "code",
   "execution_count": 30,
   "metadata": {},
   "outputs": [],
   "source": [
    "pipeline, gridsearch, testparams = generate_pipeline_RC(test_parameters=test_parameters_RF,select=True)"
   ]
  },
  {
   "cell_type": "code",
   "execution_count": 31,
   "metadata": {},
   "outputs": [],
   "source": [
    "def perform_grid_search(pipeline_obj,grid_search_obj,X_train,y_train,test_parameters,Xcols,select=True):\n",
    "    \n",
    "    '''\n",
    "    Perform a grid search over hyperparmeters to generate the best model. Takes a generic pipeline object and grid search\n",
    "    object. Prints the length of time it takes to run a model. Runs GridSearchCV over some input range of parameters to\n",
    "    select the best model based in AOC score\n",
    "    '''\n",
    "    \n",
    "    print(\"Performing grid search...\")\n",
    "    print(\"pipeline:\", [name for name, _ in pipeline_obj.steps])\n",
    "    print(\"parameters:\")\n",
    "    print(test_parameters)\n",
    "    t0 = time.time()\n",
    "    \n",
    "    #Do the grid search on the training dataset\n",
    "    grid_search_obj.fit(X_train, y_train)\n",
    "    \n",
    "    print(\"done in %0.3fs\" % (time.time() - t0))\n",
    "    print()\n",
    "\n",
    "    print(\"Best score: %0.3f\" % grid_search_obj.best_score_)\n",
    "    print(\"Best parameters set:\")\n",
    "    best_estimator = grid_search_obj.best_estimator_\n",
    "    best_parameters = best_estimator.get_params()\n",
    "    for param_name in sorted(test_parameters.keys()):\n",
    "        print(\"\\t%s: %r\" % (param_name, best_parameters[param_name]))\n",
    "        \n",
    "    #Get the names of the columns corresponding to the features we want to keep\n",
    "    if select == True:\n",
    "        support = best_estimator.named_steps['select'].get_support()\n",
    "        X_new_cols = [Xcols[i] for i in range(len(support)) if support[i] == True]\n",
    "    else:\n",
    "        X_new_cols = Xcols\n",
    " \n",
    "    #Return the best estimator object for use with the holdout dataset\n",
    "    \n",
    "    return X_new_cols, best_estimator"
   ]
  },
  {
   "cell_type": "code",
   "execution_count": 32,
   "metadata": {},
   "outputs": [
    {
     "name": "stdout",
     "output_type": "stream",
     "text": [
      "Performing grid search...\n",
      "pipeline: ['select', 'classify']\n",
      "parameters:\n",
      "{'classify__n_estimators': [200], 'classify__max_depth': [15], 'classify__min_samples_split': [8], 'classify__min_samples_leaf': [30], 'classify__class_weight': ['balanced_subsample']}\n",
      "Fitting 5 folds for each of 1 candidates, totalling 5 fits\n"
     ]
    },
    {
     "name": "stderr",
     "output_type": "stream",
     "text": [
      "[Parallel(n_jobs=4)]: Using backend LokyBackend with 4 concurrent workers.\n",
      "[Parallel(n_jobs=4)]: Done   5 out of   5 | elapsed: 19.3min finished\n"
     ]
    },
    {
     "name": "stdout",
     "output_type": "stream",
     "text": [
      "done in 1797.632s\n",
      "\n",
      "Best score: 0.444\n",
      "Best parameters set:\n",
      "\tclassify__class_weight: 'balanced_subsample'\n",
      "\tclassify__max_depth: 15\n",
      "\tclassify__min_samples_leaf: 30\n",
      "\tclassify__min_samples_split: 8\n",
      "\tclassify__n_estimators: 200\n"
     ]
    }
   ],
   "source": [
    "#Run grid search for the best model\n",
    "Xcols, RF_model_structure = perform_grid_search(pipeline,gridsearch,df_x,df_y,testparams,list(df_x.columns),select=True)"
   ]
  },
  {
   "cell_type": "code",
   "execution_count": 33,
   "metadata": {},
   "outputs": [],
   "source": [
    "def plot_ROC_curve(Xdata,Ytrue,model,title):\n",
    "\n",
    "    '''\n",
    "    Plot ROC curve for this model \n",
    "    '''\n",
    "\n",
    "    fires_holdout_predict = model.predict_proba(Xdata)\n",
    "\n",
    "    fpr, tpr, thresholds1 = roc_curve(np.array(Ytrue).astype(int), fires_holdout_predict[:,1])\n",
    "\n",
    "    score = roc_auc_score(np.array(Ytrue).astype(int), fires_holdout_predict[:,1])\n",
    "\n",
    "    score_label = 'AOC score: %.3f' %score \n",
    "\n",
    "    fig = plt.figure(figsize=(10,10))\n",
    "    ax = fig.add_subplot(111)\n",
    "    ax.plot(fpr,tpr,label=score_label)\n",
    "    ax.set_xlabel(\"False Positive\")\n",
    "    ax.set_ylabel(\"True Positive\")\n",
    "    ax.plot(np.linspace(0,1,10),np.linspace(0,1,10),'k--')\n",
    "    ax.set_title('%s' %title)\n",
    "\n",
    "        \n",
    "    ax.fill_between(fpr, np.zeros(len(fpr)),\n",
    "                     tpr, alpha=0.1,\n",
    "                     color=\"b\")\n",
    "    ax.grid()\n",
    "    plt.legend(loc='best')\n",
    "    fname = 'AOC_%s.png' %title\n",
    "    plt.savefig(fname,dpi=400)\n",
    "\n",
    "    return fig, fpr, tpr, thresholds1\n"
   ]
  },
  {
   "cell_type": "code",
   "execution_count": 36,
   "metadata": {},
   "outputs": [
    {
     "data": {
      "image/png": "[encoded data removed]",
      "text/plain": [
       "<Figure size 720x720 with 1 Axes>"
      ]
     },
     "metadata": {
      "needs_background": "light"
     },
     "output_type": "display_data"
    }
   ],
   "source": [
    "ROCplot, false_positive_EF, true_positive_EF, thresholds_EF = plot_ROC_curve(validate_x,validate_y,\n",
    "                                                                             RF_model_structure,\n",
    "                                                                             title='Structure_fire_ROC_curve')"
   ]
  },
  {
   "cell_type": "code",
   "execution_count": 40,
   "metadata": {},
   "outputs": [],
   "source": [
    "# assess model performance\n",
    "from sklearn import metrics"
   ]
  },
  {
   "cell_type": "code",
   "execution_count": 37,
   "metadata": {},
   "outputs": [],
   "source": [
    "fprobs = RC_model_EF_2018.predict_proba(validate_x)"
   ]
  },
  {
   "cell_type": "code",
   "execution_count": 38,
   "metadata": {},
   "outputs": [],
   "source": [
    "fclass = RC_model_EF_2018.predict(validate_x)"
   ]
  },
  {
   "cell_type": "code",
   "execution_count": 42,
   "metadata": {},
   "outputs": [
    {
     "data": {
      "text/plain": [
       "0.2111706197398623"
      ]
     },
     "execution_count": 42,
     "metadata": {},
     "output_type": "execute_result"
    }
   ],
   "source": [
    "metrics.recall_score(validate_y,fclass)"
   ]
  },
  {
   "cell_type": "code",
   "execution_count": 43,
   "metadata": {},
   "outputs": [
    {
     "data": {
      "text/plain": [
       "0.016867322618101813"
      ]
     },
     "execution_count": 43,
     "metadata": {},
     "output_type": "execute_result"
    }
   ],
   "source": [
    "metrics.precision_score(validate_y,fclass)"
   ]
  },
  {
   "cell_type": "code",
   "execution_count": 44,
   "metadata": {},
   "outputs": [
    {
     "data": {
      "text/plain": [
       "0.03123938879456706"
      ]
     },
     "execution_count": 44,
     "metadata": {},
     "output_type": "execute_result"
    }
   ],
   "source": [
    "metrics.f1_score(validate_y,fclass)"
   ]
  },
  {
   "cell_type": "code",
   "execution_count": 46,
   "metadata": {},
   "outputs": [],
   "source": [
    "feature_importances = RC_model_EF_2018.named_steps['classify'].feature_importances_\n",
    "inds = feature_importances.argsort()[::-1]\n",
    "fnames = []\n",
    "fvals = []\n",
    "for index in inds:\n",
    "    fvals.append(feature_importances[index])\n",
    "    fnames.append(Xcols_EF[index])"
   ]
  },
  {
   "cell_type": "code",
   "execution_count": 54,
   "metadata": {},
   "outputs": [
    {
     "data": {
      "text/plain": [
       "['year', 'yrbuilt', 'bldgsqft']"
      ]
     },
     "execution_count": 54,
     "metadata": {},
     "output_type": "execute_result"
    }
   ],
   "source": [
    "Xcols_EF"
   ]
  },
  {
   "cell_type": "code",
   "execution_count": 53,
   "metadata": {},
   "outputs": [
    {
     "data": {
      "image/png": "[encoded data removed]",
      "text/plain": [
       "<Figure size 720x432 with 1 Axes>"
      ]
     },
     "metadata": {
      "needs_background": "light"
     },
     "output_type": "display_data"
    }
   ],
   "source": [
    "xlabels = fnames\n",
    "ylabels = fvals\n",
    "\n",
    "#Better label names for plot\n",
    "#xlabels = ['#crimes','#external fires','Lon','Area','Lat','#inspections','#residents','year','building_age_sd','landvalue']\n",
    "\n",
    "fig = plt.figure(figsize=(10,6))\n",
    "ax1 = fig.add_subplot(111)\n",
    "ax1.bar(xlabels,ylabels,alpha=0.5)\n",
    "rects = ax1.patches \n",
    "\n",
    "for rect, label in zip(rects, ylabels):\n",
    "    label = '%.2f' %label\n",
    "    height = rect.get_height()\n",
    "    ax1.text(rect.get_x() + rect.get_width() / 2, height + 0.01, label,\n",
    "            ha='center', va='bottom', fontsize=14)\n",
    "\n",
    "plt.xticks(rotation=90)\n",
    "ax1.set_title(\"Feature importances\",pad=20)\n",
    "plt.tight_layout()\n",
    "#plt.savefig(\"External_fires_fimportance_final.png\",dpi=400)"
   ]
  },
  {
   "cell_type": "code",
   "execution_count": 55,
   "metadata": {},
   "outputs": [
    {
     "data": {
      "text/plain": [
       "<matplotlib.axes._subplots.AxesSubplot at 0x14ace3daac0>"
      ]
     },
     "execution_count": 55,
     "metadata": {},
     "output_type": "execute_result"
    },
    {
     "data": {
      "image/png": "[encoded data removed]",
      "text/plain": [
       "<Figure size 748.8x514.8 with 1 Axes>"
      ]
     },
     "metadata": {
      "needs_background": "light"
     },
     "output_type": "display_data"
    }
   ],
   "source": [
    "EF_2018_pred = RC_model_EF_2018.predict_proba(validate_x)\n",
    "#Plot the distribution of fire probabilities \n",
    "sns.distplot(EF_2018_pred[:,1],kde=False,bins=100)"
   ]
  },
  {
   "cell_type": "code",
   "execution_count": null,
   "metadata": {},
   "outputs": [],
   "source": []
  },
  {
   "cell_type": "code",
   "execution_count": null,
   "metadata": {},
   "outputs": [],
   "source": []
  },
  {
   "cell_type": "code",
   "execution_count": null,
   "metadata": {},
   "outputs": [],
   "source": []
  },
  {
   "cell_type": "code",
   "execution_count": 51,
   "metadata": {},
   "outputs": [
    {
     "ename": "ValueError",
     "evalue": "arrays must all be same length",
     "output_type": "error",
     "traceback": [
      "\u001b[1;31m---------------------------------------------------------------------------\u001b[0m",
      "\u001b[1;31mValueError\u001b[0m                                Traceback (most recent call last)",
      "\u001b[1;32m<ipython-input-51-c5db236f1ed0>\u001b[0m in \u001b[0;36m<module>\u001b[1;34m\u001b[0m\n\u001b[0;32m      1\u001b[0m \u001b[1;31m#plot the importances (Relative influence of each variable)\u001b[0m\u001b[1;33m\u001b[0m\u001b[1;33m\u001b[0m\u001b[1;33m\u001b[0m\u001b[0m\n\u001b[1;32m----> 2\u001b[1;33m \u001b[0mgb_o\u001b[0m \u001b[1;33m=\u001b[0m \u001b[0mpd\u001b[0m\u001b[1;33m.\u001b[0m\u001b[0mDataFrame\u001b[0m\u001b[1;33m(\u001b[0m\u001b[1;33m{\u001b[0m\u001b[1;34m'features'\u001b[0m\u001b[1;33m:\u001b[0m\u001b[0mx_cols\u001b[0m\u001b[1;33m,\u001b[0m\u001b[1;34m'importance'\u001b[0m\u001b[1;33m:\u001b[0m\u001b[0mRC_model_EF_2018\u001b[0m\u001b[1;33m.\u001b[0m\u001b[0mnamed_steps\u001b[0m\u001b[1;33m[\u001b[0m\u001b[1;34m'classify'\u001b[0m\u001b[1;33m]\u001b[0m\u001b[1;33m.\u001b[0m\u001b[0mfeature_importances_\u001b[0m\u001b[1;33m}\u001b[0m\u001b[1;33m)\u001b[0m\u001b[1;33m\u001b[0m\u001b[1;33m\u001b[0m\u001b[0m\n\u001b[0m\u001b[0;32m      3\u001b[0m \u001b[0mgb_o\u001b[0m\u001b[1;33m=\u001b[0m \u001b[0mgb_o\u001b[0m\u001b[1;33m.\u001b[0m\u001b[0msort_values\u001b[0m\u001b[1;33m(\u001b[0m\u001b[0mby\u001b[0m\u001b[1;33m=\u001b[0m\u001b[1;34m'importance'\u001b[0m\u001b[1;33m,\u001b[0m\u001b[0mascending\u001b[0m\u001b[1;33m=\u001b[0m\u001b[1;32mFalse\u001b[0m\u001b[1;33m)\u001b[0m\u001b[1;33m\u001b[0m\u001b[1;33m\u001b[0m\u001b[0m\n\u001b[0;32m      4\u001b[0m \u001b[1;33m\u001b[0m\u001b[0m\n\u001b[0;32m      5\u001b[0m \u001b[1;33m\u001b[0m\u001b[0m\n",
      "\u001b[1;32m~\\anaconda3\\lib\\site-packages\\pandas\\core\\frame.py\u001b[0m in \u001b[0;36m__init__\u001b[1;34m(self, data, index, columns, dtype, copy)\u001b[0m\n\u001b[0;32m    433\u001b[0m             )\n\u001b[0;32m    434\u001b[0m         \u001b[1;32melif\u001b[0m \u001b[0misinstance\u001b[0m\u001b[1;33m(\u001b[0m\u001b[0mdata\u001b[0m\u001b[1;33m,\u001b[0m \u001b[0mdict\u001b[0m\u001b[1;33m)\u001b[0m\u001b[1;33m:\u001b[0m\u001b[1;33m\u001b[0m\u001b[1;33m\u001b[0m\u001b[0m\n\u001b[1;32m--> 435\u001b[1;33m             \u001b[0mmgr\u001b[0m \u001b[1;33m=\u001b[0m \u001b[0minit_dict\u001b[0m\u001b[1;33m(\u001b[0m\u001b[0mdata\u001b[0m\u001b[1;33m,\u001b[0m \u001b[0mindex\u001b[0m\u001b[1;33m,\u001b[0m \u001b[0mcolumns\u001b[0m\u001b[1;33m,\u001b[0m \u001b[0mdtype\u001b[0m\u001b[1;33m=\u001b[0m\u001b[0mdtype\u001b[0m\u001b[1;33m)\u001b[0m\u001b[1;33m\u001b[0m\u001b[1;33m\u001b[0m\u001b[0m\n\u001b[0m\u001b[0;32m    436\u001b[0m         \u001b[1;32melif\u001b[0m \u001b[0misinstance\u001b[0m\u001b[1;33m(\u001b[0m\u001b[0mdata\u001b[0m\u001b[1;33m,\u001b[0m \u001b[0mma\u001b[0m\u001b[1;33m.\u001b[0m\u001b[0mMaskedArray\u001b[0m\u001b[1;33m)\u001b[0m\u001b[1;33m:\u001b[0m\u001b[1;33m\u001b[0m\u001b[1;33m\u001b[0m\u001b[0m\n\u001b[0;32m    437\u001b[0m             \u001b[1;32mimport\u001b[0m \u001b[0mnumpy\u001b[0m\u001b[1;33m.\u001b[0m\u001b[0mma\u001b[0m\u001b[1;33m.\u001b[0m\u001b[0mmrecords\u001b[0m \u001b[1;32mas\u001b[0m \u001b[0mmrecords\u001b[0m\u001b[1;33m\u001b[0m\u001b[1;33m\u001b[0m\u001b[0m\n",
      "\u001b[1;32m~\\anaconda3\\lib\\site-packages\\pandas\\core\\internals\\construction.py\u001b[0m in \u001b[0;36minit_dict\u001b[1;34m(data, index, columns, dtype)\u001b[0m\n\u001b[0;32m    252\u001b[0m             \u001b[0marr\u001b[0m \u001b[1;32mif\u001b[0m \u001b[1;32mnot\u001b[0m \u001b[0mis_datetime64tz_dtype\u001b[0m\u001b[1;33m(\u001b[0m\u001b[0marr\u001b[0m\u001b[1;33m)\u001b[0m \u001b[1;32melse\u001b[0m \u001b[0marr\u001b[0m\u001b[1;33m.\u001b[0m\u001b[0mcopy\u001b[0m\u001b[1;33m(\u001b[0m\u001b[1;33m)\u001b[0m \u001b[1;32mfor\u001b[0m \u001b[0marr\u001b[0m \u001b[1;32min\u001b[0m \u001b[0marrays\u001b[0m\u001b[1;33m\u001b[0m\u001b[1;33m\u001b[0m\u001b[0m\n\u001b[0;32m    253\u001b[0m         ]\n\u001b[1;32m--> 254\u001b[1;33m     \u001b[1;32mreturn\u001b[0m \u001b[0marrays_to_mgr\u001b[0m\u001b[1;33m(\u001b[0m\u001b[0marrays\u001b[0m\u001b[1;33m,\u001b[0m \u001b[0mdata_names\u001b[0m\u001b[1;33m,\u001b[0m \u001b[0mindex\u001b[0m\u001b[1;33m,\u001b[0m \u001b[0mcolumns\u001b[0m\u001b[1;33m,\u001b[0m \u001b[0mdtype\u001b[0m\u001b[1;33m=\u001b[0m\u001b[0mdtype\u001b[0m\u001b[1;33m)\u001b[0m\u001b[1;33m\u001b[0m\u001b[1;33m\u001b[0m\u001b[0m\n\u001b[0m\u001b[0;32m    255\u001b[0m \u001b[1;33m\u001b[0m\u001b[0m\n\u001b[0;32m    256\u001b[0m \u001b[1;33m\u001b[0m\u001b[0m\n",
      "\u001b[1;32m~\\anaconda3\\lib\\site-packages\\pandas\\core\\internals\\construction.py\u001b[0m in \u001b[0;36marrays_to_mgr\u001b[1;34m(arrays, arr_names, index, columns, dtype)\u001b[0m\n\u001b[0;32m     62\u001b[0m     \u001b[1;31m# figure out the index, if necessary\u001b[0m\u001b[1;33m\u001b[0m\u001b[1;33m\u001b[0m\u001b[1;33m\u001b[0m\u001b[0m\n\u001b[0;32m     63\u001b[0m     \u001b[1;32mif\u001b[0m \u001b[0mindex\u001b[0m \u001b[1;32mis\u001b[0m \u001b[1;32mNone\u001b[0m\u001b[1;33m:\u001b[0m\u001b[1;33m\u001b[0m\u001b[1;33m\u001b[0m\u001b[0m\n\u001b[1;32m---> 64\u001b[1;33m         \u001b[0mindex\u001b[0m \u001b[1;33m=\u001b[0m \u001b[0mextract_index\u001b[0m\u001b[1;33m(\u001b[0m\u001b[0marrays\u001b[0m\u001b[1;33m)\u001b[0m\u001b[1;33m\u001b[0m\u001b[1;33m\u001b[0m\u001b[0m\n\u001b[0m\u001b[0;32m     65\u001b[0m     \u001b[1;32melse\u001b[0m\u001b[1;33m:\u001b[0m\u001b[1;33m\u001b[0m\u001b[1;33m\u001b[0m\u001b[0m\n\u001b[0;32m     66\u001b[0m         \u001b[0mindex\u001b[0m \u001b[1;33m=\u001b[0m \u001b[0mensure_index\u001b[0m\u001b[1;33m(\u001b[0m\u001b[0mindex\u001b[0m\u001b[1;33m)\u001b[0m\u001b[1;33m\u001b[0m\u001b[1;33m\u001b[0m\u001b[0m\n",
      "\u001b[1;32m~\\anaconda3\\lib\\site-packages\\pandas\\core\\internals\\construction.py\u001b[0m in \u001b[0;36mextract_index\u001b[1;34m(data)\u001b[0m\n\u001b[0;32m    363\u001b[0m             \u001b[0mlengths\u001b[0m \u001b[1;33m=\u001b[0m \u001b[0mlist\u001b[0m\u001b[1;33m(\u001b[0m\u001b[0mset\u001b[0m\u001b[1;33m(\u001b[0m\u001b[0mraw_lengths\u001b[0m\u001b[1;33m)\u001b[0m\u001b[1;33m)\u001b[0m\u001b[1;33m\u001b[0m\u001b[1;33m\u001b[0m\u001b[0m\n\u001b[0;32m    364\u001b[0m             \u001b[1;32mif\u001b[0m \u001b[0mlen\u001b[0m\u001b[1;33m(\u001b[0m\u001b[0mlengths\u001b[0m\u001b[1;33m)\u001b[0m \u001b[1;33m>\u001b[0m \u001b[1;36m1\u001b[0m\u001b[1;33m:\u001b[0m\u001b[1;33m\u001b[0m\u001b[1;33m\u001b[0m\u001b[0m\n\u001b[1;32m--> 365\u001b[1;33m                 \u001b[1;32mraise\u001b[0m \u001b[0mValueError\u001b[0m\u001b[1;33m(\u001b[0m\u001b[1;34m\"arrays must all be same length\"\u001b[0m\u001b[1;33m)\u001b[0m\u001b[1;33m\u001b[0m\u001b[1;33m\u001b[0m\u001b[0m\n\u001b[0m\u001b[0;32m    366\u001b[0m \u001b[1;33m\u001b[0m\u001b[0m\n\u001b[0;32m    367\u001b[0m             \u001b[1;32mif\u001b[0m \u001b[0mhave_dicts\u001b[0m\u001b[1;33m:\u001b[0m\u001b[1;33m\u001b[0m\u001b[1;33m\u001b[0m\u001b[0m\n",
      "\u001b[1;31mValueError\u001b[0m: arrays must all be same length"
     ]
    }
   ],
   "source": [
    "#plot the importances (Relative influence of each variable)\n",
    "gb_o = pd.DataFrame({'features':x_cols,'importance':RC_model_EF_2018.named_steps['classify'].feature_importances_})\n",
    "gb_o= gb_o.sort_values(by='importance',ascending=False)\n",
    "\n",
    "\n",
    "plt.figure(1,figsize=(12, 6))\n",
    "plt.xticks(range(len(gb_o)), gb_o.features,rotation=45)\n",
    "plt.plot(range(len(gb_o)),gb_o.importance,\"o\")\n",
    "plt.title('Feature importances')\n",
    "plt.show()"
   ]
  },
  {
   "cell_type": "code",
   "execution_count": null,
   "metadata": {},
   "outputs": [],
   "source": []
  },
  {
   "cell_type": "code",
   "execution_count": null,
   "metadata": {},
   "outputs": [],
   "source": []
  }
 ],
 "metadata": {
  "kernelspec": {
   "display_name": "Python 3",
   "language": "python",
   "name": "python3"
  },
  "language_info": {
   "codemirror_mode": {
    "name": "ipython",
    "version": 3
   },
   "file_extension": ".py",
   "mimetype": "text/x-python",
   "name": "python",
   "nbconvert_exporter": "python",
   "pygments_lexer": "ipython3",
   "version": "3.8.3"
  }
 },
 "nbformat": 4,
 "nbformat_minor": 4
}
