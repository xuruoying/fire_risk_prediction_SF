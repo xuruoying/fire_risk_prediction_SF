{
 "cells": [
  {
   "cell_type": "markdown",
   "metadata": {},
   "source": [
    "# This notebook is for geo data processing\n",
    "geopandas has conflicts with anaconda, so install and use it in a virtual env called geoenv."
   ]
  },
  {
   "cell_type": "code",
   "execution_count": 1,
   "metadata": {},
   "outputs": [
    {
     "ename": "ImportError",
     "evalue": "DLL load failed while importing _datadir: The specified module could not be found.",
     "output_type": "error",
     "traceback": [
      "\u001b[1;31m---------------------------------------------------------------------------\u001b[0m",
      "\u001b[1;31mImportError\u001b[0m                               Traceback (most recent call last)",
      "\u001b[1;32m<ipython-input-1-2c75df42c3b6>\u001b[0m in \u001b[0;36m<module>\u001b[1;34m\u001b[0m\n\u001b[1;32m----> 1\u001b[1;33m \u001b[1;32mimport\u001b[0m \u001b[0mgeopandas\u001b[0m \u001b[1;32mas\u001b[0m \u001b[0mgpd\u001b[0m\u001b[1;33m\u001b[0m\u001b[1;33m\u001b[0m\u001b[0m\n\u001b[0m\u001b[0;32m      2\u001b[0m \u001b[1;32mimport\u001b[0m \u001b[0mpandas\u001b[0m \u001b[1;32mas\u001b[0m \u001b[0mpd\u001b[0m\u001b[1;33m\u001b[0m\u001b[1;33m\u001b[0m\u001b[0m\n\u001b[0;32m      3\u001b[0m \u001b[1;32mimport\u001b[0m \u001b[0mnumpy\u001b[0m \u001b[1;32mas\u001b[0m \u001b[0mnp\u001b[0m\u001b[1;33m\u001b[0m\u001b[1;33m\u001b[0m\u001b[0m\n\u001b[0;32m      4\u001b[0m \u001b[1;32mfrom\u001b[0m \u001b[0mshapely\u001b[0m\u001b[1;33m.\u001b[0m\u001b[0mgeometry\u001b[0m \u001b[1;32mimport\u001b[0m \u001b[0mPolygon\u001b[0m\u001b[1;33m,\u001b[0m \u001b[0mPoint\u001b[0m\u001b[1;33m\u001b[0m\u001b[1;33m\u001b[0m\u001b[0m\n\u001b[0;32m      5\u001b[0m \u001b[1;32mfrom\u001b[0m \u001b[0mshapely\u001b[0m \u001b[1;32mimport\u001b[0m \u001b[0mwkt\u001b[0m\u001b[1;33m\u001b[0m\u001b[1;33m\u001b[0m\u001b[0m\n",
      "\u001b[1;32m~\\anaconda3\\envs\\geoenv\\lib\\site-packages\\geopandas\\__init__.py\u001b[0m in \u001b[0;36m<module>\u001b[1;34m\u001b[0m\n\u001b[0;32m      1\u001b[0m \u001b[1;32mfrom\u001b[0m \u001b[0mgeopandas\u001b[0m\u001b[1;33m.\u001b[0m\u001b[0m_config\u001b[0m \u001b[1;32mimport\u001b[0m \u001b[0moptions\u001b[0m  \u001b[1;31m# noqa\u001b[0m\u001b[1;33m\u001b[0m\u001b[1;33m\u001b[0m\u001b[0m\n\u001b[0;32m      2\u001b[0m \u001b[1;33m\u001b[0m\u001b[0m\n\u001b[1;32m----> 3\u001b[1;33m \u001b[1;32mfrom\u001b[0m \u001b[0mgeopandas\u001b[0m\u001b[1;33m.\u001b[0m\u001b[0mgeoseries\u001b[0m \u001b[1;32mimport\u001b[0m \u001b[0mGeoSeries\u001b[0m  \u001b[1;31m# noqa\u001b[0m\u001b[1;33m\u001b[0m\u001b[1;33m\u001b[0m\u001b[0m\n\u001b[0m\u001b[0;32m      4\u001b[0m \u001b[1;32mfrom\u001b[0m \u001b[0mgeopandas\u001b[0m\u001b[1;33m.\u001b[0m\u001b[0mgeodataframe\u001b[0m \u001b[1;32mimport\u001b[0m \u001b[0mGeoDataFrame\u001b[0m  \u001b[1;31m# noqa\u001b[0m\u001b[1;33m\u001b[0m\u001b[1;33m\u001b[0m\u001b[0m\n\u001b[0;32m      5\u001b[0m \u001b[1;32mfrom\u001b[0m \u001b[0mgeopandas\u001b[0m\u001b[1;33m.\u001b[0m\u001b[0marray\u001b[0m \u001b[1;32mimport\u001b[0m \u001b[0mpoints_from_xy\u001b[0m  \u001b[1;31m# noqa\u001b[0m\u001b[1;33m\u001b[0m\u001b[1;33m\u001b[0m\u001b[0m\n",
      "\u001b[1;32m~\\anaconda3\\envs\\geoenv\\lib\\site-packages\\geopandas\\geoseries.py\u001b[0m in \u001b[0;36m<module>\u001b[1;34m\u001b[0m\n\u001b[0;32m      7\u001b[0m \u001b[1;32mfrom\u001b[0m \u001b[0mpandas\u001b[0m\u001b[1;33m.\u001b[0m\u001b[0mcore\u001b[0m\u001b[1;33m.\u001b[0m\u001b[0minternals\u001b[0m \u001b[1;32mimport\u001b[0m \u001b[0mSingleBlockManager\u001b[0m\u001b[1;33m\u001b[0m\u001b[1;33m\u001b[0m\u001b[0m\n\u001b[0;32m      8\u001b[0m \u001b[1;33m\u001b[0m\u001b[0m\n\u001b[1;32m----> 9\u001b[1;33m \u001b[1;32mfrom\u001b[0m \u001b[0mpyproj\u001b[0m \u001b[1;32mimport\u001b[0m \u001b[0mCRS\u001b[0m\u001b[1;33m,\u001b[0m \u001b[0mTransformer\u001b[0m\u001b[1;33m\u001b[0m\u001b[1;33m\u001b[0m\u001b[0m\n\u001b[0m\u001b[0;32m     10\u001b[0m \u001b[1;32mfrom\u001b[0m \u001b[0mshapely\u001b[0m\u001b[1;33m.\u001b[0m\u001b[0mgeometry\u001b[0m\u001b[1;33m.\u001b[0m\u001b[0mbase\u001b[0m \u001b[1;32mimport\u001b[0m \u001b[0mBaseGeometry\u001b[0m\u001b[1;33m\u001b[0m\u001b[1;33m\u001b[0m\u001b[0m\n\u001b[0;32m     11\u001b[0m \u001b[1;33m\u001b[0m\u001b[0m\n",
      "\u001b[1;32m~\\anaconda3\\envs\\geoenv\\lib\\site-packages\\pyproj\\__init__.py\u001b[0m in \u001b[0;36m<module>\u001b[1;34m\u001b[0m\n\u001b[0;32m     48\u001b[0m \u001b[1;32mimport\u001b[0m \u001b[0mwarnings\u001b[0m\u001b[1;33m\u001b[0m\u001b[1;33m\u001b[0m\u001b[0m\n\u001b[0;32m     49\u001b[0m \u001b[1;33m\u001b[0m\u001b[0m\n\u001b[1;32m---> 50\u001b[1;33m \u001b[1;32mfrom\u001b[0m \u001b[0mpyproj\u001b[0m \u001b[1;32mimport\u001b[0m \u001b[0m_datadir\u001b[0m\u001b[1;33m\u001b[0m\u001b[1;33m\u001b[0m\u001b[0m\n\u001b[0m\u001b[0;32m     51\u001b[0m from pyproj._list import (  # noqa: F401\n\u001b[0;32m     52\u001b[0m     \u001b[0mget_angular_units_map\u001b[0m\u001b[1;33m,\u001b[0m\u001b[1;33m\u001b[0m\u001b[1;33m\u001b[0m\u001b[0m\n",
      "\u001b[1;31mImportError\u001b[0m: DLL load failed while importing _datadir: The specified module could not be found."
     ]
    }
   ],
   "source": [
    "import geopandas as gpd\n",
    "import pandas as pd\n",
    "import numpy as np\n",
    "from shapely.geometry import Polygon, Point\n",
    "from shapely import wkt\n",
    "from shapely.geometry import *\n",
    "import json\n",
    "\n",
    "import matplotlib.pyplot as plt\n",
    "import seaborn as sns\n",
    "import datetime as dt\n",
    "%matplotlib inline"
   ]
  },
  {
   "cell_type": "code",
   "execution_count": 2,
   "metadata": {},
   "outputs": [
    {
     "name": "stderr",
     "output_type": "stream",
     "text": [
      "C:\\Users\\Ruoying\\anaconda3\\envs\\geoenv\\lib\\site-packages\\IPython\\core\\interactiveshell.py:3145: DtypeWarning: Columns (10,12,13,20,38,45,46,55,59) have mixed types.Specify dtype option on import or set low_memory=False.\n",
      "  has_raised = await self.run_ast_nodes(code_ast.body, cell_name,\n"
     ]
    }
   ],
   "source": [
    "fire_file = 'D:/Study/insight/project/fire_risk_prediction_SF/data/Fire_Incidents_SF.csv'\n",
    "df_fire = pd.read_csv(fire_file)"
   ]
  },
  {
   "cell_type": "code",
   "execution_count": 3,
   "metadata": {},
   "outputs": [
    {
     "data": {
      "text/plain": [
       "Index(['Incident Number', 'Exposure Number', 'ID', 'Address', 'Incident Date',\n",
       "       'Call Number', 'Alarm DtTm', 'Arrival DtTm', 'Close DtTm', 'City',\n",
       "       'zipcode', 'Battalion', 'Station Area', 'Box', 'Suppression Units',\n",
       "       'Suppression Personnel', 'EMS Units', 'EMS Personnel', 'Other Units',\n",
       "       'Other Personnel', 'First Unit On Scene', 'Estimated Property Loss',\n",
       "       'Estimated Contents Loss', 'Fire Fatalities', 'Fire Injuries',\n",
       "       'Civilian Fatalities', 'Civilian Injuries', 'Number of Alarms',\n",
       "       'Primary Situation', 'Mutual Aid', 'Action Taken Primary',\n",
       "       'Action Taken Secondary', 'Action Taken Other',\n",
       "       'Detector Alerted Occupants', 'Property Use', 'Area of Fire Origin',\n",
       "       'Ignition Cause', 'Ignition Factor Primary',\n",
       "       'Ignition Factor Secondary', 'Heat Source', 'Item First Ignited',\n",
       "       'Human Factors Associated with Ignition', 'Structure Type',\n",
       "       'Structure Status', 'Floor of Fire Origin', 'Fire Spread',\n",
       "       'No Flame Spead', 'Number of floors with minimum damage',\n",
       "       'Number of floors with significant damage',\n",
       "       'Number of floors with heavy damage',\n",
       "       'Number of floors with extreme damage', 'Detectors Present',\n",
       "       'Detector Type', 'Detector Operation', 'Detector Effectiveness',\n",
       "       'Detector Failure Reason', 'Automatic Extinguishing System Present',\n",
       "       'Automatic Extinguishing Sytem Type',\n",
       "       'Automatic Extinguishing Sytem Perfomance',\n",
       "       'Automatic Extinguishing Sytem Failure Reason',\n",
       "       'Number of Sprinkler Heads Operating', 'Supervisor District',\n",
       "       'neighborhood_district', 'point'],\n",
       "      dtype='object')"
      ]
     },
     "execution_count": 3,
     "metadata": {},
     "output_type": "execute_result"
    }
   ],
   "source": [
    "# fire data\n",
    "df_fire.columns"
   ]
  },
  {
   "cell_type": "code",
   "execution_count": 4,
   "metadata": {},
   "outputs": [
    {
     "data": {
      "text/plain": [
       "359"
      ]
     },
     "execution_count": 4,
     "metadata": {},
     "output_type": "execute_result"
    }
   ],
   "source": [
    "# this is the primary situation: causes for fire. No null value here. very complete data\n",
    "df_fire['Primary Situation'].nunique()"
   ]
  },
  {
   "cell_type": "code",
   "execution_count": 5,
   "metadata": {},
   "outputs": [],
   "source": [
    "# based on others\n",
    "structure_fire = ['111','112']\n",
    "external_fire = ['140','141','142','143','151','152','153','154','155','160',\\\n",
    "            '161','162','164','170','173']"
   ]
  },
  {
   "cell_type": "code",
   "execution_count": 6,
   "metadata": {},
   "outputs": [],
   "source": [
    "#searchfor = structure_fire + vehicle_fire + external_fire\n",
    "df_external_fire = df_fire[df_fire['Primary Situation'].str.contains('|'.join(external_fire))]\n",
    "\n",
    "df_structure_fire = df_fire[df_fire['Primary Situation'].str.contains('|'.join(structure_fire))]"
   ]
  },
  {
   "cell_type": "code",
   "execution_count": 7,
   "metadata": {},
   "outputs": [
    {
     "data": {
      "text/plain": [
       "array(['142 - Brush, or brush and grass mixture fire',\n",
       "       '151 - Outside rubbish, trash or waste fire',\n",
       "       '140 - Natural vegetation fire, other',\n",
       "       '154 - Dumpster/Outside trash receptacle fire',\n",
       "       '160 - Special outside fire, other',\n",
       "       '153 - Construction or demolition landfill fire',\n",
       "       '152 - Garbage dump or sanitary landfill fire', '143 - Grass fire',\n",
       "       '164 - Outside mailbox fire', '162 - Outside equipment fire',\n",
       "       '161 - Outside storage fire',\n",
       "       '141 - Forest, woods or wildland fire',\n",
       "       '155 - Outside compactor/compacted trash fire',\n",
       "       '173 - Cultivated trees or nursery stock fire',\n",
       "       '170 - Cultivated vegetation, crop fire, other',\n",
       "       '151 Outside rubbish, trash or waste fire',\n",
       "       '142 Brush or brush-and-grass mixture fire',\n",
       "       '140 Natural vegetation fire, other',\n",
       "       '160 Special outside fire, other',\n",
       "       '154 Dumpster or other outside trash receptacle fire',\n",
       "       '164 Outside mailbox fire', '143 Grass fire',\n",
       "       '141 Forest, woods or wildland fire',\n",
       "       '155 Outside stationary compactor/compacted trash fire',\n",
       "       '162 Outside equipment fire', '161 Outside storage fire',\n",
       "       '173 Cultivated trees or nursery stock fire',\n",
       "       '152 Garbage dump or sanitary landfill fire',\n",
       "       '170 Cultivated vegetation, crop fire, other',\n",
       "       '153 Construction or demolition landfill fire',\n",
       "       '1600 Tent/Encampment fire'], dtype=object)"
      ]
     },
     "execution_count": 7,
     "metadata": {},
     "output_type": "execute_result"
    }
   ],
   "source": [
    "df_external_fire['Primary Situation'].unique()"
   ]
  },
  {
   "cell_type": "code",
   "execution_count": 8,
   "metadata": {},
   "outputs": [
    {
     "data": {
      "text/plain": [
       "array(['111 - Building fire',\n",
       "       '112 - Fires in struct. other than in a bldg.',\n",
       "       '111 Building fire',\n",
       "       '112 Fires in structure other than in a building'], dtype=object)"
      ]
     },
     "execution_count": 8,
     "metadata": {},
     "output_type": "execute_result"
    }
   ],
   "source": [
    "df_structure_fire['Primary Situation'].unique()"
   ]
  },
  {
   "cell_type": "code",
   "execution_count": 10,
   "metadata": {},
   "outputs": [
    {
     "data": {
      "text/plain": [
       "array(['412 - Gas leak (natural gas or LPG)', '552 - Police matter',\n",
       "       '210 - Steam Rupture, steam, other', '522 - Water or steam leak',\n",
       "       '520 - Water problem, other',\n",
       "       '733 - Smoke detector activation/malfunction',\n",
       "       '711 - Municipal alarm system, Street Box False',\n",
       "       '113 - Cooking fire, confined to container',\n",
       "       '743 - Smoke detector, no fire, accidental',\n",
       "       '551 - Assist PD or other Govern. Agency',\n",
       "       '411 - Gasoline or other flammable liquid spill',\n",
       "       '150 - Outside rubbish fire, other',\n",
       "       '413 - Oil or other combustible liquid spill',\n",
       "       '745 - Alarm system sounded/no fire-accidental',\n",
       "       '118 - Trash or rubbish fire, contained', '442 - Overheated motor',\n",
       "       '322 - Vehicle accident with injuries',\n",
       "       '735 - Alarm system sounded due to malfunction',\n",
       "       '554 - Assist invalid', '311 - Medical assist, assist EMS crew',\n",
       "       '700 - False alarm or false call, other',\n",
       "       '600 - Good intent call, other',\n",
       "       '142 - Brush, or brush and grass mixture fire',\n",
       "       '111 - Building fire', '550 - Public service assistance, other',\n",
       "       '444 - Power line down (wire)',\n",
       "       '351 - Extrication of victim(s) from Structure',\n",
       "       '331 - Lock-in (if lock out , use 511 )',\n",
       "       '500 - Service Call, other',\n",
       "       '744 - Detector activation, no fire - accident',\n",
       "       '653 - Barbecue, tar kettle',\n",
       "       '900 - Special type of incident, other',\n",
       "       '323 - Auto/Ped. Accident (Veh.)',\n",
       "       '451 - Biological hazard, confirmed or suspected',\n",
       "       '445 - Arcing, shorted electrical equipment', '511 - Lock-out',\n",
       "       '651 - Smoke scare, odor of smoke',\n",
       "       '730 - System malfunction, other', '131 - Passenger vehicle fire',\n",
       "       '531 - Smoke or odor removal', '740 - Unintentional alarm, other',\n",
       "       '741 - Sprinkler activation/no fire-accidental',\n",
       "       '553 - Public service',\n",
       "       '151 - Outside rubbish, trash or waste fire', '100 - Fire, other',\n",
       "       '710 - Malicious, mischievous false call, other',\n",
       "       '140 - Natural vegetation fire, other',\n",
       "       '463 - Vehicle accident, general cleanup',\n",
       "       '220 - Rupture from air or gas, other',\n",
       "       '715 - Local alarm sys., Malicious False alarm',\n",
       "       '130 - Mobile property (vehicle) fire, other',\n",
       "       '154 - Dumpster/Outside trash receptacle fire',\n",
       "       '223 - Air/gas rupture of pressure or process',\n",
       "       '713 - Telephone, malicious false alarm',\n",
       "       '721 - Bomb scare - no bomb', '300 - Rescue, EMS call, other',\n",
       "       '712 - Direct tie to FD, malicious/false alarm',\n",
       "       '321 - EMS excluding veh. accident w/injuries',\n",
       "       '352 - Extrication of victim(s) from vehicle',\n",
       "       '714 - Central station, malicious false alarm',\n",
       "       '353 - Removal of victim(s) from stalled elev.',\n",
       "       '400 - Hazardous condition, other',\n",
       "       '114 - Chimney/flue fire, confined to chimney',\n",
       "       '911 - Citizen complaint',\n",
       "       '731 - Sprinkler activation due to malfunction',\n",
       "       '410 - Flammable gas or liquid condition, other',\n",
       "       '440 - Elec. wiring/equip. problem, other',\n",
       "       '460 - Accident, potential accident, other',\n",
       "       '652 - Steam/vapor/fog/dust mistaken for smoke',\n",
       "       '160 - Special outside fire, other',\n",
       "       '221 - Rupture air or gas, pipe/pipline', '521 - Water evacuation',\n",
       "       '650 - Steam/gas mistaken for smoke, other',\n",
       "       '422 - Chemical spill or leak(haz.)', '812 - Flood assessment',\n",
       "       '621 - Wrong location', '240 - Explosion (no fire), other',\n",
       "       '672 - Biological hazard investigation,none found',\n",
       "       '510 - Person in distress, other',\n",
       "       '213 - Steam rupture, pressure/process vessel',\n",
       "       '611 - Dispatched & canceled en route',\n",
       "       '360 - Water & ice related rescue, other', '542 - Animal rescue',\n",
       "       '661 - EMS call, party transported by non-fire ag',\n",
       "       '671 - Hazmat release investigation w/no hazmat',\n",
       "       '461 - Bldg/structure weakened or collapsed',\n",
       "       '200 - Overpressure rupture/explosion, overheat',\n",
       "       '441 - Heat- short circuit, defect/worn wiring',\n",
       "       '541 - Animal problem', '443 - Light ballast breakdown',\n",
       "       '381 - Rescue or EMS standby',\n",
       "       '641 - Vicinity alarm (incid. another location)',\n",
       "       '364 - Surf rescue', '736 - CO detector activation/malfunction',\n",
       "       '555 - Defective elevator, no occupants',\n",
       "       '742 - Extinguishing system activation',\n",
       "       '350 - Extrication, rescue, other', '11 -',\n",
       "       '356 - High angle rescue', '423 - Refrigeration leak',\n",
       "       '112 - Fires in struct. other than in a bldg.',\n",
       "       '361 - Swimming/recreational water areas rescue',\n",
       "       '561 - Unauthorized burning', '632 - Prescribed fire',\n",
       "       '362 - Ice rescue', '420 - Toxic condition, other (haz.)',\n",
       "       '746 - CO detector activation, no CO',\n",
       "       '431 - Radiation leak, radioactive material',\n",
       "       '340 - Search, other',\n",
       "       '251 - Excess heat, scorth burns with no ign.',\n",
       "       '482 - Threat to burn', '365 - Watercraft rescue',\n",
       "       '372 - Trapped by power lines',\n",
       "       '371 - Electrocution or potential electrocution',\n",
       "       '540 - Animal problem, other',\n",
       "       '734 - Heat detector activation/malfunction',\n",
       "       '153 - Construction or demolition landfill fire',\n",
       "       '163 - Outside gas/vapor combustion explosion',\n",
       "       '512 - Ring or jewelry removal', '462 - Aircraft standby',\n",
       "       '370 - Electrical rescue, other',\n",
       "       '122 - Fire in motor home, camper or RV',\n",
       "       '152 - Garbage dump or sanitary landfill fire',\n",
       "       '123 - Fire in portable bldg., fixed location', '143 - Grass fire',\n",
       "       '212 - Overpressure rupture of steam boiler',\n",
       "       '421 - Chemical hazard (no spill or leak)',\n",
       "       '164 - Outside mailbox fire',\n",
       "       '222 - Rupture of boiler from air or gas',\n",
       "       '116 - Fuel burner/boiler mal., fire coinfined', '1 -',\n",
       "       '480 - Attempted burning, illegal action, other', '10 -',\n",
       "       '117 - Commercial Compactor fire, rubbish only',\n",
       "       '471 - Explosive/bomb removal(bomb scare =721)',\n",
       "       '342 - Search for person in water',\n",
       "       '211 - Steam Rupture, Pipe or pipeline',\n",
       "       '732 - Exting. sys. activation/ malfunction',\n",
       "       '162 - Outside equipment fire',\n",
       "       '571 - Cover assignment, standby, moveup',\n",
       "       '354 - Trench/below grade rescue', '75 -', '25* -',\n",
       "       '814 - Lightning strike (no fire)', '161 - Outside storage fire',\n",
       "       '141 - Forest, woods or wildland fire', 'Y -',\n",
       "       '243 - Fireworks explosion (no fire)',\n",
       "       '341 - Search for person on land', 'CR -',\n",
       "       '357 - Extrication of victim(s) from machinery',\n",
       "       '134 - Water vehicle fire (Boat, Ship, etc.)',\n",
       "       '138 - Off-road vehicle or heavy equipment fire',\n",
       "       '133 - Rail vehicle fire',\n",
       "       '242 - Blasting agent explosion (no fire)',\n",
       "       '137 - Camper or recreational vehicle (RV) fire',\n",
       "       '155 - Outside compactor/compacted trash fire',\n",
       "       '121 - Fire in mob. home used as residence', '71 -',\n",
       "       '173 - Cultivated trees or nursery stock fire',\n",
       "       '231 - Chem. reaction rupture of process vessel',\n",
       "       '241 - Munitions or bomb explosion (no fire)',\n",
       "       '132 - Road freight or transport vehicle fire',\n",
       "       '751 - Biological hazard, malicious false report',\n",
       "       '355 - Confined space rescue',\n",
       "       '170 - Cultivated vegetation, crop fire, other',\n",
       "       '481 - Attempt to burn',\n",
       "       '115 - Incinerator overload/mal.,fire confined',\n",
       "       '815 - Severe weather/Nat. Disaster standby',\n",
       "       '811 - Earthquake assessment', '424 - Carbon monoxide incident',\n",
       "       '813 - Wind storm, tornado/hurricane assessment',\n",
       "       '800 - Severe weather/Nat. disaster, other', '135 - Aircraft fire',\n",
       "       '136 - Self-propelled motor home or RV',\n",
       "       '363 - Swift water rescue',\n",
       "       '120 - Fire mob.prop. used as fixed structure',\n",
       "       '622 - No incident found on arrival/disp. addr.',\n",
       "       '324 - Motor vehicle accident with no injuries.',\n",
       "       '343 - Search for person underground',\n",
       "       '631 - Authorized controlled burning', 'N/A -',\n",
       "       '353 Removal of victim(s) from stalled elevator',\n",
       "       '710 Malicious, mischievous false call, other',\n",
       "       '322 Motor vehicle accident with injuries',\n",
       "       '320 - Emergency Medical Services, other', '100 Fire, other',\n",
       "       '430 - Radioactive condition, other',\n",
       "       '244 - Dust Explosion (no fire)', '520 Water problem, other',\n",
       "       '320 Emergency medical service incident, other',\n",
       "       '510 Person in distress, other',\n",
       "       '743 Smoke detector activation, no fire - unintentional',\n",
       "       '324 Motor vehicle accident with no injuries.',\n",
       "       '735 Alarm system sounded due to malfunction',\n",
       "       '323 Motor vehicle/pedestrian accident (MV Ped)',\n",
       "       '440 Electrical  wiring/equipment problem, other',\n",
       "       '117 Commercial Compactor fire, confined to rubbish',\n",
       "       '711 Municipal alarm system, malicious false alarm',\n",
       "       '900 Special type of incident, other',\n",
       "       '700 False alarm or false call, other',\n",
       "       '744 Detector activation, no fire - unintentional',\n",
       "       '111 Building fire', '151 Outside rubbish, trash or waste fire',\n",
       "       '150 Outside rubbish fire, other', '554 Assist invalid',\n",
       "       '553 Public service',\n",
       "       '411 Gasoline or other flammable liquid spill',\n",
       "       '500 Service Call, other',\n",
       "       '142 Brush or brush-and-grass mixture fire',\n",
       "       '555 Defective elevator, no occupants',\n",
       "       '400 Hazardous condition, other',\n",
       "       '112 Fires in structure other than in a building',\n",
       "       '311 Medical assist, assist EMS crew', '552 Police matter',\n",
       "       '300 Rescue, EMS incident, other', '522 Water or steam leak',\n",
       "       '730 System malfunction, other',\n",
       "       '550 Public service assistance, other',\n",
       "       '131 Passenger vehicle fire', '611 Dispatched & canceled en route',\n",
       "       '600 Good intent call, other', '561 Unauthorized burning',\n",
       "       '740 Unintentional transmission of alarm, other',\n",
       "       '444 Power line down',\n",
       "       '745 Alarm system activation, no fire - unintentional',\n",
       "       '736 CO detector activation due to malfunction',\n",
       "       '331 Lock-in (if lock out , use 511 )',\n",
       "       '531 Smoke or odor removal',\n",
       "       '118 Trash or rubbish fire, contained',\n",
       "       '712 Direct tie to FD, malicious false alarm',\n",
       "       '210 Overpressure rupture from steam, other',\n",
       "       '911 Citizen complaint',\n",
       "       '622 No incident found on arrival at dispatch address',\n",
       "       '412 Gas leak (natural gas or LPG)',\n",
       "       '651 Smoke scare, odor of smoke',\n",
       "       '733 Smoke detector activation due to malfunction',\n",
       "       '140 Natural vegetation fire, other',\n",
       "       '160 Special outside fire, other',\n",
       "       '251 Excessive heat, scorch burns with no ignition',\n",
       "       '113 Cooking fire, confined to container',\n",
       "       '130 Mobile property (vehicle) fire, other',\n",
       "       '715 Local alarm system, malicious false alarm',\n",
       "       '653 Smoke from barbecue, tar kettle',\n",
       "       '243 Fireworks explosion (no fire)',\n",
       "       '445 Arcing, shorted electrical equipment',\n",
       "       '742 Extinguishing system activation',\n",
       "       '154 Dumpster or other outside trash receptacle fire',\n",
       "       '441 Heat from short circuit (wiring), defective/worn',\n",
       "       '732 Extinguishing system activation due to malfunction',\n",
       "       '542 Animal rescue',\n",
       "       '551 Assist police or other governmental agency',\n",
       "       '650 Steam, other gas mistaken for smoke, other',\n",
       "       '352 Extrication of victim(s) from vehicle',\n",
       "       '721 Bomb scare - no bomb', '521 Water evacuation',\n",
       "       '364 Surf rescue',\n",
       "       '321 EMS call, excluding vehicle accident with injury',\n",
       "       '442 Overheated motor',\n",
       "       '132 Road freight or transport vehicle fire',\n",
       "       '356 High-angle rescue', '511 Lock-out',\n",
       "       '746 Carbon monoxide detector activation, no CO',\n",
       "       '741 Sprinkler activation, no fire - unintentional',\n",
       "       '571 Cover assignment, standby, moveup',\n",
       "       '480 Attempted burning, illegal action, other',\n",
       "       '212 Overpressure rupture of steam boiler',\n",
       "       '461 Building or structure weakened or collapsed',\n",
       "       '361 Swimming/recreational water areas rescue',\n",
       "       '463 Vehicle accident, general cleanup',\n",
       "       '631 Authorized controlled burning',\n",
       "       '1230 Fire in portable building (Port-A-Potty)',\n",
       "       '423 Refrigeration leak', '381 Rescue or EMS standby',\n",
       "       '164 Outside mailbox fire',\n",
       "       '661 EMS call, party transported by non-fire agency',\n",
       "       '714 Central station, malicious false alarm',\n",
       "       '713 Telephone, malicious false alarm',\n",
       "       '120 Fire in mobile prop. used as a fixed struc., other',\n",
       "       '222 Overpressure rupture of boiler from air or gas',\n",
       "       '671 HazMat release investigation w/no HazMat',\n",
       "       '351 Extrication of victim(s) from building/structure',\n",
       "       '734 Heat detector activation due to malfunction',\n",
       "       '812 Flood assessment',\n",
       "       '410 Combustible/flammable gas/liquid condition, other',\n",
       "       '365 Watercraft rescue', '422 Chemical spill or leak',\n",
       "       '342 Search for person in water',\n",
       "       '652 Steam, vapor, fog or dust thought to be smoke',\n",
       "       '424 Carbon monoxide incident', '462 Aircraft standby',\n",
       "       '200 Overpressure rupture, explosion, overheat other',\n",
       "       '413 Oil or other combustible liquid spill', '143 Grass fire',\n",
       "       '363 Swift water rescue', '360 Water & ice-related rescue, other',\n",
       "       '751 Biological hazard, malicious false report',\n",
       "       '460 Accident, potential accident, other', '541 Animal problem',\n",
       "       '114 Chimney or flue fire, confined to chimney or flue',\n",
       "       '481 Attempt to burn', '420 Toxic condition, other',\n",
       "       '621 Wrong location',\n",
       "       '641 Vicinity alarm (incident in other location)',\n",
       "       '350 Extrication, rescue, other', '355 Confined space rescue',\n",
       "       '220 Overpressure rupture from air or gas, other',\n",
       "       '357 Extrication of victim(s) from machinery',\n",
       "       '141 Forest, woods or wildland fire',\n",
       "       '240 Explosion (no fire), other',\n",
       "       '421 Chemical hazard (no spill or leak)',\n",
       "       '211 Overpressure rupture of steam pipe or pipeline',\n",
       "       '540 Animal problem, other',\n",
       "       '731 Sprinkler activation due to malfunction',\n",
       "       '138 Off-road vehicle or heavy equipment fire',\n",
       "       '155 Outside stationary compactor/compacted trash fire',\n",
       "       '162 Outside equipment fire', '372 Trapped by power lines',\n",
       "       '122 Fire in motor home, camper, recreational vehicle',\n",
       "       '672 Biological hazard investigation, none found',\n",
       "       '115 Incinerator overload or malfunction, fire confined',\n",
       "       '121 Fire in mobile home used as fixed residence',\n",
       "       '161 Outside storage fire',\n",
       "       '451 Biological hazard, confirmed or suspected',\n",
       "       '173 Cultivated trees or nursery stock fire',\n",
       "       '443 Breakdown of light ballast',\n",
       "       '340 Search for lost person, other',\n",
       "       '471 Explosive, bomb removal (for bomb scare, use 721)',\n",
       "       '213 Steam rupture of pressure or process vessel',\n",
       "       '152 Garbage dump or sanitary landfill fire',\n",
       "       '800 Severe weather or natural disaster, other',\n",
       "       '170 Cultivated vegetation, crop fire, other',\n",
       "       '136 Self-propelled motor home or recreational vehicle',\n",
       "       '241 Munitions or bomb explosion (no fire)',\n",
       "       '512 Ring or jewelry removal', '341 Search for person on land',\n",
       "       '163 Outside gas or vapor combustion explosion',\n",
       "       '370 Electrical rescue, other', '134 Water vehicle fire',\n",
       "       '482 Threat to burn', '354 Trench/below-grade rescue',\n",
       "       '813 Wind storm, tornado/hurricane assessment',\n",
       "       '632 Prescribed fire',\n",
       "       '123 Fire in portable building, fixed location',\n",
       "       '116 Fuel burner/boiler malfunction, fire confined',\n",
       "       '221 Overpressure rupture of air or gas pipe/pipeline',\n",
       "       '137 Camper or recreational vehicle (RV) fire',\n",
       "       '153 Construction or demolition landfill fire',\n",
       "       '371 Electrocution or potential electrocution',\n",
       "       '815 Severe weather or natural disaster standby',\n",
       "       '133 Rail vehicle fire',\n",
       "       '223 Air or gas rupture of pressure or process vessel',\n",
       "       '135 Aircraft fire',\n",
       "       '231 Chemical reaction rupture of process vessel',\n",
       "       '431 Radiation leak, radioactive material',\n",
       "       '430 Radioactive condition, other', '1600 Tent/Encampment fire',\n",
       "       '814 Lightning strike (no fire)',\n",
       "       '4000 Tent/Encampment hazardous condition'], dtype=object)"
      ]
     },
     "execution_count": 10,
     "metadata": {},
     "output_type": "execute_result"
    }
   ],
   "source": [
    "df_fire['Primary Situation'].unique()"
   ]
  },
  {
   "cell_type": "code",
   "execution_count": 7,
   "metadata": {},
   "outputs": [],
   "source": [
    "# create a df for internal fire.\n",
    "internal_fire = ['412','210','522','520','113','411','444','653','445','730',\\\n",
    "                 '220','223','114','410','440','652','221','521','650','422',\\\n",
    "                 '213','671','200','441','443','423','420','431','251','371',\\\n",
    "                 '212','222','211','231','115','424','430','440','117','411',\\\n",
    "                 '531','412','210','651','445','200','413','114','451','443',\\\n",
    "                 '163','116','231','431']\n",
    "df_internal_fire = df_fire[df_fire['Primary Situation'].str.contains('|'.join(internal_fire))]\n",
    "df_internal_fire.shape"
   ]
  },
  {
   "cell_type": "markdown",
   "metadata": {},
   "source": [
    "# internal fire?\n",
    "412 - Gas leak (natural gas or LPG)\n",
    "210 - Steam Rupture, steam, other\n",
    "522 - Water or steam leak\n",
    "520 - Water problem, other\n",
    "113 - Cooking fire, confined to container\n",
    "411 - Gasoline or other flammable liquid spill\n",
    "413 - Oil or other combustible liquid spill\n",
    "444 - Power line down (wire)\n",
    "653 - Barbecue, tar kettle'\n",
    "445 - Arcing, shorted electrical equipment\n",
    "730 - System malfunction, other\n",
    "220 - Rupture from air or gas, other\n",
    "223 - Air/gas rupture of pressure or process\n",
    "114 - Chimney/flue fire, confined to chimney\n",
    "410 - Flammable gas or liquid condition, other\n",
    "440 - Elec. wiring/equip. problem, other\n",
    "652 - Steam/vapor/fog/dust mistaken for smoke\n",
    "221 - Rupture air or gas, pipe/pipline\n",
    "521 - Water evacuation\n",
    "650 - Steam/gas mistaken for smoke, other\n",
    "422 - Chemical spill or leak(haz.)\n",
    "213 - Steam rupture, pressure/process vessel\n",
    "671 - Hazmat release investigation w/no hazmat\n",
    "200 - Overpressure rupture/explosion, overheat\n",
    "441 - Heat- short circuit, defect/worn wiring\n",
    "443 - Light ballast breakdown\n",
    "423 - Refrigeration leak\n",
    "420 - Toxic condition, other (haz.)\n",
    "431 - Radiation leak, radioactive material\n",
    "251 - Excess heat, scorth burns with no ign\n",
    "371 - Electrocution or potential electrocution\n",
    "212 - Overpressure rupture of steam boiler\n",
    "222 - Rupture of boiler from air or gas\n",
    "211 - Steam Rupture, Pipe or pipeline\n",
    "231 - Chem. reaction rupture of process vessel\n",
    "115 - Incinerator overload/mal.,fire confined\n",
    "424 - Carbon monoxide incident21\n",
    "430 - Radioactive condition, other\n",
    "440 Electrical  wiring/equipment problem, other\n",
    "117 Commercial Compactor fire, confined to rubbish\n",
    "411 Gasoline or other flammable liquid spill\n",
    "444 Power line down\n",
    "531 Smoke or odor removal\n",
    "412 Gas leak (natural gas or LPG)\n",
    "210 Overpressure rupture from steam, other\n",
    "113 Cooking fire, confined to container\n",
    "651 Smoke scare, odor of smoke\n",
    "653 Smoke from barbecue, tar kettle\n",
    "445 Arcing, shorted electrical equipment\n",
    "441 Heat from short circuit (wiring), defective/worn\n",
    "423 Refrigeration leak\n",
    "222 Overpressure rupture of boiler from air or gas\n",
    "410 Combustible/flammable gas/liquid condition, other\n",
    "424 Carbon monoxide incident\n",
    "200 Overpressure rupture, explosion, overheat other\n",
    "413 Oil or other combustible liquid spill\n",
    "114 Chimney or flue fire, confined to chimney or flue\n",
    "420 Toxic condition, other\n",
    "220 Overpressure rupture from air or gas, other\n",
    "451 Biological hazard, confirmed or suspected\n",
    "443 Breakdown of light ballast\n",
    "213 Steam rupture of pressure or process vessel\n",
    "163 Outside gas or vapor combustion explosion\n",
    "116 Fuel burner/boiler malfunction, fire confined\n",
    "231 Chemical reaction rupture of process vessel\n",
    "431 Radiation leak, radioactive material\n",
    "430 Radioactive condition, other"
   ]
  },
  {
   "cell_type": "code",
   "execution_count": 33,
   "metadata": {},
   "outputs": [
    {
     "data": {
      "text/plain": [
       "(7636, 64)"
      ]
     },
     "execution_count": 33,
     "metadata": {},
     "output_type": "execute_result"
    }
   ],
   "source": [
    "# see how many structural fire incidents\n",
    "df_structure_fire.shape"
   ]
  },
  {
   "cell_type": "code",
   "execution_count": 10,
   "metadata": {},
   "outputs": [
    {
     "data": {
      "text/plain": [
       "(15518, 64)"
      ]
     },
     "execution_count": 10,
     "metadata": {},
     "output_type": "execute_result"
    }
   ],
   "source": [
    "df_external_fire.shape"
   ]
  },
  {
   "cell_type": "code",
   "execution_count": 34,
   "metadata": {},
   "outputs": [
    {
     "name": "stdout",
     "output_type": "stream",
     "text": [
      "  yrbuilt from_st total_uses     shape_area cie   landuse  mips mapblklot  \\\n",
      "0    1912     838          0  3864.06176213   0  RESIDENT     0   0026013   \n",
      "1    1900     844       3471   3361.0253507   0    MIXRES  3471   0026014   \n",
      "2    1900     848          0  3272.03319647   0  RESIDENT     0   0026015   \n",
      "3    1940     860          0  4570.76766739   0  RESIDENT     0   0026016   \n",
      "4    1938     870          0  5225.82373482   0  RESIDENT     0   0026017   \n",
      "\n",
      "  objectid     shape_leng  ... resunits pdr street retail to_st block_num  \\\n",
      "0        1  327.786363395  ...        5   0    BAY      0   842      0026   \n",
      "1        2  320.352521518  ...        1   0    BAY      0   844      0026   \n",
      "2        3  319.046088472  ...        2   0    BAY      0   850      0026   \n",
      "3        4  279.353001525  ...        2   0    BAY      0   862      0026   \n",
      "4        5   294.35433855  ...        2   0    BAY      0   872      0026   \n",
      "\n",
      "    blklot lot_num med                                           geometry  \n",
      "0  0026013     013   0  MULTIPOLYGON (((-122.42108 37.80478, -122.4211...  \n",
      "1  0026014     014   0  MULTIPOLYGON (((-122.42118 37.80476, -122.4212...  \n",
      "2  0026015     015   0  MULTIPOLYGON (((-122.42126 37.80475, -122.4213...  \n",
      "3  0026016     016   0  MULTIPOLYGON (((-122.42135 37.80474, -122.4215...  \n",
      "4  0026017     017   0  MULTIPOLYGON (((-122.42153 37.80472, -122.4217...  \n",
      "\n",
      "[5 rows x 23 columns]\n"
     ]
    }
   ],
   "source": [
    "# get the parcel file\n",
    "parcel_file = 'D:/Study/insight/project/fire_risk_prediction_SF/data/SF_parcel_lu/sf_parcel.geojson'\n",
    "df_parcel = gpd.read_file(parcel_file)\n",
    "print(df_parcel.head())"
   ]
  },
  {
   "cell_type": "code",
   "execution_count": 35,
   "metadata": {},
   "outputs": [],
   "source": [
    "# in order to spatial join, only need id and geometry to keep it simple\n",
    "df_parcel_simple = df_parcel[['objectid', 'geometry']]"
   ]
  },
  {
   "cell_type": "code",
   "execution_count": 36,
   "metadata": {},
   "outputs": [
    {
     "data": {
      "text/plain": [
       "<Geographic 2D CRS: EPSG:4326>\n",
       "Name: WGS 84\n",
       "Axis Info [ellipsoidal]:\n",
       "- Lat[north]: Geodetic latitude (degree)\n",
       "- Lon[east]: Geodetic longitude (degree)\n",
       "Area of Use:\n",
       "- name: World\n",
       "- bounds: (-180.0, -90.0, 180.0, 90.0)\n",
       "Datum: World Geodetic System 1984\n",
       "- Ellipsoid: WGS 84\n",
       "- Prime Meridian: Greenwich"
      ]
     },
     "execution_count": 36,
     "metadata": {},
     "output_type": "execute_result"
    }
   ],
   "source": [
    "# unit for EPSG:4326 is degree\n",
    "df_parcel_simple.crs"
   ]
  },
  {
   "cell_type": "code",
   "execution_count": 37,
   "metadata": {},
   "outputs": [
    {
     "data": {
      "text/plain": [
       "'degree'"
      ]
     },
     "execution_count": 37,
     "metadata": {},
     "output_type": "execute_result"
    }
   ],
   "source": [
    "# check units\n",
    "df_parcel_simple.crs.axis_info[0].unit_name "
   ]
  },
  {
   "cell_type": "code",
   "execution_count": 19,
   "metadata": {},
   "outputs": [],
   "source": [
    "# the original gdf unit is in degree. Change it to meters using reprojection\n",
    "#df_parcel_reproj = df_parcel_simple.to_crs({'init': 'epsg=3763'})\n",
    "#df_parcel_reproj.crs.axis_info[0].unit_name \n"
   ]
  },
  {
   "cell_type": "markdown",
   "metadata": {},
   "source": [
    "or we can simply use this to convert since reproj works slowly.\n",
    "1° = 111 km  (or 60 nautical miles)\n",
    "0.1° = 11.1 km\n",
    "0.01° = 1.11 km (2 decimals, km accuracy)\n",
    "0.001° =111 m\n",
    "0.0001° = 11.1 m\n",
    "0.00001° = 1.11 m\n",
    "0.000001° = 0.11 m (7 decimals, cm accuracy)"
   ]
  },
  {
   "cell_type": "code",
   "execution_count": 38,
   "metadata": {},
   "outputs": [
    {
     "name": "stderr",
     "output_type": "stream",
     "text": [
      "<ipython-input-38-e48a97972942>:3: UserWarning: Geometry is in a geographic CRS. Results from 'buffer' are likely incorrect. Use 'GeoSeries.to_crs()' to re-project geometries to a projected CRS before this operation.\n",
      "\n",
      "  gdf_parcel_buffer.geometry = df_parcel_simple.geometry.buffer(0.0002) # unit is degree: 0.0003 is about 33 m or 100 feet\n",
      "C:\\Users\\Ruoying\\anaconda3\\envs\\geoenv\\lib\\site-packages\\geopandas\\geodataframe.py:853: SettingWithCopyWarning: \n",
      "A value is trying to be set on a copy of a slice from a DataFrame.\n",
      "Try using .loc[row_indexer,col_indexer] = value instead\n",
      "\n",
      "See the caveats in the documentation: https://pandas.pydata.org/pandas-docs/stable/user_guide/indexing.html#returning-a-view-versus-a-copy\n",
      "  super(GeoDataFrame, self).__setitem__(key, value)\n"
     ]
    }
   ],
   "source": [
    "# create a buffer\n",
    "gdf_parcel_buffer = df_parcel_simple\n",
    "gdf_parcel_buffer.geometry = df_parcel_simple.geometry.buffer(0.0002) # unit is degree: 0.0003 is about 33 m or 100 feet"
   ]
  },
  {
   "cell_type": "code",
   "execution_count": 39,
   "metadata": {},
   "outputs": [
    {
     "data": {
      "text/html": [
       "<div>\n",
       "<style scoped>\n",
       "    .dataframe tbody tr th:only-of-type {\n",
       "        vertical-align: middle;\n",
       "    }\n",
       "\n",
       "    .dataframe tbody tr th {\n",
       "        vertical-align: top;\n",
       "    }\n",
       "\n",
       "    .dataframe thead th {\n",
       "        text-align: right;\n",
       "    }\n",
       "</style>\n",
       "<table border=\"1\" class=\"dataframe\">\n",
       "  <thead>\n",
       "    <tr style=\"text-align: right;\">\n",
       "      <th></th>\n",
       "      <th>objectid</th>\n",
       "      <th>geometry</th>\n",
       "    </tr>\n",
       "  </thead>\n",
       "  <tbody>\n",
       "    <tr>\n",
       "      <th>0</th>\n",
       "      <td>1</td>\n",
       "      <td>POLYGON ((-122.42088 37.80481, -122.42088 37.8...</td>\n",
       "    </tr>\n",
       "    <tr>\n",
       "      <th>1</th>\n",
       "      <td>2</td>\n",
       "      <td>POLYGON ((-122.42098 37.80480, -122.42098 37.8...</td>\n",
       "    </tr>\n",
       "    <tr>\n",
       "      <th>2</th>\n",
       "      <td>3</td>\n",
       "      <td>POLYGON ((-122.42107 37.80479, -122.42107 37.8...</td>\n",
       "    </tr>\n",
       "    <tr>\n",
       "      <th>3</th>\n",
       "      <td>4</td>\n",
       "      <td>POLYGON ((-122.42115 37.80478, -122.42115 37.8...</td>\n",
       "    </tr>\n",
       "    <tr>\n",
       "      <th>4</th>\n",
       "      <td>5</td>\n",
       "      <td>POLYGON ((-122.42133 37.80476, -122.42133 37.8...</td>\n",
       "    </tr>\n",
       "  </tbody>\n",
       "</table>\n",
       "</div>"
      ],
      "text/plain": [
       "  objectid                                           geometry\n",
       "0        1  POLYGON ((-122.42088 37.80481, -122.42088 37.8...\n",
       "1        2  POLYGON ((-122.42098 37.80480, -122.42098 37.8...\n",
       "2        3  POLYGON ((-122.42107 37.80479, -122.42107 37.8...\n",
       "3        4  POLYGON ((-122.42115 37.80478, -122.42115 37.8...\n",
       "4        5  POLYGON ((-122.42133 37.80476, -122.42133 37.8..."
      ]
     },
     "execution_count": 39,
     "metadata": {},
     "output_type": "execute_result"
    }
   ],
   "source": [
    "gdf_parcel_buffer.head()"
   ]
  },
  {
   "cell_type": "code",
   "execution_count": 14,
   "metadata": {},
   "outputs": [],
   "source": [
    "from shapely import wkt"
   ]
  },
  {
   "cell_type": "markdown",
   "metadata": {},
   "source": [
    "# Structure fire\n",
    "let's start from structure fire, as it is most straight forward.\n",
    "\n",
    "For structure fire, use 20m as buffer, as it would preserve 7572 out of 7636 incidents. And turn it into 38025 incidents associated with different buildings.\n",
    "25757 buildins experienced structure fire from 2003-2020.\n",
    "\n",
    "Would have to join year by year."
   ]
  },
  {
   "cell_type": "code",
   "execution_count": 41,
   "metadata": {},
   "outputs": [
    {
     "name": "stderr",
     "output_type": "stream",
     "text": [
      "<ipython-input-41-9b1c01bd8532>:4: SettingWithCopyWarning: \n",
      "A value is trying to be set on a copy of a slice from a DataFrame.\n",
      "Try using .loc[row_indexer,col_indexer] = value instead\n",
      "\n",
      "See the caveats in the documentation: https://pandas.pydata.org/pandas-docs/stable/user_guide/indexing.html#returning-a-view-versus-a-copy\n",
      "  df_structure['point'] = df_structure['point'].astype(str)\n"
     ]
    }
   ],
   "source": [
    "# see if any of the incidents features is useful\n",
    "# if we are only counting incidents, then only incidents number and point are useful\n",
    "df_structure = df_structure_fire[['Incident Number','Incident Date','point']]\n",
    "df_structure['point'] = df_structure['point'].astype(str)\n",
    "df_structure = df_structure.dropna() # axis = 'point'\n",
    "\n",
    "# it seems that there is no null value, but instead, have a \"nan\" as a string\n",
    "df_structure = df_structure[df_structure['point'] != 'nan']"
   ]
  },
  {
   "cell_type": "code",
   "execution_count": 42,
   "metadata": {},
   "outputs": [],
   "source": [
    "df_structure['point'] = df_structure['point'].apply(wkt.loads)"
   ]
  },
  {
   "cell_type": "code",
   "execution_count": 43,
   "metadata": {},
   "outputs": [],
   "source": [
    "# change the fire df into geo df\n",
    "gdf_structure_fire = gpd.GeoDataFrame(df_structure, geometry='point')\n",
    "\n",
    "# make sure the two dataset have the same projection\n",
    "\n",
    "#gdf_fire = gdf_fire.to_crs({'init': 'epsg:4326'})\n",
    "gdf_structure_fire.crs = df_parcel_simple.crs\n",
    "\n",
    "# spatial join: using buffer\n",
    "#structure_fire_sjoin = gpd.sjoin(gdf_structure_fire,gdf_parcel_buffer,how = 'left', op='within')\n",
    "structure_fire_sjoin = gpd.sjoin(gdf_structure_fire,gdf_parcel_buffer,how = 'left', op='intersects')"
   ]
  },
  {
   "cell_type": "code",
   "execution_count": 44,
   "metadata": {},
   "outputs": [
    {
     "name": "stdout",
     "output_type": "stream",
     "text": [
      "(38073, 5)\n",
      "(38025, 5)\n"
     ]
    }
   ],
   "source": [
    "# if we don't use buffer, and sjoin using within: we have 3340 fire incidents that canbe assosiated with a polygon\n",
    "print(structure_fire_sjoin.shape)\n",
    "# drop na\n",
    "structure_fire_sjoin_not_null = structure_fire_sjoin.dropna()\n",
    "print(structure_fire_sjoin_not_null.shape)"
   ]
  },
  {
   "cell_type": "code",
   "execution_count": 50,
   "metadata": {},
   "outputs": [
    {
     "data": {
      "text/plain": [
       "7572"
      ]
     },
     "execution_count": 50,
     "metadata": {},
     "output_type": "execute_result"
    }
   ],
   "source": [
    "# check how many fire incidents remains: 20m~7572\n",
    "structure_fire_sjoin_not_null['Incident Number'].nunique()"
   ]
  },
  {
   "cell_type": "code",
   "execution_count": 45,
   "metadata": {},
   "outputs": [
    {
     "data": {
      "text/plain": [
       "(25757, 2)"
      ]
     },
     "execution_count": 45,
     "metadata": {},
     "output_type": "execute_result"
    }
   ],
   "source": [
    "# group by parcel id\n",
    "grouped = structure_fire_sjoin_not_null.groupby('objectid').size()\n",
    "df_group = grouped.to_frame().reset_index()\n",
    "df_group.columns = ['objectid','fire_count']\n",
    "df_group.shape"
   ]
  },
  {
   "cell_type": "code",
   "execution_count": 46,
   "metadata": {},
   "outputs": [
    {
     "data": {
      "text/html": [
       "<div>\n",
       "<style scoped>\n",
       "    .dataframe tbody tr th:only-of-type {\n",
       "        vertical-align: middle;\n",
       "    }\n",
       "\n",
       "    .dataframe tbody tr th {\n",
       "        vertical-align: top;\n",
       "    }\n",
       "\n",
       "    .dataframe thead th {\n",
       "        text-align: right;\n",
       "    }\n",
       "</style>\n",
       "<table border=\"1\" class=\"dataframe\">\n",
       "  <thead>\n",
       "    <tr style=\"text-align: right;\">\n",
       "      <th></th>\n",
       "      <th>objectid</th>\n",
       "      <th>fire_count</th>\n",
       "    </tr>\n",
       "  </thead>\n",
       "  <tbody>\n",
       "    <tr>\n",
       "      <th>0</th>\n",
       "      <td>1</td>\n",
       "      <td>1</td>\n",
       "    </tr>\n",
       "    <tr>\n",
       "      <th>1</th>\n",
       "      <td>10</td>\n",
       "      <td>2</td>\n",
       "    </tr>\n",
       "    <tr>\n",
       "      <th>2</th>\n",
       "      <td>100</td>\n",
       "      <td>1</td>\n",
       "    </tr>\n",
       "    <tr>\n",
       "      <th>3</th>\n",
       "      <td>100006</td>\n",
       "      <td>1</td>\n",
       "    </tr>\n",
       "    <tr>\n",
       "      <th>4</th>\n",
       "      <td>100025</td>\n",
       "      <td>1</td>\n",
       "    </tr>\n",
       "  </tbody>\n",
       "</table>\n",
       "</div>"
      ],
      "text/plain": [
       "  objectid  fire_count\n",
       "0        1           1\n",
       "1       10           2\n",
       "2      100           1\n",
       "3   100006           1\n",
       "4   100025           1"
      ]
     },
     "execution_count": 46,
     "metadata": {},
     "output_type": "execute_result"
    }
   ],
   "source": [
    "df_group.head()"
   ]
  },
  {
   "cell_type": "code",
   "execution_count": 47,
   "metadata": {},
   "outputs": [],
   "source": [
    "# first convert gpd to pd\n",
    "parcel = pd.DataFrame(df_parcel.drop(columns='geometry'))\n",
    "\n",
    "# then merge using objectid\n",
    "merged_data = parcel.merge(df_group, on='objectid', how='outer')"
   ]
  },
  {
   "cell_type": "code",
   "execution_count": 48,
   "metadata": {},
   "outputs": [
    {
     "data": {
      "text/html": [
       "<div>\n",
       "<style scoped>\n",
       "    .dataframe tbody tr th:only-of-type {\n",
       "        vertical-align: middle;\n",
       "    }\n",
       "\n",
       "    .dataframe tbody tr th {\n",
       "        vertical-align: top;\n",
       "    }\n",
       "\n",
       "    .dataframe thead th {\n",
       "        text-align: right;\n",
       "    }\n",
       "</style>\n",
       "<table border=\"1\" class=\"dataframe\">\n",
       "  <thead>\n",
       "    <tr style=\"text-align: right;\">\n",
       "      <th></th>\n",
       "      <th>yrbuilt</th>\n",
       "      <th>from_st</th>\n",
       "      <th>total_uses</th>\n",
       "      <th>shape_area</th>\n",
       "      <th>cie</th>\n",
       "      <th>landuse</th>\n",
       "      <th>mips</th>\n",
       "      <th>mapblklot</th>\n",
       "      <th>objectid</th>\n",
       "      <th>shape_leng</th>\n",
       "      <th>...</th>\n",
       "      <th>resunits</th>\n",
       "      <th>pdr</th>\n",
       "      <th>street</th>\n",
       "      <th>retail</th>\n",
       "      <th>to_st</th>\n",
       "      <th>block_num</th>\n",
       "      <th>blklot</th>\n",
       "      <th>lot_num</th>\n",
       "      <th>med</th>\n",
       "      <th>fire_count</th>\n",
       "    </tr>\n",
       "  </thead>\n",
       "  <tbody>\n",
       "    <tr>\n",
       "      <th>0</th>\n",
       "      <td>1912</td>\n",
       "      <td>838</td>\n",
       "      <td>0</td>\n",
       "      <td>3864.06176213</td>\n",
       "      <td>0</td>\n",
       "      <td>RESIDENT</td>\n",
       "      <td>0</td>\n",
       "      <td>0026013</td>\n",
       "      <td>1</td>\n",
       "      <td>327.786363395</td>\n",
       "      <td>...</td>\n",
       "      <td>5</td>\n",
       "      <td>0</td>\n",
       "      <td>BAY</td>\n",
       "      <td>0</td>\n",
       "      <td>842</td>\n",
       "      <td>0026</td>\n",
       "      <td>0026013</td>\n",
       "      <td>013</td>\n",
       "      <td>0</td>\n",
       "      <td>1.0</td>\n",
       "    </tr>\n",
       "    <tr>\n",
       "      <th>1</th>\n",
       "      <td>1900</td>\n",
       "      <td>844</td>\n",
       "      <td>3471</td>\n",
       "      <td>3361.0253507</td>\n",
       "      <td>0</td>\n",
       "      <td>MIXRES</td>\n",
       "      <td>3471</td>\n",
       "      <td>0026014</td>\n",
       "      <td>2</td>\n",
       "      <td>320.352521518</td>\n",
       "      <td>...</td>\n",
       "      <td>1</td>\n",
       "      <td>0</td>\n",
       "      <td>BAY</td>\n",
       "      <td>0</td>\n",
       "      <td>844</td>\n",
       "      <td>0026</td>\n",
       "      <td>0026014</td>\n",
       "      <td>014</td>\n",
       "      <td>0</td>\n",
       "      <td>1.0</td>\n",
       "    </tr>\n",
       "    <tr>\n",
       "      <th>2</th>\n",
       "      <td>1900</td>\n",
       "      <td>848</td>\n",
       "      <td>0</td>\n",
       "      <td>3272.03319647</td>\n",
       "      <td>0</td>\n",
       "      <td>RESIDENT</td>\n",
       "      <td>0</td>\n",
       "      <td>0026015</td>\n",
       "      <td>3</td>\n",
       "      <td>319.046088472</td>\n",
       "      <td>...</td>\n",
       "      <td>2</td>\n",
       "      <td>0</td>\n",
       "      <td>BAY</td>\n",
       "      <td>0</td>\n",
       "      <td>850</td>\n",
       "      <td>0026</td>\n",
       "      <td>0026015</td>\n",
       "      <td>015</td>\n",
       "      <td>0</td>\n",
       "      <td>1.0</td>\n",
       "    </tr>\n",
       "    <tr>\n",
       "      <th>3</th>\n",
       "      <td>1940</td>\n",
       "      <td>860</td>\n",
       "      <td>0</td>\n",
       "      <td>4570.76766739</td>\n",
       "      <td>0</td>\n",
       "      <td>RESIDENT</td>\n",
       "      <td>0</td>\n",
       "      <td>0026016</td>\n",
       "      <td>4</td>\n",
       "      <td>279.353001525</td>\n",
       "      <td>...</td>\n",
       "      <td>2</td>\n",
       "      <td>0</td>\n",
       "      <td>BAY</td>\n",
       "      <td>0</td>\n",
       "      <td>862</td>\n",
       "      <td>0026</td>\n",
       "      <td>0026016</td>\n",
       "      <td>016</td>\n",
       "      <td>0</td>\n",
       "      <td>NaN</td>\n",
       "    </tr>\n",
       "    <tr>\n",
       "      <th>4</th>\n",
       "      <td>1938</td>\n",
       "      <td>870</td>\n",
       "      <td>0</td>\n",
       "      <td>5225.82373482</td>\n",
       "      <td>0</td>\n",
       "      <td>RESIDENT</td>\n",
       "      <td>0</td>\n",
       "      <td>0026017</td>\n",
       "      <td>5</td>\n",
       "      <td>294.35433855</td>\n",
       "      <td>...</td>\n",
       "      <td>2</td>\n",
       "      <td>0</td>\n",
       "      <td>BAY</td>\n",
       "      <td>0</td>\n",
       "      <td>872</td>\n",
       "      <td>0026</td>\n",
       "      <td>0026017</td>\n",
       "      <td>017</td>\n",
       "      <td>0</td>\n",
       "      <td>NaN</td>\n",
       "    </tr>\n",
       "  </tbody>\n",
       "</table>\n",
       "<p>5 rows × 23 columns</p>\n",
       "</div>"
      ],
      "text/plain": [
       "  yrbuilt from_st total_uses     shape_area cie   landuse  mips mapblklot  \\\n",
       "0    1912     838          0  3864.06176213   0  RESIDENT     0   0026013   \n",
       "1    1900     844       3471   3361.0253507   0    MIXRES  3471   0026014   \n",
       "2    1900     848          0  3272.03319647   0  RESIDENT     0   0026015   \n",
       "3    1940     860          0  4570.76766739   0  RESIDENT     0   0026016   \n",
       "4    1938     870          0  5225.82373482   0  RESIDENT     0   0026017   \n",
       "\n",
       "  objectid     shape_leng  ... resunits pdr street retail to_st block_num  \\\n",
       "0        1  327.786363395  ...        5   0    BAY      0   842      0026   \n",
       "1        2  320.352521518  ...        1   0    BAY      0   844      0026   \n",
       "2        3  319.046088472  ...        2   0    BAY      0   850      0026   \n",
       "3        4  279.353001525  ...        2   0    BAY      0   862      0026   \n",
       "4        5   294.35433855  ...        2   0    BAY      0   872      0026   \n",
       "\n",
       "    blklot lot_num med fire_count  \n",
       "0  0026013     013   0        1.0  \n",
       "1  0026014     014   0        1.0  \n",
       "2  0026015     015   0        1.0  \n",
       "3  0026016     016   0        NaN  \n",
       "4  0026017     017   0        NaN  \n",
       "\n",
       "[5 rows x 23 columns]"
      ]
     },
     "execution_count": 48,
     "metadata": {},
     "output_type": "execute_result"
    }
   ],
   "source": [
    "merged_data.head()"
   ]
  },
  {
   "cell_type": "code",
   "execution_count": 51,
   "metadata": {},
   "outputs": [],
   "source": [
    "# replace nan with 0\n",
    "merged_data['fire_count'] = merged_data['fire_count'].fillna(0)"
   ]
  },
  {
   "cell_type": "code",
   "execution_count": 52,
   "metadata": {},
   "outputs": [
    {
     "data": {
      "text/plain": [
       "array([ 1.,  0.,  5.,  3.,  2.,  4.,  7.,  6.,  8., 10., 11., 14., 13.,\n",
       "       12.,  9., 16., 17., 18., 15., 23., 19., 46., 42., 26., 29., 27.,\n",
       "       21., 22.])"
      ]
     },
     "execution_count": 52,
     "metadata": {},
     "output_type": "execute_result"
    }
   ],
   "source": [
    "merged_data['fire_count'].unique()"
   ]
  },
  {
   "cell_type": "code",
   "execution_count": null,
   "metadata": {},
   "outputs": [],
   "source": []
  },
  {
   "cell_type": "markdown",
   "metadata": {},
   "source": [
    "# inspection\n",
    "\n",
    "see inspection data"
   ]
  },
  {
   "cell_type": "code",
   "execution_count": 53,
   "metadata": {},
   "outputs": [
    {
     "name": "stderr",
     "output_type": "stream",
     "text": [
      "C:\\Users\\Ruoying\\anaconda3\\envs\\geoenv\\lib\\site-packages\\IPython\\core\\interactiveshell.py:3145: DtypeWarning: Columns (1,7,11,15,16,21,29,30) have mixed types.Specify dtype option on import or set low_memory=False.\n",
      "  has_raised = await self.run_ast_nodes(code_ast.body, cell_name,\n"
     ]
    }
   ],
   "source": [
    "inspection_file = 'D:/Study/insight/project/fire_risk_prediction_SF/data/SF_fire_data/fire-inspections.csv'\n",
    "df_inspect = pd.read_csv(inspection_file)"
   ]
  },
  {
   "cell_type": "code",
   "execution_count": 54,
   "metadata": {},
   "outputs": [
    {
     "data": {
      "text/plain": [
       "Index(['Inspection Number', 'Inspection Type', 'Inspection Type Description',\n",
       "       'Inspection Status', 'Inspection Start Date', 'Inspection End Date',\n",
       "       'Corrective Action Date', 'Return Date', 'Invoice Date',\n",
       "       'Second Notice Date', 'Final Notice Date', 'Lien Date',\n",
       "       'Sent to Bureau of Delinquent Revenue', 'Billable Inspection',\n",
       "       'Address', 'ZIP Code', 'Referral Agency', 'Complaint Number',\n",
       "       'Permit Number', 'Referral Number', 'Violation Number',\n",
       "       'DBI Application Number', 'Invoice Amount', 'Fee', 'Penalty Amount',\n",
       "       'Posting Fee', 'Interest Amount', 'Paid Amount', 'Paid Date',\n",
       "       'Battalion', 'Station Area', 'Fire Prevention District',\n",
       "       'Supervisor District', 'Analysis Neighborhood', 'point',\n",
       "       'Neighborhoods (old)', 'Zip Codes', 'Fire Prevention Districts',\n",
       "       'Police Districts', 'Supervisor Districts',\n",
       "       'Central Market/Tenderloin Boundary',\n",
       "       'Central Market/Tenderloin Boundary Polygon - Updated', 'Neighborhoods',\n",
       "       'SF Find Neighborhoods', 'Current Police Districts',\n",
       "       'Current Supervisor Districts', 'Analysis Neighborhoods'],\n",
       "      dtype='object')"
      ]
     },
     "execution_count": 54,
     "metadata": {},
     "output_type": "execute_result"
    }
   ],
   "source": [
    "df_inspect.columns"
   ]
  },
  {
   "cell_type": "code",
   "execution_count": 55,
   "metadata": {},
   "outputs": [
    {
     "data": {
      "text/plain": [
       "78"
      ]
     },
     "execution_count": 55,
     "metadata": {},
     "output_type": "execute_result"
    }
   ],
   "source": [
    "df_inspect['Inspection Type Description'].nunique()"
   ]
  },
  {
   "cell_type": "code",
   "execution_count": 56,
   "metadata": {},
   "outputs": [
    {
     "data": {
      "text/plain": [
       "array(['Shared Spaces Program Insp.', 'Violation Inspection - NOV',\n",
       "       'DBI Inspection', 'Permit Approval Inspection',\n",
       "       'Initial Inspection', 'Port Annual Inspection',\n",
       "       'Complaint Inspection', 'DPH Referral - Non HazMat Ref. Insp.',\n",
       "       'Permit Annual Inspection', 'Follow Up Inspection',\n",
       "       'Request for Fire Clearance Inspection', 'Traccess Installation',\n",
       "       'Port Permits', 'DPH-CCSF-Mental Health',\n",
       "       'School Annual Inspection', 'Police Dept. Ref. Insp.',\n",
       "       'R2 Company Inspection', 'High Rise Annual Inspection',\n",
       "       'On-Site Consultation', 'DSS-Community Care License',\n",
       "       'Dept. of Corrections Ref. Insp.', 'Traccess Maintenance',\n",
       "       'Hearing Reinspection', 'Order to Abate Reinspection',\n",
       "       'Administrative Citation', 'RCF Inspection/Follow Up',\n",
       "       'Facility Emergency Plan Review', nan, 'No Time Charged',\n",
       "       'Place of Assembly Detail',\n",
       "       'Additional Non-DBI Inspection/Plan Review Hours',\n",
       "       'Public Education/Community Outreach',\n",
       "       'Permit Follow Up Inspection', 'OSHPOD  Ref. Insp.',\n",
       "       'SRO Fire Prevention Workshop', 'Entertainment Com. Ref. Insp.',\n",
       "       'Reinspection - No Fee', 'DSS-Alcohol/Drugs Ref. Insp.',\n",
       "       'DPH Referral - Comm Behavioral Hlth Svcs',\n",
       "       'Technical Inspection - Construct',\n",
       "       'Dept. of Public Works Ref. Insp.', 'Fire Investigation - Initial',\n",
       "       'Fire Alarm Inspection', 'DBI Ref. Insp.', 'DPH-CCSF-HIV Clinic',\n",
       "       'ACE Inspection - Follow Up', 'SRO Sprinkler Ordinance Inspection',\n",
       "       'Evacuation Floor Plan Review',\n",
       "       'DHS-Adult Day Health Center Ref. Insp.',\n",
       "       'Greater Alarm Inspection', 'DHS-Hospitals, Skilled Nursing',\n",
       "       'City Attorney Referral',\n",
       "       'Airport Truck/ Fueler Hydrant Inspection',\n",
       "       'BC Place of Assembly Inspection', 'School Inspection - Follow Up',\n",
       "       'Day Care Inspection/Follow Up',\n",
       "       'Plan Check Preliminary/Consultation',\n",
       "       'Plan Check Meetings/Consultations',\n",
       "       'DPH Referral - Haz Mat Notification', 'UL Certification',\n",
       "       'Licensing Referral', 'Alarm Installation Inspection',\n",
       "       'Water Flow Street Test', 'DBI - Job Notification',\n",
       "       'Institutional Inspection/Follow-Up',\n",
       "       'Plan Check Review - DBI Referral',\n",
       "       'R-1 Annual Inspection Follow Up',\n",
       "       'DPH Referral - UST Closure Ref. Insp.', 'Tank Installation',\n",
       "       'Fire Pump Testing', 'Working Fire Response/Inspection',\n",
       "       'Special System Inspection', 'Plan Check Public Assembly',\n",
       "       'Stairwell Signs Review', 'Violation Vacant Building',\n",
       "       'Citation Service', 'Case Preparation', 'HazMat Permit Inspection',\n",
       "       'SF Traffic Engineer Ref. Insp.'], dtype=object)"
      ]
     },
     "execution_count": 56,
     "metadata": {},
     "output_type": "execute_result"
    }
   ],
   "source": [
    "# it seems that only complaints are useful\n",
    "df_inspect['Inspection Type Description'].unique()\n",
    "#  'Complaint Inspection'\n",
    "# 'Violation Inspection - NOV'\n",
    "# "
   ]
  },
  {
   "cell_type": "code",
   "execution_count": 102,
   "metadata": {},
   "outputs": [
    {
     "data": {
      "text/plain": [
       "array([2020, 2019, 2018, 2017, 2016, 2015, 2014, 2013, 2012, 2011, 2010,\n",
       "       2009, 2008, 2007, 2006, 2005, 2004], dtype=int64)"
      ]
     },
     "execution_count": 102,
     "metadata": {},
     "output_type": "execute_result"
    }
   ],
   "source": [
    "df_inspect['Inspection Start Date'] = pd.to_datetime(df_inspect['Inspection Start Date'])\n",
    "\n",
    "df_inspect['year'] = df_inspect['Inspection Start Date'].dt.year\n",
    "\n",
    "df_inspect['year'].unique()"
   ]
  },
  {
   "cell_type": "markdown",
   "metadata": {},
   "source": [
    "# violation data"
   ]
  },
  {
   "cell_type": "code",
   "execution_count": 47,
   "metadata": {},
   "outputs": [],
   "source": [
    "violation_file = 'D:/Study/insight/project/fire_risk_prediction_SF/data/SF_fire_data/fire-violations.csv'\n",
    "df_violate = pd.read_csv(violation_file)"
   ]
  },
  {
   "cell_type": "code",
   "execution_count": 60,
   "metadata": {},
   "outputs": [
    {
     "data": {
      "text/plain": [
       "Index(['Inspection Number', 'Violation Id', 'Address', 'Battalion',\n",
       "       'Station Area', 'Fire Prevention District', 'Citation Number',\n",
       "       'close date', 'corrective action', 'Status',\n",
       "       'violation item description', 'violation date', 'violation number',\n",
       "       'violation item', 'Primary', 'Zipcode', 'neighborhood district',\n",
       "       'supervisor district', 'Location', 'Neighborhoods_from_fyvs_ahh9 2',\n",
       "       'Supervisor Districts 2', 'Fire Prevention Districts 2',\n",
       "       'Current Police Districts 2', 'Neighborhoods - Analysis Boundaries 2',\n",
       "       'Zip Codes 2', 'Neighborhoods (old) 2', 'Police Districts 2',\n",
       "       'Central Market/Tenderloin Boundary 2',\n",
       "       'Central Market/Tenderloin Boundary Polygon - Updated 2',\n",
       "       'Neighborhoods', 'SF Find Neighborhoods', 'Current Police Districts 3',\n",
       "       'Current Supervisor Districts'],\n",
       "      dtype='object')"
      ]
     },
     "execution_count": 60,
     "metadata": {},
     "output_type": "execute_result"
    }
   ],
   "source": [
    "df_violate.columns"
   ]
  },
  {
   "cell_type": "code",
   "execution_count": 61,
   "metadata": {},
   "outputs": [
    {
     "data": {
      "text/plain": [
       "(30794, 33)"
      ]
     },
     "execution_count": 61,
     "metadata": {},
     "output_type": "execute_result"
    }
   ],
   "source": [
    "# it seems that violations are just violations. So include them all, groupby time, location, etc\n",
    "df_violate.shape"
   ]
  },
  {
   "cell_type": "code",
   "execution_count": 4,
   "metadata": {},
   "outputs": [],
   "source": [
    "df_violate['violation date'] = pd.to_datetime(df_violate['violation date'])\n",
    "\n",
    "df_violate['year'] = df_violate['violation date'].dt.year"
   ]
  },
  {
   "cell_type": "code",
   "execution_count": 5,
   "metadata": {},
   "outputs": [
    {
     "data": {
      "text/plain": [
       "array([2019, 2018, 2016, 2014, 2009, 2020, 2017, 2008, 2006, 2011, 2010,\n",
       "       2007, 2012, 2015, 2005, 2013], dtype=int64)"
      ]
     },
     "execution_count": 5,
     "metadata": {},
     "output_type": "execute_result"
    }
   ],
   "source": [
    "df_violate['year'].unique()"
   ]
  },
  {
   "cell_type": "code",
   "execution_count": 7,
   "metadata": {},
   "outputs": [
    {
     "data": {
      "text/plain": [
       "(9988, 34)"
      ]
     },
     "execution_count": 7,
     "metadata": {},
     "output_type": "execute_result"
    }
   ],
   "source": [
    "df_test = df_violate[(df_violate['year'] == 2017)|(df_violate['year'] == 2018)]\n",
    "df_test.shape"
   ]
  },
  {
   "cell_type": "code",
   "execution_count": 49,
   "metadata": {},
   "outputs": [
    {
     "data": {
      "text/plain": [
       "0        {'type': 'Point', 'coordinates': [-122.4304867...\n",
       "1        {'type': 'Point', 'coordinates': [-122.3867660...\n",
       "2        {'type': 'Point', 'coordinates': [-122.3815924...\n",
       "3        {'type': 'Point', 'coordinates': [-122.3867660...\n",
       "4        {'type': 'Point', 'coordinates': [-122.3850329...\n",
       "                               ...                        \n",
       "30789    {'type': 'Point', 'coordinates': [-122.3990435...\n",
       "30790    {'type': 'Point', 'coordinates': [-122.4706369...\n",
       "30791    {'type': 'Point', 'coordinates': [-122.4194212...\n",
       "30792    {'type': 'Point', 'coordinates': [-122.4030568...\n",
       "30793    {'type': 'Point', 'coordinates': [-122.4149589...\n",
       "Name: Location, Length: 30794, dtype: object"
      ]
     },
     "execution_count": 49,
     "metadata": {},
     "output_type": "execute_result"
    }
   ],
   "source": [
    "df_violate['Location']"
   ]
  },
  {
   "cell_type": "code",
   "execution_count": 48,
   "metadata": {},
   "outputs": [
    {
     "data": {
      "text/plain": [
       "\"{'type': 'Point', 'coordinates': [-122.38676600000001, 37.61795200002955]}\""
      ]
     },
     "execution_count": 48,
     "metadata": {},
     "output_type": "execute_result"
    }
   ],
   "source": [
    "df_violate['Location'][1]"
   ]
  },
  {
   "cell_type": "code",
   "execution_count": 51,
   "metadata": {},
   "outputs": [
    {
     "data": {
      "text/plain": [
       "str"
      ]
     },
     "execution_count": 51,
     "metadata": {},
     "output_type": "execute_result"
    }
   ],
   "source": [
    "asd = df_violate['Location'][1]\n",
    "type(asd)"
   ]
  },
  {
   "cell_type": "code",
   "execution_count": 52,
   "metadata": {},
   "outputs": [
    {
     "data": {
      "text/plain": [
       "{'type': 'Point', 'coordinates': [-122.38676600000001, 37.61795200002955]}"
      ]
     },
     "execution_count": 52,
     "metadata": {},
     "output_type": "execute_result"
    }
   ],
   "source": [
    "json.loads(asd.replace(\"\\'\", \"\\\"\"))\n"
   ]
  },
  {
   "cell_type": "code",
   "execution_count": 91,
   "metadata": {},
   "outputs": [
    {
     "data": {
      "image/svg+xml": [
       "<svg xmlns=\"http://www.w3.org/2000/svg\" xmlns:xlink=\"http://www.w3.org/1999/xlink\" width=\"100.0\" height=\"100.0\" viewBox=\"-123.38676600000001 36.61795200002955 2.0 2.0\" preserveAspectRatio=\"xMinYMin meet\"><g transform=\"matrix(1,0,0,-1,0,75.2359040000591)\"><circle cx=\"-122.38676600000001\" cy=\"37.61795200002955\" r=\"0.06\" stroke=\"#555555\" stroke-width=\"0.02\" fill=\"#66cc99\" opacity=\"0.6\" /></g></svg>"
      ],
      "text/plain": [
       "<shapely.geometry.point.Point at 0x193f0093dc0>"
      ]
     },
     "execution_count": 91,
     "metadata": {},
     "output_type": "execute_result"
    }
   ],
   "source": [
    "shape(json.loads(asd.replace(\"\\'\", \"\\\"\")))"
   ]
  },
  {
   "cell_type": "code",
   "execution_count": 81,
   "metadata": {},
   "outputs": [],
   "source": [
    "from shapely.geometry import shape\n",
    "from shapely.geometry import *\n",
    "import json"
   ]
  },
  {
   "cell_type": "code",
   "execution_count": 53,
   "metadata": {},
   "outputs": [],
   "source": [
    "#df_structure['point'] = df_structure['point'].apply(wkt.loads)\n",
    "\n",
    "df_violate['Location'] = df_violate.apply(lambda row: shape(json.loads(row['Location'].replace(\"\\'\", \"\\\"\"))), axis=1)\n",
    "#df_violate['Location'] = df_violate.apply(lambda row: shape(row['Location']), axis=1)\n",
    "#df_violate['Location'] = shape(df_violate['Location'])"
   ]
  },
  {
   "cell_type": "code",
   "execution_count": 54,
   "metadata": {},
   "outputs": [
    {
     "data": {
      "text/plain": [
       "0         POINT (-122.4304867 37.72539873002963)\n",
       "1          POINT (-122.386766 37.61795200002955)\n",
       "2         POINT (-122.3815924 37.62390790002954)\n",
       "3          POINT (-122.386766 37.61795200002955)\n",
       "4          POINT (-122.385033 37.61779000002954)\n",
       "                          ...                   \n",
       "30789    POINT (-122.39904351 37.79299739002968)\n",
       "30790    POINT (-122.47063695 37.70847297002962)\n",
       "30791     POINT (-122.4194213 37.75415036002965)\n",
       "30792    POINT (-122.40305689 37.79059199002965)\n",
       "30793    POINT (-122.41495893 37.78315841002966)\n",
       "Name: Location, Length: 30794, dtype: object"
      ]
     },
     "execution_count": 54,
     "metadata": {},
     "output_type": "execute_result"
    }
   ],
   "source": [
    "df_violate['Location'] "
   ]
  },
  {
   "cell_type": "code",
   "execution_count": 95,
   "metadata": {},
   "outputs": [],
   "source": [
    "gdf_violate = gpd.GeoDataFrame(df_violate, geometry='Location')\n",
    "\n",
    "# make sure the two dataset have the same projection\n",
    "gdf_violate.crs = df_parcel_simple.crs"
   ]
  },
  {
   "cell_type": "code",
   "execution_count": 96,
   "metadata": {},
   "outputs": [],
   "source": [
    "intersections = gpd.sjoin(gdf_parcel_buffer, gdf_violate, how=\"inner\", op='contains')"
   ]
  },
  {
   "cell_type": "code",
   "execution_count": 98,
   "metadata": {},
   "outputs": [
    {
     "data": {
      "text/html": [
       "<div>\n",
       "<style scoped>\n",
       "    .dataframe tbody tr th:only-of-type {\n",
       "        vertical-align: middle;\n",
       "    }\n",
       "\n",
       "    .dataframe tbody tr th {\n",
       "        vertical-align: top;\n",
       "    }\n",
       "\n",
       "    .dataframe thead th {\n",
       "        text-align: right;\n",
       "    }\n",
       "</style>\n",
       "<table border=\"1\" class=\"dataframe\">\n",
       "  <thead>\n",
       "    <tr style=\"text-align: right;\">\n",
       "      <th></th>\n",
       "      <th>objectid</th>\n",
       "      <th>geometry</th>\n",
       "      <th>index_right</th>\n",
       "      <th>Inspection Number</th>\n",
       "      <th>Violation Id</th>\n",
       "      <th>Address</th>\n",
       "      <th>Battalion</th>\n",
       "      <th>Station Area</th>\n",
       "      <th>Fire Prevention District</th>\n",
       "      <th>Citation Number</th>\n",
       "      <th>...</th>\n",
       "      <th>Zip Codes 2</th>\n",
       "      <th>Neighborhoods (old) 2</th>\n",
       "      <th>Police Districts 2</th>\n",
       "      <th>Central Market/Tenderloin Boundary 2</th>\n",
       "      <th>Central Market/Tenderloin Boundary Polygon - Updated 2</th>\n",
       "      <th>Neighborhoods</th>\n",
       "      <th>SF Find Neighborhoods</th>\n",
       "      <th>Current Police Districts 3</th>\n",
       "      <th>Current Supervisor Districts</th>\n",
       "      <th>year</th>\n",
       "    </tr>\n",
       "  </thead>\n",
       "  <tbody>\n",
       "    <tr>\n",
       "      <th>1</th>\n",
       "      <td>2</td>\n",
       "      <td>POLYGON ((-122.42098 37.80480, -122.42098 37.8...</td>\n",
       "      <td>20753</td>\n",
       "      <td>NaN</td>\n",
       "      <td>0612-0158976</td>\n",
       "      <td>869  North Point St</td>\n",
       "      <td>01</td>\n",
       "      <td>28</td>\n",
       "      <td>01W</td>\n",
       "      <td>NaN</td>\n",
       "      <td>...</td>\n",
       "      <td>28858</td>\n",
       "      <td>32.0</td>\n",
       "      <td>1.0</td>\n",
       "      <td>NaN</td>\n",
       "      <td>NaN</td>\n",
       "      <td>98.0</td>\n",
       "      <td>98.0</td>\n",
       "      <td>6.0</td>\n",
       "      <td>6.0</td>\n",
       "      <td>2006</td>\n",
       "    </tr>\n",
       "    <tr>\n",
       "      <th>2</th>\n",
       "      <td>3</td>\n",
       "      <td>POLYGON ((-122.42107 37.80479, -122.42107 37.8...</td>\n",
       "      <td>20753</td>\n",
       "      <td>NaN</td>\n",
       "      <td>0612-0158976</td>\n",
       "      <td>869  North Point St</td>\n",
       "      <td>01</td>\n",
       "      <td>28</td>\n",
       "      <td>01W</td>\n",
       "      <td>NaN</td>\n",
       "      <td>...</td>\n",
       "      <td>28858</td>\n",
       "      <td>32.0</td>\n",
       "      <td>1.0</td>\n",
       "      <td>NaN</td>\n",
       "      <td>NaN</td>\n",
       "      <td>98.0</td>\n",
       "      <td>98.0</td>\n",
       "      <td>6.0</td>\n",
       "      <td>6.0</td>\n",
       "      <td>2006</td>\n",
       "    </tr>\n",
       "    <tr>\n",
       "      <th>17</th>\n",
       "      <td>18</td>\n",
       "      <td>POLYGON ((-122.42169 37.80482, -122.42177 37.8...</td>\n",
       "      <td>20753</td>\n",
       "      <td>NaN</td>\n",
       "      <td>0612-0158976</td>\n",
       "      <td>869  North Point St</td>\n",
       "      <td>01</td>\n",
       "      <td>28</td>\n",
       "      <td>01W</td>\n",
       "      <td>NaN</td>\n",
       "      <td>...</td>\n",
       "      <td>28858</td>\n",
       "      <td>32.0</td>\n",
       "      <td>1.0</td>\n",
       "      <td>NaN</td>\n",
       "      <td>NaN</td>\n",
       "      <td>98.0</td>\n",
       "      <td>98.0</td>\n",
       "      <td>6.0</td>\n",
       "      <td>6.0</td>\n",
       "      <td>2006</td>\n",
       "    </tr>\n",
       "    <tr>\n",
       "      <th>18</th>\n",
       "      <td>19</td>\n",
       "      <td>POLYGON ((-122.42123 37.80515, -122.42123 37.8...</td>\n",
       "      <td>20753</td>\n",
       "      <td>NaN</td>\n",
       "      <td>0612-0158976</td>\n",
       "      <td>869  North Point St</td>\n",
       "      <td>01</td>\n",
       "      <td>28</td>\n",
       "      <td>01W</td>\n",
       "      <td>NaN</td>\n",
       "      <td>...</td>\n",
       "      <td>28858</td>\n",
       "      <td>32.0</td>\n",
       "      <td>1.0</td>\n",
       "      <td>NaN</td>\n",
       "      <td>NaN</td>\n",
       "      <td>98.0</td>\n",
       "      <td>98.0</td>\n",
       "      <td>6.0</td>\n",
       "      <td>6.0</td>\n",
       "      <td>2006</td>\n",
       "    </tr>\n",
       "    <tr>\n",
       "      <th>19</th>\n",
       "      <td>20</td>\n",
       "      <td>POLYGON ((-122.42114 37.80516, -122.42114 37.8...</td>\n",
       "      <td>20753</td>\n",
       "      <td>NaN</td>\n",
       "      <td>0612-0158976</td>\n",
       "      <td>869  North Point St</td>\n",
       "      <td>01</td>\n",
       "      <td>28</td>\n",
       "      <td>01W</td>\n",
       "      <td>NaN</td>\n",
       "      <td>...</td>\n",
       "      <td>28858</td>\n",
       "      <td>32.0</td>\n",
       "      <td>1.0</td>\n",
       "      <td>NaN</td>\n",
       "      <td>NaN</td>\n",
       "      <td>98.0</td>\n",
       "      <td>98.0</td>\n",
       "      <td>6.0</td>\n",
       "      <td>6.0</td>\n",
       "      <td>2006</td>\n",
       "    </tr>\n",
       "  </tbody>\n",
       "</table>\n",
       "<p>5 rows × 36 columns</p>\n",
       "</div>"
      ],
      "text/plain": [
       "   objectid                                           geometry  index_right  \\\n",
       "1         2  POLYGON ((-122.42098 37.80480, -122.42098 37.8...        20753   \n",
       "2         3  POLYGON ((-122.42107 37.80479, -122.42107 37.8...        20753   \n",
       "17       18  POLYGON ((-122.42169 37.80482, -122.42177 37.8...        20753   \n",
       "18       19  POLYGON ((-122.42123 37.80515, -122.42123 37.8...        20753   \n",
       "19       20  POLYGON ((-122.42114 37.80516, -122.42114 37.8...        20753   \n",
       "\n",
       "    Inspection Number  Violation Id              Address Battalion  \\\n",
       "1                 NaN  0612-0158976  869  North Point St        01   \n",
       "2                 NaN  0612-0158976  869  North Point St        01   \n",
       "17                NaN  0612-0158976  869  North Point St        01   \n",
       "18                NaN  0612-0158976  869  North Point St        01   \n",
       "19                NaN  0612-0158976  869  North Point St        01   \n",
       "\n",
       "   Station Area Fire Prevention District  Citation Number  ... Zip Codes 2  \\\n",
       "1            28                      01W              NaN  ...       28858   \n",
       "2            28                      01W              NaN  ...       28858   \n",
       "17           28                      01W              NaN  ...       28858   \n",
       "18           28                      01W              NaN  ...       28858   \n",
       "19           28                      01W              NaN  ...       28858   \n",
       "\n",
       "   Neighborhoods (old) 2 Police Districts 2  \\\n",
       "1                   32.0                1.0   \n",
       "2                   32.0                1.0   \n",
       "17                  32.0                1.0   \n",
       "18                  32.0                1.0   \n",
       "19                  32.0                1.0   \n",
       "\n",
       "   Central Market/Tenderloin Boundary 2  \\\n",
       "1                                   NaN   \n",
       "2                                   NaN   \n",
       "17                                  NaN   \n",
       "18                                  NaN   \n",
       "19                                  NaN   \n",
       "\n",
       "   Central Market/Tenderloin Boundary Polygon - Updated 2 Neighborhoods  \\\n",
       "1                                                 NaN              98.0   \n",
       "2                                                 NaN              98.0   \n",
       "17                                                NaN              98.0   \n",
       "18                                                NaN              98.0   \n",
       "19                                                NaN              98.0   \n",
       "\n",
       "   SF Find Neighborhoods Current Police Districts 3  \\\n",
       "1                   98.0                        6.0   \n",
       "2                   98.0                        6.0   \n",
       "17                  98.0                        6.0   \n",
       "18                  98.0                        6.0   \n",
       "19                  98.0                        6.0   \n",
       "\n",
       "    Current Supervisor Districts  year  \n",
       "1                            6.0  2006  \n",
       "2                            6.0  2006  \n",
       "17                           6.0  2006  \n",
       "18                           6.0  2006  \n",
       "19                           6.0  2006  \n",
       "\n",
       "[5 rows x 36 columns]"
      ]
     },
     "execution_count": 98,
     "metadata": {},
     "output_type": "execute_result"
    }
   ],
   "source": [
    "intersections.head()"
   ]
  },
  {
   "cell_type": "code",
   "execution_count": 99,
   "metadata": {},
   "outputs": [
    {
     "data": {
      "text/plain": [
       "(111680, 36)"
      ]
     },
     "execution_count": 99,
     "metadata": {},
     "output_type": "execute_result"
    }
   ],
   "source": [
    "intersections.shape"
   ]
  },
  {
   "cell_type": "code",
   "execution_count": 100,
   "metadata": {},
   "outputs": [
    {
     "data": {
      "text/plain": [
       "8222"
      ]
     },
     "execution_count": 100,
     "metadata": {},
     "output_type": "execute_result"
    }
   ],
   "source": [
    "intersections['Inspection Number'].nunique()"
   ]
  },
  {
   "cell_type": "markdown",
   "metadata": {},
   "source": [
    "# building permit data"
   ]
  },
  {
   "cell_type": "code",
   "execution_count": 9,
   "metadata": {},
   "outputs": [
    {
     "name": "stderr",
     "output_type": "stream",
     "text": [
      "C:\\Users\\Ruoying\\anaconda3\\envs\\geoenv\\lib\\site-packages\\IPython\\core\\interactiveshell.py:3145: DtypeWarning: Columns (22,32) have mixed types.Specify dtype option on import or set low_memory=False.\n",
      "  has_raised = await self.run_ast_nodes(code_ast.body, cell_name,\n"
     ]
    }
   ],
   "source": [
    "permit_file = 'D:/Study/insight/project/fire_risk_prediction_SF/data/SF_building_permit/Building_Permits.csv'\n",
    "df_permit = pd.read_csv(permit_file)"
   ]
  },
  {
   "cell_type": "code",
   "execution_count": 10,
   "metadata": {},
   "outputs": [
    {
     "data": {
      "text/plain": [
       "(198900, 43)"
      ]
     },
     "execution_count": 10,
     "metadata": {},
     "output_type": "execute_result"
    }
   ],
   "source": [
    "df_permit.shape"
   ]
  },
  {
   "cell_type": "code",
   "execution_count": 11,
   "metadata": {},
   "outputs": [
    {
     "data": {
      "text/plain": [
       "Index(['Permit Number', 'Permit Type', 'Permit Type Definition',\n",
       "       'Permit Creation Date', 'Block', 'Lot', 'Street Number',\n",
       "       'Street Number Suffix', 'Street Name', 'Street Suffix', 'Unit',\n",
       "       'Unit Suffix', 'Description', 'Current Status', 'Current Status Date',\n",
       "       'Filed Date', 'Issued Date', 'Completed Date',\n",
       "       'First Construction Document Date', 'Structural Notification',\n",
       "       'Number of Existing Stories', 'Number of Proposed Stories',\n",
       "       'Voluntary Soft-Story Retrofit', 'Fire Only Permit',\n",
       "       'Permit Expiration Date', 'Estimated Cost', 'Revised Cost',\n",
       "       'Existing Use', 'Existing Units', 'Proposed Use', 'Proposed Units',\n",
       "       'Plansets', 'TIDF Compliance', 'Existing Construction Type',\n",
       "       'Existing Construction Type Description', 'Proposed Construction Type',\n",
       "       'Proposed Construction Type Description', 'Site Permit',\n",
       "       'Supervisor District', 'Neighborhoods - Analysis Boundaries', 'Zipcode',\n",
       "       'Location', 'Record ID'],\n",
       "      dtype='object')"
      ]
     },
     "execution_count": 11,
     "metadata": {},
     "output_type": "execute_result"
    }
   ],
   "source": [
    "df_permit.columns"
   ]
  },
  {
   "cell_type": "code",
   "execution_count": 22,
   "metadata": {},
   "outputs": [
    {
     "data": {
      "text/plain": [
       "str"
      ]
     },
     "execution_count": 22,
     "metadata": {},
     "output_type": "execute_result"
    }
   ],
   "source": [
    "type(df_permit['Location'][0])"
   ]
  },
  {
   "cell_type": "code",
   "execution_count": 25,
   "metadata": {},
   "outputs": [
    {
     "data": {
      "text/plain": [
       "'37.785719256680785, -122.40852313194863'"
      ]
     },
     "execution_count": 25,
     "metadata": {},
     "output_type": "execute_result"
    }
   ],
   "source": [
    "df_permit['Location'][0].strip('()')"
   ]
  },
  {
   "cell_type": "code",
   "execution_count": 27,
   "metadata": {},
   "outputs": [
    {
     "data": {
      "text/plain": [
       "0         37.785719256680785, -122.40852313194863\n",
       "1          37.78733980600732, -122.41063199757738\n",
       "2           37.7946573324287, -122.42232562979227\n",
       "3          37.79595867909168, -122.41557405519474\n",
       "4          37.78315261897309, -122.40950883997789\n",
       "                           ...                   \n",
       "198895                                        NaN\n",
       "198896                                        NaN\n",
       "198897                                        NaN\n",
       "198898                                        NaN\n",
       "198899                                        NaN\n",
       "Name: Location, Length: 198900, dtype: object"
      ]
     },
     "execution_count": 27,
     "metadata": {},
     "output_type": "execute_result"
    }
   ],
   "source": [
    "df_permit['Location'].str.strip('()')"
   ]
  },
  {
   "cell_type": "code",
   "execution_count": 14,
   "metadata": {},
   "outputs": [
    {
     "data": {
      "text/plain": [
       "array([4, 3, 8, 6, 7, 1, 5, 2], dtype=int64)"
      ]
     },
     "execution_count": 14,
     "metadata": {},
     "output_type": "execute_result"
    }
   ],
   "source": [
    "df_permit['Permit Type'].unique()"
   ]
  },
  {
   "cell_type": "code",
   "execution_count": 15,
   "metadata": {},
   "outputs": [
    {
     "data": {
      "text/plain": [
       "array(['sign - erect', 'additions alterations or repairs',\n",
       "       'otc alterations permit', 'demolitions', 'wall or painted sign',\n",
       "       'new construction', 'grade or quarry or fill or excavate',\n",
       "       'new construction wood frame'], dtype=object)"
      ]
     },
     "execution_count": 15,
     "metadata": {},
     "output_type": "execute_result"
    }
   ],
   "source": [
    "df_permit['Permit Type Definition'].unique()"
   ]
  },
  {
   "cell_type": "code",
   "execution_count": 39,
   "metadata": {},
   "outputs": [],
   "source": [
    "df_permit['Issued Date'] = pd.to_datetime(df_permit['Issued Date'])\n",
    "df_permit['year'] = df_permit['Issued Date'].dt.year"
   ]
  },
  {
   "cell_type": "code",
   "execution_count": 42,
   "metadata": {},
   "outputs": [
    {
     "data": {
      "text/plain": [
       "array([2015., 2017.,   nan, 2014., 2016., 2018., 2013.])"
      ]
     },
     "execution_count": 42,
     "metadata": {},
     "output_type": "execute_result"
    }
   ],
   "source": [
    "df_permit['year'].unique()"
   ]
  },
  {
   "cell_type": "code",
   "execution_count": 28,
   "metadata": {},
   "outputs": [],
   "source": [
    "# split location into lat, long\n",
    "# first get rid of the ()\n",
    "#df_permit['Location'] = df_permit['Location'].map(lambda x: x.strip('()'))\n",
    "df_permit['Location'] = df_permit['Location'].str.strip('()')\n",
    "df_permit[['lat','long']] = df_permit['Location'].str.split(', ',expand=True)"
   ]
  },
  {
   "cell_type": "code",
   "execution_count": 31,
   "metadata": {},
   "outputs": [
    {
     "data": {
      "text/plain": [
       "'37.785719256680785'"
      ]
     },
     "execution_count": 31,
     "metadata": {},
     "output_type": "execute_result"
    }
   ],
   "source": [
    "df_permit['lat'][0]"
   ]
  },
  {
   "cell_type": "code",
   "execution_count": 32,
   "metadata": {},
   "outputs": [],
   "source": [
    "# change str to float\n",
    "df_permit =  df_permit.dropna(subset=['lat','long'])"
   ]
  },
  {
   "cell_type": "code",
   "execution_count": 36,
   "metadata": {},
   "outputs": [],
   "source": [
    "gdf_permit = gpd.GeoDataFrame(\n",
    "    df_permit, geometry=gpd.points_from_xy(df_permit.long, df_permit.lat))"
   ]
  },
  {
   "cell_type": "code",
   "execution_count": 37,
   "metadata": {},
   "outputs": [
    {
     "data": {
      "text/html": [
       "<div>\n",
       "<style scoped>\n",
       "    .dataframe tbody tr th:only-of-type {\n",
       "        vertical-align: middle;\n",
       "    }\n",
       "\n",
       "    .dataframe tbody tr th {\n",
       "        vertical-align: top;\n",
       "    }\n",
       "\n",
       "    .dataframe thead th {\n",
       "        text-align: right;\n",
       "    }\n",
       "</style>\n",
       "<table border=\"1\" class=\"dataframe\">\n",
       "  <thead>\n",
       "    <tr style=\"text-align: right;\">\n",
       "      <th></th>\n",
       "      <th>Permit Number</th>\n",
       "      <th>Permit Type</th>\n",
       "      <th>Permit Type Definition</th>\n",
       "      <th>Permit Creation Date</th>\n",
       "      <th>Block</th>\n",
       "      <th>Lot</th>\n",
       "      <th>Street Number</th>\n",
       "      <th>Street Number Suffix</th>\n",
       "      <th>Street Name</th>\n",
       "      <th>Street Suffix</th>\n",
       "      <th>...</th>\n",
       "      <th>Proposed Construction Type Description</th>\n",
       "      <th>Site Permit</th>\n",
       "      <th>Supervisor District</th>\n",
       "      <th>Neighborhoods - Analysis Boundaries</th>\n",
       "      <th>Zipcode</th>\n",
       "      <th>Location</th>\n",
       "      <th>Record ID</th>\n",
       "      <th>lat</th>\n",
       "      <th>long</th>\n",
       "      <th>geometry</th>\n",
       "    </tr>\n",
       "  </thead>\n",
       "  <tbody>\n",
       "    <tr>\n",
       "      <th>0</th>\n",
       "      <td>201505065519</td>\n",
       "      <td>4</td>\n",
       "      <td>sign - erect</td>\n",
       "      <td>05/06/2015</td>\n",
       "      <td>0326</td>\n",
       "      <td>023</td>\n",
       "      <td>140</td>\n",
       "      <td>NaN</td>\n",
       "      <td>Ellis</td>\n",
       "      <td>St</td>\n",
       "      <td>...</td>\n",
       "      <td>NaN</td>\n",
       "      <td>NaN</td>\n",
       "      <td>3.0</td>\n",
       "      <td>Tenderloin</td>\n",
       "      <td>94102.0</td>\n",
       "      <td>37.785719256680785, -122.40852313194863</td>\n",
       "      <td>1380611233945</td>\n",
       "      <td>37.785719256680785</td>\n",
       "      <td>-122.40852313194863</td>\n",
       "      <td>POINT (-122.40852 37.78572)</td>\n",
       "    </tr>\n",
       "    <tr>\n",
       "      <th>1</th>\n",
       "      <td>201604195146</td>\n",
       "      <td>4</td>\n",
       "      <td>sign - erect</td>\n",
       "      <td>04/19/2016</td>\n",
       "      <td>0306</td>\n",
       "      <td>007</td>\n",
       "      <td>440</td>\n",
       "      <td>NaN</td>\n",
       "      <td>Geary</td>\n",
       "      <td>St</td>\n",
       "      <td>...</td>\n",
       "      <td>NaN</td>\n",
       "      <td>NaN</td>\n",
       "      <td>3.0</td>\n",
       "      <td>Tenderloin</td>\n",
       "      <td>94102.0</td>\n",
       "      <td>37.78733980600732, -122.41063199757738</td>\n",
       "      <td>1420164406718</td>\n",
       "      <td>37.78733980600732</td>\n",
       "      <td>-122.41063199757738</td>\n",
       "      <td>POINT (-122.41063 37.78734)</td>\n",
       "    </tr>\n",
       "    <tr>\n",
       "      <th>2</th>\n",
       "      <td>201605278609</td>\n",
       "      <td>3</td>\n",
       "      <td>additions alterations or repairs</td>\n",
       "      <td>05/27/2016</td>\n",
       "      <td>0595</td>\n",
       "      <td>203</td>\n",
       "      <td>1647</td>\n",
       "      <td>NaN</td>\n",
       "      <td>Pacific</td>\n",
       "      <td>Av</td>\n",
       "      <td>...</td>\n",
       "      <td>constr type 1</td>\n",
       "      <td>NaN</td>\n",
       "      <td>3.0</td>\n",
       "      <td>Russian Hill</td>\n",
       "      <td>94109.0</td>\n",
       "      <td>37.7946573324287, -122.42232562979227</td>\n",
       "      <td>1424856504716</td>\n",
       "      <td>37.7946573324287</td>\n",
       "      <td>-122.42232562979227</td>\n",
       "      <td>POINT (-122.42233 37.79466)</td>\n",
       "    </tr>\n",
       "    <tr>\n",
       "      <th>3</th>\n",
       "      <td>201611072166</td>\n",
       "      <td>8</td>\n",
       "      <td>otc alterations permit</td>\n",
       "      <td>11/07/2016</td>\n",
       "      <td>0156</td>\n",
       "      <td>011</td>\n",
       "      <td>1230</td>\n",
       "      <td>NaN</td>\n",
       "      <td>Pacific</td>\n",
       "      <td>Av</td>\n",
       "      <td>...</td>\n",
       "      <td>wood frame (5)</td>\n",
       "      <td>NaN</td>\n",
       "      <td>3.0</td>\n",
       "      <td>Nob Hill</td>\n",
       "      <td>94109.0</td>\n",
       "      <td>37.79595867909168, -122.41557405519474</td>\n",
       "      <td>1443574295566</td>\n",
       "      <td>37.79595867909168</td>\n",
       "      <td>-122.41557405519474</td>\n",
       "      <td>POINT (-122.41557 37.79596)</td>\n",
       "    </tr>\n",
       "    <tr>\n",
       "      <th>4</th>\n",
       "      <td>201611283529</td>\n",
       "      <td>6</td>\n",
       "      <td>demolitions</td>\n",
       "      <td>11/28/2016</td>\n",
       "      <td>0342</td>\n",
       "      <td>001</td>\n",
       "      <td>950</td>\n",
       "      <td>NaN</td>\n",
       "      <td>Market</td>\n",
       "      <td>St</td>\n",
       "      <td>...</td>\n",
       "      <td>NaN</td>\n",
       "      <td>NaN</td>\n",
       "      <td>6.0</td>\n",
       "      <td>Tenderloin</td>\n",
       "      <td>94102.0</td>\n",
       "      <td>37.78315261897309, -122.40950883997789</td>\n",
       "      <td>144548169992</td>\n",
       "      <td>37.78315261897309</td>\n",
       "      <td>-122.40950883997789</td>\n",
       "      <td>POINT (-122.40951 37.78315)</td>\n",
       "    </tr>\n",
       "  </tbody>\n",
       "</table>\n",
       "<p>5 rows × 46 columns</p>\n",
       "</div>"
      ],
      "text/plain": [
       "  Permit Number  Permit Type            Permit Type Definition  \\\n",
       "0  201505065519            4                      sign - erect   \n",
       "1  201604195146            4                      sign - erect   \n",
       "2  201605278609            3  additions alterations or repairs   \n",
       "3  201611072166            8            otc alterations permit   \n",
       "4  201611283529            6                       demolitions   \n",
       "\n",
       "  Permit Creation Date Block  Lot  Street Number Street Number Suffix  \\\n",
       "0           05/06/2015  0326  023            140                  NaN   \n",
       "1           04/19/2016  0306  007            440                  NaN   \n",
       "2           05/27/2016  0595  203           1647                  NaN   \n",
       "3           11/07/2016  0156  011           1230                  NaN   \n",
       "4           11/28/2016  0342  001            950                  NaN   \n",
       "\n",
       "  Street Name Street Suffix  ...  Proposed Construction Type Description  \\\n",
       "0       Ellis            St  ...                                     NaN   \n",
       "1       Geary            St  ...                                     NaN   \n",
       "2     Pacific            Av  ...                           constr type 1   \n",
       "3     Pacific            Av  ...                          wood frame (5)   \n",
       "4      Market            St  ...                                     NaN   \n",
       "\n",
       "  Site Permit Supervisor District Neighborhoods - Analysis Boundaries  \\\n",
       "0         NaN                 3.0                          Tenderloin   \n",
       "1         NaN                 3.0                          Tenderloin   \n",
       "2         NaN                 3.0                        Russian Hill   \n",
       "3         NaN                 3.0                            Nob Hill   \n",
       "4         NaN                 6.0                          Tenderloin   \n",
       "\n",
       "   Zipcode                                 Location      Record ID  \\\n",
       "0  94102.0  37.785719256680785, -122.40852313194863  1380611233945   \n",
       "1  94102.0   37.78733980600732, -122.41063199757738  1420164406718   \n",
       "2  94109.0    37.7946573324287, -122.42232562979227  1424856504716   \n",
       "3  94109.0   37.79595867909168, -122.41557405519474  1443574295566   \n",
       "4  94102.0   37.78315261897309, -122.40950883997789   144548169992   \n",
       "\n",
       "                  lat                 long                     geometry  \n",
       "0  37.785719256680785  -122.40852313194863  POINT (-122.40852 37.78572)  \n",
       "1   37.78733980600732  -122.41063199757738  POINT (-122.41063 37.78734)  \n",
       "2    37.7946573324287  -122.42232562979227  POINT (-122.42233 37.79466)  \n",
       "3   37.79595867909168  -122.41557405519474  POINT (-122.41557 37.79596)  \n",
       "4   37.78315261897309  -122.40950883997789  POINT (-122.40951 37.78315)  \n",
       "\n",
       "[5 rows x 46 columns]"
      ]
     },
     "execution_count": 37,
     "metadata": {},
     "output_type": "execute_result"
    }
   ],
   "source": [
    "gdf_permit.head()"
   ]
  },
  {
   "cell_type": "markdown",
   "metadata": {},
   "source": [
    "# crime data test"
   ]
  },
  {
   "cell_type": "code",
   "execution_count": 4,
   "metadata": {},
   "outputs": [],
   "source": [
    "crime_file = 'D:/Study/insight/project/fire_risk_prediction_SF/data/Police_Department_Incident_Reports__Historical_2003_to_May_2018.csv'\n",
    "df_crime = pd.read_csv(crime_file)\n",
    "\n",
    "recent_crime_file = 'D:/Study/insight/project/fire_risk_prediction_SF/data/Police_Department_Incident_Reports__2018_to_Present.csv'\n",
    "df_recent_crime = pd.read_csv(recent_crime_file)"
   ]
  },
  {
   "cell_type": "code",
   "execution_count": 3,
   "metadata": {},
   "outputs": [
    {
     "data": {
      "text/plain": [
       "Index(['PdId', 'IncidntNum', 'Incident Code', 'Category', 'Descript',\n",
       "       'DayOfWeek', 'Date', 'Time', 'PdDistrict', 'Resolution', 'Address', 'X',\n",
       "       'Y', 'location', 'SF Find Neighborhoods 2 2',\n",
       "       'Current Police Districts 2 2', 'Current Supervisor Districts 2 2',\n",
       "       'Analysis Neighborhoods 2 2', 'DELETE - Fire Prevention Districts 2 2',\n",
       "       'DELETE - Police Districts 2 2', 'DELETE - Supervisor Districts 2 2',\n",
       "       'DELETE - Zip Codes 2 2', 'DELETE - Neighborhoods 2 2',\n",
       "       'DELETE - 2017 Fix It Zones 2 2',\n",
       "       'Civic Center Harm Reduction Project Boundary 2 2',\n",
       "       'Fix It Zones as of 2017-11-06  2 2', 'DELETE - HSOC Zones 2 2',\n",
       "       'Fix It Zones as of 2018-02-07 2 2',\n",
       "       'CBD, BID and GBD Boundaries as of 2017 2 2',\n",
       "       'Areas of Vulnerability, 2016 2 2',\n",
       "       'Central Market/Tenderloin Boundary 2 2',\n",
       "       'Central Market/Tenderloin Boundary Polygon - Updated 2 2',\n",
       "       'HSOC Zones as of 2018-06-05 2 2', 'OWED Public Spaces 2 2',\n",
       "       'Neighborhoods 2'],\n",
       "      dtype='object')"
      ]
     },
     "execution_count": 3,
     "metadata": {},
     "output_type": "execute_result"
    }
   ],
   "source": [
    "df_crime.columns"
   ]
  },
  {
   "cell_type": "code",
   "execution_count": 5,
   "metadata": {},
   "outputs": [
    {
     "data": {
      "text/plain": [
       "Index(['Incident Datetime', 'Incident Date', 'Incident Time', 'Incident Year',\n",
       "       'Incident Day of Week', 'Report Datetime', 'Row ID', 'Incident ID',\n",
       "       'Incident Number', 'CAD Number', 'Report Type Code',\n",
       "       'Report Type Description', 'Filed Online', 'Incident Code',\n",
       "       'Incident Category', 'Incident Subcategory', 'Incident Description',\n",
       "       'Resolution', 'Intersection', 'CNN', 'Police District',\n",
       "       'Analysis Neighborhood', 'Supervisor District', 'Latitude', 'Longitude',\n",
       "       'point', 'SF Find Neighborhoods', 'Current Police Districts',\n",
       "       'Current Supervisor Districts', 'Analysis Neighborhoods',\n",
       "       'HSOC Zones as of 2018-06-05', 'OWED Public Spaces',\n",
       "       'Central Market/Tenderloin Boundary Polygon - Updated',\n",
       "       'Parks Alliance CPSI (27+TL sites)', 'ESNCAG - Boundary File',\n",
       "       'Areas of Vulnerability, 2016'],\n",
       "      dtype='object')"
      ]
     },
     "execution_count": 5,
     "metadata": {},
     "output_type": "execute_result"
    }
   ],
   "source": [
    "df_recent_crime.columns"
   ]
  },
  {
   "cell_type": "code",
   "execution_count": 6,
   "metadata": {},
   "outputs": [
    {
     "data": {
      "text/plain": [
       "'POINT (-122.41982062806301 37.782008780606)'"
      ]
     },
     "execution_count": 6,
     "metadata": {},
     "output_type": "execute_result"
    }
   ],
   "source": [
    "df_crime['location'][0]"
   ]
  },
  {
   "cell_type": "code",
   "execution_count": 10,
   "metadata": {},
   "outputs": [
    {
     "data": {
      "text/plain": [
       "0                                              NaN\n",
       "1                                              NaN\n",
       "2                                              NaN\n",
       "3         (37.75482657770952, -122.39772873392515)\n",
       "4         (37.76653957529556, -122.42204381448558)\n",
       "                            ...                   \n",
       "385982    (37.78880754257507, -122.41188565874671)\n",
       "385983    (37.79226261825945, -122.43620350896612)\n",
       "385984    (37.78829319282882, -122.40840155198468)\n",
       "385985    (37.74123427141981, -122.47449422499847)\n",
       "385986    (37.78829319282882, -122.40840155198468)\n",
       "Name: point, Length: 385987, dtype: object"
      ]
     },
     "execution_count": 10,
     "metadata": {},
     "output_type": "execute_result"
    }
   ],
   "source": [
    "df_recent_crime['point']"
   ]
  },
  {
   "cell_type": "markdown",
   "metadata": {},
   "source": [
    "# property tax data"
   ]
  },
  {
   "cell_type": "code",
   "execution_count": 12,
   "metadata": {},
   "outputs": [
    {
     "name": "stderr",
     "output_type": "stream",
     "text": [
      "C:\\Users\\Ruoying\\anaconda3\\envs\\geoenv\\lib\\site-packages\\IPython\\core\\interactiveshell.py:3145: DtypeWarning: Columns (26) have mixed types.Specify dtype option on import or set low_memory=False.\n",
      "  has_raised = await self.run_ast_nodes(code_ast.body, cell_name,\n"
     ]
    }
   ],
   "source": [
    "tax_file = 'D:/Study/insight/project/fire_risk_prediction_SF/data/Assessor_Historical_Property_Tax.csv'\n",
    "df_tax = pd.read_csv(tax_file)"
   ]
  },
  {
   "cell_type": "code",
   "execution_count": 14,
   "metadata": {},
   "outputs": [
    {
     "data": {
      "text/html": [
       "<div>\n",
       "<style scoped>\n",
       "    .dataframe tbody tr th:only-of-type {\n",
       "        vertical-align: middle;\n",
       "    }\n",
       "\n",
       "    .dataframe tbody tr th {\n",
       "        vertical-align: top;\n",
       "    }\n",
       "\n",
       "    .dataframe thead th {\n",
       "        text-align: right;\n",
       "    }\n",
       "</style>\n",
       "<table border=\"1\" class=\"dataframe\">\n",
       "  <thead>\n",
       "    <tr style=\"text-align: right;\">\n",
       "      <th></th>\n",
       "      <th>Closed Roll Year</th>\n",
       "      <th>Property Location</th>\n",
       "      <th>Parcel Number</th>\n",
       "      <th>Block</th>\n",
       "      <th>Lot</th>\n",
       "      <th>Volume Number</th>\n",
       "      <th>Use Code</th>\n",
       "      <th>Use Definition</th>\n",
       "      <th>Property Class Code</th>\n",
       "      <th>Property Class Code Definition</th>\n",
       "      <th>...</th>\n",
       "      <th>SF Find Neighborhoods</th>\n",
       "      <th>Current Police Districts</th>\n",
       "      <th>Current Supervisor Districts</th>\n",
       "      <th>Analysis Neighborhoods</th>\n",
       "      <th>DELETE - Supervisor Districts</th>\n",
       "      <th>DELETE - Fire Prevention Districts</th>\n",
       "      <th>DELETE - Current Police Districts</th>\n",
       "      <th>DELETE - Zip Codes</th>\n",
       "      <th>DELETE - Neighborhoods</th>\n",
       "      <th>DELETE - Police Districts</th>\n",
       "    </tr>\n",
       "  </thead>\n",
       "  <tbody>\n",
       "    <tr>\n",
       "      <th>0</th>\n",
       "      <td>2007.0</td>\n",
       "      <td>0000 0000                       0000</td>\n",
       "      <td>1378007</td>\n",
       "      <td>1378</td>\n",
       "      <td>007</td>\n",
       "      <td>10</td>\n",
       "      <td>MISC</td>\n",
       "      <td>Miscellaneous/Mixed-Use</td>\n",
       "      <td>V</td>\n",
       "      <td>Vacant Lot</td>\n",
       "      <td>...</td>\n",
       "      <td>2.0</td>\n",
       "      <td>8.0</td>\n",
       "      <td>4.0</td>\n",
       "      <td>29.0</td>\n",
       "      <td>2.0</td>\n",
       "      <td>11.0</td>\n",
       "      <td>9.0</td>\n",
       "      <td>55.0</td>\n",
       "      <td>26.0</td>\n",
       "      <td>6.0</td>\n",
       "    </tr>\n",
       "    <tr>\n",
       "      <th>1</th>\n",
       "      <td>2008.0</td>\n",
       "      <td>0000 0000                       0000</td>\n",
       "      <td>1345001</td>\n",
       "      <td>1345</td>\n",
       "      <td>001</td>\n",
       "      <td>10</td>\n",
       "      <td>MISC</td>\n",
       "      <td>Miscellaneous/Mixed-Use</td>\n",
       "      <td>V</td>\n",
       "      <td>Vacant Lot</td>\n",
       "      <td>...</td>\n",
       "      <td>4.0</td>\n",
       "      <td>NaN</td>\n",
       "      <td>6.0</td>\n",
       "      <td>11.0</td>\n",
       "      <td>1.0</td>\n",
       "      <td>11.0</td>\n",
       "      <td>NaN</td>\n",
       "      <td>54.0</td>\n",
       "      <td>11.0</td>\n",
       "      <td>NaN</td>\n",
       "    </tr>\n",
       "    <tr>\n",
       "      <th>2</th>\n",
       "      <td>2008.0</td>\n",
       "      <td>0000 0000                       0000</td>\n",
       "      <td>5607046</td>\n",
       "      <td>5607</td>\n",
       "      <td>046</td>\n",
       "      <td>33</td>\n",
       "      <td>MISC</td>\n",
       "      <td>Miscellaneous/Mixed-Use</td>\n",
       "      <td>V</td>\n",
       "      <td>Vacant Lot</td>\n",
       "      <td>...</td>\n",
       "      <td>83.0</td>\n",
       "      <td>9.0</td>\n",
       "      <td>2.0</td>\n",
       "      <td>25.0</td>\n",
       "      <td>7.0</td>\n",
       "      <td>10.0</td>\n",
       "      <td>4.0</td>\n",
       "      <td>28859.0</td>\n",
       "      <td>28.0</td>\n",
       "      <td>7.0</td>\n",
       "    </tr>\n",
       "    <tr>\n",
       "      <th>3</th>\n",
       "      <td>2009.0</td>\n",
       "      <td>0000 0297 BALTIMORE           WY0000</td>\n",
       "      <td>6499040</td>\n",
       "      <td>6499</td>\n",
       "      <td>040</td>\n",
       "      <td>38</td>\n",
       "      <td>SRES</td>\n",
       "      <td>Single Family Residential</td>\n",
       "      <td>D</td>\n",
       "      <td>Dwelling</td>\n",
       "      <td>...</td>\n",
       "      <td>NaN</td>\n",
       "      <td>NaN</td>\n",
       "      <td>NaN</td>\n",
       "      <td>NaN</td>\n",
       "      <td>NaN</td>\n",
       "      <td>NaN</td>\n",
       "      <td>NaN</td>\n",
       "      <td>28588.0</td>\n",
       "      <td>NaN</td>\n",
       "      <td>NaN</td>\n",
       "    </tr>\n",
       "    <tr>\n",
       "      <th>4</th>\n",
       "      <td>2010.0</td>\n",
       "      <td>0000 1715 SITUS TO BE ASSIGNEDST0000</td>\n",
       "      <td>0663054</td>\n",
       "      <td>0663</td>\n",
       "      <td>054</td>\n",
       "      <td>5</td>\n",
       "      <td>COMM</td>\n",
       "      <td>Commercial Misc</td>\n",
       "      <td>E</td>\n",
       "      <td>Schools</td>\n",
       "      <td>...</td>\n",
       "      <td>101.0</td>\n",
       "      <td>4.0</td>\n",
       "      <td>11.0</td>\n",
       "      <td>30.0</td>\n",
       "      <td>11.0</td>\n",
       "      <td>13.0</td>\n",
       "      <td>6.0</td>\n",
       "      <td>28858.0</td>\n",
       "      <td>27.0</td>\n",
       "      <td>9.0</td>\n",
       "    </tr>\n",
       "  </tbody>\n",
       "</table>\n",
       "<p>5 rows × 53 columns</p>\n",
       "</div>"
      ],
      "text/plain": [
       "   Closed Roll Year                     Property Location Parcel Number Block  \\\n",
       "0            2007.0  0000 0000                       0000       1378007  1378   \n",
       "1            2008.0  0000 0000                       0000       1345001  1345   \n",
       "2            2008.0  0000 0000                       0000       5607046  5607   \n",
       "3            2009.0  0000 0297 BALTIMORE           WY0000       6499040  6499   \n",
       "4            2010.0  0000 1715 SITUS TO BE ASSIGNEDST0000       0663054  0663   \n",
       "\n",
       "   Lot  Volume Number Use Code             Use Definition Property Class Code  \\\n",
       "0  007             10     MISC    Miscellaneous/Mixed-Use                   V   \n",
       "1  001             10     MISC    Miscellaneous/Mixed-Use                   V   \n",
       "2  046             33     MISC    Miscellaneous/Mixed-Use                   V   \n",
       "3  040             38     SRES  Single Family Residential                   D   \n",
       "4  054              5     COMM            Commercial Misc                   E   \n",
       "\n",
       "  Property Class Code Definition  ...  SF Find Neighborhoods  \\\n",
       "0                     Vacant Lot  ...                    2.0   \n",
       "1                     Vacant Lot  ...                    4.0   \n",
       "2                     Vacant Lot  ...                   83.0   \n",
       "3                       Dwelling  ...                    NaN   \n",
       "4                        Schools  ...                  101.0   \n",
       "\n",
       "   Current Police Districts  Current Supervisor Districts  \\\n",
       "0                       8.0                           4.0   \n",
       "1                       NaN                           6.0   \n",
       "2                       9.0                           2.0   \n",
       "3                       NaN                           NaN   \n",
       "4                       4.0                          11.0   \n",
       "\n",
       "   Analysis Neighborhoods  DELETE - Supervisor Districts  \\\n",
       "0                    29.0                            2.0   \n",
       "1                    11.0                            1.0   \n",
       "2                    25.0                            7.0   \n",
       "3                     NaN                            NaN   \n",
       "4                    30.0                           11.0   \n",
       "\n",
       "   DELETE - Fire Prevention Districts DELETE - Current Police Districts  \\\n",
       "0                                11.0                               9.0   \n",
       "1                                11.0                               NaN   \n",
       "2                                10.0                               4.0   \n",
       "3                                 NaN                               NaN   \n",
       "4                                13.0                               6.0   \n",
       "\n",
       "  DELETE - Zip Codes  DELETE - Neighborhoods  DELETE - Police Districts  \n",
       "0               55.0                    26.0                        6.0  \n",
       "1               54.0                    11.0                        NaN  \n",
       "2            28859.0                    28.0                        7.0  \n",
       "3            28588.0                     NaN                        NaN  \n",
       "4            28858.0                    27.0                        9.0  \n",
       "\n",
       "[5 rows x 53 columns]"
      ]
     },
     "execution_count": 14,
     "metadata": {},
     "output_type": "execute_result"
    }
   ],
   "source": [
    "df_tax.head()"
   ]
  },
  {
   "cell_type": "code",
   "execution_count": 15,
   "metadata": {},
   "outputs": [
    {
     "data": {
      "text/plain": [
       "Index(['Closed Roll Year', 'Property Location', 'Parcel Number', 'Block',\n",
       "       'Lot', 'Volume Number', 'Use Code', 'Use Definition',\n",
       "       'Property Class Code', 'Property Class Code Definition',\n",
       "       'Year Property Built', 'Number of Bathrooms', 'Number of Bedrooms',\n",
       "       'Number of Rooms', 'Number of Stories', 'Number of Units',\n",
       "       'Zoning Code', 'Construction Type', 'Lot Depth', 'Lot Frontage',\n",
       "       'Property Area', 'Basement Area', 'Lot Area', 'Lot Code',\n",
       "       'Tax Rate Area Code', 'Percent of Ownership', 'Exemption Code',\n",
       "       'Exemption Code Definition', 'Status Code', 'Misc Exemption Value',\n",
       "       'Homeowner Exemption Value', 'Current Sales Date',\n",
       "       'Assessed Fixtures Value', 'Assessed Improvement Value',\n",
       "       'Assessed Land Value', 'Assessed Personal Property Value',\n",
       "       'Assessor Neighborhood District', 'Assessor Neighborhood Code',\n",
       "       'Assessor Neighborhood', 'Supervisor District', 'Analysis Neighborhood',\n",
       "       'the_geom', 'Row ID', 'SF Find Neighborhoods',\n",
       "       'Current Police Districts', 'Current Supervisor Districts',\n",
       "       'Analysis Neighborhoods', 'DELETE - Supervisor Districts',\n",
       "       'DELETE - Fire Prevention Districts',\n",
       "       'DELETE - Current Police Districts', 'DELETE - Zip Codes',\n",
       "       'DELETE - Neighborhoods', 'DELETE - Police Districts'],\n",
       "      dtype='object')"
      ]
     },
     "execution_count": 15,
     "metadata": {},
     "output_type": "execute_result"
    }
   ],
   "source": [
    "df_tax.columns"
   ]
  },
  {
   "cell_type": "code",
   "execution_count": 16,
   "metadata": {},
   "outputs": [
    {
     "data": {
      "text/plain": [
       "'(37.785130177493, -122.478111692066)'"
      ]
     },
     "execution_count": 16,
     "metadata": {},
     "output_type": "execute_result"
    }
   ],
   "source": [
    "df_tax['the_geom'][0]"
   ]
  },
  {
   "cell_type": "code",
   "execution_count": 17,
   "metadata": {},
   "outputs": [
    {
     "data": {
      "text/plain": [
       "array([2007., 2008., 2009., 2010., 2011., 2012., 2013., 2014., 2017.,\n",
       "         nan, 2016.])"
      ]
     },
     "execution_count": 17,
     "metadata": {},
     "output_type": "execute_result"
    }
   ],
   "source": [
    "df_tax['Closed Roll Year'].unique()"
   ]
  },
  {
   "cell_type": "code",
   "execution_count": null,
   "metadata": {},
   "outputs": [],
   "source": []
  },
  {
   "cell_type": "code",
   "execution_count": null,
   "metadata": {},
   "outputs": [],
   "source": []
  },
  {
   "cell_type": "markdown",
   "metadata": {},
   "source": [
    "# write function to process data\n",
    "data assembly:\n",
    "id, year, crime, occupancy, demographic, inspection, violation, fire incident last year, fire incident this year\n",
    "\n",
    "df_parcel: gpd;\n",
    "\n",
    "other df: pandas df\n",
    "\n",
    "year: int"
   ]
  },
  {
   "cell_type": "code",
   "execution_count": 27,
   "metadata": {},
   "outputs": [],
   "source": [
    "#parcel_file = 'D:/Study/insight/project/fire_risk_prediction_SF/data/SF_parcel_lu/sf_parcel.geojson'\n",
    "#df_parcel = gpd.read_file(parcel_file)\n",
    "    \n",
    "def process_fire(df_parcel, df_fire, year):\n",
    "    \n",
    "    # in order to spatial join, only need id and geometry to keep it simple\n",
    "    df_parcel_simple = df_parcel[['objectid', 'geometry']]\n",
    "    \n",
    "    # create a buffer\n",
    "    gdf_parcel_buffer = df_parcel_simple\n",
    "    gdf_parcel_buffer.geometry = df_parcel_simple.geometry.buffer(0.0001) # unit is degree: 0.0003 is about 33 m or 100 feet\n",
    "    \n",
    "    # see if any of the incidents features is useful\n",
    "    # if we are only counting incidents, then only incidents number,date and point are useful\n",
    "    df_fire = df_fire[['Incident Number','Incident Date','point']]\n",
    "    \n",
    "    # select the year and previous year\n",
    "    df_fire['Incident Date'] = pd.to_datetime(df_fire['Incident Date'])\n",
    "    df_fire['year'] = df_fire['Incident Date'].dt.year\n",
    "    # select this year and previous year\n",
    "    df_fire = df_fire[(df_fire['year'] == year)|(df_fire['year'] == year-1)]\n",
    "    \n",
    "    df_fire['point'] = df_fire['point'].astype(str)\n",
    "    df_fire = df_fire.dropna() # axis = 'point'\n",
    "\n",
    "    # it seems that there is no null value, but instead, have a \"nan\" as a string\n",
    "    df_fire = df_fire[df_fire['point'] != 'nan']\n",
    "    df_fire['point'] = df_fire['point'].apply(wkt.loads)\n",
    "    \n",
    "    # change the fire df into geo df\n",
    "    gdf_fire = gpd.GeoDataFrame(df_fire, geometry='point')\n",
    "\n",
    "    # make sure the two dataset have the same projection\n",
    "    gdf_fire.crs = df_parcel_simple.crs\n",
    "\n",
    "    # divide the data into current year and previous year\n",
    "    gdf_fire_current_year = gdf_fire[(gdf_fire['year'] == year)]\n",
    "    gdf_fire_previous_year = gdf_fire[(gdf_fire['year'] == year-1)]\n",
    "    \n",
    "    ########################## current year\n",
    "    # spatial join: using buffer\n",
    "    fire_sjoin_current_year = gpd.sjoin(gdf_fire_current_year,gdf_parcel_buffer,how = 'left', op='within')\n",
    "\n",
    "    # drop na\n",
    "    fire_sjoin_current_year = fire_sjoin_current_year.dropna()\n",
    "    # group by parcel id\n",
    "    grouped_current_year = fire_sjoin_current_year.groupby('objectid').size()\n",
    "    df_group_current_year = grouped_current_year.to_frame().reset_index()\n",
    "    df_group_current_year.columns = ['objectid','fire_count']\n",
    "    \n",
    "    ###################### previous year\n",
    "    # spatial join: using buffer\n",
    "    fire_sjoin_previous_year = gpd.sjoin(gdf_fire_previous_year,gdf_parcel_buffer,how = 'left', op='within')\n",
    "\n",
    "    # drop na\n",
    "    fire_sjoin_previous_year = fire_sjoin_previous_year.dropna()\n",
    "    # group by parcel id\n",
    "    grouped_previous_year = fire_sjoin_previous_year.groupby('objectid').size()\n",
    "    df_group_previous_year = grouped_previous_year.to_frame().reset_index()\n",
    "    df_group_previous_year.columns = ['objectid','fire_count_last year']\n",
    "    \n",
    "    ######### join both\n",
    "    # first convert gpd to pd\n",
    "    parcel = pd.DataFrame(df_parcel.drop(columns='geometry'))\n",
    "\n",
    "    # then merge using objectid\n",
    "    merged_fire_data = parcel.merge(df_group_current_year, on='objectid', how='outer')\n",
    "    merged_fire_data = merged_fire_data.merge(df_group_previous_year, on='objectid', how='outer')\n",
    "    \n",
    "    # replace nan with 0\n",
    "    merged_fire_data['fire_count'] = merged_fire_data['fire_count'].fillna(0)\n",
    "    merged_fire_data['fire_count_last year'] = merged_fire_data['fire_count_last year'].fillna(0)\n",
    "\n",
    "    merged_fire_data['year'] = year \n",
    "    \n",
    "    return merged_fire_data"
   ]
  },
  {
   "cell_type": "code",
   "execution_count": 9,
   "metadata": {},
   "outputs": [
    {
     "name": "stderr",
     "output_type": "stream",
     "text": [
      "C:\\Users\\Ruoying\\anaconda3\\envs\\geoenv\\lib\\site-packages\\IPython\\core\\interactiveshell.py:3145: DtypeWarning: Columns (10,12,13,20,38,45,46,55,59) have mixed types.Specify dtype option on import or set low_memory=False.\n",
      "  has_raised = await self.run_ast_nodes(code_ast.body, cell_name,\n"
     ]
    }
   ],
   "source": [
    "parcel_file = 'D:/Study/insight/project/fire_risk_prediction_SF/data/SF_parcel_lu/sf_parcel.geojson'\n",
    "df_parcel = gpd.read_file(parcel_file)\n",
    "\n",
    "fire_file = 'D:/Study/insight/project/fire_risk_prediction_SF/data/Fire_Incidents_SF.csv'\n",
    "df_fire = pd.read_csv(fire_file)\n",
    "\n",
    "# based on others\n",
    "structure_fire = ['111','112']\n",
    "\n",
    "df_structure_fire = df_fire[df_fire['Primary Situation'].str.contains('|'.join(structure_fire))]\n"
   ]
  },
  {
   "cell_type": "code",
   "execution_count": 17,
   "metadata": {},
   "outputs": [
    {
     "name": "stderr",
     "output_type": "stream",
     "text": [
      "<ipython-input-16-f121519488f0>:11: UserWarning: Geometry is in a geographic CRS. Results from 'buffer' are likely incorrect. Use 'GeoSeries.to_crs()' to re-project geometries to a projected CRS before this operation.\n",
      "\n",
      "  gdf_parcel_buffer.geometry = df_parcel_simple.geometry.buffer(0.0002) # unit is degree: 0.0003 is about 33 m or 100 feet\n",
      "C:\\Users\\Ruoying\\anaconda3\\envs\\geoenv\\lib\\site-packages\\geopandas\\geodataframe.py:853: SettingWithCopyWarning: \n",
      "A value is trying to be set on a copy of a slice from a DataFrame.\n",
      "Try using .loc[row_indexer,col_indexer] = value instead\n",
      "\n",
      "See the caveats in the documentation: https://pandas.pydata.org/pandas-docs/stable/user_guide/indexing.html#returning-a-view-versus-a-copy\n",
      "  super(GeoDataFrame, self).__setitem__(key, value)\n",
      "<ipython-input-16-f121519488f0>:18: SettingWithCopyWarning: \n",
      "A value is trying to be set on a copy of a slice from a DataFrame.\n",
      "Try using .loc[row_indexer,col_indexer] = value instead\n",
      "\n",
      "See the caveats in the documentation: https://pandas.pydata.org/pandas-docs/stable/user_guide/indexing.html#returning-a-view-versus-a-copy\n",
      "  df_fire['Incident Date'] = pd.to_datetime(df_fire['Incident Date'])\n",
      "<ipython-input-16-f121519488f0>:19: SettingWithCopyWarning: \n",
      "A value is trying to be set on a copy of a slice from a DataFrame.\n",
      "Try using .loc[row_indexer,col_indexer] = value instead\n",
      "\n",
      "See the caveats in the documentation: https://pandas.pydata.org/pandas-docs/stable/user_guide/indexing.html#returning-a-view-versus-a-copy\n",
      "  df_fire['year'] = df_fire['Incident Date'].dt.year\n"
     ]
    }
   ],
   "source": [
    "df_test = process_fire(df_parcel, df_structure_fire, 2017)"
   ]
  },
  {
   "cell_type": "code",
   "execution_count": 18,
   "metadata": {},
   "outputs": [
    {
     "data": {
      "text/html": [
       "<div>\n",
       "<style scoped>\n",
       "    .dataframe tbody tr th:only-of-type {\n",
       "        vertical-align: middle;\n",
       "    }\n",
       "\n",
       "    .dataframe tbody tr th {\n",
       "        vertical-align: top;\n",
       "    }\n",
       "\n",
       "    .dataframe thead th {\n",
       "        text-align: right;\n",
       "    }\n",
       "</style>\n",
       "<table border=\"1\" class=\"dataframe\">\n",
       "  <thead>\n",
       "    <tr style=\"text-align: right;\">\n",
       "      <th></th>\n",
       "      <th>yrbuilt</th>\n",
       "      <th>from_st</th>\n",
       "      <th>total_uses</th>\n",
       "      <th>shape_area</th>\n",
       "      <th>cie</th>\n",
       "      <th>landuse</th>\n",
       "      <th>mips</th>\n",
       "      <th>mapblklot</th>\n",
       "      <th>objectid</th>\n",
       "      <th>shape_leng</th>\n",
       "      <th>...</th>\n",
       "      <th>street</th>\n",
       "      <th>retail</th>\n",
       "      <th>to_st</th>\n",
       "      <th>block_num</th>\n",
       "      <th>blklot</th>\n",
       "      <th>lot_num</th>\n",
       "      <th>med</th>\n",
       "      <th>fire_count</th>\n",
       "      <th>fire_count_last year</th>\n",
       "      <th>year</th>\n",
       "    </tr>\n",
       "  </thead>\n",
       "  <tbody>\n",
       "    <tr>\n",
       "      <th>0</th>\n",
       "      <td>1912</td>\n",
       "      <td>838</td>\n",
       "      <td>0</td>\n",
       "      <td>3864.06176213</td>\n",
       "      <td>0</td>\n",
       "      <td>RESIDENT</td>\n",
       "      <td>0</td>\n",
       "      <td>0026013</td>\n",
       "      <td>1</td>\n",
       "      <td>327.786363395</td>\n",
       "      <td>...</td>\n",
       "      <td>BAY</td>\n",
       "      <td>0</td>\n",
       "      <td>842</td>\n",
       "      <td>0026</td>\n",
       "      <td>0026013</td>\n",
       "      <td>013</td>\n",
       "      <td>0</td>\n",
       "      <td>0.0</td>\n",
       "      <td>0.0</td>\n",
       "      <td>2017</td>\n",
       "    </tr>\n",
       "    <tr>\n",
       "      <th>1</th>\n",
       "      <td>1900</td>\n",
       "      <td>844</td>\n",
       "      <td>3471</td>\n",
       "      <td>3361.0253507</td>\n",
       "      <td>0</td>\n",
       "      <td>MIXRES</td>\n",
       "      <td>3471</td>\n",
       "      <td>0026014</td>\n",
       "      <td>2</td>\n",
       "      <td>320.352521518</td>\n",
       "      <td>...</td>\n",
       "      <td>BAY</td>\n",
       "      <td>0</td>\n",
       "      <td>844</td>\n",
       "      <td>0026</td>\n",
       "      <td>0026014</td>\n",
       "      <td>014</td>\n",
       "      <td>0</td>\n",
       "      <td>0.0</td>\n",
       "      <td>0.0</td>\n",
       "      <td>2017</td>\n",
       "    </tr>\n",
       "    <tr>\n",
       "      <th>2</th>\n",
       "      <td>1900</td>\n",
       "      <td>848</td>\n",
       "      <td>0</td>\n",
       "      <td>3272.03319647</td>\n",
       "      <td>0</td>\n",
       "      <td>RESIDENT</td>\n",
       "      <td>0</td>\n",
       "      <td>0026015</td>\n",
       "      <td>3</td>\n",
       "      <td>319.046088472</td>\n",
       "      <td>...</td>\n",
       "      <td>BAY</td>\n",
       "      <td>0</td>\n",
       "      <td>850</td>\n",
       "      <td>0026</td>\n",
       "      <td>0026015</td>\n",
       "      <td>015</td>\n",
       "      <td>0</td>\n",
       "      <td>0.0</td>\n",
       "      <td>0.0</td>\n",
       "      <td>2017</td>\n",
       "    </tr>\n",
       "    <tr>\n",
       "      <th>3</th>\n",
       "      <td>1940</td>\n",
       "      <td>860</td>\n",
       "      <td>0</td>\n",
       "      <td>4570.76766739</td>\n",
       "      <td>0</td>\n",
       "      <td>RESIDENT</td>\n",
       "      <td>0</td>\n",
       "      <td>0026016</td>\n",
       "      <td>4</td>\n",
       "      <td>279.353001525</td>\n",
       "      <td>...</td>\n",
       "      <td>BAY</td>\n",
       "      <td>0</td>\n",
       "      <td>862</td>\n",
       "      <td>0026</td>\n",
       "      <td>0026016</td>\n",
       "      <td>016</td>\n",
       "      <td>0</td>\n",
       "      <td>0.0</td>\n",
       "      <td>0.0</td>\n",
       "      <td>2017</td>\n",
       "    </tr>\n",
       "    <tr>\n",
       "      <th>4</th>\n",
       "      <td>1938</td>\n",
       "      <td>870</td>\n",
       "      <td>0</td>\n",
       "      <td>5225.82373482</td>\n",
       "      <td>0</td>\n",
       "      <td>RESIDENT</td>\n",
       "      <td>0</td>\n",
       "      <td>0026017</td>\n",
       "      <td>5</td>\n",
       "      <td>294.35433855</td>\n",
       "      <td>...</td>\n",
       "      <td>BAY</td>\n",
       "      <td>0</td>\n",
       "      <td>872</td>\n",
       "      <td>0026</td>\n",
       "      <td>0026017</td>\n",
       "      <td>017</td>\n",
       "      <td>0</td>\n",
       "      <td>0.0</td>\n",
       "      <td>0.0</td>\n",
       "      <td>2017</td>\n",
       "    </tr>\n",
       "  </tbody>\n",
       "</table>\n",
       "<p>5 rows × 25 columns</p>\n",
       "</div>"
      ],
      "text/plain": [
       "  yrbuilt from_st total_uses     shape_area cie   landuse  mips mapblklot  \\\n",
       "0    1912     838          0  3864.06176213   0  RESIDENT     0   0026013   \n",
       "1    1900     844       3471   3361.0253507   0    MIXRES  3471   0026014   \n",
       "2    1900     848          0  3272.03319647   0  RESIDENT     0   0026015   \n",
       "3    1940     860          0  4570.76766739   0  RESIDENT     0   0026016   \n",
       "4    1938     870          0  5225.82373482   0  RESIDENT     0   0026017   \n",
       "\n",
       "  objectid     shape_leng  ... street retail to_st block_num   blklot lot_num  \\\n",
       "0        1  327.786363395  ...    BAY      0   842      0026  0026013     013   \n",
       "1        2  320.352521518  ...    BAY      0   844      0026  0026014     014   \n",
       "2        3  319.046088472  ...    BAY      0   850      0026  0026015     015   \n",
       "3        4  279.353001525  ...    BAY      0   862      0026  0026016     016   \n",
       "4        5   294.35433855  ...    BAY      0   872      0026  0026017     017   \n",
       "\n",
       "  med fire_count fire_count_last year  year  \n",
       "0   0        0.0                  0.0  2017  \n",
       "1   0        0.0                  0.0  2017  \n",
       "2   0        0.0                  0.0  2017  \n",
       "3   0        0.0                  0.0  2017  \n",
       "4   0        0.0                  0.0  2017  \n",
       "\n",
       "[5 rows x 25 columns]"
      ]
     },
     "execution_count": 18,
     "metadata": {},
     "output_type": "execute_result"
    }
   ],
   "source": [
    "df_test.head()"
   ]
  },
  {
   "cell_type": "code",
   "execution_count": 19,
   "metadata": {},
   "outputs": [
    {
     "data": {
      "text/plain": [
       "array([0., 1., 2., 3.])"
      ]
     },
     "execution_count": 19,
     "metadata": {},
     "output_type": "execute_result"
    }
   ],
   "source": [
    "df_test['fire_count'].unique()"
   ]
  },
  {
   "cell_type": "markdown",
   "metadata": {},
   "source": [
    "# process inspection data"
   ]
  },
  {
   "cell_type": "code",
   "execution_count": 26,
   "metadata": {},
   "outputs": [],
   "source": [
    "# select the types of inspection before inputing this function\n",
    "def process_inspection(df_parcel, df_inspect, year):\n",
    "    \n",
    "    # in order to spatial join, only need id and geometry to keep it simple\n",
    "    df_parcel_simple = df_parcel[['objectid', 'geometry']]\n",
    "    \n",
    "    # select \n",
    "    \n",
    "    df_inspect['Inspection Start Date'] = pd.to_datetime(df_inspect['Inspection Start Date'])\n",
    "    df_inspect['year'] = df_inspect['Inspection Start Date'].dt.year\n",
    "    df_inspect = df_inspect[(df_inspect['year'] == year)]\n",
    "    \n",
    "    # this need to drop na in geometry fileds, otherwise it would fail\n",
    "    df_inspect = df_inspect.dropna(subset=['point'])\n",
    "    df_inspect['point'] = df_inspect.apply(lambda row: shape(json.loads(row['point'].replace(\"\\'\", \"\\\"\"))), axis=1)\n",
    "    gdf_inspect = gpd.GeoDataFrame(df_inspect, geometry='point')\n",
    "\n",
    "    # make sure the two dataset have the same projection\n",
    "    gdf_inspect.crs = df_parcel_simple.crs\n",
    "    \n",
    "    inspect_sjoin = gpd.sjoin(gdf_inspect, df_parcel_simple, how=\"inner\", op='within')\n",
    "    \n",
    "    # dropnas\n",
    "    inspect_sjoin = inspect_sjoin.dropna()\n",
    "    \n",
    "    # group by parcel id\n",
    "    grouped = inspect_sjoin.groupby('objectid').size()\n",
    "    df_group = grouped.to_frame().reset_index()\n",
    "    df_group.columns = ['objectid','complaints_count']\n",
    "    \n",
    "    ##### join with parcel\n",
    "    # first convert gpd to pd\n",
    "    #parcel = pd.DataFrame(df_parcel.drop(columns='geometry'))\n",
    "\n",
    "    # then merge using objectid\n",
    "    #merged_inspect_data = parcel.merge(df_group, on='objectid', how='outer')\n",
    "    \n",
    "    # replace nan with 0\n",
    "    #merged_inspect_data['complaints_count'] = merged_inspect_data['complaints_count'].fillna(0)\n",
    "\n",
    "    return df_group"
   ]
  },
  {
   "cell_type": "code",
   "execution_count": 70,
   "metadata": {},
   "outputs": [
    {
     "name": "stderr",
     "output_type": "stream",
     "text": [
      "C:\\Users\\Ruoying\\anaconda3\\envs\\geoenv\\lib\\site-packages\\IPython\\core\\interactiveshell.py:3145: DtypeWarning: Columns (1,7,11,15,16,21,29,30) have mixed types.Specify dtype option on import or set low_memory=False.\n",
      "  has_raised = await self.run_ast_nodes(code_ast.body, cell_name,\n"
     ]
    }
   ],
   "source": [
    "inspection_file = 'D:/Study/insight/project/fire_risk_prediction_SF/data/SF_fire_data/fire-inspections.csv'\n",
    "df_inspect = pd.read_csv(inspection_file)\n",
    "\n",
    "#  'Complaint Inspection'\n",
    "df_inspect = df_inspect[df_inspect['Inspection Type Description'] == 'Complaint Inspection']\n",
    "# only includes a few columns \n",
    "\n",
    "df_inspect = df_inspect[['Inspection Start Date','point']].reset_index()\n",
    "\n",
    "# the shapely shape command takes into exact format of strings, so need to drop NA because our string command is fixed\n",
    "print(df_inspect.shape)\n",
    "df_inspect = df_inspect.dropna(subset=['point'])\n",
    "print(df_inspect.shape)"
   ]
  },
  {
   "cell_type": "code",
   "execution_count": 72,
   "metadata": {},
   "outputs": [
    {
     "name": "stderr",
     "output_type": "stream",
     "text": [
      "<ipython-input-67-b051c55a2ca6>:13: SettingWithCopyWarning: \n",
      "A value is trying to be set on a copy of a slice from a DataFrame.\n",
      "Try using .loc[row_indexer,col_indexer] = value instead\n",
      "\n",
      "See the caveats in the documentation: https://pandas.pydata.org/pandas-docs/stable/user_guide/indexing.html#returning-a-view-versus-a-copy\n",
      "  df_inspect['point'] = df_inspect.apply(lambda row: shape(json.loads(row['point'].replace(\"\\'\", \"\\\"\"))), axis=1)\n"
     ]
    },
    {
     "data": {
      "text/html": [
       "<div>\n",
       "<style scoped>\n",
       "    .dataframe tbody tr th:only-of-type {\n",
       "        vertical-align: middle;\n",
       "    }\n",
       "\n",
       "    .dataframe tbody tr th {\n",
       "        vertical-align: top;\n",
       "    }\n",
       "\n",
       "    .dataframe thead th {\n",
       "        text-align: right;\n",
       "    }\n",
       "</style>\n",
       "<table border=\"1\" class=\"dataframe\">\n",
       "  <thead>\n",
       "    <tr style=\"text-align: right;\">\n",
       "      <th></th>\n",
       "      <th>yrbuilt</th>\n",
       "      <th>from_st</th>\n",
       "      <th>total_uses</th>\n",
       "      <th>shape_area</th>\n",
       "      <th>cie</th>\n",
       "      <th>landuse</th>\n",
       "      <th>mips</th>\n",
       "      <th>mapblklot</th>\n",
       "      <th>objectid</th>\n",
       "      <th>shape_leng</th>\n",
       "      <th>...</th>\n",
       "      <th>resunits</th>\n",
       "      <th>pdr</th>\n",
       "      <th>street</th>\n",
       "      <th>retail</th>\n",
       "      <th>to_st</th>\n",
       "      <th>block_num</th>\n",
       "      <th>blklot</th>\n",
       "      <th>lot_num</th>\n",
       "      <th>med</th>\n",
       "      <th>complaints_count</th>\n",
       "    </tr>\n",
       "  </thead>\n",
       "  <tbody>\n",
       "    <tr>\n",
       "      <th>0</th>\n",
       "      <td>1912</td>\n",
       "      <td>838</td>\n",
       "      <td>0</td>\n",
       "      <td>3864.06176213</td>\n",
       "      <td>0</td>\n",
       "      <td>RESIDENT</td>\n",
       "      <td>0</td>\n",
       "      <td>0026013</td>\n",
       "      <td>1</td>\n",
       "      <td>327.786363395</td>\n",
       "      <td>...</td>\n",
       "      <td>5</td>\n",
       "      <td>0</td>\n",
       "      <td>BAY</td>\n",
       "      <td>0</td>\n",
       "      <td>842</td>\n",
       "      <td>0026</td>\n",
       "      <td>0026013</td>\n",
       "      <td>013</td>\n",
       "      <td>0</td>\n",
       "      <td>0.0</td>\n",
       "    </tr>\n",
       "    <tr>\n",
       "      <th>1</th>\n",
       "      <td>1900</td>\n",
       "      <td>844</td>\n",
       "      <td>3471</td>\n",
       "      <td>3361.0253507</td>\n",
       "      <td>0</td>\n",
       "      <td>MIXRES</td>\n",
       "      <td>3471</td>\n",
       "      <td>0026014</td>\n",
       "      <td>2</td>\n",
       "      <td>320.352521518</td>\n",
       "      <td>...</td>\n",
       "      <td>1</td>\n",
       "      <td>0</td>\n",
       "      <td>BAY</td>\n",
       "      <td>0</td>\n",
       "      <td>844</td>\n",
       "      <td>0026</td>\n",
       "      <td>0026014</td>\n",
       "      <td>014</td>\n",
       "      <td>0</td>\n",
       "      <td>0.0</td>\n",
       "    </tr>\n",
       "    <tr>\n",
       "      <th>2</th>\n",
       "      <td>1900</td>\n",
       "      <td>848</td>\n",
       "      <td>0</td>\n",
       "      <td>3272.03319647</td>\n",
       "      <td>0</td>\n",
       "      <td>RESIDENT</td>\n",
       "      <td>0</td>\n",
       "      <td>0026015</td>\n",
       "      <td>3</td>\n",
       "      <td>319.046088472</td>\n",
       "      <td>...</td>\n",
       "      <td>2</td>\n",
       "      <td>0</td>\n",
       "      <td>BAY</td>\n",
       "      <td>0</td>\n",
       "      <td>850</td>\n",
       "      <td>0026</td>\n",
       "      <td>0026015</td>\n",
       "      <td>015</td>\n",
       "      <td>0</td>\n",
       "      <td>0.0</td>\n",
       "    </tr>\n",
       "    <tr>\n",
       "      <th>3</th>\n",
       "      <td>1940</td>\n",
       "      <td>860</td>\n",
       "      <td>0</td>\n",
       "      <td>4570.76766739</td>\n",
       "      <td>0</td>\n",
       "      <td>RESIDENT</td>\n",
       "      <td>0</td>\n",
       "      <td>0026016</td>\n",
       "      <td>4</td>\n",
       "      <td>279.353001525</td>\n",
       "      <td>...</td>\n",
       "      <td>2</td>\n",
       "      <td>0</td>\n",
       "      <td>BAY</td>\n",
       "      <td>0</td>\n",
       "      <td>862</td>\n",
       "      <td>0026</td>\n",
       "      <td>0026016</td>\n",
       "      <td>016</td>\n",
       "      <td>0</td>\n",
       "      <td>0.0</td>\n",
       "    </tr>\n",
       "    <tr>\n",
       "      <th>4</th>\n",
       "      <td>1938</td>\n",
       "      <td>870</td>\n",
       "      <td>0</td>\n",
       "      <td>5225.82373482</td>\n",
       "      <td>0</td>\n",
       "      <td>RESIDENT</td>\n",
       "      <td>0</td>\n",
       "      <td>0026017</td>\n",
       "      <td>5</td>\n",
       "      <td>294.35433855</td>\n",
       "      <td>...</td>\n",
       "      <td>2</td>\n",
       "      <td>0</td>\n",
       "      <td>BAY</td>\n",
       "      <td>0</td>\n",
       "      <td>872</td>\n",
       "      <td>0026</td>\n",
       "      <td>0026017</td>\n",
       "      <td>017</td>\n",
       "      <td>0</td>\n",
       "      <td>0.0</td>\n",
       "    </tr>\n",
       "  </tbody>\n",
       "</table>\n",
       "<p>5 rows × 23 columns</p>\n",
       "</div>"
      ],
      "text/plain": [
       "  yrbuilt from_st total_uses     shape_area cie   landuse  mips mapblklot  \\\n",
       "0    1912     838          0  3864.06176213   0  RESIDENT     0   0026013   \n",
       "1    1900     844       3471   3361.0253507   0    MIXRES  3471   0026014   \n",
       "2    1900     848          0  3272.03319647   0  RESIDENT     0   0026015   \n",
       "3    1940     860          0  4570.76766739   0  RESIDENT     0   0026016   \n",
       "4    1938     870          0  5225.82373482   0  RESIDENT     0   0026017   \n",
       "\n",
       "  objectid     shape_leng  ... resunits pdr street retail to_st block_num  \\\n",
       "0        1  327.786363395  ...        5   0    BAY      0   842      0026   \n",
       "1        2  320.352521518  ...        1   0    BAY      0   844      0026   \n",
       "2        3  319.046088472  ...        2   0    BAY      0   850      0026   \n",
       "3        4  279.353001525  ...        2   0    BAY      0   862      0026   \n",
       "4        5   294.35433855  ...        2   0    BAY      0   872      0026   \n",
       "\n",
       "    blklot lot_num med complaints_count  \n",
       "0  0026013     013   0              0.0  \n",
       "1  0026014     014   0              0.0  \n",
       "2  0026015     015   0              0.0  \n",
       "3  0026016     016   0              0.0  \n",
       "4  0026017     017   0              0.0  \n",
       "\n",
       "[5 rows x 23 columns]"
      ]
     },
     "execution_count": 72,
     "metadata": {},
     "output_type": "execute_result"
    }
   ],
   "source": [
    "df_test = process_inspection(df_parcel, df_inspect, 2017)\n",
    "df_test.head()"
   ]
  },
  {
   "cell_type": "code",
   "execution_count": 73,
   "metadata": {},
   "outputs": [
    {
     "data": {
      "text/plain": [
       "array([ 0.,  1.,  2.,  3.,  4.,  6., 11.,  5.,  7.,  9., 13.,  8., 12.])"
      ]
     },
     "execution_count": 73,
     "metadata": {},
     "output_type": "execute_result"
    }
   ],
   "source": [
    "df_test['complaints_count'].unique()"
   ]
  },
  {
   "cell_type": "code",
   "execution_count": 74,
   "metadata": {},
   "outputs": [
    {
     "data": {
      "text/plain": [
       "(155468, 23)"
      ]
     },
     "execution_count": 74,
     "metadata": {},
     "output_type": "execute_result"
    }
   ],
   "source": [
    "df_test.shape"
   ]
  },
  {
   "cell_type": "markdown",
   "metadata": {},
   "source": [
    "# process violation data"
   ]
  },
  {
   "cell_type": "code",
   "execution_count": 25,
   "metadata": {},
   "outputs": [],
   "source": [
    "def process_violation(df_parcel, df_violate, year):\n",
    "    \n",
    "    # in order to spatial join, only need id and geometry to keep it simple\n",
    "    df_parcel_simple = df_parcel[['objectid', 'geometry']]\n",
    "    \n",
    "    # select year \n",
    "    df_violate['violation date'] = pd.to_datetime(df_violate['violation date'])\n",
    "    df_violate['year'] = df_violate['violation date'].dt.year\n",
    "    df_violate = df_violate[(df_violate['year'] == year)]\n",
    "    \n",
    "    # this need to drop na in geometry fileds, otherwise it would fail\n",
    "    df_violate = df_violate.dropna(subset=['Location'])\n",
    "    df_violate['Location'] = df_violate.apply(lambda row: shape(json.loads(row['Location'].replace(\"\\'\", \"\\\"\"))), axis=1)\n",
    "    gdf_violate = gpd.GeoDataFrame(df_violate, geometry='Location')\n",
    "\n",
    "    # make sure the two dataset have the same projection\n",
    "    gdf_violate.crs = df_parcel_simple.crs\n",
    "    \n",
    "    violate_sjoin = gpd.sjoin(gdf_violate, df_parcel_simple, how=\"inner\", op='within')\n",
    "    \n",
    "    # dropnas\n",
    "    violate_sjoin = violate_sjoin.dropna()\n",
    "    \n",
    "    # group by parcel id\n",
    "    grouped = violate_sjoin.groupby('objectid').size()\n",
    "    df_group = grouped.to_frame().reset_index()\n",
    "    df_group.columns = ['objectid','violation_count']\n",
    "    \n",
    "    ##### join with parcel\n",
    "    # first convert gpd to pd\n",
    "    #parcel = pd.DataFrame(df_parcel.drop(columns='geometry'))\n",
    "\n",
    "    # then merge using objectid\n",
    "    #merged_violation_data = parcel.merge(df_group, on='objectid', how='outer')\n",
    "    \n",
    "    # replace nan with 0\n",
    "    #merged_violation_data['violation_count'] = merged_violation_data['violation_count'].fillna(0)\n",
    "    \n",
    "    \n",
    "    \n",
    "    return df_group"
   ]
  },
  {
   "cell_type": "code",
   "execution_count": 76,
   "metadata": {},
   "outputs": [],
   "source": [
    "violation_file = 'D:/Study/insight/project/fire_risk_prediction_SF/data/SF_fire_data/fire-violations.csv'\n",
    "df_violate = pd.read_csv(violation_file)"
   ]
  },
  {
   "cell_type": "code",
   "execution_count": 78,
   "metadata": {},
   "outputs": [
    {
     "data": {
      "text/html": [
       "<div>\n",
       "<style scoped>\n",
       "    .dataframe tbody tr th:only-of-type {\n",
       "        vertical-align: middle;\n",
       "    }\n",
       "\n",
       "    .dataframe tbody tr th {\n",
       "        vertical-align: top;\n",
       "    }\n",
       "\n",
       "    .dataframe thead th {\n",
       "        text-align: right;\n",
       "    }\n",
       "</style>\n",
       "<table border=\"1\" class=\"dataframe\">\n",
       "  <thead>\n",
       "    <tr style=\"text-align: right;\">\n",
       "      <th></th>\n",
       "      <th>yrbuilt</th>\n",
       "      <th>from_st</th>\n",
       "      <th>total_uses</th>\n",
       "      <th>shape_area</th>\n",
       "      <th>cie</th>\n",
       "      <th>landuse</th>\n",
       "      <th>mips</th>\n",
       "      <th>mapblklot</th>\n",
       "      <th>objectid</th>\n",
       "      <th>shape_leng</th>\n",
       "      <th>...</th>\n",
       "      <th>resunits</th>\n",
       "      <th>pdr</th>\n",
       "      <th>street</th>\n",
       "      <th>retail</th>\n",
       "      <th>to_st</th>\n",
       "      <th>block_num</th>\n",
       "      <th>blklot</th>\n",
       "      <th>lot_num</th>\n",
       "      <th>med</th>\n",
       "      <th>violation_count</th>\n",
       "    </tr>\n",
       "  </thead>\n",
       "  <tbody>\n",
       "    <tr>\n",
       "      <th>0</th>\n",
       "      <td>1912</td>\n",
       "      <td>838</td>\n",
       "      <td>0</td>\n",
       "      <td>3864.06176213</td>\n",
       "      <td>0</td>\n",
       "      <td>RESIDENT</td>\n",
       "      <td>0</td>\n",
       "      <td>0026013</td>\n",
       "      <td>1</td>\n",
       "      <td>327.786363395</td>\n",
       "      <td>...</td>\n",
       "      <td>5</td>\n",
       "      <td>0</td>\n",
       "      <td>BAY</td>\n",
       "      <td>0</td>\n",
       "      <td>842</td>\n",
       "      <td>0026</td>\n",
       "      <td>0026013</td>\n",
       "      <td>013</td>\n",
       "      <td>0</td>\n",
       "      <td>0.0</td>\n",
       "    </tr>\n",
       "    <tr>\n",
       "      <th>1</th>\n",
       "      <td>1900</td>\n",
       "      <td>844</td>\n",
       "      <td>3471</td>\n",
       "      <td>3361.0253507</td>\n",
       "      <td>0</td>\n",
       "      <td>MIXRES</td>\n",
       "      <td>3471</td>\n",
       "      <td>0026014</td>\n",
       "      <td>2</td>\n",
       "      <td>320.352521518</td>\n",
       "      <td>...</td>\n",
       "      <td>1</td>\n",
       "      <td>0</td>\n",
       "      <td>BAY</td>\n",
       "      <td>0</td>\n",
       "      <td>844</td>\n",
       "      <td>0026</td>\n",
       "      <td>0026014</td>\n",
       "      <td>014</td>\n",
       "      <td>0</td>\n",
       "      <td>0.0</td>\n",
       "    </tr>\n",
       "    <tr>\n",
       "      <th>2</th>\n",
       "      <td>1900</td>\n",
       "      <td>848</td>\n",
       "      <td>0</td>\n",
       "      <td>3272.03319647</td>\n",
       "      <td>0</td>\n",
       "      <td>RESIDENT</td>\n",
       "      <td>0</td>\n",
       "      <td>0026015</td>\n",
       "      <td>3</td>\n",
       "      <td>319.046088472</td>\n",
       "      <td>...</td>\n",
       "      <td>2</td>\n",
       "      <td>0</td>\n",
       "      <td>BAY</td>\n",
       "      <td>0</td>\n",
       "      <td>850</td>\n",
       "      <td>0026</td>\n",
       "      <td>0026015</td>\n",
       "      <td>015</td>\n",
       "      <td>0</td>\n",
       "      <td>0.0</td>\n",
       "    </tr>\n",
       "    <tr>\n",
       "      <th>3</th>\n",
       "      <td>1940</td>\n",
       "      <td>860</td>\n",
       "      <td>0</td>\n",
       "      <td>4570.76766739</td>\n",
       "      <td>0</td>\n",
       "      <td>RESIDENT</td>\n",
       "      <td>0</td>\n",
       "      <td>0026016</td>\n",
       "      <td>4</td>\n",
       "      <td>279.353001525</td>\n",
       "      <td>...</td>\n",
       "      <td>2</td>\n",
       "      <td>0</td>\n",
       "      <td>BAY</td>\n",
       "      <td>0</td>\n",
       "      <td>862</td>\n",
       "      <td>0026</td>\n",
       "      <td>0026016</td>\n",
       "      <td>016</td>\n",
       "      <td>0</td>\n",
       "      <td>0.0</td>\n",
       "    </tr>\n",
       "    <tr>\n",
       "      <th>4</th>\n",
       "      <td>1938</td>\n",
       "      <td>870</td>\n",
       "      <td>0</td>\n",
       "      <td>5225.82373482</td>\n",
       "      <td>0</td>\n",
       "      <td>RESIDENT</td>\n",
       "      <td>0</td>\n",
       "      <td>0026017</td>\n",
       "      <td>5</td>\n",
       "      <td>294.35433855</td>\n",
       "      <td>...</td>\n",
       "      <td>2</td>\n",
       "      <td>0</td>\n",
       "      <td>BAY</td>\n",
       "      <td>0</td>\n",
       "      <td>872</td>\n",
       "      <td>0026</td>\n",
       "      <td>0026017</td>\n",
       "      <td>017</td>\n",
       "      <td>0</td>\n",
       "      <td>0.0</td>\n",
       "    </tr>\n",
       "  </tbody>\n",
       "</table>\n",
       "<p>5 rows × 23 columns</p>\n",
       "</div>"
      ],
      "text/plain": [
       "  yrbuilt from_st total_uses     shape_area cie   landuse  mips mapblklot  \\\n",
       "0    1912     838          0  3864.06176213   0  RESIDENT     0   0026013   \n",
       "1    1900     844       3471   3361.0253507   0    MIXRES  3471   0026014   \n",
       "2    1900     848          0  3272.03319647   0  RESIDENT     0   0026015   \n",
       "3    1940     860          0  4570.76766739   0  RESIDENT     0   0026016   \n",
       "4    1938     870          0  5225.82373482   0  RESIDENT     0   0026017   \n",
       "\n",
       "  objectid     shape_leng  ... resunits pdr street retail to_st block_num  \\\n",
       "0        1  327.786363395  ...        5   0    BAY      0   842      0026   \n",
       "1        2  320.352521518  ...        1   0    BAY      0   844      0026   \n",
       "2        3  319.046088472  ...        2   0    BAY      0   850      0026   \n",
       "3        4  279.353001525  ...        2   0    BAY      0   862      0026   \n",
       "4        5   294.35433855  ...        2   0    BAY      0   872      0026   \n",
       "\n",
       "    blklot lot_num med violation_count  \n",
       "0  0026013     013   0             0.0  \n",
       "1  0026014     014   0             0.0  \n",
       "2  0026015     015   0             0.0  \n",
       "3  0026016     016   0             0.0  \n",
       "4  0026017     017   0             0.0  \n",
       "\n",
       "[5 rows x 23 columns]"
      ]
     },
     "execution_count": 78,
     "metadata": {},
     "output_type": "execute_result"
    }
   ],
   "source": [
    "df_test = process_violation(df_parcel, df_violate, 2017)\n",
    "df_test.head()"
   ]
  },
  {
   "cell_type": "code",
   "execution_count": 79,
   "metadata": {},
   "outputs": [
    {
     "data": {
      "text/plain": [
       "array([0.])"
      ]
     },
     "execution_count": 79,
     "metadata": {},
     "output_type": "execute_result"
    }
   ],
   "source": [
    "df_test['violation_count'].unique()"
   ]
  },
  {
   "cell_type": "markdown",
   "metadata": {},
   "source": [
    "# process building permit data"
   ]
  },
  {
   "cell_type": "code",
   "execution_count": 28,
   "metadata": {},
   "outputs": [],
   "source": [
    "def process_permit(df_parcel, df_permit, year):\n",
    "    \n",
    "    # in order to spatial join, only need id and geometry to keep it simple\n",
    "    df_parcel_simple = df_parcel[['objectid', 'geometry']]\n",
    "    \n",
    "    # select year \n",
    "    df_permit['Issued Date'] = pd.to_datetime(df_permit['Issued Date'])\n",
    "    df_permit['year'] = df_permit['Issued Date'].dt.year\n",
    "    df_permit = df_permit[(df_permit['year'] == year)]\n",
    "    \n",
    "    # this need to drop na in geometry fileds, otherwise it would fail\n",
    "    df_permit = df_permit.dropna(subset=['lat','long'])\n",
    "    gdf_permit = gpd.GeoDataFrame(df_permit, geometry=gpd.points_from_xy(df_permit.long, df_permit.lat))\n",
    "\n",
    "    # make sure the two dataset have the same projection\n",
    "    gdf_permit.crs = df_parcel_simple.crs\n",
    "    \n",
    "    permit_sjoin = gpd.sjoin(gdf_permit, df_parcel_simple, how=\"inner\", op='within')\n",
    "    \n",
    "    # dropnas\n",
    "    permit_sjoin = permit_sjoin.dropna()\n",
    "    \n",
    "    # group by parcel id\n",
    "    grouped = permit_sjoin.groupby('objectid').size()\n",
    "    df_group = grouped.to_frame().reset_index()\n",
    "    df_group.columns = ['objectid','building_permit']\n",
    "    \n",
    "\n",
    "    return df_group"
   ]
  },
  {
   "cell_type": "markdown",
   "metadata": {},
   "source": [
    "# property tax data"
   ]
  },
  {
   "cell_type": "code",
   "execution_count": null,
   "metadata": {},
   "outputs": [],
   "source": []
  },
  {
   "cell_type": "code",
   "execution_count": null,
   "metadata": {},
   "outputs": [],
   "source": []
  },
  {
   "cell_type": "code",
   "execution_count": null,
   "metadata": {},
   "outputs": [],
   "source": []
  },
  {
   "cell_type": "code",
   "execution_count": null,
   "metadata": {},
   "outputs": [],
   "source": []
  },
  {
   "cell_type": "code",
   "execution_count": null,
   "metadata": {},
   "outputs": [],
   "source": [
    "def process_crime(df_parcel, df_crime, year):\n",
    "    \n",
    "    return crime_data"
   ]
  },
  {
   "cell_type": "code",
   "execution_count": null,
   "metadata": {},
   "outputs": [],
   "source": [
    "def process_census(df_parcel, df_census, year):\n",
    "    \n",
    "    return census_data"
   ]
  },
  {
   "cell_type": "markdown",
   "metadata": {},
   "source": [
    "# assemble the whole dataset"
   ]
  },
  {
   "cell_type": "code",
   "execution_count": 22,
   "metadata": {},
   "outputs": [
    {
     "name": "stderr",
     "output_type": "stream",
     "text": [
      "C:\\Users\\Ruoying\\anaconda3\\envs\\geoenv\\lib\\site-packages\\IPython\\core\\interactiveshell.py:3145: DtypeWarning: Columns (10,12,13,20,38,45,46,55,59) have mixed types.Specify dtype option on import or set low_memory=False.\n",
      "  has_raised = await self.run_ast_nodes(code_ast.body, cell_name,\n",
      "C:\\Users\\Ruoying\\anaconda3\\envs\\geoenv\\lib\\site-packages\\IPython\\core\\interactiveshell.py:3145: DtypeWarning: Columns (1,7,11,15,16,21,29,30) have mixed types.Specify dtype option on import or set low_memory=False.\n",
      "  has_raised = await self.run_ast_nodes(code_ast.body, cell_name,\n",
      "C:\\Users\\Ruoying\\anaconda3\\envs\\geoenv\\lib\\site-packages\\IPython\\core\\interactiveshell.py:3145: DtypeWarning: Columns (22,32) have mixed types.Specify dtype option on import or set low_memory=False.\n",
      "  has_raised = await self.run_ast_nodes(code_ast.body, cell_name,\n"
     ]
    }
   ],
   "source": [
    "# load data\n",
    "\n",
    "###################### Fire data\n",
    "parcel_file = 'D:/Study/insight/project/fire_risk_prediction_SF/data/SF_parcel_lu/sf_parcel.geojson'\n",
    "df_parcel = gpd.read_file(parcel_file)\n",
    "\n",
    "fire_file = 'D:/Study/insight/project/fire_risk_prediction_SF/data/Fire_Incidents_SF.csv'\n",
    "df_fire = pd.read_csv(fire_file)\n",
    "\n",
    "# based on others\n",
    "structure_fire = ['111','112']\n",
    "\n",
    "df_structure_fire = df_fire[df_fire['Primary Situation'].str.contains('|'.join(structure_fire))]\n",
    "\n",
    "# create a df for internal fire.\n",
    "internal_fire = ['412','210','522','520','113','411','444','653','445','730',\\\n",
    "                 '220','223','114','410','440','652','221','521','650','422',\\\n",
    "                 '213','671','200','441','443','423','420','431','251','371',\\\n",
    "                 '212','222','211','231','115','424','430','440','117','411',\\\n",
    "                 '531','412','210','651','445','200','413','114','451','443',\\\n",
    "                 '163','116','231','431']\n",
    "df_internal_fire = df_fire[df_fire['Primary Situation'].str.contains('|'.join(internal_fire))]\n",
    "df_internal_fire.shape\n",
    "\n",
    "######################### inspection data\n",
    "inspection_file = 'D:/Study/insight/project/fire_risk_prediction_SF/data/SF_fire_data/fire-inspections.csv'\n",
    "df_inspect = pd.read_csv(inspection_file)\n",
    "\n",
    "#  'Complaint Inspection'\n",
    "df_inspect = df_inspect[df_inspect['Inspection Type Description'] == 'Complaint Inspection']\n",
    "\n",
    "#################### violation data\n",
    "violation_file = 'D:/Study/insight/project/fire_risk_prediction_SF/data/SF_fire_data/fire-violations.csv'\n",
    "df_violate = pd.read_csv(violation_file)\n",
    "\n",
    "################ permit data\n",
    "permit_file = 'D:/Study/insight/project/fire_risk_prediction_SF/data/SF_building_permit/Building_Permits.csv'\n",
    "df_permit = pd.read_csv(permit_file)\n",
    "\n",
    "df_permit['Location'] = df_permit['Location'].str.strip('()')\n",
    "df_permit[['lat','long']] = df_permit['Location'].str.split(', ',expand=True)"
   ]
  },
  {
   "cell_type": "code",
   "execution_count": 82,
   "metadata": {},
   "outputs": [
    {
     "name": "stdout",
     "output_type": "stream",
     "text": [
      "[2008 2003 2004 2007 2005 2006 2009 2010 2011 2012 2013 2014 2015 2016\n",
      " 2017 2018 2019 2020]\n",
      "[2020 2019 2018 2017 2016 2015 2014 2013 2012 2011 2010 2009 2008 2007\n",
      " 2006 2005 2004]\n",
      "[2019 2018 2016 2014 2009 2020 2017 2008 2006 2011 2010 2007 2012 2015\n",
      " 2005 2013]\n"
     ]
    }
   ],
   "source": [
    "############################################# don't need to run this again\n",
    "# check the year of each dataset\n",
    "# seems that 2006 is the earliest for violation data\n",
    "df_fire['Incident Date'] = pd.to_datetime(df_fire['Incident Date'])\n",
    "df_fire['year'] = df_fire['Incident Date'].dt.year\n",
    "print(df_fire['year'].unique())\n",
    "\n",
    "df_inspect['Inspection Start Date'] = pd.to_datetime(df_inspect['Inspection Start Date'])\n",
    "df_inspect['year'] = df_inspect['Inspection Start Date'].dt.year\n",
    "print(df_inspect['year'].unique())\n",
    "\n",
    "df_violate['violation date'] = pd.to_datetime(df_violate['violation date'])\n",
    "df_violate['year'] = df_violate['violation date'].dt.year\n",
    "print(df_violate['year'].unique())"
   ]
  },
  {
   "cell_type": "code",
   "execution_count": 29,
   "metadata": {},
   "outputs": [
    {
     "name": "stdout",
     "output_type": "stream",
     "text": [
      "2012, 2013, 2014, 2015, 2016, 2017, 2018, 2019, "
     ]
    }
   ],
   "source": [
    "import sys\n",
    "\n",
    "if not sys.warnoptions:\n",
    "    import warnings\n",
    "    warnings.simplefilter(\"ignore\")\n",
    "\n",
    "# initiate df\n",
    "final_df = pd.DataFrame()\n",
    "\n",
    "# so start from 2007, up to 2019\n",
    "# permit data only 2013-2018\n",
    "\n",
    "for year in range(2012,2020):\n",
    "    \n",
    "    building_fire = process_fire(df_parcel, df_internal_fire, year)\n",
    "\n",
    "    inspect_result = process_inspection(df_parcel, df_inspect, year)\n",
    "    violate_result = process_violation(df_parcel, df_violate, year)\n",
    "    permit_result = process_permit(df_parcel, df_permit, year)\n",
    "    \n",
    "    # merge inspection, violation data to building/fire\n",
    "    building_fire = building_fire.merge(inspect_result,on='objectid', how='outer')\n",
    "    building_fire = building_fire.merge(violate_result,on='objectid', how='outer')\n",
    "    building_fire = building_fire.merge(permit_result,on='objectid', how='outer')\n",
    "    \n",
    "    # replace nan with 0\n",
    "    building_fire['complaints_count'] = building_fire['complaints_count'].fillna(0)\n",
    "    building_fire['violation_count'] = building_fire['violation_count'].fillna(0)\n",
    "    building_fire['building_permit'] = building_fire['building_permit'].fillna(0)\n",
    "    \n",
    "    final_df = pd.concat([final_df,building_fire])\n",
    "    \n",
    "    print(year, end =\", \")\n"
   ]
  },
  {
   "cell_type": "code",
   "execution_count": 30,
   "metadata": {},
   "outputs": [
    {
     "data": {
      "text/plain": [
       "(1243744, 28)"
      ]
     },
     "execution_count": 30,
     "metadata": {},
     "output_type": "execute_result"
    }
   ],
   "source": [
    "final_df.shape"
   ]
  },
  {
   "cell_type": "code",
   "execution_count": 31,
   "metadata": {},
   "outputs": [
    {
     "data": {
      "text/plain": [
       "Index(['yrbuilt', 'from_st', 'total_uses', 'shape_area', 'cie', 'landuse',\n",
       "       'mips', 'mapblklot', 'objectid', 'shape_leng', 'visitor', 'st_type',\n",
       "       'bldgsqft', 'resunits', 'pdr', 'street', 'retail', 'to_st', 'block_num',\n",
       "       'blklot', 'lot_num', 'med', 'fire_count', 'fire_count_last year',\n",
       "       'year', 'complaints_count', 'violation_count', 'building_permit'],\n",
       "      dtype='object')"
      ]
     },
     "execution_count": 31,
     "metadata": {},
     "output_type": "execute_result"
    }
   ],
   "source": [
    "final_df.columns"
   ]
  },
  {
   "cell_type": "code",
   "execution_count": 32,
   "metadata": {},
   "outputs": [],
   "source": [
    "final_df.to_csv('third_analysis.csv', index=False)"
   ]
  },
  {
   "cell_type": "markdown",
   "metadata": {},
   "source": [
    "# lastly: join parcel with block"
   ]
  },
  {
   "cell_type": "code",
   "execution_count": 33,
   "metadata": {},
   "outputs": [],
   "source": [
    "parcel_file = 'D:/Study/insight/project/fire_risk_prediction_SF/data/SF_parcel_lu/sf_parcel.geojson'\n",
    "df_parcel = gpd.read_file(parcel_file)\n",
    "\n",
    "block_file = 'D:/Study/insight/project/fire_risk_prediction_SF/data/Census 2010_ Blocks for San Francisco.geojson'\n",
    "df_block = gpd.read_file(block_file)"
   ]
  },
  {
   "cell_type": "code",
   "execution_count": 35,
   "metadata": {},
   "outputs": [],
   "source": [
    "df_parcel_simple = df_parcel[['objectid', 'geometry']]\n",
    "\n",
    "df_block['block_id'] = pd.to_numeric(df_block.geoid10, errors='coerce').astype(np.int64)\n",
    "df_block_simple = df_block[['block_id', 'geometry']]\n",
    "\n",
    "df_block_simple.crs = df_parcel_simple.crs\n",
    "\n",
    "parcel_sjoin = gpd.sjoin(df_parcel_simple, df_block_simple, how=\"inner\", op='intersects')"
   ]
  },
  {
   "cell_type": "code",
   "execution_count": 36,
   "metadata": {},
   "outputs": [
    {
     "data": {
      "text/html": [
       "<div>\n",
       "<style scoped>\n",
       "    .dataframe tbody tr th:only-of-type {\n",
       "        vertical-align: middle;\n",
       "    }\n",
       "\n",
       "    .dataframe tbody tr th {\n",
       "        vertical-align: top;\n",
       "    }\n",
       "\n",
       "    .dataframe thead th {\n",
       "        text-align: right;\n",
       "    }\n",
       "</style>\n",
       "<table border=\"1\" class=\"dataframe\">\n",
       "  <thead>\n",
       "    <tr style=\"text-align: right;\">\n",
       "      <th></th>\n",
       "      <th>objectid</th>\n",
       "      <th>geometry</th>\n",
       "      <th>index_right</th>\n",
       "      <th>block_id</th>\n",
       "    </tr>\n",
       "  </thead>\n",
       "  <tbody>\n",
       "    <tr>\n",
       "      <th>0</th>\n",
       "      <td>1</td>\n",
       "      <td>MULTIPOLYGON (((-122.42108 37.80478, -122.4211...</td>\n",
       "      <td>1999</td>\n",
       "      <td>60750102001011</td>\n",
       "    </tr>\n",
       "    <tr>\n",
       "      <th>1</th>\n",
       "      <td>2</td>\n",
       "      <td>MULTIPOLYGON (((-122.42118 37.80476, -122.4212...</td>\n",
       "      <td>1999</td>\n",
       "      <td>60750102001011</td>\n",
       "    </tr>\n",
       "    <tr>\n",
       "      <th>2</th>\n",
       "      <td>3</td>\n",
       "      <td>MULTIPOLYGON (((-122.42126 37.80475, -122.4213...</td>\n",
       "      <td>1999</td>\n",
       "      <td>60750102001011</td>\n",
       "    </tr>\n",
       "    <tr>\n",
       "      <th>3</th>\n",
       "      <td>4</td>\n",
       "      <td>MULTIPOLYGON (((-122.42135 37.80474, -122.4215...</td>\n",
       "      <td>1999</td>\n",
       "      <td>60750102001011</td>\n",
       "    </tr>\n",
       "    <tr>\n",
       "      <th>4</th>\n",
       "      <td>5</td>\n",
       "      <td>MULTIPOLYGON (((-122.42153 37.80472, -122.4217...</td>\n",
       "      <td>1999</td>\n",
       "      <td>60750102001011</td>\n",
       "    </tr>\n",
       "  </tbody>\n",
       "</table>\n",
       "</div>"
      ],
      "text/plain": [
       "  objectid                                           geometry  index_right  \\\n",
       "0        1  MULTIPOLYGON (((-122.42108 37.80478, -122.4211...         1999   \n",
       "1        2  MULTIPOLYGON (((-122.42118 37.80476, -122.4212...         1999   \n",
       "2        3  MULTIPOLYGON (((-122.42126 37.80475, -122.4213...         1999   \n",
       "3        4  MULTIPOLYGON (((-122.42135 37.80474, -122.4215...         1999   \n",
       "4        5  MULTIPOLYGON (((-122.42153 37.80472, -122.4217...         1999   \n",
       "\n",
       "         block_id  \n",
       "0  60750102001011  \n",
       "1  60750102001011  \n",
       "2  60750102001011  \n",
       "3  60750102001011  \n",
       "4  60750102001011  "
      ]
     },
     "execution_count": 36,
     "metadata": {},
     "output_type": "execute_result"
    }
   ],
   "source": [
    "parcel_sjoin.head()"
   ]
  },
  {
   "cell_type": "code",
   "execution_count": 39,
   "metadata": {},
   "outputs": [
    {
     "data": {
      "text/plain": [
       "(158633, 2)"
      ]
     },
     "execution_count": 39,
     "metadata": {},
     "output_type": "execute_result"
    }
   ],
   "source": [
    "parcel_sjoin.shape"
   ]
  },
  {
   "cell_type": "code",
   "execution_count": 38,
   "metadata": {},
   "outputs": [],
   "source": [
    "parcel_sjoin = parcel_sjoin[['objectid','block_id']]\n",
    "parcel_sjoin.to_csv('parcel_blk.csv', index=False)"
   ]
  },
  {
   "cell_type": "code",
   "execution_count": null,
   "metadata": {},
   "outputs": [],
   "source": []
  }
 ],
 "metadata": {
  "kernelspec": {
   "display_name": "geoenv",
   "language": "python",
   "name": "geoenv"
  },
  "language_info": {
   "codemirror_mode": {
    "name": "ipython",
    "version": 3
   },
   "file_extension": ".py",
   "mimetype": "text/x-python",
   "name": "python",
   "nbconvert_exporter": "python",
   "pygments_lexer": "ipython3",
   "version": "3.8.5"
  }
 },
 "nbformat": 4,
 "nbformat_minor": 4
}
