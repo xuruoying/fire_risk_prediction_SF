{
 "cells": [
  {
   "cell_type": "code",
   "execution_count": 1,
   "metadata": {},
   "outputs": [],
   "source": [
    "import pandas as pd\n",
    "import matplotlib.pyplot as plt\n",
    "import seaborn as sns\n",
    "import numpy as np\n",
    "%matplotlib inline"
   ]
  },
  {
   "cell_type": "code",
   "execution_count": 2,
   "metadata": {},
   "outputs": [],
   "source": [
    "#parcel_file = 'D:/Study/insight/project/fire_risk_prediction_SF/data/SF_parcel_lu/sf_parcel.geojson'\n",
    "#df_fire = 'D:/Study/insight/project/fire_risk_prediction_SF/data/SF_fire_data/fire-incidents.csv'\n",
    "fire_file = 'D:/Study/insight/project/fire_risk_prediction_SF/data/Fire_Incidents_SF.csv'"
   ]
  },
  {
   "cell_type": "code",
   "execution_count": 13,
   "metadata": {},
   "outputs": [
    {
     "name": "stderr",
     "output_type": "stream",
     "text": [
      "C:\\Users\\Ruoying\\anaconda3\\lib\\site-packages\\IPython\\core\\interactiveshell.py:3071: DtypeWarning: Columns (10,12,13,20,38,45,46,55,59) have mixed types.Specify dtype option on import or set low_memory=False.\n",
      "  has_raised = await self.run_ast_nodes(code_ast.body, cell_name,\n"
     ]
    }
   ],
   "source": [
    "# building and fire data: for week 2\n",
    "df_fire = pd.read_csv(fire_file)\n",
    "df_building = pd.read_csv('df_alpha.csv')"
   ]
  },
  {
   "cell_type": "code",
   "execution_count": 4,
   "metadata": {},
   "outputs": [
    {
     "data": {
      "text/plain": [
       "Index(['yrbuilt', 'from_st', 'total_uses', 'shape_area', 'cie', 'landuse',\n",
       "       'mips', 'mapblklot', 'objectid', 'shape_leng', 'visitor', 'st_type',\n",
       "       'bldgsqft', 'resunits', 'pdr', 'street', 'retail', 'to_st', 'block_num',\n",
       "       'blklot', 'lot_num', 'med', 'fire_count'],\n",
       "      dtype='object')"
      ]
     },
     "execution_count": 4,
     "metadata": {},
     "output_type": "execute_result"
    }
   ],
   "source": [
    "# building\n",
    "df_building.columns"
   ]
  },
  {
   "cell_type": "code",
   "execution_count": 25,
   "metadata": {},
   "outputs": [
    {
     "data": {
      "text/html": [
       "<div>\n",
       "<style scoped>\n",
       "    .dataframe tbody tr th:only-of-type {\n",
       "        vertical-align: middle;\n",
       "    }\n",
       "\n",
       "    .dataframe tbody tr th {\n",
       "        vertical-align: top;\n",
       "    }\n",
       "\n",
       "    .dataframe thead th {\n",
       "        text-align: right;\n",
       "    }\n",
       "</style>\n",
       "<table border=\"1\" class=\"dataframe\">\n",
       "  <thead>\n",
       "    <tr style=\"text-align: right;\">\n",
       "      <th></th>\n",
       "      <th>yrbuilt</th>\n",
       "      <th>from_st</th>\n",
       "      <th>total_uses</th>\n",
       "      <th>shape_area</th>\n",
       "      <th>cie</th>\n",
       "      <th>landuse</th>\n",
       "      <th>mips</th>\n",
       "      <th>mapblklot</th>\n",
       "      <th>objectid</th>\n",
       "      <th>shape_leng</th>\n",
       "      <th>...</th>\n",
       "      <th>resunits</th>\n",
       "      <th>pdr</th>\n",
       "      <th>street</th>\n",
       "      <th>retail</th>\n",
       "      <th>to_st</th>\n",
       "      <th>block_num</th>\n",
       "      <th>blklot</th>\n",
       "      <th>lot_num</th>\n",
       "      <th>med</th>\n",
       "      <th>fire_count</th>\n",
       "    </tr>\n",
       "  </thead>\n",
       "  <tbody>\n",
       "    <tr>\n",
       "      <th>0</th>\n",
       "      <td>1912</td>\n",
       "      <td>838.0</td>\n",
       "      <td>0</td>\n",
       "      <td>3864.061762</td>\n",
       "      <td>0</td>\n",
       "      <td>RESIDENT</td>\n",
       "      <td>0</td>\n",
       "      <td>0026013</td>\n",
       "      <td>1</td>\n",
       "      <td>327.786363</td>\n",
       "      <td>...</td>\n",
       "      <td>5</td>\n",
       "      <td>0</td>\n",
       "      <td>BAY</td>\n",
       "      <td>0</td>\n",
       "      <td>842.0</td>\n",
       "      <td>0026</td>\n",
       "      <td>0026013</td>\n",
       "      <td>013</td>\n",
       "      <td>0</td>\n",
       "      <td>2.0</td>\n",
       "    </tr>\n",
       "    <tr>\n",
       "      <th>1</th>\n",
       "      <td>1900</td>\n",
       "      <td>844.0</td>\n",
       "      <td>3471</td>\n",
       "      <td>3361.025351</td>\n",
       "      <td>0</td>\n",
       "      <td>MIXRES</td>\n",
       "      <td>3471</td>\n",
       "      <td>0026014</td>\n",
       "      <td>2</td>\n",
       "      <td>320.352522</td>\n",
       "      <td>...</td>\n",
       "      <td>1</td>\n",
       "      <td>0</td>\n",
       "      <td>BAY</td>\n",
       "      <td>0</td>\n",
       "      <td>844.0</td>\n",
       "      <td>0026</td>\n",
       "      <td>0026014</td>\n",
       "      <td>014</td>\n",
       "      <td>0</td>\n",
       "      <td>NaN</td>\n",
       "    </tr>\n",
       "    <tr>\n",
       "      <th>2</th>\n",
       "      <td>1900</td>\n",
       "      <td>848.0</td>\n",
       "      <td>0</td>\n",
       "      <td>3272.033196</td>\n",
       "      <td>0</td>\n",
       "      <td>RESIDENT</td>\n",
       "      <td>0</td>\n",
       "      <td>0026015</td>\n",
       "      <td>3</td>\n",
       "      <td>319.046088</td>\n",
       "      <td>...</td>\n",
       "      <td>2</td>\n",
       "      <td>0</td>\n",
       "      <td>BAY</td>\n",
       "      <td>0</td>\n",
       "      <td>850.0</td>\n",
       "      <td>0026</td>\n",
       "      <td>0026015</td>\n",
       "      <td>015</td>\n",
       "      <td>0</td>\n",
       "      <td>4.0</td>\n",
       "    </tr>\n",
       "    <tr>\n",
       "      <th>3</th>\n",
       "      <td>1940</td>\n",
       "      <td>860.0</td>\n",
       "      <td>0</td>\n",
       "      <td>4570.767667</td>\n",
       "      <td>0</td>\n",
       "      <td>RESIDENT</td>\n",
       "      <td>0</td>\n",
       "      <td>0026016</td>\n",
       "      <td>4</td>\n",
       "      <td>279.353002</td>\n",
       "      <td>...</td>\n",
       "      <td>2</td>\n",
       "      <td>0</td>\n",
       "      <td>BAY</td>\n",
       "      <td>0</td>\n",
       "      <td>862.0</td>\n",
       "      <td>0026</td>\n",
       "      <td>0026016</td>\n",
       "      <td>016</td>\n",
       "      <td>0</td>\n",
       "      <td>NaN</td>\n",
       "    </tr>\n",
       "    <tr>\n",
       "      <th>4</th>\n",
       "      <td>1938</td>\n",
       "      <td>870.0</td>\n",
       "      <td>0</td>\n",
       "      <td>5225.823735</td>\n",
       "      <td>0</td>\n",
       "      <td>RESIDENT</td>\n",
       "      <td>0</td>\n",
       "      <td>0026017</td>\n",
       "      <td>5</td>\n",
       "      <td>294.354339</td>\n",
       "      <td>...</td>\n",
       "      <td>2</td>\n",
       "      <td>0</td>\n",
       "      <td>BAY</td>\n",
       "      <td>0</td>\n",
       "      <td>872.0</td>\n",
       "      <td>0026</td>\n",
       "      <td>0026017</td>\n",
       "      <td>017</td>\n",
       "      <td>0</td>\n",
       "      <td>NaN</td>\n",
       "    </tr>\n",
       "  </tbody>\n",
       "</table>\n",
       "<p>5 rows × 23 columns</p>\n",
       "</div>"
      ],
      "text/plain": [
       "   yrbuilt  from_st  total_uses   shape_area  cie   landuse  mips mapblklot  \\\n",
       "0     1912    838.0           0  3864.061762    0  RESIDENT     0   0026013   \n",
       "1     1900    844.0        3471  3361.025351    0    MIXRES  3471   0026014   \n",
       "2     1900    848.0           0  3272.033196    0  RESIDENT     0   0026015   \n",
       "3     1940    860.0           0  4570.767667    0  RESIDENT     0   0026016   \n",
       "4     1938    870.0           0  5225.823735    0  RESIDENT     0   0026017   \n",
       "\n",
       "   objectid  shape_leng  ...  resunits pdr  street  retail  to_st block_num  \\\n",
       "0         1  327.786363  ...         5   0     BAY       0  842.0      0026   \n",
       "1         2  320.352522  ...         1   0     BAY       0  844.0      0026   \n",
       "2         3  319.046088  ...         2   0     BAY       0  850.0      0026   \n",
       "3         4  279.353002  ...         2   0     BAY       0  862.0      0026   \n",
       "4         5  294.354339  ...         2   0     BAY       0  872.0      0026   \n",
       "\n",
       "    blklot  lot_num med fire_count  \n",
       "0  0026013      013   0        2.0  \n",
       "1  0026014      014   0        NaN  \n",
       "2  0026015      015   0        4.0  \n",
       "3  0026016      016   0        NaN  \n",
       "4  0026017      017   0        NaN  \n",
       "\n",
       "[5 rows x 23 columns]"
      ]
     },
     "execution_count": 25,
     "metadata": {},
     "output_type": "execute_result"
    }
   ],
   "source": [
    "df_building.head()"
   ]
  },
  {
   "cell_type": "code",
   "execution_count": 27,
   "metadata": {},
   "outputs": [
    {
     "data": {
      "text/plain": [
       "5629"
      ]
     },
     "execution_count": 27,
     "metadata": {},
     "output_type": "execute_result"
    }
   ],
   "source": [
    "df_building['to_st'].nunique()"
   ]
  },
  {
   "cell_type": "code",
   "execution_count": 28,
   "metadata": {},
   "outputs": [
    {
     "data": {
      "text/plain": [
       "5349"
      ]
     },
     "execution_count": 28,
     "metadata": {},
     "output_type": "execute_result"
    }
   ],
   "source": [
    "df_building['block_num'].nunique()"
   ]
  },
  {
   "cell_type": "markdown",
   "metadata": {},
   "source": [
    "Land use categories for every parcel in San Francisco. The land use categories are derived from a range of City and commercial databases. Where building square footages were missing from these databases they were derived from a LIDAR survey flown in 2007.\n",
    "\n",
    "Land use categories are as follows (units are square feet):\n",
    "\n",
    "CIE = Cultural, Institutional, Educational\n",
    "MED = Medical\n",
    "MIPS = Office (Management, Information, Professional Services)\n",
    "MIXED = Mixed Uses (Without Residential)\n",
    "MIXRES = Mixed Uses (With Residential)\n",
    "PDR = Industrial (Production, Distribution, Repair)\n",
    "RETAIL/ENT = Retail, Entertainment\n",
    "RESIDENT = Residential\n",
    "VISITOR = Hotels, Visitor Services\n",
    "VACANT = Vacant\n",
    "ROW = Right-of-Way\n",
    "OPENSPACE = Open Space\n",
    "\n",
    "Other attributes are:\n",
    "RESUNITS = Residential Units\n",
    "BLDGSQFT = Square footage data\n",
    "YRBUILT = year built\n",
    "TOTAL_USES = Business points from Dun & Bradstreet were spatially aggregated to the closest parcel, and this field is the sum of the square footage fields\n",
    "The subsequent fields (CIE, MED, MIPS, RETAIL, PDER & VISITOR) were derived using the NAICS codes supplied in the Dun & Bradstreet dataset, and the previous TOTAL_USES column.\n",
    "\n",
    "The determining factor for a parcel's LANDUSE is if the square footage of any non-residential use is 80% or more of its total uses. Otherwise it becomes MIXED.\n",
    "\n",
    "In the case where RESIDENT use has some square footage of non-residential use, this is mainly accessory uses such as home businesses, freelancers, etc."
   ]
  },
  {
   "cell_type": "code",
   "execution_count": 6,
   "metadata": {},
   "outputs": [
    {
     "data": {
      "text/plain": [
       "count    28421.000000\n",
       "mean         5.253334\n",
       "std         34.245237\n",
       "min          1.000000\n",
       "25%          1.000000\n",
       "50%          1.000000\n",
       "75%          3.000000\n",
       "max       2854.000000\n",
       "Name: fire_count, dtype: float64"
      ]
     },
     "execution_count": 6,
     "metadata": {},
     "output_type": "execute_result"
    }
   ],
   "source": [
    "df_building['fire_count'].describe()"
   ]
  },
  {
   "cell_type": "code",
   "execution_count": 7,
   "metadata": {},
   "outputs": [
    {
     "data": {
      "text/plain": [
       "count    155468.000000\n",
       "mean       1833.649285\n",
       "std         429.116954\n",
       "min           0.000000\n",
       "25%        1909.000000\n",
       "50%        1926.000000\n",
       "75%        1947.000000\n",
       "max        8687.000000\n",
       "Name: yrbuilt, dtype: float64"
      ]
     },
     "execution_count": 7,
     "metadata": {},
     "output_type": "execute_result"
    }
   ],
   "source": [
    "# year_built\n",
    "df_building['yrbuilt'].describe()"
   ]
  },
  {
   "cell_type": "code",
   "execution_count": 14,
   "metadata": {},
   "outputs": [
    {
     "data": {
      "text/plain": [
       "(147479, 23)"
      ]
     },
     "execution_count": 14,
     "metadata": {},
     "output_type": "execute_result"
    }
   ],
   "source": [
    "# get rid of year built>2020\n",
    "df_bldg = df_building[df_building['yrbuilt']<=2020]\n",
    "df_bldg = df_bldg[df_bldg['yrbuilt']>=1800]\n",
    "\n",
    "df_bldg.shape"
   ]
  },
  {
   "cell_type": "code",
   "execution_count": 20,
   "metadata": {},
   "outputs": [
    {
     "data": {
      "text/plain": [
       "[Text(0, 0.5, 'Count'),\n",
       " Text(0.5, 0, 'Year built'),\n",
       " Text(0.5, 1.0, 'Age of buildings in SF')]"
      ]
     },
     "execution_count": 20,
     "metadata": {},
     "output_type": "execute_result"
    },
    {
     "data": {
      "image/png": "[encoded data removed]",
      "text/plain": [
       "<Figure size 576x360 with 1 Axes>"
      ]
     },
     "metadata": {},
     "output_type": "display_data"
    }
   ],
   "source": [
    "# use to set style of background of plot \n",
    "sns.set(style='whitegrid', palette=\"deep\", font_scale=1.1, rc={\"figure.figsize\": [8, 5]})\n",
    "\n",
    "sns.distplot(\n",
    "    df_bldg['yrbuilt'],norm_hist=False, kde=False, bins=40, hist_kws={\"alpha\": 1}\n",
    ").set(xlabel='Year built', ylabel='Count', title = 'Age of buildings in SF')"
   ]
  },
  {
   "cell_type": "code",
   "execution_count": 8,
   "metadata": {},
   "outputs": [
    {
     "data": {
      "text/plain": [
       "array(['RESIDENT', 'MIXRES', 'VACANT', 'PDR', 'OpenSpace', 'VISITOR',\n",
       "       'MIPS', 'MIXED', 'RETAIL/ENT', 'CIE', 'MISSING DATA', 'MED',\n",
       "       'Right of Way'], dtype=object)"
      ]
     },
     "execution_count": 8,
     "metadata": {},
     "output_type": "execute_result"
    }
   ],
   "source": [
    "df_bldg['landuse'].unique()\n",
    "#the idea is that use 'landuse' to create dummy variables."
   ]
  },
  {
   "cell_type": "code",
   "execution_count": null,
   "metadata": {},
   "outputs": [],
   "source": [
    "# use to set style of background of plot \n",
    "sns.set_style('ticks')\n",
    "\n",
    "sns.set(rc={'figure.figsize':(20,20)}) \n",
    "sns.set_context('talk', font_scale=2) \n",
    "\n",
    "g = sns.relplot(x='temp', y='cnt', hue='Season', data=day,palette=['green','orange','brown','blue'],\n",
    "                col='Season', col_wrap=4, legend=False\n",
    "                height=6, aspect=0.5, style='Season', sizes=(800,1000))\n",
    "\n",
    "g.fig.suptitle('Bike Rentals at Different Temperatures\\nBy Season' ,position=(0.5,1.05), fontweight='bold', size=18)\n",
    "g.set_xlabels(\"Normalized Temperature\",fontweight='bold', size=15)\n",
    "g.set_ylabels(\"Count of Total Bike Rentals\",fontweight='bold', size=20);"
   ]
  },
  {
   "cell_type": "code",
   "execution_count": 24,
   "metadata": {},
   "outputs": [
    {
     "data": {
      "text/plain": [
       "count    1.554680e+05\n",
       "mean     3.467095e+03\n",
       "std      2.033387e+04\n",
       "min      0.000000e+00\n",
       "25%      1.173000e+03\n",
       "50%      1.641000e+03\n",
       "75%      2.625000e+03\n",
       "max      3.015837e+06\n",
       "Name: bldgsqft, dtype: float64"
      ]
     },
     "execution_count": 24,
     "metadata": {},
     "output_type": "execute_result"
    }
   ],
   "source": [
    "df_building['bldgsqft'].describe()"
   ]
  },
  {
   "cell_type": "code",
   "execution_count": 34,
   "metadata": {},
   "outputs": [
    {
     "data": {
      "text/plain": [
       "0.010         0.000\n",
       "0.050         0.000\n",
       "0.100       822.700\n",
       "0.900      4453.300\n",
       "0.990     29795.980\n",
       "0.999    249887.453\n",
       "Name: bldgsqft, dtype: float64"
      ]
     },
     "execution_count": 34,
     "metadata": {},
     "output_type": "execute_result"
    }
   ],
   "source": [
    "# need to delete extreme values\n",
    "df_building['bldgsqft'].quantile([0.01,0.05,0.1,0.9,0.99,0.999])\n"
   ]
  },
  {
   "cell_type": "code",
   "execution_count": 35,
   "metadata": {},
   "outputs": [
    {
     "data": {
      "text/plain": [
       "(147328, 23)"
      ]
     },
     "execution_count": 35,
     "metadata": {},
     "output_type": "execute_result"
    }
   ],
   "source": [
    "df_bldg = df_bldg[df_bldg['bldgsqft']<=250000]\n",
    "df_bldg.shape"
   ]
  },
  {
   "cell_type": "code",
   "execution_count": 46,
   "metadata": {},
   "outputs": [
    {
     "data": {
      "text/plain": [
       "[None]"
      ]
     },
     "execution_count": 46,
     "metadata": {},
     "output_type": "execute_result"
    },
    {
     "data": {
      "image/png": "[encoded data removed]",
      "text/plain": [
       "<Figure size 576x360 with 1 Axes>"
      ]
     },
     "metadata": {},
     "output_type": "display_data"
    }
   ],
   "source": [
    "# df_bldg[numerical].hist(bins=15, figsize=(15, 6), layout=(2, 4)) # display hist for all numerical variables in df\n",
    "f, axes = plt.subplots(plot_rows,2, figsize=(8,35))\n",
    "sns.despine(left=True)\n",
    "\n",
    "for i,col in enumerate(cols_to_use):\n",
    "    row_position = math.floor(i/2)\n",
    "    col_position = i%2\n",
    "    sns.distplot(df_notnull[col], ax=axes[row_position, col_position],kde=False)\n",
    "    axes[row_position, col_position].set_title('{}'.format(col)) \n",
    "\n",
    "plt.tight_layout()\n",
    "plt.show()"
   ]
  },
  {
   "cell_type": "code",
   "execution_count": 53,
   "metadata": {},
   "outputs": [
    {
     "data": {
      "text/plain": [
       "[Text(0, 0.5, 'Count'),\n",
       " None,\n",
       " Text(0.5, 0, 'Building space (sqft)'),\n",
       " Text(0.5, 1.0, 'Total sqft of buildings in SF')]"
      ]
     },
     "execution_count": 53,
     "metadata": {},
     "output_type": "execute_result"
    },
    {
     "data": {
      "image/png": "[encoded data removed]",
      "text/plain": [
       "<Figure size 576x360 with 1 Axes>"
      ]
     },
     "metadata": {},
     "output_type": "display_data"
    }
   ],
   "source": [
    "# still too large, too many extememly large value. Need a log chart\n",
    "\n",
    "sns.set(style='whitegrid', palette=\"deep\", font_scale=1.1, rc={\"figure.figsize\": [8, 5]})\n",
    "\n",
    "sns.distplot(\n",
    "    df_bldg['bldgsqft'],norm_hist=False, kde=False, bins=80, hist_kws={\"alpha\": 1}\n",
    ").set(xlabel='Building space (sqft) in log scale', ylabel='Count', xscale = 'log', title = 'Total sqft of buildings in SF')"
   ]
  },
  {
   "cell_type": "code",
   "execution_count": 64,
   "metadata": {},
   "outputs": [
    {
     "data": {
      "text/plain": [
       "[Text(0, 0.5, 'Count'),\n",
       " None,\n",
       " Text(0.5, 0, 'Occupied Building space (sqft)'),\n",
       " Text(0.5, 1.0, 'Total occupied space in each buildings')]"
      ]
     },
     "execution_count": 64,
     "metadata": {},
     "output_type": "execute_result"
    },
    {
     "data": {
      "image/png": "[encoded data removed]",
      "text/plain": [
       "<Figure size 576x360 with 1 Axes>"
      ]
     },
     "metadata": {},
     "output_type": "display_data"
    }
   ],
   "source": [
    "sns.set(style='whitegrid', palette=\"deep\", font_scale=1.1, rc={\"figure.figsize\": [8, 5]})\n",
    "\n",
    "sns.distplot(\n",
    "    df_bldg['total_uses'],norm_hist=False, kde=False, bins=105, hist_kws={\"alpha\": 1}\n",
    ").set(xlabel='Occupied Building space (sqft) in log scale', ylabel='Count', xscale = 'log', title = 'Total occupied space in each buildings')"
   ]
  },
  {
   "cell_type": "code",
   "execution_count": null,
   "metadata": {},
   "outputs": [],
   "source": [
    "# total sqft usage\n",
    "df_bldg['total_uses'].describe()\n",
    "\n",
    "# total point of interest in cultual, institution, education\n",
    "df_bldg['cie'].describe()\n",
    "\n",
    "# total point of interest in medical\n",
    "df_bldg['med'].describe()\n",
    "\n",
    "# total point of interest in office, management, information, professional\n",
    "df_bldg['mips'].describe()\n",
    "\n",
    "# total point of interest in retail\n",
    "df_bldg['retail'].describe()\n",
    "\n",
    "# total point of interest in industrial, production, repair\n",
    "df_bldg['pdr'].describe()\n",
    "\n",
    "# total point of interest in hotel\n",
    "df_bldg['visitor'].describe()\n",
    "\n",
    "# total residential units: only one not in sqft\n",
    "df_bldg['resunits'].describe()\n",
    "\n",
    "# building sqft total\n",
    "df_bldg['bldgsqft'].describe()\n",
    "\n",
    "cols_to_use = ['fire_count','yrbuilt','bldgsqft','total_uses','cie','mips','visitor', 'pdr', 'retail', 'med','resunits']"
   ]
  },
  {
   "cell_type": "code",
   "execution_count": 65,
   "metadata": {},
   "outputs": [
    {
     "data": {
      "text/plain": [
       "Index(['Incident Number', 'Exposure Number', 'ID', 'Address', 'Incident Date',\n",
       "       'Call Number', 'Alarm DtTm', 'Arrival DtTm', 'Close DtTm', 'City',\n",
       "       'zipcode', 'Battalion', 'Station Area', 'Box', 'Suppression Units',\n",
       "       'Suppression Personnel', 'EMS Units', 'EMS Personnel', 'Other Units',\n",
       "       'Other Personnel', 'First Unit On Scene', 'Estimated Property Loss',\n",
       "       'Estimated Contents Loss', 'Fire Fatalities', 'Fire Injuries',\n",
       "       'Civilian Fatalities', 'Civilian Injuries', 'Number of Alarms',\n",
       "       'Primary Situation', 'Mutual Aid', 'Action Taken Primary',\n",
       "       'Action Taken Secondary', 'Action Taken Other',\n",
       "       'Detector Alerted Occupants', 'Property Use', 'Area of Fire Origin',\n",
       "       'Ignition Cause', 'Ignition Factor Primary',\n",
       "       'Ignition Factor Secondary', 'Heat Source', 'Item First Ignited',\n",
       "       'Human Factors Associated with Ignition', 'Structure Type',\n",
       "       'Structure Status', 'Floor of Fire Origin', 'Fire Spread',\n",
       "       'No Flame Spead', 'Number of floors with minimum damage',\n",
       "       'Number of floors with significant damage',\n",
       "       'Number of floors with heavy damage',\n",
       "       'Number of floors with extreme damage', 'Detectors Present',\n",
       "       'Detector Type', 'Detector Operation', 'Detector Effectiveness',\n",
       "       'Detector Failure Reason', 'Automatic Extinguishing System Present',\n",
       "       'Automatic Extinguishing Sytem Type',\n",
       "       'Automatic Extinguishing Sytem Perfomance',\n",
       "       'Automatic Extinguishing Sytem Failure Reason',\n",
       "       'Number of Sprinkler Heads Operating', 'Supervisor District',\n",
       "       'neighborhood_district', 'point'],\n",
       "      dtype='object')"
      ]
     },
     "execution_count": 65,
     "metadata": {},
     "output_type": "execute_result"
    }
   ],
   "source": [
    "# fire data\n",
    "df_fire.columns"
   ]
  },
  {
   "cell_type": "code",
   "execution_count": 66,
   "metadata": {},
   "outputs": [
    {
     "data": {
      "text/plain": [
       "359"
      ]
     },
     "execution_count": 66,
     "metadata": {},
     "output_type": "execute_result"
    }
   ],
   "source": [
    "df_fire['Primary Situation'].nunique()"
   ]
  },
  {
   "cell_type": "code",
   "execution_count": 67,
   "metadata": {},
   "outputs": [
    {
     "data": {
      "text/plain": [
       "15"
      ]
     },
     "execution_count": 67,
     "metadata": {},
     "output_type": "execute_result"
    }
   ],
   "source": [
    "df_fire['Ignition Cause'].nunique()"
   ]
  },
  {
   "cell_type": "code",
   "execution_count": 68,
   "metadata": {},
   "outputs": [
    {
     "data": {
      "text/plain": [
       "array([nan, '2 - Unintentional',\n",
       "       'U - Cause undetermined after investigation',\n",
       "       '3 - Failure of equipment or heat source', '1 - Intentional', '-',\n",
       "       '5 - Cause under investigation', '0 - Cause, other',\n",
       "       '4 - Act of nature', '1 Intentional',\n",
       "       '5 Cause under investigation', '2 Unintentional',\n",
       "       '3 Failure of equipment or heat source',\n",
       "       'U Cause undetermined after investigation', '4 Act of nature',\n",
       "       '0 Cause, other (Only used for additional exposures)'],\n",
       "      dtype=object)"
      ]
     },
     "execution_count": 68,
     "metadata": {},
     "output_type": "execute_result"
    }
   ],
   "source": [
    "df_fire['Ignition Cause'].unique()"
   ]
  },
  {
   "cell_type": "code",
   "execution_count": 87,
   "metadata": {},
   "outputs": [],
   "source": [
    "# regroup ignition cause\n",
    "df_fire['fire cause'] = 'nan'\n",
    "\n",
    "df_fire.loc[\n",
    "    (df_fire['Ignition Cause'] == '1 - Intentional')|(df_fire['Ignition Cause'] == '1 Intentional'),\n",
    "    'fire cause'] = 'Intentional'\n",
    "\n",
    "df_fire.loc[\n",
    "    (df_fire['Ignition Cause'] == '2 - Unintentional')|(df_fire['Ignition Cause'] == '2 Unintentional'),\n",
    "    'fire cause'] = 'Unintentional by personnel'\n",
    "\n",
    "df_fire.loc[\n",
    "    (df_fire['Ignition Cause'] == '3 - Failure of equipment or heat source')|(df_fire['Ignition Cause'] == '3 Failure of equipment or heat source'),\n",
    "    'fire cause'] = 'Equipment failure'\n",
    "\n",
    "df_fire.loc[\n",
    "    (df_fire['Ignition Cause'] == '4 - Act of nature')|(df_fire['Ignition Cause'] == '4 Act of nature'),\n",
    "    'fire cause'] = 'Act of nature'\n",
    "\n",
    "df_fire.loc[\n",
    "    (df_fire['Ignition Cause'] == '0 - Cause, other')|(df_fire['Ignition Cause'] == '0 Cause, other (Only used for additional exposures)'),\n",
    "    'fire cause'] = 'Other'\n",
    "\n",
    "df_fire.loc[\n",
    "    (df_fire['Ignition Cause'] == 'U - Cause undetermined after investigation')|(df_fire['Ignition Cause'] == 'U Cause undetermined after investigation)'),\n",
    "    'fire cause'] = 'Undetermined'\n",
    "df_fire.loc[\n",
    "    (df_fire['Ignition Cause'] == '5 - Cause under investigation')|(df_fire['Ignition Cause'] == '5 Cause under investigation)'),\n",
    "    'fire cause'] = 'Undetermined'"
   ]
  },
  {
   "cell_type": "code",
   "execution_count": 88,
   "metadata": {},
   "outputs": [
    {
     "data": {
      "text/plain": [
       "7"
      ]
     },
     "execution_count": 88,
     "metadata": {},
     "output_type": "execute_result"
    }
   ],
   "source": [
    "df_fire['fire cause'].nunique()"
   ]
  },
  {
   "cell_type": "code",
   "execution_count": 89,
   "metadata": {},
   "outputs": [
    {
     "data": {
      "text/plain": [
       "<matplotlib.axes._subplots.AxesSubplot at 0x1bebd65d9a0>"
      ]
     },
     "execution_count": 89,
     "metadata": {},
     "output_type": "execute_result"
    },
    {
     "data": {
      "image/png": "[encoded data removed]",
      "text/plain": [
       "<Figure size 1080x360 with 1 Axes>"
      ]
     },
     "metadata": {},
     "output_type": "display_data"
    }
   ],
   "source": [
    "# plot fire cause\n",
    "sns.set(style='whitegrid', palette=\"deep\", font_scale=1.1, rc={\"figure.figsize\": [15, 5]})\n",
    "sns.countplot(x=\"fire cause\", data=df_fire)"
   ]
  },
  {
   "cell_type": "code",
   "execution_count": 70,
   "metadata": {},
   "outputs": [
    {
     "data": {
      "text/plain": [
       "104"
      ]
     },
     "execution_count": 70,
     "metadata": {},
     "output_type": "execute_result"
    }
   ],
   "source": [
    "df_fire['Ignition Factor Primary'].nunique()"
   ]
  },
  {
   "cell_type": "code",
   "execution_count": 90,
   "metadata": {},
   "outputs": [
    {
     "data": {
      "text/plain": [
       "507037"
      ]
     },
     "execution_count": 90,
     "metadata": {},
     "output_type": "execute_result"
    }
   ],
   "source": [
    "#df_fire['Ignition Factor Primary'].unique()\n",
    "df_fire['Ignition Factor Primary'].isna().sum() \n",
    "# seems that we have large number of null values"
   ]
  },
  {
   "cell_type": "code",
   "execution_count": 72,
   "metadata": {},
   "outputs": [
    {
     "data": {
      "text/plain": [
       "109"
      ]
     },
     "execution_count": 72,
     "metadata": {},
     "output_type": "execute_result"
    }
   ],
   "source": [
    "df_fire['Human Factors Associated with Ignition'].nunique()"
   ]
  },
  {
   "cell_type": "code",
   "execution_count": 73,
   "metadata": {},
   "outputs": [
    {
     "data": {
      "text/plain": [
       "19"
      ]
     },
     "execution_count": 73,
     "metadata": {},
     "output_type": "execute_result"
    }
   ],
   "source": [
    "df_fire['Structure Status'].nunique()"
   ]
  },
  {
   "cell_type": "code",
   "execution_count": 74,
   "metadata": {},
   "outputs": [
    {
     "data": {
      "text/plain": [
       "array([nan, '2 -In normal use', '4 -Under major renovation', '-',\n",
       "       '1 -Under construction', '5 -Vacant and secured',\n",
       "       '3 -Idle, not routinely used', '0 -Other',\n",
       "       '6 -Vacant and unsecured', 'U -Undetermined',\n",
       "       '7 -Being demolished', '2 In normal use', '1 Under construction',\n",
       "       '6 Vacant and unsecured', '5 Vacant and secured',\n",
       "       '4 Under major renovation', '7 Being demolished',\n",
       "       '0 Building status, other', 'U Undetermined',\n",
       "       '3 Idle, not routinely used'], dtype=object)"
      ]
     },
     "execution_count": 74,
     "metadata": {},
     "output_type": "execute_result"
    }
   ],
   "source": [
    "df_fire['Structure Status'].unique()"
   ]
  },
  {
   "cell_type": "code",
   "execution_count": 69,
   "metadata": {},
   "outputs": [
    {
     "data": {
      "text/plain": [
       "41"
      ]
     },
     "execution_count": 69,
     "metadata": {},
     "output_type": "execute_result"
    }
   ],
   "source": [
    "df_fire['neighborhood_district'].nunique()"
   ]
  },
  {
   "cell_type": "code",
   "execution_count": 91,
   "metadata": {},
   "outputs": [
    {
     "data": {
      "text/plain": [
       "133"
      ]
     },
     "execution_count": 91,
     "metadata": {},
     "output_type": "execute_result"
    }
   ],
   "source": [
    "df_fire['Action Taken Primary'].nunique()"
   ]
  },
  {
   "cell_type": "code",
   "execution_count": 92,
   "metadata": {},
   "outputs": [
    {
     "data": {
      "text/plain": [
       "1"
      ]
     },
     "execution_count": 92,
     "metadata": {},
     "output_type": "execute_result"
    }
   ],
   "source": [
    "# good quality\n",
    "df_fire['Action Taken Primary'].isna().sum() "
   ]
  },
  {
   "cell_type": "code",
   "execution_count": 96,
   "metadata": {},
   "outputs": [
    {
     "name": "stdout",
     "output_type": "stream",
     "text": [
      "359\n",
      "0\n"
     ]
    }
   ],
   "source": [
    "print(df_fire['Primary Situation'].nunique())\n",
    "print(df_fire['Primary Situation'].isna().sum() )"
   ]
  },
  {
   "cell_type": "code",
   "execution_count": 94,
   "metadata": {},
   "outputs": [
    {
     "data": {
      "text/plain": [
       "array(['412 - Gas leak (natural gas or LPG)', '552 - Police matter',\n",
       "       '210 - Steam Rupture, steam, other', '522 - Water or steam leak',\n",
       "       '520 - Water problem, other',\n",
       "       '733 - Smoke detector activation/malfunction',\n",
       "       '711 - Municipal alarm system, Street Box False',\n",
       "       '113 - Cooking fire, confined to container',\n",
       "       '743 - Smoke detector, no fire, accidental',\n",
       "       '551 - Assist PD or other Govern. Agency',\n",
       "       '411 - Gasoline or other flammable liquid spill',\n",
       "       '150 - Outside rubbish fire, other',\n",
       "       '413 - Oil or other combustible liquid spill',\n",
       "       '745 - Alarm system sounded/no fire-accidental',\n",
       "       '118 - Trash or rubbish fire, contained', '442 - Overheated motor',\n",
       "       '322 - Vehicle accident with injuries',\n",
       "       '735 - Alarm system sounded due to malfunction',\n",
       "       '554 - Assist invalid', '311 - Medical assist, assist EMS crew',\n",
       "       '700 - False alarm or false call, other',\n",
       "       '600 - Good intent call, other',\n",
       "       '142 - Brush, or brush and grass mixture fire',\n",
       "       '111 - Building fire', '550 - Public service assistance, other',\n",
       "       '444 - Power line down (wire)',\n",
       "       '351 - Extrication of victim(s) from Structure',\n",
       "       '331 - Lock-in (if lock out , use 511 )',\n",
       "       '500 - Service Call, other',\n",
       "       '744 - Detector activation, no fire - accident',\n",
       "       '653 - Barbecue, tar kettle',\n",
       "       '900 - Special type of incident, other',\n",
       "       '323 - Auto/Ped. Accident (Veh.)',\n",
       "       '451 - Biological hazard, confirmed or suspected',\n",
       "       '445 - Arcing, shorted electrical equipment', '511 - Lock-out',\n",
       "       '651 - Smoke scare, odor of smoke',\n",
       "       '730 - System malfunction, other', '131 - Passenger vehicle fire',\n",
       "       '531 - Smoke or odor removal', '740 - Unintentional alarm, other',\n",
       "       '741 - Sprinkler activation/no fire-accidental',\n",
       "       '553 - Public service',\n",
       "       '151 - Outside rubbish, trash or waste fire', '100 - Fire, other',\n",
       "       '710 - Malicious, mischievous false call, other',\n",
       "       '140 - Natural vegetation fire, other',\n",
       "       '463 - Vehicle accident, general cleanup',\n",
       "       '220 - Rupture from air or gas, other',\n",
       "       '715 - Local alarm sys., Malicious False alarm',\n",
       "       '130 - Mobile property (vehicle) fire, other',\n",
       "       '154 - Dumpster/Outside trash receptacle fire',\n",
       "       '223 - Air/gas rupture of pressure or process',\n",
       "       '713 - Telephone, malicious false alarm',\n",
       "       '721 - Bomb scare - no bomb', '300 - Rescue, EMS call, other',\n",
       "       '712 - Direct tie to FD, malicious/false alarm',\n",
       "       '321 - EMS excluding veh. accident w/injuries',\n",
       "       '352 - Extrication of victim(s) from vehicle',\n",
       "       '714 - Central station, malicious false alarm',\n",
       "       '353 - Removal of victim(s) from stalled elev.',\n",
       "       '400 - Hazardous condition, other',\n",
       "       '114 - Chimney/flue fire, confined to chimney',\n",
       "       '911 - Citizen complaint',\n",
       "       '731 - Sprinkler activation due to malfunction',\n",
       "       '410 - Flammable gas or liquid condition, other',\n",
       "       '440 - Elec. wiring/equip. problem, other',\n",
       "       '460 - Accident, potential accident, other',\n",
       "       '652 - Steam/vapor/fog/dust mistaken for smoke',\n",
       "       '160 - Special outside fire, other',\n",
       "       '221 - Rupture air or gas, pipe/pipline', '521 - Water evacuation',\n",
       "       '650 - Steam/gas mistaken for smoke, other',\n",
       "       '422 - Chemical spill or leak(haz.)', '812 - Flood assessment',\n",
       "       '621 - Wrong location', '240 - Explosion (no fire), other',\n",
       "       '672 - Biological hazard investigation,none found',\n",
       "       '510 - Person in distress, other',\n",
       "       '213 - Steam rupture, pressure/process vessel',\n",
       "       '611 - Dispatched & canceled en route',\n",
       "       '360 - Water & ice related rescue, other', '542 - Animal rescue',\n",
       "       '661 - EMS call, party transported by non-fire ag',\n",
       "       '671 - Hazmat release investigation w/no hazmat',\n",
       "       '461 - Bldg/structure weakened or collapsed',\n",
       "       '200 - Overpressure rupture/explosion, overheat',\n",
       "       '441 - Heat- short circuit, defect/worn wiring',\n",
       "       '541 - Animal problem', '443 - Light ballast breakdown',\n",
       "       '381 - Rescue or EMS standby',\n",
       "       '641 - Vicinity alarm (incid. another location)',\n",
       "       '364 - Surf rescue', '736 - CO detector activation/malfunction',\n",
       "       '555 - Defective elevator, no occupants',\n",
       "       '742 - Extinguishing system activation',\n",
       "       '350 - Extrication, rescue, other', '11 -',\n",
       "       '356 - High angle rescue', '423 - Refrigeration leak',\n",
       "       '112 - Fires in struct. other than in a bldg.',\n",
       "       '361 - Swimming/recreational water areas rescue',\n",
       "       '561 - Unauthorized burning', '632 - Prescribed fire',\n",
       "       '362 - Ice rescue', '420 - Toxic condition, other (haz.)',\n",
       "       '746 - CO detector activation, no CO',\n",
       "       '431 - Radiation leak, radioactive material',\n",
       "       '340 - Search, other',\n",
       "       '251 - Excess heat, scorth burns with no ign.',\n",
       "       '482 - Threat to burn', '365 - Watercraft rescue',\n",
       "       '372 - Trapped by power lines',\n",
       "       '371 - Electrocution or potential electrocution',\n",
       "       '540 - Animal problem, other',\n",
       "       '734 - Heat detector activation/malfunction',\n",
       "       '153 - Construction or demolition landfill fire',\n",
       "       '163 - Outside gas/vapor combustion explosion',\n",
       "       '512 - Ring or jewelry removal', '462 - Aircraft standby',\n",
       "       '370 - Electrical rescue, other',\n",
       "       '122 - Fire in motor home, camper or RV',\n",
       "       '152 - Garbage dump or sanitary landfill fire',\n",
       "       '123 - Fire in portable bldg., fixed location', '143 - Grass fire',\n",
       "       '212 - Overpressure rupture of steam boiler',\n",
       "       '421 - Chemical hazard (no spill or leak)',\n",
       "       '164 - Outside mailbox fire',\n",
       "       '222 - Rupture of boiler from air or gas',\n",
       "       '116 - Fuel burner/boiler mal., fire coinfined', '1 -',\n",
       "       '480 - Attempted burning, illegal action, other', '10 -',\n",
       "       '117 - Commercial Compactor fire, rubbish only',\n",
       "       '471 - Explosive/bomb removal(bomb scare =721)',\n",
       "       '342 - Search for person in water',\n",
       "       '211 - Steam Rupture, Pipe or pipeline',\n",
       "       '732 - Exting. sys. activation/ malfunction',\n",
       "       '162 - Outside equipment fire',\n",
       "       '571 - Cover assignment, standby, moveup',\n",
       "       '354 - Trench/below grade rescue', '75 -', '25* -',\n",
       "       '814 - Lightning strike (no fire)', '161 - Outside storage fire',\n",
       "       '141 - Forest, woods or wildland fire', 'Y -',\n",
       "       '243 - Fireworks explosion (no fire)',\n",
       "       '341 - Search for person on land', 'CR -',\n",
       "       '357 - Extrication of victim(s) from machinery',\n",
       "       '134 - Water vehicle fire (Boat, Ship, etc.)',\n",
       "       '138 - Off-road vehicle or heavy equipment fire',\n",
       "       '133 - Rail vehicle fire',\n",
       "       '242 - Blasting agent explosion (no fire)',\n",
       "       '137 - Camper or recreational vehicle (RV) fire',\n",
       "       '155 - Outside compactor/compacted trash fire',\n",
       "       '121 - Fire in mob. home used as residence', '71 -',\n",
       "       '173 - Cultivated trees or nursery stock fire',\n",
       "       '231 - Chem. reaction rupture of process vessel',\n",
       "       '241 - Munitions or bomb explosion (no fire)',\n",
       "       '132 - Road freight or transport vehicle fire',\n",
       "       '751 - Biological hazard, malicious false report',\n",
       "       '355 - Confined space rescue',\n",
       "       '170 - Cultivated vegetation, crop fire, other',\n",
       "       '481 - Attempt to burn',\n",
       "       '115 - Incinerator overload/mal.,fire confined',\n",
       "       '815 - Severe weather/Nat. Disaster standby',\n",
       "       '811 - Earthquake assessment', '424 - Carbon monoxide incident',\n",
       "       '813 - Wind storm, tornado/hurricane assessment',\n",
       "       '800 - Severe weather/Nat. disaster, other', '135 - Aircraft fire',\n",
       "       '136 - Self-propelled motor home or RV',\n",
       "       '363 - Swift water rescue',\n",
       "       '120 - Fire mob.prop. used as fixed structure',\n",
       "       '622 - No incident found on arrival/disp. addr.',\n",
       "       '324 - Motor vehicle accident with no injuries.',\n",
       "       '343 - Search for person underground',\n",
       "       '631 - Authorized controlled burning', 'N/A -',\n",
       "       '353 Removal of victim(s) from stalled elevator',\n",
       "       '710 Malicious, mischievous false call, other',\n",
       "       '322 Motor vehicle accident with injuries',\n",
       "       '320 - Emergency Medical Services, other', '100 Fire, other',\n",
       "       '430 - Radioactive condition, other',\n",
       "       '244 - Dust Explosion (no fire)', '520 Water problem, other',\n",
       "       '320 Emergency medical service incident, other',\n",
       "       '510 Person in distress, other',\n",
       "       '743 Smoke detector activation, no fire - unintentional',\n",
       "       '324 Motor vehicle accident with no injuries.',\n",
       "       '735 Alarm system sounded due to malfunction',\n",
       "       '323 Motor vehicle/pedestrian accident (MV Ped)',\n",
       "       '440 Electrical  wiring/equipment problem, other',\n",
       "       '117 Commercial Compactor fire, confined to rubbish',\n",
       "       '711 Municipal alarm system, malicious false alarm',\n",
       "       '900 Special type of incident, other',\n",
       "       '700 False alarm or false call, other',\n",
       "       '744 Detector activation, no fire - unintentional',\n",
       "       '111 Building fire', '151 Outside rubbish, trash or waste fire',\n",
       "       '150 Outside rubbish fire, other', '554 Assist invalid',\n",
       "       '553 Public service',\n",
       "       '411 Gasoline or other flammable liquid spill',\n",
       "       '500 Service Call, other',\n",
       "       '142 Brush or brush-and-grass mixture fire',\n",
       "       '555 Defective elevator, no occupants',\n",
       "       '400 Hazardous condition, other',\n",
       "       '112 Fires in structure other than in a building',\n",
       "       '311 Medical assist, assist EMS crew', '552 Police matter',\n",
       "       '300 Rescue, EMS incident, other', '522 Water or steam leak',\n",
       "       '730 System malfunction, other',\n",
       "       '550 Public service assistance, other',\n",
       "       '131 Passenger vehicle fire', '611 Dispatched & canceled en route',\n",
       "       '600 Good intent call, other', '561 Unauthorized burning',\n",
       "       '740 Unintentional transmission of alarm, other',\n",
       "       '444 Power line down',\n",
       "       '745 Alarm system activation, no fire - unintentional',\n",
       "       '736 CO detector activation due to malfunction',\n",
       "       '331 Lock-in (if lock out , use 511 )',\n",
       "       '531 Smoke or odor removal',\n",
       "       '118 Trash or rubbish fire, contained',\n",
       "       '712 Direct tie to FD, malicious false alarm',\n",
       "       '210 Overpressure rupture from steam, other',\n",
       "       '911 Citizen complaint',\n",
       "       '622 No incident found on arrival at dispatch address',\n",
       "       '412 Gas leak (natural gas or LPG)',\n",
       "       '651 Smoke scare, odor of smoke',\n",
       "       '733 Smoke detector activation due to malfunction',\n",
       "       '140 Natural vegetation fire, other',\n",
       "       '160 Special outside fire, other',\n",
       "       '251 Excessive heat, scorch burns with no ignition',\n",
       "       '113 Cooking fire, confined to container',\n",
       "       '130 Mobile property (vehicle) fire, other',\n",
       "       '715 Local alarm system, malicious false alarm',\n",
       "       '653 Smoke from barbecue, tar kettle',\n",
       "       '243 Fireworks explosion (no fire)',\n",
       "       '445 Arcing, shorted electrical equipment',\n",
       "       '742 Extinguishing system activation',\n",
       "       '154 Dumpster or other outside trash receptacle fire',\n",
       "       '441 Heat from short circuit (wiring), defective/worn',\n",
       "       '732 Extinguishing system activation due to malfunction',\n",
       "       '542 Animal rescue',\n",
       "       '551 Assist police or other governmental agency',\n",
       "       '650 Steam, other gas mistaken for smoke, other',\n",
       "       '352 Extrication of victim(s) from vehicle',\n",
       "       '721 Bomb scare - no bomb', '521 Water evacuation',\n",
       "       '364 Surf rescue',\n",
       "       '321 EMS call, excluding vehicle accident with injury',\n",
       "       '442 Overheated motor',\n",
       "       '132 Road freight or transport vehicle fire',\n",
       "       '356 High-angle rescue', '511 Lock-out',\n",
       "       '746 Carbon monoxide detector activation, no CO',\n",
       "       '741 Sprinkler activation, no fire - unintentional',\n",
       "       '571 Cover assignment, standby, moveup',\n",
       "       '480 Attempted burning, illegal action, other',\n",
       "       '212 Overpressure rupture of steam boiler',\n",
       "       '461 Building or structure weakened or collapsed',\n",
       "       '361 Swimming/recreational water areas rescue',\n",
       "       '463 Vehicle accident, general cleanup',\n",
       "       '631 Authorized controlled burning',\n",
       "       '1230 Fire in portable building (Port-A-Potty)',\n",
       "       '423 Refrigeration leak', '381 Rescue or EMS standby',\n",
       "       '164 Outside mailbox fire',\n",
       "       '661 EMS call, party transported by non-fire agency',\n",
       "       '714 Central station, malicious false alarm',\n",
       "       '713 Telephone, malicious false alarm',\n",
       "       '120 Fire in mobile prop. used as a fixed struc., other',\n",
       "       '222 Overpressure rupture of boiler from air or gas',\n",
       "       '671 HazMat release investigation w/no HazMat',\n",
       "       '351 Extrication of victim(s) from building/structure',\n",
       "       '734 Heat detector activation due to malfunction',\n",
       "       '812 Flood assessment',\n",
       "       '410 Combustible/flammable gas/liquid condition, other',\n",
       "       '365 Watercraft rescue', '422 Chemical spill or leak',\n",
       "       '342 Search for person in water',\n",
       "       '652 Steam, vapor, fog or dust thought to be smoke',\n",
       "       '424 Carbon monoxide incident', '462 Aircraft standby',\n",
       "       '200 Overpressure rupture, explosion, overheat other',\n",
       "       '413 Oil or other combustible liquid spill', '143 Grass fire',\n",
       "       '363 Swift water rescue', '360 Water & ice-related rescue, other',\n",
       "       '751 Biological hazard, malicious false report',\n",
       "       '460 Accident, potential accident, other', '541 Animal problem',\n",
       "       '114 Chimney or flue fire, confined to chimney or flue',\n",
       "       '481 Attempt to burn', '420 Toxic condition, other',\n",
       "       '621 Wrong location',\n",
       "       '641 Vicinity alarm (incident in other location)',\n",
       "       '350 Extrication, rescue, other', '355 Confined space rescue',\n",
       "       '220 Overpressure rupture from air or gas, other',\n",
       "       '357 Extrication of victim(s) from machinery',\n",
       "       '141 Forest, woods or wildland fire',\n",
       "       '240 Explosion (no fire), other',\n",
       "       '421 Chemical hazard (no spill or leak)',\n",
       "       '211 Overpressure rupture of steam pipe or pipeline',\n",
       "       '540 Animal problem, other',\n",
       "       '731 Sprinkler activation due to malfunction',\n",
       "       '138 Off-road vehicle or heavy equipment fire',\n",
       "       '155 Outside stationary compactor/compacted trash fire',\n",
       "       '162 Outside equipment fire', '372 Trapped by power lines',\n",
       "       '122 Fire in motor home, camper, recreational vehicle',\n",
       "       '672 Biological hazard investigation, none found',\n",
       "       '115 Incinerator overload or malfunction, fire confined',\n",
       "       '121 Fire in mobile home used as fixed residence',\n",
       "       '161 Outside storage fire',\n",
       "       '451 Biological hazard, confirmed or suspected',\n",
       "       '173 Cultivated trees or nursery stock fire',\n",
       "       '443 Breakdown of light ballast',\n",
       "       '340 Search for lost person, other',\n",
       "       '471 Explosive, bomb removal (for bomb scare, use 721)',\n",
       "       '213 Steam rupture of pressure or process vessel',\n",
       "       '152 Garbage dump or sanitary landfill fire',\n",
       "       '800 Severe weather or natural disaster, other',\n",
       "       '170 Cultivated vegetation, crop fire, other',\n",
       "       '136 Self-propelled motor home or recreational vehicle',\n",
       "       '241 Munitions or bomb explosion (no fire)',\n",
       "       '512 Ring or jewelry removal', '341 Search for person on land',\n",
       "       '163 Outside gas or vapor combustion explosion',\n",
       "       '370 Electrical rescue, other', '134 Water vehicle fire',\n",
       "       '482 Threat to burn', '354 Trench/below-grade rescue',\n",
       "       '813 Wind storm, tornado/hurricane assessment',\n",
       "       '632 Prescribed fire',\n",
       "       '123 Fire in portable building, fixed location',\n",
       "       '116 Fuel burner/boiler malfunction, fire confined',\n",
       "       '221 Overpressure rupture of air or gas pipe/pipeline',\n",
       "       '137 Camper or recreational vehicle (RV) fire',\n",
       "       '153 Construction or demolition landfill fire',\n",
       "       '371 Electrocution or potential electrocution',\n",
       "       '815 Severe weather or natural disaster standby',\n",
       "       '133 Rail vehicle fire',\n",
       "       '223 Air or gas rupture of pressure or process vessel',\n",
       "       '135 Aircraft fire',\n",
       "       '231 Chemical reaction rupture of process vessel',\n",
       "       '431 Radiation leak, radioactive material',\n",
       "       '430 Radioactive condition, other', '1600 Tent/Encampment fire',\n",
       "       '814 Lightning strike (no fire)',\n",
       "       '4000 Tent/Encampment hazardous condition'], dtype=object)"
      ]
     },
     "execution_count": 94,
     "metadata": {},
     "output_type": "execute_result"
    }
   ],
   "source": [
    "# seems that we should use this to identify causes\n",
    "df_fire['Primary Situation'].unique()"
   ]
  },
  {
   "cell_type": "code",
   "execution_count": 97,
   "metadata": {},
   "outputs": [
    {
     "data": {
      "text/plain": [
       "count    1.299050e+05\n",
       "mean     5.461334e+03\n",
       "std      3.138440e+05\n",
       "min     -2.500000e+04\n",
       "25%      0.000000e+00\n",
       "50%      0.000000e+00\n",
       "75%      0.000000e+00\n",
       "max      1.000000e+08\n",
       "Name: Estimated Property Loss, dtype: float64"
      ]
     },
     "execution_count": 97,
     "metadata": {},
     "output_type": "execute_result"
    }
   ],
   "source": [
    "df_fire['Estimated Property Loss'].describe()"
   ]
  },
  {
   "cell_type": "code",
   "execution_count": 98,
   "metadata": {},
   "outputs": [
    {
     "data": {
      "text/plain": [
       "count    1.369930e+05\n",
       "mean     1.991172e+03\n",
       "std      2.742968e+05\n",
       "min     -5.000000e+03\n",
       "25%      0.000000e+00\n",
       "50%      0.000000e+00\n",
       "75%      0.000000e+00\n",
       "max      1.000000e+08\n",
       "Name: Estimated Contents Loss, dtype: float64"
      ]
     },
     "execution_count": 98,
     "metadata": {},
     "output_type": "execute_result"
    }
   ],
   "source": [
    "df_fire['Estimated Contents Loss'].describe()"
   ]
  },
  {
   "cell_type": "code",
   "execution_count": 99,
   "metadata": {},
   "outputs": [
    {
     "data": {
      "text/plain": [
       "count    538833.000000\n",
       "mean          0.001102\n",
       "std           0.063801\n",
       "min           0.000000\n",
       "25%           0.000000\n",
       "50%           0.000000\n",
       "75%           0.000000\n",
       "max          24.000000\n",
       "Name: Civilian Injuries, dtype: float64"
      ]
     },
     "execution_count": 99,
     "metadata": {},
     "output_type": "execute_result"
    }
   ],
   "source": [
    "df_fire['Civilian Injuries'].describe()"
   ]
  },
  {
   "cell_type": "code",
   "execution_count": 100,
   "metadata": {},
   "outputs": [
    {
     "data": {
      "text/plain": [
       "count    538833.000000\n",
       "mean          0.000063\n",
       "std           0.009036\n",
       "min           0.000000\n",
       "25%           0.000000\n",
       "50%           0.000000\n",
       "75%           0.000000\n",
       "max           3.000000\n",
       "Name: Civilian Fatalities, dtype: float64"
      ]
     },
     "execution_count": 100,
     "metadata": {},
     "output_type": "execute_result"
    }
   ],
   "source": [
    "df_fire['Civilian Fatalities'].describe()"
   ]
  },
  {
   "cell_type": "code",
   "execution_count": null,
   "metadata": {},
   "outputs": [],
   "source": [
    "'Fire Spread',\n",
    "       'No Flame Spead', 'Number of floors with minimum damage',\n",
    "       'Number of floors with significant damage',\n",
    "       'Number of floors with heavy damage',\n",
    "       'Number of floors with extreme damage',"
   ]
  }
 ],
 "metadata": {
  "kernelspec": {
   "display_name": "Python 3",
   "language": "python",
   "name": "python3"
  },
  "language_info": {
   "codemirror_mode": {
    "name": "ipython",
    "version": 3
   },
   "file_extension": ".py",
   "mimetype": "text/x-python",
   "name": "python",
   "nbconvert_exporter": "python",
   "pygments_lexer": "ipython3",
   "version": "3.8.3"
  }
 },
 "nbformat": 4,
 "nbformat_minor": 4
}
