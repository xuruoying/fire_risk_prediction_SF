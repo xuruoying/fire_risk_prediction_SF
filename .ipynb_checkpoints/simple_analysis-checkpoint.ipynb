{
 "cells": [
  {
   "cell_type": "code",
   "execution_count": 37,
   "metadata": {},
   "outputs": [],
   "source": [
    "import pandas as pd\n",
    "import matplotlib.pyplot as plt\n",
    "import seaborn as sns\n",
    "import numpy as np"
   ]
  },
  {
   "cell_type": "code",
   "execution_count": 8,
   "metadata": {},
   "outputs": [
    {
     "data": {
      "text/plain": [
       "(155468, 23)"
      ]
     },
     "execution_count": 8,
     "metadata": {},
     "output_type": "execute_result"
    }
   ],
   "source": [
    "df_fire = pd.read_csv('df_alpha.csv')\n",
    "df_fire.shape"
   ]
  },
  {
   "cell_type": "code",
   "execution_count": 9,
   "metadata": {},
   "outputs": [
    {
     "data": {
      "text/plain": [
       "Index(['yrbuilt', 'from_st', 'total_uses', 'shape_area', 'cie', 'landuse',\n",
       "       'mips', 'mapblklot', 'objectid', 'shape_leng', 'visitor', 'st_type',\n",
       "       'bldgsqft', 'resunits', 'pdr', 'street', 'retail', 'to_st', 'block_num',\n",
       "       'blklot', 'lot_num', 'med', 'fire_count'],\n",
       "      dtype='object')"
      ]
     },
     "execution_count": 9,
     "metadata": {},
     "output_type": "execute_result"
    }
   ],
   "source": [
    "df_fire.columns"
   ]
  },
  {
   "cell_type": "markdown",
   "metadata": {},
   "source": [
    "Land use categories for every parcel in San Francisco. The land use categories are derived from a range of City and commercial databases. Where building square footages were missing from these databases they were derived from a LIDAR survey flown in 2007.\n",
    "\n",
    "Land use categories are as follows (units are square feet):\n",
    "\n",
    "CIE = Cultural, Institutional, Educational\n",
    "MED = Medical\n",
    "MIPS = Office (Management, Information, Professional Services)\n",
    "MIXED = Mixed Uses (Without Residential)\n",
    "MIXRES = Mixed Uses (With Residential)\n",
    "PDR = Industrial (Production, Distribution, Repair)\n",
    "RETAIL/ENT = Retail, Entertainment\n",
    "RESIDENT = Residential\n",
    "VISITOR = Hotels, Visitor Services\n",
    "VACANT = Vacant\n",
    "ROW = Right-of-Way\n",
    "OPENSPACE = Open Space\n",
    "\n",
    "Other attributes are:\n",
    "RESUNITS = Residential Units\n",
    "BLDGSQFT = Square footage data\n",
    "YRBUILT = year built\n",
    "TOTAL_USES = Business points from Dun & Bradstreet were spatially aggregated to the closest parcel, and this field is the sum of the square footage fields\n",
    "The subsequent fields (CIE, MED, MIPS, RETAIL, PDER & VISITOR) were derived using the NAICS codes supplied in the Dun & Bradstreet dataset, and the previous TOTAL_USES column.\n",
    "\n",
    "The determining factor for a parcel's LANDUSE is if the square footage of any non-residential use is 80% or more of its total uses. Otherwise it becomes MIXED.\n",
    "\n",
    "In the case where RESIDENT use has some square footage of non-residential use, this is mainly accessory uses such as home businesses, freelancers, etc."
   ]
  },
  {
   "cell_type": "code",
   "execution_count": 10,
   "metadata": {},
   "outputs": [
    {
     "data": {
      "text/html": [
       "<div>\n",
       "<style scoped>\n",
       "    .dataframe tbody tr th:only-of-type {\n",
       "        vertical-align: middle;\n",
       "    }\n",
       "\n",
       "    .dataframe tbody tr th {\n",
       "        vertical-align: top;\n",
       "    }\n",
       "\n",
       "    .dataframe thead th {\n",
       "        text-align: right;\n",
       "    }\n",
       "</style>\n",
       "<table border=\"1\" class=\"dataframe\">\n",
       "  <thead>\n",
       "    <tr style=\"text-align: right;\">\n",
       "      <th></th>\n",
       "      <th>yrbuilt</th>\n",
       "      <th>from_st</th>\n",
       "      <th>total_uses</th>\n",
       "      <th>shape_area</th>\n",
       "      <th>cie</th>\n",
       "      <th>landuse</th>\n",
       "      <th>mips</th>\n",
       "      <th>mapblklot</th>\n",
       "      <th>objectid</th>\n",
       "      <th>shape_leng</th>\n",
       "      <th>...</th>\n",
       "      <th>resunits</th>\n",
       "      <th>pdr</th>\n",
       "      <th>street</th>\n",
       "      <th>retail</th>\n",
       "      <th>to_st</th>\n",
       "      <th>block_num</th>\n",
       "      <th>blklot</th>\n",
       "      <th>lot_num</th>\n",
       "      <th>med</th>\n",
       "      <th>fire_count</th>\n",
       "    </tr>\n",
       "  </thead>\n",
       "  <tbody>\n",
       "    <tr>\n",
       "      <th>0</th>\n",
       "      <td>1912</td>\n",
       "      <td>838.0</td>\n",
       "      <td>0</td>\n",
       "      <td>3864.061762</td>\n",
       "      <td>0</td>\n",
       "      <td>RESIDENT</td>\n",
       "      <td>0</td>\n",
       "      <td>0026013</td>\n",
       "      <td>1</td>\n",
       "      <td>327.786363</td>\n",
       "      <td>...</td>\n",
       "      <td>5</td>\n",
       "      <td>0</td>\n",
       "      <td>BAY</td>\n",
       "      <td>0</td>\n",
       "      <td>842.0</td>\n",
       "      <td>0026</td>\n",
       "      <td>0026013</td>\n",
       "      <td>013</td>\n",
       "      <td>0</td>\n",
       "      <td>2.0</td>\n",
       "    </tr>\n",
       "    <tr>\n",
       "      <th>1</th>\n",
       "      <td>1900</td>\n",
       "      <td>844.0</td>\n",
       "      <td>3471</td>\n",
       "      <td>3361.025351</td>\n",
       "      <td>0</td>\n",
       "      <td>MIXRES</td>\n",
       "      <td>3471</td>\n",
       "      <td>0026014</td>\n",
       "      <td>2</td>\n",
       "      <td>320.352522</td>\n",
       "      <td>...</td>\n",
       "      <td>1</td>\n",
       "      <td>0</td>\n",
       "      <td>BAY</td>\n",
       "      <td>0</td>\n",
       "      <td>844.0</td>\n",
       "      <td>0026</td>\n",
       "      <td>0026014</td>\n",
       "      <td>014</td>\n",
       "      <td>0</td>\n",
       "      <td>NaN</td>\n",
       "    </tr>\n",
       "    <tr>\n",
       "      <th>2</th>\n",
       "      <td>1900</td>\n",
       "      <td>848.0</td>\n",
       "      <td>0</td>\n",
       "      <td>3272.033196</td>\n",
       "      <td>0</td>\n",
       "      <td>RESIDENT</td>\n",
       "      <td>0</td>\n",
       "      <td>0026015</td>\n",
       "      <td>3</td>\n",
       "      <td>319.046088</td>\n",
       "      <td>...</td>\n",
       "      <td>2</td>\n",
       "      <td>0</td>\n",
       "      <td>BAY</td>\n",
       "      <td>0</td>\n",
       "      <td>850.0</td>\n",
       "      <td>0026</td>\n",
       "      <td>0026015</td>\n",
       "      <td>015</td>\n",
       "      <td>0</td>\n",
       "      <td>4.0</td>\n",
       "    </tr>\n",
       "    <tr>\n",
       "      <th>3</th>\n",
       "      <td>1940</td>\n",
       "      <td>860.0</td>\n",
       "      <td>0</td>\n",
       "      <td>4570.767667</td>\n",
       "      <td>0</td>\n",
       "      <td>RESIDENT</td>\n",
       "      <td>0</td>\n",
       "      <td>0026016</td>\n",
       "      <td>4</td>\n",
       "      <td>279.353002</td>\n",
       "      <td>...</td>\n",
       "      <td>2</td>\n",
       "      <td>0</td>\n",
       "      <td>BAY</td>\n",
       "      <td>0</td>\n",
       "      <td>862.0</td>\n",
       "      <td>0026</td>\n",
       "      <td>0026016</td>\n",
       "      <td>016</td>\n",
       "      <td>0</td>\n",
       "      <td>NaN</td>\n",
       "    </tr>\n",
       "    <tr>\n",
       "      <th>4</th>\n",
       "      <td>1938</td>\n",
       "      <td>870.0</td>\n",
       "      <td>0</td>\n",
       "      <td>5225.823735</td>\n",
       "      <td>0</td>\n",
       "      <td>RESIDENT</td>\n",
       "      <td>0</td>\n",
       "      <td>0026017</td>\n",
       "      <td>5</td>\n",
       "      <td>294.354339</td>\n",
       "      <td>...</td>\n",
       "      <td>2</td>\n",
       "      <td>0</td>\n",
       "      <td>BAY</td>\n",
       "      <td>0</td>\n",
       "      <td>872.0</td>\n",
       "      <td>0026</td>\n",
       "      <td>0026017</td>\n",
       "      <td>017</td>\n",
       "      <td>0</td>\n",
       "      <td>NaN</td>\n",
       "    </tr>\n",
       "  </tbody>\n",
       "</table>\n",
       "<p>5 rows × 23 columns</p>\n",
       "</div>"
      ],
      "text/plain": [
       "   yrbuilt  from_st  total_uses   shape_area  cie   landuse  mips mapblklot  \\\n",
       "0     1912    838.0           0  3864.061762    0  RESIDENT     0   0026013   \n",
       "1     1900    844.0        3471  3361.025351    0    MIXRES  3471   0026014   \n",
       "2     1900    848.0           0  3272.033196    0  RESIDENT     0   0026015   \n",
       "3     1940    860.0           0  4570.767667    0  RESIDENT     0   0026016   \n",
       "4     1938    870.0           0  5225.823735    0  RESIDENT     0   0026017   \n",
       "\n",
       "   objectid  shape_leng  ...  resunits pdr  street  retail  to_st block_num  \\\n",
       "0         1  327.786363  ...         5   0     BAY       0  842.0      0026   \n",
       "1         2  320.352522  ...         1   0     BAY       0  844.0      0026   \n",
       "2         3  319.046088  ...         2   0     BAY       0  850.0      0026   \n",
       "3         4  279.353002  ...         2   0     BAY       0  862.0      0026   \n",
       "4         5  294.354339  ...         2   0     BAY       0  872.0      0026   \n",
       "\n",
       "    blklot  lot_num med fire_count  \n",
       "0  0026013      013   0        2.0  \n",
       "1  0026014      014   0        NaN  \n",
       "2  0026015      015   0        4.0  \n",
       "3  0026016      016   0        NaN  \n",
       "4  0026017      017   0        NaN  \n",
       "\n",
       "[5 rows x 23 columns]"
      ]
     },
     "execution_count": 10,
     "metadata": {},
     "output_type": "execute_result"
    }
   ],
   "source": [
    "df_fire.head()"
   ]
  },
  {
   "cell_type": "code",
   "execution_count": 11,
   "metadata": {},
   "outputs": [
    {
     "data": {
      "text/plain": [
       "count    28421.000000\n",
       "mean         5.253334\n",
       "std         34.245237\n",
       "min          1.000000\n",
       "25%          1.000000\n",
       "50%          1.000000\n",
       "75%          3.000000\n",
       "max       2854.000000\n",
       "Name: fire_count, dtype: float64"
      ]
     },
     "execution_count": 11,
     "metadata": {},
     "output_type": "execute_result"
    }
   ],
   "source": [
    "df_fire['fire_count'].describe()"
   ]
  },
  {
   "cell_type": "code",
   "execution_count": 12,
   "metadata": {},
   "outputs": [
    {
     "data": {
      "text/plain": [
       "count    155468.000000\n",
       "mean       1833.649285\n",
       "std         429.116954\n",
       "min           0.000000\n",
       "25%        1909.000000\n",
       "50%        1926.000000\n",
       "75%        1947.000000\n",
       "max        8687.000000\n",
       "Name: yrbuilt, dtype: float64"
      ]
     },
     "execution_count": 12,
     "metadata": {},
     "output_type": "execute_result"
    }
   ],
   "source": [
    "# year_built\n",
    "df_fire['yrbuilt'].describe()"
   ]
  },
  {
   "cell_type": "code",
   "execution_count": 13,
   "metadata": {},
   "outputs": [
    {
     "data": {
      "text/plain": [
       "array(['RESIDENT', 'MIXRES', 'VACANT', 'PDR', 'OpenSpace', 'VISITOR',\n",
       "       'MIPS', 'MIXED', 'RETAIL/ENT', 'CIE', 'MISSING DATA', 'MED',\n",
       "       'Right of Way'], dtype=object)"
      ]
     },
     "execution_count": 13,
     "metadata": {},
     "output_type": "execute_result"
    }
   ],
   "source": [
    "df_fire['landuse'].unique()\n",
    "#the idea is that use 'landuse' to create dummy variables."
   ]
  },
  {
   "cell_type": "code",
   "execution_count": 14,
   "metadata": {},
   "outputs": [
    {
     "data": {
      "text/plain": [
       "7683"
      ]
     },
     "execution_count": 14,
     "metadata": {},
     "output_type": "execute_result"
    }
   ],
   "source": [
    "df_fire['total_uses'].nunique()"
   ]
  },
  {
   "cell_type": "code",
   "execution_count": 15,
   "metadata": {},
   "outputs": [],
   "source": [
    "# a few land use variable: these are only this parcel's infomation, using Dun & Bradstreet data\n",
    "# all are sqft"
   ]
  },
  {
   "cell_type": "code",
   "execution_count": 16,
   "metadata": {},
   "outputs": [
    {
     "data": {
      "text/plain": [
       "count    1.554680e+05\n",
       "mean     1.530632e+03\n",
       "std      1.281829e+04\n",
       "min      0.000000e+00\n",
       "25%      0.000000e+00\n",
       "50%      0.000000e+00\n",
       "75%      0.000000e+00\n",
       "max      1.576124e+06\n",
       "Name: total_uses, dtype: float64"
      ]
     },
     "execution_count": 16,
     "metadata": {},
     "output_type": "execute_result"
    }
   ],
   "source": [
    "# total sqft usage\n",
    "df_fire['total_uses'].describe()"
   ]
  },
  {
   "cell_type": "code",
   "execution_count": 17,
   "metadata": {},
   "outputs": [
    {
     "data": {
      "text/plain": [
       "count    155468.000000\n",
       "mean        192.312978\n",
       "std        2409.452327\n",
       "min           0.000000\n",
       "25%           0.000000\n",
       "50%           0.000000\n",
       "75%           0.000000\n",
       "max      398149.000000\n",
       "Name: cie, dtype: float64"
      ]
     },
     "execution_count": 17,
     "metadata": {},
     "output_type": "execute_result"
    }
   ],
   "source": [
    "# total point of interest in cultual, institution, education\n",
    "df_fire['cie'].describe()"
   ]
  },
  {
   "cell_type": "code",
   "execution_count": 18,
   "metadata": {},
   "outputs": [
    {
     "data": {
      "text/plain": [
       "count    155468.000000\n",
       "mean        112.357778\n",
       "std        2954.385480\n",
       "min           0.000000\n",
       "25%           0.000000\n",
       "50%           0.000000\n",
       "75%           0.000000\n",
       "max      649787.000000\n",
       "Name: med, dtype: float64"
      ]
     },
     "execution_count": 18,
     "metadata": {},
     "output_type": "execute_result"
    }
   ],
   "source": [
    "# total point of interest in medical\n",
    "df_fire['med'].describe()"
   ]
  },
  {
   "cell_type": "code",
   "execution_count": 19,
   "metadata": {},
   "outputs": [
    {
     "data": {
      "text/plain": [
       "count    155468.000000\n",
       "mean        694.541346\n",
       "std        8892.824073\n",
       "min           0.000000\n",
       "25%           0.000000\n",
       "50%           0.000000\n",
       "75%           0.000000\n",
       "max      932807.000000\n",
       "Name: mips, dtype: float64"
      ]
     },
     "execution_count": 19,
     "metadata": {},
     "output_type": "execute_result"
    }
   ],
   "source": [
    "# total point of interest in office, management, information, professional\n",
    "df_fire['mips'].describe()"
   ]
  },
  {
   "cell_type": "code",
   "execution_count": 20,
   "metadata": {},
   "outputs": [
    {
     "data": {
      "text/plain": [
       "count    155468.000000\n",
       "mean        272.078666\n",
       "std        2272.992865\n",
       "min           0.000000\n",
       "25%           0.000000\n",
       "50%           0.000000\n",
       "75%           0.000000\n",
       "max      387013.000000\n",
       "Name: retail, dtype: float64"
      ]
     },
     "execution_count": 20,
     "metadata": {},
     "output_type": "execute_result"
    }
   ],
   "source": [
    "# total point of interest in retail\n",
    "df_fire['retail'].describe()"
   ]
  },
  {
   "cell_type": "code",
   "execution_count": 21,
   "metadata": {},
   "outputs": [
    {
     "data": {
      "text/plain": [
       "count    155468.000000\n",
       "mean        233.268788\n",
       "std        2071.359310\n",
       "min           0.000000\n",
       "25%           0.000000\n",
       "50%           0.000000\n",
       "75%           0.000000\n",
       "max      373344.000000\n",
       "Name: pdr, dtype: float64"
      ]
     },
     "execution_count": 21,
     "metadata": {},
     "output_type": "execute_result"
    }
   ],
   "source": [
    "# total point of interest in industrial, production, repair\n",
    "df_fire['pdr'].describe()"
   ]
  },
  {
   "cell_type": "code",
   "execution_count": 22,
   "metadata": {},
   "outputs": [
    {
     "data": {
      "text/plain": [
       "count    155468.000000\n",
       "mean         26.072388\n",
       "std         673.809750\n",
       "min           0.000000\n",
       "25%           0.000000\n",
       "50%           0.000000\n",
       "75%           0.000000\n",
       "max       66063.000000\n",
       "Name: visitor, dtype: float64"
      ]
     },
     "execution_count": 22,
     "metadata": {},
     "output_type": "execute_result"
    }
   ],
   "source": [
    "# total point of interest in hotel\n",
    "df_fire['visitor'].describe()"
   ]
  },
  {
   "cell_type": "code",
   "execution_count": 23,
   "metadata": {},
   "outputs": [
    {
     "data": {
      "text/plain": [
       "count    155468.000000\n",
       "mean          2.329605\n",
       "std          10.485015\n",
       "min           0.000000\n",
       "25%           1.000000\n",
       "50%           1.000000\n",
       "75%           2.000000\n",
       "max         720.000000\n",
       "Name: resunits, dtype: float64"
      ]
     },
     "execution_count": 23,
     "metadata": {},
     "output_type": "execute_result"
    }
   ],
   "source": [
    "# total residential units: only one not in sqft\n",
    "df_fire['resunits'].describe()"
   ]
  },
  {
   "cell_type": "code",
   "execution_count": 24,
   "metadata": {},
   "outputs": [
    {
     "data": {
      "text/plain": [
       "count    1.554680e+05\n",
       "mean     3.467095e+03\n",
       "std      2.033387e+04\n",
       "min      0.000000e+00\n",
       "25%      1.173000e+03\n",
       "50%      1.641000e+03\n",
       "75%      2.625000e+03\n",
       "max      3.015837e+06\n",
       "Name: bldgsqft, dtype: float64"
      ]
     },
     "execution_count": 24,
     "metadata": {},
     "output_type": "execute_result"
    }
   ],
   "source": [
    "# building sqft total\n",
    "df_fire['bldgsqft'].describe()"
   ]
  },
  {
   "cell_type": "markdown",
   "metadata": {},
   "source": [
    "# data analysis"
   ]
  },
  {
   "cell_type": "code",
   "execution_count": 25,
   "metadata": {},
   "outputs": [
    {
     "data": {
      "text/plain": [
       "Index(['yrbuilt', 'from_st', 'total_uses', 'shape_area', 'cie', 'landuse',\n",
       "       'mips', 'mapblklot', 'objectid', 'shape_leng', 'visitor', 'st_type',\n",
       "       'bldgsqft', 'resunits', 'pdr', 'street', 'retail', 'to_st', 'block_num',\n",
       "       'blklot', 'lot_num', 'med', 'fire_count'],\n",
       "      dtype='object')"
      ]
     },
     "execution_count": 25,
     "metadata": {},
     "output_type": "execute_result"
    }
   ],
   "source": [
    "df_fire.columns"
   ]
  },
  {
   "cell_type": "code",
   "execution_count": 26,
   "metadata": {},
   "outputs": [
    {
     "name": "stdout",
     "output_type": "stream",
     "text": [
      "Y variable: fire_count\n",
      "Using 10 covariates\n"
     ]
    }
   ],
   "source": [
    "cols_to_use = ['fire_count','bldgsqft','total_uses','cie','mips','visitor', 'pdr', 'retail', 'to_st','med','resunits']\n",
    "\n",
    "x_cols = cols_to_use[1:]\n",
    "y_col = 'fire_count'\n",
    "\n",
    "print('Y variable:',y_col)\n",
    "print('Using {} covariates'.format(len(x_cols)))\n",
    "\n",
    "df = df_fire[cols_to_use]"
   ]
  },
  {
   "cell_type": "code",
   "execution_count": 27,
   "metadata": {},
   "outputs": [],
   "source": [
    "import math\n"
   ]
  },
  {
   "cell_type": "code",
   "execution_count": 31,
   "metadata": {},
   "outputs": [
    {
     "data": {
      "image/png": "[encoded data removed]",
      "text/plain": [
       "<Figure size 576x2520 with 12 Axes>"
      ]
     },
     "metadata": {
      "needs_background": "light"
     },
     "output_type": "display_data"
    }
   ],
   "source": [
    "df_notnull = df.dropna(how='any')\n",
    "plot_rows = math.ceil(len(cols_to_use)/2)\n",
    "\n",
    "f, axes = plt.subplots(plot_rows,2, figsize=(8,35))\n",
    "sns.despine(left=True)\n",
    "\n",
    "for i,col in enumerate(cols_to_use):\n",
    "    row_position = math.floor(i/2)\n",
    "    col_position = i%2\n",
    "    sns.distplot(df_notnull[col], ax=axes[row_position, col_position],kde=False)\n",
    "    axes[row_position, col_position].set_title('{}'.format(col)) \n",
    "\n",
    "plt.tight_layout()\n",
    "plt.show()"
   ]
  },
  {
   "cell_type": "code",
   "execution_count": 25,
   "metadata": {},
   "outputs": [
    {
     "name": "stderr",
     "output_type": "stream",
     "text": [
      "C:\\Users\\Ruoying\\AppData\\Roaming\\Python\\Python36\\site-packages\\seaborn\\distributions.py:2551: FutureWarning: `distplot` is a deprecated function and will be removed in a future version. Please adapt your code to use either `displot` (a figure-level function with similar flexibility) or `histplot` (an axes-level function for histograms).\n",
      "  warnings.warn(msg, FutureWarning)\n"
     ]
    },
    {
     "data": {
      "text/plain": [
       "<AxesSubplot:xlabel='fire_count', ylabel='Density'>"
      ]
     },
     "execution_count": 25,
     "metadata": {},
     "output_type": "execute_result"
    }
   ],
   "source": [
    "sns.distplot(df['fire_count'])"
   ]
  },
  {
   "cell_type": "code",
   "execution_count": 28,
   "metadata": {},
   "outputs": [],
   "source": [
    "from sklearn import linear_model, model_selection\n",
    "from sklearn.metrics import r2_score"
   ]
  },
  {
   "cell_type": "code",
   "execution_count": 32,
   "metadata": {},
   "outputs": [
    {
     "data": {
      "text/plain": [
       "LinearRegression()"
      ]
     },
     "execution_count": 32,
     "metadata": {},
     "output_type": "execute_result"
    }
   ],
   "source": [
    "df_X = df_notnull[x_cols]\n",
    "df_y = df_notnull['fire_count']\n",
    "# split into training and test sets\n",
    "X_train, X_test, y_train, y_test = model_selection.train_test_split(df_X,df_y, test_size = .3)\n",
    "\n",
    "# fit the model\n",
    "regr = linear_model.LinearRegression()\n",
    "regr.fit(X_train, y_train)"
   ]
  },
  {
   "cell_type": "code",
   "execution_count": null,
   "metadata": {
    "collapsed": true
   },
   "outputs": [],
   "source": []
  },
  {
   "cell_type": "code",
   "execution_count": 6,
   "metadata": {},
   "outputs": [],
   "source": [
    "from sklearn.model_selection import KFold\n",
    "from sklearn.metrics import mean_squared_error\n",
    "from sklearn.ensemble import GradientBoostingRegressor\n",
    "from sklearn.model_selection import GridSearchCV\n",
    "#from sklearn.ensemble.partial_dependence import plot_partial_dependence\n",
    "#from sklearn.ensemble.partial_dependence import partial_dependence"
   ]
  },
  {
   "cell_type": "code",
   "execution_count": 33,
   "metadata": {},
   "outputs": [],
   "source": [
    "def RMSE(y_actual, y_predicted):\n",
    "    return np.sqrt(mean_squared_error(y_actual, y_predicted))\n",
    "\n",
    "def cross_val_gb(X,y,cv_method='kfold',k=5, **params):\n",
    "    \"\"\"Estimate gradient boosting regressor using cross validation and return RMSE.\n",
    "    \n",
    "    Args: \n",
    "        X (DataFrame): features data\n",
    "        y (Series): target data\n",
    "        cv_method (str): how to split the data ('kfold' (default) or 'timeseries')\n",
    "        k (int): number of folds (default=5)\n",
    "        **params: keyword arguments for regressor\n",
    "    Returns: \n",
    "        float: mean error (RMSE) across all training/test sets.\n",
    "    \"\"\"\n",
    "    if cv_method == 'kfold':\n",
    "        kf = KFold(n_splits=k, shuffle=True, random_state=2012016)  # use random seed for reproducibility. \n",
    "    \n",
    "    E = np.ones(k)   # this array will hold the errors. \n",
    "    i=0\n",
    "    for train, test in kf.split(X, y): \n",
    "        train_data_x = X.iloc[train]\n",
    "        train_data_y = y.iloc[train]    \n",
    "        test_data_x = X.iloc[test]\n",
    "        test_data_y = y.iloc[test]\n",
    "\n",
    "        # n_estimators is number of trees to build. \n",
    "        grad_boost = GradientBoostingRegressor(loss='ls',criterion='mse', **params)\n",
    "        grad_boost.fit(train_data_x,train_data_y)\n",
    "        predict_y=grad_boost.predict(test_data_x)\n",
    "        E[i] = RMSE(test_data_y, predict_y)\n",
    "        i+=1\n",
    "    return np.mean(E)"
   ]
  },
  {
   "cell_type": "code",
   "execution_count": 34,
   "metadata": {},
   "outputs": [
    {
     "name": "stdout",
     "output_type": "stream",
     "text": [
      "{'learning_rate': 0.1, 'max_depth': 18, 'max_features': 0.3, 'min_samples_leaf': 25}\n",
      "-0.08570343548997564\n"
     ]
    }
   ],
   "source": [
    "# find best model using different parameter\n",
    "param_grid = {'learning_rate':[.5,.2,.1],\n",
    "              'max_depth':[12,16,18],\n",
    "              'min_samples_leaf': [17,25],\n",
    "              'max_features': [.3]\n",
    "              }\n",
    "\n",
    "est= GradientBoostingRegressor(n_estimators = 100)\n",
    "gs_cv = GridSearchCV(est,param_grid).fit(df_X,df_y)\n",
    "\n",
    "print(gs_cv.best_params_)\n",
    "print(gs_cv.best_score_)"
   ]
  },
  {
   "cell_type": "code",
   "execution_count": 35,
   "metadata": {},
   "outputs": [
    {
     "data": {
      "text/plain": [
       "GradientBoostingRegressor(criterion='mse', max_depth=16, max_features=0.3,\n",
       "                          min_samples_leaf=17, n_estimators=500)"
      ]
     },
     "execution_count": 35,
     "metadata": {},
     "output_type": "execute_result"
    }
   ],
   "source": [
    "# best parameters\n",
    "params = {'n_estimators':500,\n",
    "          'learning_rate':0.1,\n",
    "          'max_depth':16,\n",
    "          'min_samples_leaf':17,\n",
    "          'max_features':0.3\n",
    "          }\n",
    "          \n",
    "grad_boost = GradientBoostingRegressor(loss='ls',criterion='mse', **params)\n",
    "grad_boost.fit(df_X,df_y)"
   ]
  },
  {
   "cell_type": "code",
   "execution_count": 38,
   "metadata": {},
   "outputs": [],
   "source": [
    "# model evaluation\n",
    "error_gb = cross_val_gb(df_X,df_y, cv_method='kfold',k=5, **params)"
   ]
  },
  {
   "cell_type": "code",
   "execution_count": 41,
   "metadata": {},
   "outputs": [
    {
     "name": "stdout",
     "output_type": "stream",
     "text": [
      "30.841372414945248\n"
     ]
    }
   ],
   "source": [
    "# how \"well\" does the model do? \n",
    "\n",
    "print(error_gb)"
   ]
  },
  {
   "cell_type": "code",
   "execution_count": null,
   "metadata": {
    "collapsed": true
   },
   "outputs": [],
   "source": [
    "# plot the importances (Relative influence of each variable)\n",
    "gb_o = pd.DataFrame({'features':x_cols,'importance':grad_boost.feature_importances_})\n",
    "gb_o= gb_o.sort_values(by='importance',ascending=False)\n",
    "\n",
    "\n",
    "plt.figure(1,figsize=(12, 6))\n",
    "plt.xticks(range(len(gb_o)), gb_o.features,rotation=45)\n",
    "plt.plot(range(len(gb_o)),gb_o.importance,\"o\")\n",
    "plt.title('Feature importances')\n",
    "plt.show()"
   ]
  },
  {
   "cell_type": "code",
   "execution_count": null,
   "metadata": {
    "collapsed": true
   },
   "outputs": [],
   "source": [
    "features = [0,1,2,3,4,5,6,9,14,31,10]\n",
    "names = df_X.columns\n",
    "fig, axs = plot_partial_dependence(grad_boost, df_X, features,feature_names=names, grid_resolution=50, figsize = (10,10))\n",
    "fig.suptitle('Partial dependence of rental price features')\n",
    "plt.subplots_adjust(top=0.9)  \n",
    "\n",
    "plt.show()"
   ]
  },
  {
   "cell_type": "code",
   "execution_count": null,
   "metadata": {
    "collapsed": true
   },
   "outputs": [],
   "source": [
    "# error analysis\n",
    "y_pred = grad_boost.predict(df_X)\n",
    "# plot predicted vs. actual\n",
    "\n",
    "plt.scatter(y_pred,df_y, color='blue',s=1, alpha=.5)\n",
    "plt.show()"
   ]
  },
  {
   "cell_type": "code",
   "execution_count": null,
   "metadata": {
    "collapsed": true
   },
   "outputs": [],
   "source": [
    "# plot errors vs. predicted\n",
    "plt.scatter(y_pred, y_pred-df_y, color='blue',s=1,alpha=.5 )\n",
    "plt.show()"
   ]
  },
  {
   "cell_type": "code",
   "execution_count": null,
   "metadata": {
    "collapsed": true
   },
   "outputs": [],
   "source": [
    "# plot on the map\n",
    "from matplotlib.colors import Normalize\n",
    "# map the errors. \n",
    "x = df_X['lng']\n",
    "y = df_X['lat']\n",
    "z = y_pred-df_y\n",
    "\n",
    "norm = Normalize(vmin=-1,vmax=1)  # zoom in on middle of error range\n",
    "\n",
    "plt.figure(figsize=(6,9))\n",
    "plt.scatter(x,y, c=z, cmap='jet',s=1,alpha=0.1,edgecolors='face', norm=norm)\n",
    "#plt.xlim(-122.6,-122)\n",
    "#plt.ylim(37.6,38)\n",
    "plt.colorbar()\n",
    "plt.show()"
   ]
  }
 ],
 "metadata": {
  "kernelspec": {
   "display_name": "Python 3",
   "language": "python",
   "name": "python3"
  },
  "language_info": {
   "codemirror_mode": {
    "name": "ipython",
    "version": 3
   },
   "file_extension": ".py",
   "mimetype": "text/x-python",
   "name": "python",
   "nbconvert_exporter": "python",
   "pygments_lexer": "ipython3",
   "version": "3.8.3"
  }
 },
 "nbformat": 4,
 "nbformat_minor": 2
}
