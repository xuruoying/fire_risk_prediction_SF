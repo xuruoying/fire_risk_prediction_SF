{
 "cells": [
  {
   "cell_type": "markdown",
   "metadata": {},
   "source": [
    "# Geodata at block level\n",
    "## including: crime data, census data, etc"
   ]
  },
  {
   "cell_type": "code",
   "execution_count": 1,
   "metadata": {},
   "outputs": [],
   "source": [
    "import geopandas as gpd\n",
    "import pandas as pd\n",
    "import numpy as np\n",
    "from shapely.geometry import Polygon, Point\n",
    "from shapely import wkt\n",
    "from shapely.geometry import *\n",
    "import json\n",
    "\n",
    "import matplotlib.pyplot as plt\n",
    "import seaborn as sns\n",
    "import datetime as dt\n",
    "%matplotlib inline"
   ]
  },
  {
   "cell_type": "markdown",
   "metadata": {},
   "source": [
    "## crime data"
   ]
  },
  {
   "cell_type": "code",
   "execution_count": 2,
   "metadata": {},
   "outputs": [],
   "source": [
    "crime_file = 'D:/Study/insight/project/fire_risk_prediction_SF/data/crime/Police_Department_Incident_Reports__Historical_2003_to_May_2018.csv'\n",
    "df_crime = pd.read_csv(crime_file)\n",
    "\n",
    "recent_crime_file = 'D:/Study/insight/project/fire_risk_prediction_SF/data/crime/Police_Department_Incident_Reports__2018_to_Present.csv'\n",
    "df_recent_crime = pd.read_csv(recent_crime_file)"
   ]
  },
  {
   "cell_type": "code",
   "execution_count": 3,
   "metadata": {},
   "outputs": [
    {
     "data": {
      "text/plain": [
       "Index(['PdId', 'IncidntNum', 'Incident Code', 'Category', 'Descript',\n",
       "       'DayOfWeek', 'Date', 'Time', 'PdDistrict', 'Resolution', 'Address', 'X',\n",
       "       'Y', 'location', 'SF Find Neighborhoods 2 2',\n",
       "       'Current Police Districts 2 2', 'Current Supervisor Districts 2 2',\n",
       "       'Analysis Neighborhoods 2 2', 'DELETE - Fire Prevention Districts 2 2',\n",
       "       'DELETE - Police Districts 2 2', 'DELETE - Supervisor Districts 2 2',\n",
       "       'DELETE - Zip Codes 2 2', 'DELETE - Neighborhoods 2 2',\n",
       "       'DELETE - 2017 Fix It Zones 2 2',\n",
       "       'Civic Center Harm Reduction Project Boundary 2 2',\n",
       "       'Fix It Zones as of 2017-11-06  2 2', 'DELETE - HSOC Zones 2 2',\n",
       "       'Fix It Zones as of 2018-02-07 2 2',\n",
       "       'CBD, BID and GBD Boundaries as of 2017 2 2',\n",
       "       'Areas of Vulnerability, 2016 2 2',\n",
       "       'Central Market/Tenderloin Boundary 2 2',\n",
       "       'Central Market/Tenderloin Boundary Polygon - Updated 2 2',\n",
       "       'HSOC Zones as of 2018-06-05 2 2', 'OWED Public Spaces 2 2',\n",
       "       'Neighborhoods 2'],\n",
       "      dtype='object')"
      ]
     },
     "execution_count": 3,
     "metadata": {},
     "output_type": "execute_result"
    }
   ],
   "source": [
    "df_crime.columns"
   ]
  },
  {
   "cell_type": "code",
   "execution_count": 4,
   "metadata": {},
   "outputs": [
    {
     "data": {
      "text/plain": [
       "Index(['Incident Datetime', 'Incident Date', 'Incident Time', 'Incident Year',\n",
       "       'Incident Day of Week', 'Report Datetime', 'Row ID', 'Incident ID',\n",
       "       'Incident Number', 'CAD Number', 'Report Type Code',\n",
       "       'Report Type Description', 'Filed Online', 'Incident Code',\n",
       "       'Incident Category', 'Incident Subcategory', 'Incident Description',\n",
       "       'Resolution', 'Intersection', 'CNN', 'Police District',\n",
       "       'Analysis Neighborhood', 'Supervisor District', 'Latitude', 'Longitude',\n",
       "       'point', 'SF Find Neighborhoods', 'Current Police Districts',\n",
       "       'Current Supervisor Districts', 'Analysis Neighborhoods',\n",
       "       'HSOC Zones as of 2018-06-05', 'OWED Public Spaces',\n",
       "       'Central Market/Tenderloin Boundary Polygon - Updated',\n",
       "       'Parks Alliance CPSI (27+TL sites)', 'ESNCAG - Boundary File',\n",
       "       'Areas of Vulnerability, 2016'],\n",
       "      dtype='object')"
      ]
     },
     "execution_count": 4,
     "metadata": {},
     "output_type": "execute_result"
    }
   ],
   "source": [
    "df_recent_crime.columns"
   ]
  },
  {
   "cell_type": "code",
   "execution_count": 5,
   "metadata": {},
   "outputs": [
    {
     "data": {
      "text/plain": [
       "'POINT (-122.41982062806301 37.782008780606)'"
      ]
     },
     "execution_count": 5,
     "metadata": {},
     "output_type": "execute_result"
    }
   ],
   "source": [
    "df_crime['location'][0]"
   ]
  },
  {
   "cell_type": "code",
   "execution_count": 6,
   "metadata": {},
   "outputs": [
    {
     "data": {
      "text/plain": [
       "0                                              NaN\n",
       "1                                              NaN\n",
       "2                                              NaN\n",
       "3         (37.75482657770952, -122.39772873392515)\n",
       "4         (37.76653957529556, -122.42204381448558)\n",
       "                            ...                   \n",
       "385982    (37.78880754257507, -122.41188565874671)\n",
       "385983    (37.79226261825945, -122.43620350896612)\n",
       "385984    (37.78829319282882, -122.40840155198468)\n",
       "385985    (37.74123427141981, -122.47449422499847)\n",
       "385986    (37.78829319282882, -122.40840155198468)\n",
       "Name: point, Length: 385987, dtype: object"
      ]
     },
     "execution_count": 6,
     "metadata": {},
     "output_type": "execute_result"
    }
   ],
   "source": [
    "df_recent_crime['point']"
   ]
  },
  {
   "cell_type": "code",
   "execution_count": 9,
   "metadata": {},
   "outputs": [
    {
     "data": {
      "text/plain": [
       "'11/27/2007'"
      ]
     },
     "execution_count": 9,
     "metadata": {},
     "output_type": "execute_result"
    }
   ],
   "source": [
    "df_crime['Date'][0]"
   ]
  },
  {
   "cell_type": "code",
   "execution_count": 11,
   "metadata": {},
   "outputs": [],
   "source": [
    "df_crime['Date'] = pd.to_datetime(df_crime['Date'])\n",
    "df_crime['year'] = df_crime['Date'].dt.year"
   ]
  },
  {
   "cell_type": "code",
   "execution_count": 12,
   "metadata": {},
   "outputs": [
    {
     "data": {
      "text/plain": [
       "array([2007, 2004, 2003, 2013, 2011, 2012, 2005, 2008, 2006, 2010, 2009,\n",
       "       2015, 2016, 2014, 2017, 2018], dtype=int64)"
      ]
     },
     "execution_count": 12,
     "metadata": {},
     "output_type": "execute_result"
    }
   ],
   "source": [
    "df_crime['year'].unique()"
   ]
  },
  {
   "cell_type": "code",
   "execution_count": 28,
   "metadata": {},
   "outputs": [
    {
     "data": {
      "text/plain": [
       "2015    153771\n",
       "2017    151759\n",
       "2013    149639\n",
       "2016    148379\n",
       "2014    147056\n",
       "2003    145073\n",
       "2004    144323\n",
       "2005    138807\n",
       "2012    137334\n",
       "2008    137113\n",
       "2009    136218\n",
       "2006    133726\n",
       "2007    133601\n",
       "2010    129750\n",
       "2011    128563\n",
       "2018     45841\n",
       "Name: year, dtype: int64"
      ]
     },
     "execution_count": 28,
     "metadata": {},
     "output_type": "execute_result"
    }
   ],
   "source": [
    "df_crime['year'].value_counts()"
   ]
  },
  {
   "cell_type": "code",
   "execution_count": 29,
   "metadata": {},
   "outputs": [
    {
     "data": {
      "text/plain": [
       "2018    153789\n",
       "2019    149163\n",
       "2020     83035\n",
       "Name: Incident Year, dtype: int64"
      ]
     },
     "execution_count": 29,
     "metadata": {},
     "output_type": "execute_result"
    }
   ],
   "source": [
    "df_recent_crime['Incident Year'].value_counts()"
   ]
  },
  {
   "cell_type": "code",
   "execution_count": 15,
   "metadata": {},
   "outputs": [
    {
     "data": {
      "text/plain": [
       "array(['OTHER OFFENSES', 'NON-CRIMINAL', 'SUSPICIOUS OCC',\n",
       "       'LARCENY/THEFT', 'DRUG/NARCOTIC', 'ASSAULT', 'PROSTITUTION',\n",
       "       'WARRANTS', 'RECOVERED VEHICLE', 'BURGLARY', 'VEHICLE THEFT',\n",
       "       'ROBBERY', 'SEX OFFENSES, FORCIBLE', 'MISSING PERSON', 'VANDALISM',\n",
       "       'WEAPON LAWS', 'TRESPASS', 'SECONDARY CODES', 'FRAUD',\n",
       "       'FORGERY/COUNTERFEITING', 'STOLEN PROPERTY', 'KIDNAPPING',\n",
       "       'DISORDERLY CONDUCT', 'FAMILY OFFENSES', 'SUICIDE', 'DRUNKENNESS',\n",
       "       'EMBEZZLEMENT', 'EXTORTION', 'DRIVING UNDER THE INFLUENCE',\n",
       "       'ARSON', 'LIQUOR LAWS', 'SEX OFFENSES, NON FORCIBLE', 'LOITERING',\n",
       "       'PORNOGRAPHY/OBSCENE MAT', 'BAD CHECKS', 'BRIBERY', 'GAMBLING',\n",
       "       'TREA'], dtype=object)"
      ]
     },
     "execution_count": 15,
     "metadata": {},
     "output_type": "execute_result"
    }
   ],
   "source": [
    "df_crime['Category'].unique()"
   ]
  },
  {
   "cell_type": "code",
   "execution_count": 17,
   "metadata": {},
   "outputs": [
    {
     "data": {
      "text/plain": [
       "array(['Recovered Vehicle', 'Larceny Theft', 'Lost Property', 'Assault',\n",
       "       'Malicious Mischief', 'Non-Criminal', 'Weapons Offense',\n",
       "       'Missing Person', 'Other', 'Burglary',\n",
       "       'Offences Against The Family And Children',\n",
       "       'Miscellaneous Investigation', 'Other Miscellaneous',\n",
       "       'Disorderly Conduct', 'Suspicious Occ', 'Other Offenses',\n",
       "       'Robbery', 'Motor Vehicle Theft', 'Family Offense', 'Arson',\n",
       "       'Case Closure', 'Suicide', 'Fraud', 'Traffic Violation Arrest',\n",
       "       'Stolen Property', 'Drug Offense', 'Vehicle Misplaced',\n",
       "       'Fire Report', 'Warrant', 'Forgery And Counterfeiting',\n",
       "       'Courtesy Report', 'Sex Offense', 'Traffic Collision', 'Vandalism',\n",
       "       'Weapons Carrying Etc', 'Embezzlement', nan, 'Vehicle Impounded',\n",
       "       'Rape', 'Human Trafficking (A), Commercial Sex Acts',\n",
       "       'Drug Violation', 'Motor Vehicle Theft?', 'Homicide', 'Gambling',\n",
       "       'Prostitution', 'Civil Sidewalks', 'Liquor Laws', 'Suspicious',\n",
       "       'Weapons Offence', 'Human Trafficking, Commercial Sex Acts',\n",
       "       'Human Trafficking (B), Involuntary Servitude'], dtype=object)"
      ]
     },
     "execution_count": 17,
     "metadata": {},
     "output_type": "execute_result"
    }
   ],
   "source": [
    "df_recent_crime['Incident Category'].unique()"
   ]
  },
  {
   "cell_type": "code",
   "execution_count": 30,
   "metadata": {},
   "outputs": [],
   "source": [
    "# makes it easy for crime data: only includes: year, category, location\n",
    "df_crime['type'] = 0\n",
    "df_crime.loc[(df_crime['Category'] == 'ARSON'),'type'] = 1\n",
    "\n",
    "df_recent_crime['type'] = 0\n",
    "df_recent_crime.loc[(df_recent_crime['Incident Category'] == 'Arson'),'type'] = 1"
   ]
  },
  {
   "cell_type": "code",
   "execution_count": 47,
   "metadata": {},
   "outputs": [
    {
     "data": {
      "text/plain": [
       "0         -122.419821\n",
       "1         -122.471221\n",
       "2         -122.475288\n",
       "3         -122.423538\n",
       "4         -122.403631\n",
       "              ...    \n",
       "2160948   -122.410769\n",
       "2160949   -122.394866\n",
       "2160950   -122.457558\n",
       "2160951   -122.502220\n",
       "2160952   -122.393946\n",
       "Name: X, Length: 2115112, dtype: float64"
      ]
     },
     "execution_count": 47,
     "metadata": {},
     "output_type": "execute_result"
    }
   ],
   "source": [
    "df_crime['X']"
   ]
  },
  {
   "cell_type": "code",
   "execution_count": 48,
   "metadata": {},
   "outputs": [],
   "source": [
    "# makes them geodataframe\n",
    "\n",
    "# df_crime: get rid of 2018, and create geometry using 'location'\n",
    "df_crime = df_crime[df_crime['year']<2018]\n",
    "gdf_crime = gpd.GeoDataFrame(\n",
    "    df_crime, geometry=gpd.points_from_xy(df_crime.X, df_crime.Y))\n",
    "\n",
    "\n"
   ]
  },
  {
   "cell_type": "code",
   "execution_count": 36,
   "metadata": {},
   "outputs": [],
   "source": [
    "\n",
    "# df_recent_crime: using 'point', latiture, longitude\n",
    "\n",
    "#df_recent_crime.dropna(axis='point')\n",
    "# 'Latitude', 'Longitude',\n",
    "\n",
    "gdf_recent_crime = gpd.GeoDataFrame(\n",
    "    df_recent_crime, geometry=gpd.points_from_xy(df_recent_crime.Longitude, df_recent_crime.Latitude))"
   ]
  },
  {
   "cell_type": "code",
   "execution_count": 49,
   "metadata": {},
   "outputs": [
    {
     "data": {
      "text/html": [
       "<div>\n",
       "<style scoped>\n",
       "    .dataframe tbody tr th:only-of-type {\n",
       "        vertical-align: middle;\n",
       "    }\n",
       "\n",
       "    .dataframe tbody tr th {\n",
       "        vertical-align: top;\n",
       "    }\n",
       "\n",
       "    .dataframe thead th {\n",
       "        text-align: right;\n",
       "    }\n",
       "</style>\n",
       "<table border=\"1\" class=\"dataframe\">\n",
       "  <thead>\n",
       "    <tr style=\"text-align: right;\">\n",
       "      <th></th>\n",
       "      <th>PdId</th>\n",
       "      <th>IncidntNum</th>\n",
       "      <th>Incident Code</th>\n",
       "      <th>Category</th>\n",
       "      <th>Descript</th>\n",
       "      <th>DayOfWeek</th>\n",
       "      <th>Date</th>\n",
       "      <th>Time</th>\n",
       "      <th>PdDistrict</th>\n",
       "      <th>Resolution</th>\n",
       "      <th>...</th>\n",
       "      <th>CBD, BID and GBD Boundaries as of 2017 2 2</th>\n",
       "      <th>Areas of Vulnerability, 2016 2 2</th>\n",
       "      <th>Central Market/Tenderloin Boundary 2 2</th>\n",
       "      <th>Central Market/Tenderloin Boundary Polygon - Updated 2 2</th>\n",
       "      <th>HSOC Zones as of 2018-06-05 2 2</th>\n",
       "      <th>OWED Public Spaces 2 2</th>\n",
       "      <th>Neighborhoods 2</th>\n",
       "      <th>year</th>\n",
       "      <th>type</th>\n",
       "      <th>geometry</th>\n",
       "    </tr>\n",
       "  </thead>\n",
       "  <tbody>\n",
       "    <tr>\n",
       "      <th>0</th>\n",
       "      <td>7121491514040</td>\n",
       "      <td>71214915</td>\n",
       "      <td>14040</td>\n",
       "      <td>OTHER OFFENSES</td>\n",
       "      <td>INDECENT EXPOSURE</td>\n",
       "      <td>Tuesday</td>\n",
       "      <td>2007-11-27</td>\n",
       "      <td>13:53</td>\n",
       "      <td>NORTHERN</td>\n",
       "      <td>ARREST, CITED</td>\n",
       "      <td>...</td>\n",
       "      <td>8.0</td>\n",
       "      <td>2.0</td>\n",
       "      <td>1.0</td>\n",
       "      <td>1.0</td>\n",
       "      <td>1.0</td>\n",
       "      <td>NaN</td>\n",
       "      <td>21.0</td>\n",
       "      <td>2007</td>\n",
       "      <td>0</td>\n",
       "      <td>POINT (-122.41982 37.78201)</td>\n",
       "    </tr>\n",
       "    <tr>\n",
       "      <th>1</th>\n",
       "      <td>7036663851040</td>\n",
       "      <td>70366638</td>\n",
       "      <td>51040</td>\n",
       "      <td>NON-CRIMINAL</td>\n",
       "      <td>AIDED CASE</td>\n",
       "      <td>Tuesday</td>\n",
       "      <td>2007-03-20</td>\n",
       "      <td>23:10</td>\n",
       "      <td>TARAVAL</td>\n",
       "      <td>NONE</td>\n",
       "      <td>...</td>\n",
       "      <td>NaN</td>\n",
       "      <td>1.0</td>\n",
       "      <td>NaN</td>\n",
       "      <td>NaN</td>\n",
       "      <td>NaN</td>\n",
       "      <td>NaN</td>\n",
       "      <td>46.0</td>\n",
       "      <td>2007</td>\n",
       "      <td>0</td>\n",
       "      <td>POINT (-122.47122 37.74230)</td>\n",
       "    </tr>\n",
       "    <tr>\n",
       "      <th>2</th>\n",
       "      <td>4059322571000</td>\n",
       "      <td>40593225</td>\n",
       "      <td>71000</td>\n",
       "      <td>NON-CRIMINAL</td>\n",
       "      <td>LOST PROPERTY</td>\n",
       "      <td>Thursday</td>\n",
       "      <td>2004-05-20</td>\n",
       "      <td>12:00</td>\n",
       "      <td>TARAVAL</td>\n",
       "      <td>NONE</td>\n",
       "      <td>...</td>\n",
       "      <td>NaN</td>\n",
       "      <td>1.0</td>\n",
       "      <td>NaN</td>\n",
       "      <td>NaN</td>\n",
       "      <td>NaN</td>\n",
       "      <td>NaN</td>\n",
       "      <td>NaN</td>\n",
       "      <td>2004</td>\n",
       "      <td>0</td>\n",
       "      <td>POINT (-122.47529 37.73745)</td>\n",
       "    </tr>\n",
       "    <tr>\n",
       "      <th>3</th>\n",
       "      <td>3085157264070</td>\n",
       "      <td>30851572</td>\n",
       "      <td>64070</td>\n",
       "      <td>SUSPICIOUS OCC</td>\n",
       "      <td>SUSPICIOUS OCCURRENCE</td>\n",
       "      <td>Thursday</td>\n",
       "      <td>2003-07-17</td>\n",
       "      <td>17:35</td>\n",
       "      <td>INGLESIDE</td>\n",
       "      <td>PROSECUTED BY OUTSIDE AGENCY</td>\n",
       "      <td>...</td>\n",
       "      <td>NaN</td>\n",
       "      <td>1.0</td>\n",
       "      <td>NaN</td>\n",
       "      <td>NaN</td>\n",
       "      <td>NaN</td>\n",
       "      <td>NaN</td>\n",
       "      <td>84.0</td>\n",
       "      <td>2003</td>\n",
       "      <td>0</td>\n",
       "      <td>POINT (-122.42354 37.74383)</td>\n",
       "    </tr>\n",
       "    <tr>\n",
       "      <th>4</th>\n",
       "      <td>13067727606304</td>\n",
       "      <td>130677276</td>\n",
       "      <td>6304</td>\n",
       "      <td>LARCENY/THEFT</td>\n",
       "      <td>GRAND THEFT FROM A BUILDING</td>\n",
       "      <td>Thursday</td>\n",
       "      <td>2013-08-15</td>\n",
       "      <td>04:42</td>\n",
       "      <td>SOUTHERN</td>\n",
       "      <td>NONE</td>\n",
       "      <td>...</td>\n",
       "      <td>NaN</td>\n",
       "      <td>1.0</td>\n",
       "      <td>NaN</td>\n",
       "      <td>NaN</td>\n",
       "      <td>NaN</td>\n",
       "      <td>NaN</td>\n",
       "      <td>33.0</td>\n",
       "      <td>2013</td>\n",
       "      <td>0</td>\n",
       "      <td>POINT (-122.40363 37.76666)</td>\n",
       "    </tr>\n",
       "  </tbody>\n",
       "</table>\n",
       "<p>5 rows × 38 columns</p>\n",
       "</div>"
      ],
      "text/plain": [
       "             PdId  IncidntNum  Incident Code        Category  \\\n",
       "0   7121491514040    71214915          14040  OTHER OFFENSES   \n",
       "1   7036663851040    70366638          51040    NON-CRIMINAL   \n",
       "2   4059322571000    40593225          71000    NON-CRIMINAL   \n",
       "3   3085157264070    30851572          64070  SUSPICIOUS OCC   \n",
       "4  13067727606304   130677276           6304   LARCENY/THEFT   \n",
       "\n",
       "                      Descript DayOfWeek       Date   Time PdDistrict  \\\n",
       "0            INDECENT EXPOSURE   Tuesday 2007-11-27  13:53   NORTHERN   \n",
       "1                   AIDED CASE   Tuesday 2007-03-20  23:10    TARAVAL   \n",
       "2                LOST PROPERTY  Thursday 2004-05-20  12:00    TARAVAL   \n",
       "3        SUSPICIOUS OCCURRENCE  Thursday 2003-07-17  17:35  INGLESIDE   \n",
       "4  GRAND THEFT FROM A BUILDING  Thursday 2013-08-15  04:42   SOUTHERN   \n",
       "\n",
       "                     Resolution  ...  \\\n",
       "0                 ARREST, CITED  ...   \n",
       "1                          NONE  ...   \n",
       "2                          NONE  ...   \n",
       "3  PROSECUTED BY OUTSIDE AGENCY  ...   \n",
       "4                          NONE  ...   \n",
       "\n",
       "  CBD, BID and GBD Boundaries as of 2017 2 2  \\\n",
       "0                                        8.0   \n",
       "1                                        NaN   \n",
       "2                                        NaN   \n",
       "3                                        NaN   \n",
       "4                                        NaN   \n",
       "\n",
       "   Areas of Vulnerability, 2016 2 2  Central Market/Tenderloin Boundary 2 2  \\\n",
       "0                               2.0                                     1.0   \n",
       "1                               1.0                                     NaN   \n",
       "2                               1.0                                     NaN   \n",
       "3                               1.0                                     NaN   \n",
       "4                               1.0                                     NaN   \n",
       "\n",
       "  Central Market/Tenderloin Boundary Polygon - Updated 2 2  \\\n",
       "0                                                1.0         \n",
       "1                                                NaN         \n",
       "2                                                NaN         \n",
       "3                                                NaN         \n",
       "4                                                NaN         \n",
       "\n",
       "   HSOC Zones as of 2018-06-05 2 2  OWED Public Spaces 2 2  Neighborhoods 2  \\\n",
       "0                              1.0                     NaN             21.0   \n",
       "1                              NaN                     NaN             46.0   \n",
       "2                              NaN                     NaN              NaN   \n",
       "3                              NaN                     NaN             84.0   \n",
       "4                              NaN                     NaN             33.0   \n",
       "\n",
       "   year  type                     geometry  \n",
       "0  2007     0  POINT (-122.41982 37.78201)  \n",
       "1  2007     0  POINT (-122.47122 37.74230)  \n",
       "2  2004     0  POINT (-122.47529 37.73745)  \n",
       "3  2003     0  POINT (-122.42354 37.74383)  \n",
       "4  2013     0  POINT (-122.40363 37.76666)  \n",
       "\n",
       "[5 rows x 38 columns]"
      ]
     },
     "execution_count": 49,
     "metadata": {},
     "output_type": "execute_result"
    }
   ],
   "source": [
    "gdf_crime.head()"
   ]
  },
  {
   "cell_type": "code",
   "execution_count": 43,
   "metadata": {},
   "outputs": [
    {
     "data": {
      "text/plain": [
       "Index(['PdId', 'IncidntNum', 'Incident Code', 'Category', 'Descript',\n",
       "       'DayOfWeek', 'Date', 'Time', 'PdDistrict', 'Resolution', 'Address', 'X',\n",
       "       'Y', 'location', 'SF Find Neighborhoods 2 2',\n",
       "       'Current Police Districts 2 2', 'Current Supervisor Districts 2 2',\n",
       "       'Analysis Neighborhoods 2 2', 'DELETE - Fire Prevention Districts 2 2',\n",
       "       'DELETE - Police Districts 2 2', 'DELETE - Supervisor Districts 2 2',\n",
       "       'DELETE - Zip Codes 2 2', 'DELETE - Neighborhoods 2 2',\n",
       "       'DELETE - 2017 Fix It Zones 2 2',\n",
       "       'Civic Center Harm Reduction Project Boundary 2 2',\n",
       "       'Fix It Zones as of 2017-11-06  2 2', 'DELETE - HSOC Zones 2 2',\n",
       "       'Fix It Zones as of 2018-02-07 2 2',\n",
       "       'CBD, BID and GBD Boundaries as of 2017 2 2',\n",
       "       'Areas of Vulnerability, 2016 2 2',\n",
       "       'Central Market/Tenderloin Boundary 2 2',\n",
       "       'Central Market/Tenderloin Boundary Polygon - Updated 2 2',\n",
       "       'HSOC Zones as of 2018-06-05 2 2', 'OWED Public Spaces 2 2',\n",
       "       'Neighborhoods 2', 'year', 'type'],\n",
       "      dtype='object')"
      ]
     },
     "execution_count": 43,
     "metadata": {},
     "output_type": "execute_result"
    }
   ],
   "source": [
    "gdf_crime.columns"
   ]
  },
  {
   "cell_type": "code",
   "execution_count": 44,
   "metadata": {},
   "outputs": [
    {
     "data": {
      "text/html": [
       "<div>\n",
       "<style scoped>\n",
       "    .dataframe tbody tr th:only-of-type {\n",
       "        vertical-align: middle;\n",
       "    }\n",
       "\n",
       "    .dataframe tbody tr th {\n",
       "        vertical-align: top;\n",
       "    }\n",
       "\n",
       "    .dataframe thead th {\n",
       "        text-align: right;\n",
       "    }\n",
       "</style>\n",
       "<table border=\"1\" class=\"dataframe\">\n",
       "  <thead>\n",
       "    <tr style=\"text-align: right;\">\n",
       "      <th></th>\n",
       "      <th>Incident Datetime</th>\n",
       "      <th>Incident Date</th>\n",
       "      <th>Incident Time</th>\n",
       "      <th>Incident Year</th>\n",
       "      <th>Incident Day of Week</th>\n",
       "      <th>Report Datetime</th>\n",
       "      <th>Row ID</th>\n",
       "      <th>Incident ID</th>\n",
       "      <th>Incident Number</th>\n",
       "      <th>CAD Number</th>\n",
       "      <th>...</th>\n",
       "      <th>Current Supervisor Districts</th>\n",
       "      <th>Analysis Neighborhoods</th>\n",
       "      <th>HSOC Zones as of 2018-06-05</th>\n",
       "      <th>OWED Public Spaces</th>\n",
       "      <th>Central Market/Tenderloin Boundary Polygon - Updated</th>\n",
       "      <th>Parks Alliance CPSI (27+TL sites)</th>\n",
       "      <th>ESNCAG - Boundary File</th>\n",
       "      <th>Areas of Vulnerability, 2016</th>\n",
       "      <th>type</th>\n",
       "      <th>geometry</th>\n",
       "    </tr>\n",
       "  </thead>\n",
       "  <tbody>\n",
       "    <tr>\n",
       "      <th>0</th>\n",
       "      <td>2020/08/15 08:56:00 AM</td>\n",
       "      <td>2020/08/15</td>\n",
       "      <td>08:56</td>\n",
       "      <td>2020</td>\n",
       "      <td>Saturday</td>\n",
       "      <td>2020/08/15 08:56:00 AM</td>\n",
       "      <td>95300907041</td>\n",
       "      <td>953009</td>\n",
       "      <td>200474239</td>\n",
       "      <td>NaN</td>\n",
       "      <td>...</td>\n",
       "      <td>NaN</td>\n",
       "      <td>NaN</td>\n",
       "      <td>NaN</td>\n",
       "      <td>NaN</td>\n",
       "      <td>NaN</td>\n",
       "      <td>NaN</td>\n",
       "      <td>NaN</td>\n",
       "      <td>NaN</td>\n",
       "      <td>0</td>\n",
       "      <td>POINT (nan nan)</td>\n",
       "    </tr>\n",
       "    <tr>\n",
       "      <th>1</th>\n",
       "      <td>2020/08/15 09:40:00 AM</td>\n",
       "      <td>2020/08/15</td>\n",
       "      <td>09:40</td>\n",
       "      <td>2020</td>\n",
       "      <td>Saturday</td>\n",
       "      <td>2020/08/15 06:21:00 PM</td>\n",
       "      <td>95322706244</td>\n",
       "      <td>953227</td>\n",
       "      <td>206121692</td>\n",
       "      <td>NaN</td>\n",
       "      <td>...</td>\n",
       "      <td>NaN</td>\n",
       "      <td>NaN</td>\n",
       "      <td>NaN</td>\n",
       "      <td>NaN</td>\n",
       "      <td>NaN</td>\n",
       "      <td>NaN</td>\n",
       "      <td>NaN</td>\n",
       "      <td>NaN</td>\n",
       "      <td>0</td>\n",
       "      <td>POINT (nan nan)</td>\n",
       "    </tr>\n",
       "    <tr>\n",
       "      <th>2</th>\n",
       "      <td>2018/02/24 10:00:00 PM</td>\n",
       "      <td>2018/02/24</td>\n",
       "      <td>22:00</td>\n",
       "      <td>2018</td>\n",
       "      <td>Saturday</td>\n",
       "      <td>2018/03/02 10:13:00 AM</td>\n",
       "      <td>64174871000</td>\n",
       "      <td>641748</td>\n",
       "      <td>186051531</td>\n",
       "      <td>NaN</td>\n",
       "      <td>...</td>\n",
       "      <td>NaN</td>\n",
       "      <td>NaN</td>\n",
       "      <td>NaN</td>\n",
       "      <td>NaN</td>\n",
       "      <td>NaN</td>\n",
       "      <td>NaN</td>\n",
       "      <td>NaN</td>\n",
       "      <td>NaN</td>\n",
       "      <td>0</td>\n",
       "      <td>POINT (nan nan)</td>\n",
       "    </tr>\n",
       "    <tr>\n",
       "      <th>3</th>\n",
       "      <td>2020/08/16 03:13:00 AM</td>\n",
       "      <td>2020/08/16</td>\n",
       "      <td>03:13</td>\n",
       "      <td>2020</td>\n",
       "      <td>Sunday</td>\n",
       "      <td>2020/08/16 03:14:00 AM</td>\n",
       "      <td>95319604083</td>\n",
       "      <td>953196</td>\n",
       "      <td>200491669</td>\n",
       "      <td>202290313.0</td>\n",
       "      <td>...</td>\n",
       "      <td>9.0</td>\n",
       "      <td>26.0</td>\n",
       "      <td>NaN</td>\n",
       "      <td>NaN</td>\n",
       "      <td>NaN</td>\n",
       "      <td>NaN</td>\n",
       "      <td>NaN</td>\n",
       "      <td>2.0</td>\n",
       "      <td>0</td>\n",
       "      <td>POINT (-122.39773 37.75483)</td>\n",
       "    </tr>\n",
       "    <tr>\n",
       "      <th>4</th>\n",
       "      <td>2020/08/16 03:38:00 AM</td>\n",
       "      <td>2020/08/16</td>\n",
       "      <td>03:38</td>\n",
       "      <td>2020</td>\n",
       "      <td>Sunday</td>\n",
       "      <td>2020/08/16 04:56:00 AM</td>\n",
       "      <td>95326228100</td>\n",
       "      <td>953262</td>\n",
       "      <td>200491738</td>\n",
       "      <td>202290404.0</td>\n",
       "      <td>...</td>\n",
       "      <td>2.0</td>\n",
       "      <td>20.0</td>\n",
       "      <td>3.0</td>\n",
       "      <td>NaN</td>\n",
       "      <td>NaN</td>\n",
       "      <td>NaN</td>\n",
       "      <td>NaN</td>\n",
       "      <td>2.0</td>\n",
       "      <td>0</td>\n",
       "      <td>POINT (-122.42204 37.76654)</td>\n",
       "    </tr>\n",
       "  </tbody>\n",
       "</table>\n",
       "<p>5 rows × 38 columns</p>\n",
       "</div>"
      ],
      "text/plain": [
       "        Incident Datetime Incident Date Incident Time  Incident Year  \\\n",
       "0  2020/08/15 08:56:00 AM    2020/08/15         08:56           2020   \n",
       "1  2020/08/15 09:40:00 AM    2020/08/15         09:40           2020   \n",
       "2  2018/02/24 10:00:00 PM    2018/02/24         22:00           2018   \n",
       "3  2020/08/16 03:13:00 AM    2020/08/16         03:13           2020   \n",
       "4  2020/08/16 03:38:00 AM    2020/08/16         03:38           2020   \n",
       "\n",
       "  Incident Day of Week         Report Datetime       Row ID  Incident ID  \\\n",
       "0             Saturday  2020/08/15 08:56:00 AM  95300907041       953009   \n",
       "1             Saturday  2020/08/15 06:21:00 PM  95322706244       953227   \n",
       "2             Saturday  2018/03/02 10:13:00 AM  64174871000       641748   \n",
       "3               Sunday  2020/08/16 03:14:00 AM  95319604083       953196   \n",
       "4               Sunday  2020/08/16 04:56:00 AM  95326228100       953262   \n",
       "\n",
       "   Incident Number   CAD Number  ... Current Supervisor Districts  \\\n",
       "0        200474239          NaN  ...                          NaN   \n",
       "1        206121692          NaN  ...                          NaN   \n",
       "2        186051531          NaN  ...                          NaN   \n",
       "3        200491669  202290313.0  ...                          9.0   \n",
       "4        200491738  202290404.0  ...                          2.0   \n",
       "\n",
       "  Analysis Neighborhoods HSOC Zones as of 2018-06-05  OWED Public Spaces  \\\n",
       "0                    NaN                         NaN                 NaN   \n",
       "1                    NaN                         NaN                 NaN   \n",
       "2                    NaN                         NaN                 NaN   \n",
       "3                   26.0                         NaN                 NaN   \n",
       "4                   20.0                         3.0                 NaN   \n",
       "\n",
       "  Central Market/Tenderloin Boundary Polygon - Updated  \\\n",
       "0                                                NaN     \n",
       "1                                                NaN     \n",
       "2                                                NaN     \n",
       "3                                                NaN     \n",
       "4                                                NaN     \n",
       "\n",
       "  Parks Alliance CPSI (27+TL sites) ESNCAG - Boundary File  \\\n",
       "0                               NaN                    NaN   \n",
       "1                               NaN                    NaN   \n",
       "2                               NaN                    NaN   \n",
       "3                               NaN                    NaN   \n",
       "4                               NaN                    NaN   \n",
       "\n",
       "  Areas of Vulnerability, 2016 type                     geometry  \n",
       "0                          NaN    0              POINT (nan nan)  \n",
       "1                          NaN    0              POINT (nan nan)  \n",
       "2                          NaN    0              POINT (nan nan)  \n",
       "3                          2.0    0  POINT (-122.39773 37.75483)  \n",
       "4                          2.0    0  POINT (-122.42204 37.76654)  \n",
       "\n",
       "[5 rows x 38 columns]"
      ]
     },
     "execution_count": 44,
     "metadata": {},
     "output_type": "execute_result"
    }
   ],
   "source": [
    "gdf_recent_crime.head()"
   ]
  },
  {
   "cell_type": "code",
   "execution_count": 52,
   "metadata": {},
   "outputs": [],
   "source": [
    "gdf_crime = gdf_crime[['year','type','geometry']]\n",
    "\n",
    "gdf_recent_crime = gdf_recent_crime[['Incident Year','type','geometry']]\n",
    "\n",
    "gdf_recent_crime= gdf_recent_crime.rename(columns={\"Incident Year\": \"year\"})"
   ]
  },
  {
   "cell_type": "code",
   "execution_count": 54,
   "metadata": {},
   "outputs": [],
   "source": [
    "gdf_crime_all = pd.concat([gdf_crime,gdf_recent_crime])"
   ]
  },
  {
   "cell_type": "code",
   "execution_count": 56,
   "metadata": {},
   "outputs": [
    {
     "data": {
      "text/plain": [
       "geopandas.geodataframe.GeoDataFrame"
      ]
     },
     "execution_count": 56,
     "metadata": {},
     "output_type": "execute_result"
    }
   ],
   "source": [
    "type(gdf_crime_all)"
   ]
  },
  {
   "cell_type": "markdown",
   "metadata": {},
   "source": [
    "## census block"
   ]
  },
  {
   "cell_type": "code",
   "execution_count": 7,
   "metadata": {},
   "outputs": [],
   "source": [
    "block_file = 'D:/Study/insight/project/fire_risk_prediction_SF/data/Census 2010_ Blocks for San Francisco.geojson'\n",
    "df_block = gpd.read_file(block_file)"
   ]
  },
  {
   "cell_type": "code",
   "execution_count": 8,
   "metadata": {},
   "outputs": [
    {
     "data": {
      "text/plain": [
       "Index(['statefp10', 'mtfcc10', 'uace10', 'name10', 'intptlat10', 'blockce10',\n",
       "       'awater10', 'funcstat10', 'aland10', 'geoid10', 'tractce10',\n",
       "       'intptlon10', 'ur10', 'countyfp10', 'geometry'],\n",
       "      dtype='object')"
      ]
     },
     "execution_count": 8,
     "metadata": {},
     "output_type": "execute_result"
    }
   ],
   "source": [
    "df_block.columns"
   ]
  },
  {
   "cell_type": "code",
   "execution_count": 21,
   "metadata": {},
   "outputs": [
    {
     "data": {
      "text/plain": [
       "'060750213002002'"
      ]
     },
     "execution_count": 21,
     "metadata": {},
     "output_type": "execute_result"
    }
   ],
   "source": [
    "df_block['geoid10'][0]"
   ]
  },
  {
   "cell_type": "code",
   "execution_count": 22,
   "metadata": {},
   "outputs": [
    {
     "data": {
      "text/plain": [
       "'2002'"
      ]
     },
     "execution_count": 22,
     "metadata": {},
     "output_type": "execute_result"
    }
   ],
   "source": [
    "df_block['blockce10'][0]"
   ]
  },
  {
   "cell_type": "markdown",
   "metadata": {},
   "source": [
    "### join block with crime"
   ]
  },
  {
   "cell_type": "code",
   "execution_count": 57,
   "metadata": {},
   "outputs": [],
   "source": [
    "# make sure the two dataset have the same projection\n",
    "gdf_crime_all.crs = df_block.crs"
   ]
  },
  {
   "cell_type": "code",
   "execution_count": 63,
   "metadata": {},
   "outputs": [],
   "source": [
    "# select the types of inspection before inputing this function\n",
    "# these are both GDF! need to convert the crime data into GDF first\n",
    "def process_crime(gdf_block, gdf_crime, year):\n",
    "    \n",
    "    # in order to spatial join, only need id and geometry to keep it simple\n",
    "    gdf_block_simple = gdf_block[['geoid10', 'geometry']]\n",
    "    \n",
    "    gdf_crime = gdf_crime[(gdf_crime['year'] == year)]\n",
    "\n",
    "    # make sure the two dataset have the same projection\n",
    "    gdf_crime_all.crs = gdf_block_simple.crs\n",
    "    \n",
    "    # separate arson and other crimes\n",
    "    gdf_arson = gdf_crime[gdf_crime['type']==1]\n",
    "    gdf_other = gdf_crime[gdf_crime['type']==0]\n",
    "    \n",
    "    #join arson\n",
    "    arson_sjoin = gpd.sjoin(gdf_arson, gdf_block_simple, how=\"inner\", op='within')\n",
    "    #join other crime\n",
    "    other_sjoin = gpd.sjoin(gdf_other, gdf_block_simple, how=\"inner\", op='within')\n",
    "    \n",
    "    # dropnas\n",
    "    arson_sjoin = arson_sjoin.dropna()\n",
    "    other_sjoin = other_sjoin.dropna()\n",
    "    \n",
    "    \n",
    "    # group by parcel id\n",
    "    grouped = arson_sjoin.groupby('geoid10').size()\n",
    "    df_arson_block = grouped.to_frame().reset_index()\n",
    "    df_arson_block.columns = ['geoid10','arson_count']\n",
    "    \n",
    "    # group by parcel id\n",
    "    grouped = other_sjoin.groupby('geoid10').size()\n",
    "    df_other_block = grouped.to_frame().reset_index()\n",
    "    df_other_block.columns = ['geoid10','other_crime_count']\n",
    "    \n",
    "    # merge\n",
    "    df_crime_block = df_arson_block.merge(df_other_block,on='geoid10', how='outer')\n",
    "    \n",
    "    df_crime_block['arson_count'] = df_crime_block['arson_count'].fillna(0)\n",
    "    df_crime_block['other_crime_count'] = df_crime_block['other_crime_count'].fillna(0)\n",
    "    \n",
    "    df_crime_block['year'] = year \n",
    "    \n",
    "    return df_crime_block"
   ]
  },
  {
   "cell_type": "code",
   "execution_count": 67,
   "metadata": {},
   "outputs": [
    {
     "name": "stdout",
     "output_type": "stream",
     "text": [
      "2007, 2008, 2009, 2010, 2011, 2012, 2013, 2014, 2015, 2016, 2017, 2018, 2019, "
     ]
    }
   ],
   "source": [
    "# assemble dataset for crime block, for year 2007-2019\n",
    "import sys\n",
    "\n",
    "if not sys.warnoptions:\n",
    "    import warnings\n",
    "    warnings.simplefilter(\"ignore\")\n",
    "\n",
    "# initiate df\n",
    "df_crime_year = pd.DataFrame()\n",
    "\n",
    "for year in range(2007,2020):\n",
    "    \n",
    "    df_crime_year = pd.concat([df_crime_year,process_crime(df_block, gdf_crime_all, year)])\n",
    "    print(year, end = ', ')"
   ]
  },
  {
   "cell_type": "code",
   "execution_count": 68,
   "metadata": {},
   "outputs": [
    {
     "data": {
      "text/plain": [
       "(70318, 4)"
      ]
     },
     "execution_count": 68,
     "metadata": {},
     "output_type": "execute_result"
    }
   ],
   "source": [
    "df_crime_year.shape"
   ]
  },
  {
   "cell_type": "code",
   "execution_count": 70,
   "metadata": {},
   "outputs": [
    {
     "data": {
      "text/html": [
       "<div>\n",
       "<style scoped>\n",
       "    .dataframe tbody tr th:only-of-type {\n",
       "        vertical-align: middle;\n",
       "    }\n",
       "\n",
       "    .dataframe tbody tr th {\n",
       "        vertical-align: top;\n",
       "    }\n",
       "\n",
       "    .dataframe thead th {\n",
       "        text-align: right;\n",
       "    }\n",
       "</style>\n",
       "<table border=\"1\" class=\"dataframe\">\n",
       "  <thead>\n",
       "    <tr style=\"text-align: right;\">\n",
       "      <th></th>\n",
       "      <th>geoid10</th>\n",
       "      <th>arson_count</th>\n",
       "      <th>other_crime_count</th>\n",
       "      <th>year</th>\n",
       "    </tr>\n",
       "  </thead>\n",
       "  <tbody>\n",
       "    <tr>\n",
       "      <th>0</th>\n",
       "      <td>060750101001006</td>\n",
       "      <td>1.0</td>\n",
       "      <td>63.0</td>\n",
       "      <td>2007</td>\n",
       "    </tr>\n",
       "    <tr>\n",
       "      <th>1</th>\n",
       "      <td>060750101001019</td>\n",
       "      <td>1.0</td>\n",
       "      <td>16.0</td>\n",
       "      <td>2007</td>\n",
       "    </tr>\n",
       "    <tr>\n",
       "      <th>2</th>\n",
       "      <td>060750101001023</td>\n",
       "      <td>1.0</td>\n",
       "      <td>34.0</td>\n",
       "      <td>2007</td>\n",
       "    </tr>\n",
       "    <tr>\n",
       "      <th>3</th>\n",
       "      <td>060750101002005</td>\n",
       "      <td>1.0</td>\n",
       "      <td>39.0</td>\n",
       "      <td>2007</td>\n",
       "    </tr>\n",
       "    <tr>\n",
       "      <th>4</th>\n",
       "      <td>060750101002011</td>\n",
       "      <td>1.0</td>\n",
       "      <td>44.0</td>\n",
       "      <td>2007</td>\n",
       "    </tr>\n",
       "  </tbody>\n",
       "</table>\n",
       "</div>"
      ],
      "text/plain": [
       "           geoid10  arson_count  other_crime_count  year\n",
       "0  060750101001006          1.0               63.0  2007\n",
       "1  060750101001019          1.0               16.0  2007\n",
       "2  060750101001023          1.0               34.0  2007\n",
       "3  060750101002005          1.0               39.0  2007\n",
       "4  060750101002011          1.0               44.0  2007"
      ]
     },
     "execution_count": 70,
     "metadata": {},
     "output_type": "execute_result"
    }
   ],
   "source": [
    "df_crime_year.head()"
   ]
  },
  {
   "cell_type": "code",
   "execution_count": 74,
   "metadata": {},
   "outputs": [],
   "source": [
    "df_crime_year['block_id'] = pd.to_numeric(df_crime_year.geoid10, errors='coerce').astype(np.int64)"
   ]
  },
  {
   "cell_type": "code",
   "execution_count": 75,
   "metadata": {},
   "outputs": [
    {
     "data": {
      "text/html": [
       "<div>\n",
       "<style scoped>\n",
       "    .dataframe tbody tr th:only-of-type {\n",
       "        vertical-align: middle;\n",
       "    }\n",
       "\n",
       "    .dataframe tbody tr th {\n",
       "        vertical-align: top;\n",
       "    }\n",
       "\n",
       "    .dataframe thead th {\n",
       "        text-align: right;\n",
       "    }\n",
       "</style>\n",
       "<table border=\"1\" class=\"dataframe\">\n",
       "  <thead>\n",
       "    <tr style=\"text-align: right;\">\n",
       "      <th></th>\n",
       "      <th>geoid10</th>\n",
       "      <th>arson_count</th>\n",
       "      <th>other_crime_count</th>\n",
       "      <th>year</th>\n",
       "      <th>block_id</th>\n",
       "    </tr>\n",
       "  </thead>\n",
       "  <tbody>\n",
       "    <tr>\n",
       "      <th>0</th>\n",
       "      <td>060750101001006</td>\n",
       "      <td>1.0</td>\n",
       "      <td>63.0</td>\n",
       "      <td>2007</td>\n",
       "      <td>60750101001006</td>\n",
       "    </tr>\n",
       "    <tr>\n",
       "      <th>1</th>\n",
       "      <td>060750101001019</td>\n",
       "      <td>1.0</td>\n",
       "      <td>16.0</td>\n",
       "      <td>2007</td>\n",
       "      <td>60750101001019</td>\n",
       "    </tr>\n",
       "    <tr>\n",
       "      <th>2</th>\n",
       "      <td>060750101001023</td>\n",
       "      <td>1.0</td>\n",
       "      <td>34.0</td>\n",
       "      <td>2007</td>\n",
       "      <td>60750101001023</td>\n",
       "    </tr>\n",
       "    <tr>\n",
       "      <th>3</th>\n",
       "      <td>060750101002005</td>\n",
       "      <td>1.0</td>\n",
       "      <td>39.0</td>\n",
       "      <td>2007</td>\n",
       "      <td>60750101002005</td>\n",
       "    </tr>\n",
       "    <tr>\n",
       "      <th>4</th>\n",
       "      <td>060750101002011</td>\n",
       "      <td>1.0</td>\n",
       "      <td>44.0</td>\n",
       "      <td>2007</td>\n",
       "      <td>60750101002011</td>\n",
       "    </tr>\n",
       "  </tbody>\n",
       "</table>\n",
       "</div>"
      ],
      "text/plain": [
       "           geoid10  arson_count  other_crime_count  year        block_id\n",
       "0  060750101001006          1.0               63.0  2007  60750101001006\n",
       "1  060750101001019          1.0               16.0  2007  60750101001019\n",
       "2  060750101001023          1.0               34.0  2007  60750101001023\n",
       "3  060750101002005          1.0               39.0  2007  60750101002005\n",
       "4  060750101002011          1.0               44.0  2007  60750101002011"
      ]
     },
     "execution_count": 75,
     "metadata": {},
     "output_type": "execute_result"
    }
   ],
   "source": [
    "df_crime_year.head()"
   ]
  },
  {
   "cell_type": "markdown",
   "metadata": {},
   "source": [
    "## access data and census data"
   ]
  },
  {
   "cell_type": "code",
   "execution_count": 18,
   "metadata": {},
   "outputs": [],
   "source": [
    "access_file = 'D:/Study/insight/project/fire_risk_prediction_SF/data/ba_block_variables.csv'\n",
    "df_access = pd.read_csv(access_file)"
   ]
  },
  {
   "cell_type": "code",
   "execution_count": 19,
   "metadata": {},
   "outputs": [
    {
     "data": {
      "text/plain": [
       "Index(['block_id', 'x', 'y', 'res_rents', 'res_values', 'square_meters_land',\n",
       "       'puma10_id', 'residential_unit_capacity', 'employment_capacity',\n",
       "       'rent_impute',\n",
       "       ...\n",
       "       'tracts_prop_persons_8', 'tracts_prop_persons_9', 'nodes_du_1500m',\n",
       "       'nodes_ave_year_built_3000m', 'tracts_prop_persons_5',\n",
       "       'tracts_prop_persons_6', 'tracts_prop_persons_7',\n",
       "       'tracts_prop_persons_1', 'tracts_prop_persons_2',\n",
       "       'tracts_prop_persons_3'],\n",
       "      dtype='object', length=1015)"
      ]
     },
     "execution_count": 19,
     "metadata": {},
     "output_type": "execute_result"
    }
   ],
   "source": [
    "df_access.columns"
   ]
  },
  {
   "cell_type": "code",
   "execution_count": 25,
   "metadata": {},
   "outputs": [
    {
     "data": {
      "text/plain": [
       "60014271001001"
      ]
     },
     "execution_count": 25,
     "metadata": {},
     "output_type": "execute_result"
    }
   ],
   "source": [
    "df_access['block_id'][1]"
   ]
  },
  {
   "cell_type": "code",
   "execution_count": 26,
   "metadata": {},
   "outputs": [
    {
     "data": {
      "text/plain": [
       "(109228, 1015)"
      ]
     },
     "execution_count": 26,
     "metadata": {},
     "output_type": "execute_result"
    }
   ],
   "source": [
    "df_access.shape"
   ]
  },
  {
   "cell_type": "code",
   "execution_count": 76,
   "metadata": {},
   "outputs": [],
   "source": [
    "df_final = df_crime_year.merge(df_access,on='block_id', how='outer')"
   ]
  },
  {
   "cell_type": "code",
   "execution_count": 77,
   "metadata": {},
   "outputs": [
    {
     "data": {
      "text/html": [
       "<div>\n",
       "<style scoped>\n",
       "    .dataframe tbody tr th:only-of-type {\n",
       "        vertical-align: middle;\n",
       "    }\n",
       "\n",
       "    .dataframe tbody tr th {\n",
       "        vertical-align: top;\n",
       "    }\n",
       "\n",
       "    .dataframe thead th {\n",
       "        text-align: right;\n",
       "    }\n",
       "</style>\n",
       "<table border=\"1\" class=\"dataframe\">\n",
       "  <thead>\n",
       "    <tr style=\"text-align: right;\">\n",
       "      <th></th>\n",
       "      <th>geoid10</th>\n",
       "      <th>arson_count</th>\n",
       "      <th>other_crime_count</th>\n",
       "      <th>year</th>\n",
       "      <th>block_id</th>\n",
       "      <th>x</th>\n",
       "      <th>y</th>\n",
       "      <th>res_rents</th>\n",
       "      <th>res_values</th>\n",
       "      <th>square_meters_land</th>\n",
       "      <th>...</th>\n",
       "      <th>tracts_prop_persons_8</th>\n",
       "      <th>tracts_prop_persons_9</th>\n",
       "      <th>nodes_du_1500m</th>\n",
       "      <th>nodes_ave_year_built_3000m</th>\n",
       "      <th>tracts_prop_persons_5</th>\n",
       "      <th>tracts_prop_persons_6</th>\n",
       "      <th>tracts_prop_persons_7</th>\n",
       "      <th>tracts_prop_persons_1</th>\n",
       "      <th>tracts_prop_persons_2</th>\n",
       "      <th>tracts_prop_persons_3</th>\n",
       "    </tr>\n",
       "  </thead>\n",
       "  <tbody>\n",
       "    <tr>\n",
       "      <th>0</th>\n",
       "      <td>060750101001006</td>\n",
       "      <td>1.0</td>\n",
       "      <td>63.0</td>\n",
       "      <td>2007.0</td>\n",
       "      <td>60750101001006</td>\n",
       "      <td>-122.416532</td>\n",
       "      <td>37.807644</td>\n",
       "      <td>1202.0</td>\n",
       "      <td>759900.0</td>\n",
       "      <td>15459</td>\n",
       "      <td>...</td>\n",
       "      <td>0.000478</td>\n",
       "      <td>0.0</td>\n",
       "      <td>8.426771</td>\n",
       "      <td>1947.471558</td>\n",
       "      <td>0.006699</td>\n",
       "      <td>0.002871</td>\n",
       "      <td>0.000478</td>\n",
       "      <td>0.564115</td>\n",
       "      <td>0.314354</td>\n",
       "      <td>0.078469</td>\n",
       "    </tr>\n",
       "    <tr>\n",
       "      <th>1</th>\n",
       "      <td>060750101001006</td>\n",
       "      <td>NaN</td>\n",
       "      <td>50.0</td>\n",
       "      <td>2008.0</td>\n",
       "      <td>60750101001006</td>\n",
       "      <td>-122.416532</td>\n",
       "      <td>37.807644</td>\n",
       "      <td>1202.0</td>\n",
       "      <td>759900.0</td>\n",
       "      <td>15459</td>\n",
       "      <td>...</td>\n",
       "      <td>0.000478</td>\n",
       "      <td>0.0</td>\n",
       "      <td>8.426771</td>\n",
       "      <td>1947.471558</td>\n",
       "      <td>0.006699</td>\n",
       "      <td>0.002871</td>\n",
       "      <td>0.000478</td>\n",
       "      <td>0.564115</td>\n",
       "      <td>0.314354</td>\n",
       "      <td>0.078469</td>\n",
       "    </tr>\n",
       "    <tr>\n",
       "      <th>2</th>\n",
       "      <td>060750101001006</td>\n",
       "      <td>NaN</td>\n",
       "      <td>36.0</td>\n",
       "      <td>2009.0</td>\n",
       "      <td>60750101001006</td>\n",
       "      <td>-122.416532</td>\n",
       "      <td>37.807644</td>\n",
       "      <td>1202.0</td>\n",
       "      <td>759900.0</td>\n",
       "      <td>15459</td>\n",
       "      <td>...</td>\n",
       "      <td>0.000478</td>\n",
       "      <td>0.0</td>\n",
       "      <td>8.426771</td>\n",
       "      <td>1947.471558</td>\n",
       "      <td>0.006699</td>\n",
       "      <td>0.002871</td>\n",
       "      <td>0.000478</td>\n",
       "      <td>0.564115</td>\n",
       "      <td>0.314354</td>\n",
       "      <td>0.078469</td>\n",
       "    </tr>\n",
       "    <tr>\n",
       "      <th>3</th>\n",
       "      <td>060750101001006</td>\n",
       "      <td>NaN</td>\n",
       "      <td>47.0</td>\n",
       "      <td>2010.0</td>\n",
       "      <td>60750101001006</td>\n",
       "      <td>-122.416532</td>\n",
       "      <td>37.807644</td>\n",
       "      <td>1202.0</td>\n",
       "      <td>759900.0</td>\n",
       "      <td>15459</td>\n",
       "      <td>...</td>\n",
       "      <td>0.000478</td>\n",
       "      <td>0.0</td>\n",
       "      <td>8.426771</td>\n",
       "      <td>1947.471558</td>\n",
       "      <td>0.006699</td>\n",
       "      <td>0.002871</td>\n",
       "      <td>0.000478</td>\n",
       "      <td>0.564115</td>\n",
       "      <td>0.314354</td>\n",
       "      <td>0.078469</td>\n",
       "    </tr>\n",
       "    <tr>\n",
       "      <th>4</th>\n",
       "      <td>060750101001006</td>\n",
       "      <td>NaN</td>\n",
       "      <td>45.0</td>\n",
       "      <td>2011.0</td>\n",
       "      <td>60750101001006</td>\n",
       "      <td>-122.416532</td>\n",
       "      <td>37.807644</td>\n",
       "      <td>1202.0</td>\n",
       "      <td>759900.0</td>\n",
       "      <td>15459</td>\n",
       "      <td>...</td>\n",
       "      <td>0.000478</td>\n",
       "      <td>0.0</td>\n",
       "      <td>8.426771</td>\n",
       "      <td>1947.471558</td>\n",
       "      <td>0.006699</td>\n",
       "      <td>0.002871</td>\n",
       "      <td>0.000478</td>\n",
       "      <td>0.564115</td>\n",
       "      <td>0.314354</td>\n",
       "      <td>0.078469</td>\n",
       "    </tr>\n",
       "  </tbody>\n",
       "</table>\n",
       "<p>5 rows × 1019 columns</p>\n",
       "</div>"
      ],
      "text/plain": [
       "           geoid10  arson_count  other_crime_count    year        block_id  \\\n",
       "0  060750101001006          1.0               63.0  2007.0  60750101001006   \n",
       "1  060750101001006          NaN               50.0  2008.0  60750101001006   \n",
       "2  060750101001006          NaN               36.0  2009.0  60750101001006   \n",
       "3  060750101001006          NaN               47.0  2010.0  60750101001006   \n",
       "4  060750101001006          NaN               45.0  2011.0  60750101001006   \n",
       "\n",
       "            x          y  res_rents  res_values  square_meters_land  ...  \\\n",
       "0 -122.416532  37.807644     1202.0    759900.0               15459  ...   \n",
       "1 -122.416532  37.807644     1202.0    759900.0               15459  ...   \n",
       "2 -122.416532  37.807644     1202.0    759900.0               15459  ...   \n",
       "3 -122.416532  37.807644     1202.0    759900.0               15459  ...   \n",
       "4 -122.416532  37.807644     1202.0    759900.0               15459  ...   \n",
       "\n",
       "   tracts_prop_persons_8  tracts_prop_persons_9  nodes_du_1500m  \\\n",
       "0               0.000478                    0.0        8.426771   \n",
       "1               0.000478                    0.0        8.426771   \n",
       "2               0.000478                    0.0        8.426771   \n",
       "3               0.000478                    0.0        8.426771   \n",
       "4               0.000478                    0.0        8.426771   \n",
       "\n",
       "   nodes_ave_year_built_3000m  tracts_prop_persons_5  tracts_prop_persons_6  \\\n",
       "0                 1947.471558               0.006699               0.002871   \n",
       "1                 1947.471558               0.006699               0.002871   \n",
       "2                 1947.471558               0.006699               0.002871   \n",
       "3                 1947.471558               0.006699               0.002871   \n",
       "4                 1947.471558               0.006699               0.002871   \n",
       "\n",
       "   tracts_prop_persons_7  tracts_prop_persons_1  tracts_prop_persons_2  \\\n",
       "0               0.000478               0.564115               0.314354   \n",
       "1               0.000478               0.564115               0.314354   \n",
       "2               0.000478               0.564115               0.314354   \n",
       "3               0.000478               0.564115               0.314354   \n",
       "4               0.000478               0.564115               0.314354   \n",
       "\n",
       "   tracts_prop_persons_3  \n",
       "0               0.078469  \n",
       "1               0.078469  \n",
       "2               0.078469  \n",
       "3               0.078469  \n",
       "4               0.078469  \n",
       "\n",
       "[5 rows x 1019 columns]"
      ]
     },
     "execution_count": 77,
     "metadata": {},
     "output_type": "execute_result"
    }
   ],
   "source": [
    "df_final.head()"
   ]
  },
  {
   "cell_type": "code",
   "execution_count": 82,
   "metadata": {},
   "outputs": [],
   "source": [
    "# the data is too large: select useful data to output as csv\n",
    "cols_to_use = ['block_id','arson_count','other_crime_count','year',\n",
    "        'nodes_population_1500m','block_groups_total_jobs', 'block_groups_median_children', \n",
    "       'block_groups_median_income', 'prop_tenure_1', 'nodes_low_income_hh_1500m', 'nodes_high_income_hh_1500m', \n",
    "       'nodes_jobs_3000m','nodes_jobs_20km', 'nodes_population_400m', 'nodes_population_800m', \n",
    "       'block_groups_prop_race_of_head_1','block_groups_prop_race_of_head_2', 'block_groups_prop_race_of_head_3', \n",
    "       'block_groups_prop_race_of_head_7','block_groups_prop_race_of_head_8','block_groups_prop_race_of_head_6',\n",
    "       'pumas_density_residential_units','block_groups_density_jobs', \n",
    "       'nodes_jobs_1500m_4445','nodes_jobs_3000m_4445', \n",
    "       'nodes_du_5000m','nodes_du_800m','block_groups_median_rent',\n",
    "       'block_groups_median_persons', 'block_groups_median_age_of_head', 'nodes_ave_year_built_800m']\n",
    "\n",
    "df_output = df_final[cols_to_use]"
   ]
  },
  {
   "cell_type": "code",
   "execution_count": 84,
   "metadata": {},
   "outputs": [],
   "source": [
    "df_output.to_csv('sf_crime_census.csv', index=False)"
   ]
  },
  {
   "cell_type": "code",
   "execution_count": null,
   "metadata": {},
   "outputs": [],
   "source": []
  }
 ],
 "metadata": {
  "kernelspec": {
   "display_name": "geoenv",
   "language": "python",
   "name": "geoenv"
  },
  "language_info": {
   "codemirror_mode": {
    "name": "ipython",
    "version": 3
   },
   "file_extension": ".py",
   "mimetype": "text/x-python",
   "name": "python",
   "nbconvert_exporter": "python",
   "pygments_lexer": "ipython3",
   "version": "3.8.5"
  }
 },
 "nbformat": 4,
 "nbformat_minor": 4
}
