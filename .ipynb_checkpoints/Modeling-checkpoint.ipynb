{
 "cells": [
  {
   "cell_type": "code",
   "execution_count": 1,
   "metadata": {},
   "outputs": [],
   "source": [
    "import pandas as pd"
   ]
  },
  {
   "cell_type": "code",
   "execution_count": 1,
   "metadata": {},
   "outputs": [],
   "source": [
    "from sklearn.model_selection import train_test_split\n",
    "from sklearn.ensemble import RandomForestClassifier, GradientBoostingClassifier\n",
    "from sklearn.feature_selection import SelectFromModel\n",
    "from sklearn.metrics import roc_curve, roc_auc_score\n",
    "from sklearn.pipeline import Pipeline\n",
    "from sklearn.model_selection import cross_validate, GridSearchCV, learning_curve\n",
    "from sklearn.preprocessing import StandardScaler, LabelEncoder\n",
    "from sklearn.linear_model import LogisticRegression\n",
    "from sklearn.model_selection import cross_val_score\n",
    "from sklearn.model_selection import RepeatedStratifiedKFold\n",
    "\n",
    "#import sklearn\n",
    "#sorted(sklearn.metrics.SCORERS.keys())"
   ]
  },
  {
   "cell_type": "code",
   "execution_count": 2,
   "metadata": {},
   "outputs": [],
   "source": [
    "import numpy as np\n",
    "import pandas as pd\n",
    "import seaborn as sns\n",
    "import matplotlib.pyplot as plt\n",
    "import time\n",
    "import pickle\n",
    "plt.style.use('seaborn-talk')"
   ]
  },
  {
   "cell_type": "markdown",
   "metadata": {},
   "source": [
    "# XGBOOST"
   ]
  },
  {
   "cell_type": "code",
   "execution_count": 54,
   "metadata": {},
   "outputs": [
    {
     "name": "stdout",
     "output_type": "stream",
     "text": [
      "(155466, 2)\n",
      "(1243744, 28)\n",
      "(1243744, 29)\n",
      "(1243744, 58)\n"
     ]
    }
   ],
   "source": [
    "import pandas as pd\n",
    "# first load the building + fire data\n",
    "df = pd.read_csv('third_analysis.csv')\n",
    "# crime + census\n",
    "df_crime = pd.read_csv('sf_crime_census.csv')\n",
    "# link parce with blk\n",
    "df_joint = pd.read_csv('parcel_blk.csv')\n",
    "# drop duplicate\n",
    "df_joint = df_joint.drop_duplicates(subset=['objectid'], keep='first')\n",
    "print(df_joint.shape)\n",
    "print(df.shape)\n",
    "# joint df with df_joint on objectid\n",
    "# then join them with df_crime on block_id and year\n",
    "\n",
    "df = df.merge(df_joint,on='objectid', how='left')\n",
    "print(df.shape)\n",
    "# df_crime is from 2007-2019. need to join by year and block_id\n",
    "df = df.merge(df_crime,how='left',left_on=['block_id', 'year'], right_on=['block_id','year'])\n",
    "print(df.shape)\n"
   ]
  },
  {
   "cell_type": "code",
   "execution_count": 55,
   "metadata": {},
   "outputs": [
    {
     "name": "stdout",
     "output_type": "stream",
     "text": [
      "(1243744, 25)\n",
      "(1123981, 25)\n"
     ]
    }
   ],
   "source": [
    "# select columns to use\n",
    "cols_to_use = ['fire_count','fire_count_last year','year',\n",
    "               'yrbuilt','bldgsqft','total_uses','cie','mips','visitor', 'pdr', 'retail', 'med','resunits',\n",
    "               'complaints_count', 'violation_count','building_permit',\n",
    "               'arson_count', 'other_crime_count', \n",
    "               'nodes_population_1500m', 'block_groups_total_jobs','block_groups_median_income',\n",
    "               'prop_tenure_1', 'pumas_density_residential_units', 'nodes_du_800m', 'block_groups_median_rent']\n",
    "\n",
    "df_model = df[cols_to_use]\n",
    "print(df_model.shape)\n",
    "df_model = df_model.dropna(how='any')\n",
    "print(df_model.shape)\n"
   ]
  },
  {
   "cell_type": "markdown",
   "metadata": {},
   "source": [
    "## Make data into the final modeling format\n",
    " use 2019 building fire data as validation"
   ]
  },
  {
   "cell_type": "code",
   "execution_count": 56,
   "metadata": {},
   "outputs": [
    {
     "name": "stdout",
     "output_type": "stream",
     "text": [
      "(1123981, 25)\n"
     ]
    }
   ],
   "source": [
    "# make fire count binary\n",
    "df_model['fire'] = 0\n",
    "df_model.loc[(df_model['fire_count'] > 0),'fire'] = 1\n",
    "df_model.drop('fire_count',inplace=True, axis=1)\n",
    "df_model['fire'].value_counts()\n",
    "\n",
    "for cols in df_model.columns.tolist()[1:]:\n",
    "    df_model = df_model.loc[df_model[cols] >= 0]  \n",
    "    \n",
    "# divide the data\n",
    "x_cols = cols_to_use[1:]\n",
    "\n",
    "validate = df_model[df_model['year']==2019]\n",
    "traintest = df_model[df_model['year']<2019]\n",
    "\n",
    "df_x = traintest[x_cols]\n",
    "df_y = traintest['fire']\n",
    "\n",
    "# a validation set used for ptrediction\n",
    "validate_x = validate[x_cols]\n",
    "validate_y = validate['fire']\n",
    "\n",
    "print(df_model.shape)"
   ]
  },
  {
   "cell_type": "markdown",
   "metadata": {},
   "source": [
    "# XGBoost turned to be the best model"
   ]
  },
  {
   "cell_type": "code",
   "execution_count": 6,
   "metadata": {},
   "outputs": [],
   "source": [
    "import xgboost as xgb"
   ]
  },
  {
   "cell_type": "code",
   "execution_count": 8,
   "metadata": {},
   "outputs": [],
   "source": [
    "class PreprocessTransformer(BaseEstimator, TransformerMixin):\n",
    "    def __init__(self, num_features):\n",
    "        \n",
    "        self.num_features = num_features\n",
    "        \n",
    "    def fit(self, X, y=None):\n",
    "        return self\n",
    "    \n",
    "    def transform(self, X, y=None):\n",
    "        df = X.copy()\n",
    "            \n",
    "        # Normalize numerical features\n",
    "        scaler = MinMaxScaler()\n",
    "        df[self.num_features] = scaler.fit_transform(df[num_features])\n",
    "        return df"
   ]
  },
  {
   "cell_type": "code",
   "execution_count": 9,
   "metadata": {},
   "outputs": [],
   "source": [
    "from sklearn.pipeline import Pipeline\n",
    "from sklearn.feature_selection import SelectKBest, chi2\n",
    "from sklearn.model_selection import KFold, GridSearchCV\n",
    "from sklearn.metrics import accuracy_score, make_scorer"
   ]
  },
  {
   "cell_type": "code",
   "execution_count": 10,
   "metadata": {},
   "outputs": [],
   "source": [
    "numerical_features = df_model.columns.tolist()\n",
    "# Create a pipeline\n",
    "pipe = Pipeline([('scale', MinMaxScaler()), #('preproc', PreprocessTransformer(numerical_features))  ('scale', StandardScaler()),\n",
    "                 ('fs', SelectKBest()),\n",
    "                 ('clf', xgb.XGBClassifier(scale_pos_weight=15,objective='binary:logistic')) # scale_pos_weight is negative/positive cases\n",
    "                ])"
   ]
  },
  {
   "cell_type": "markdown",
   "metadata": {},
   "source": [
    "# Define the grid search hyperparameters\n",
    "\n",
    "Here are the best parameters after several rounds of selection."
   ]
  },
  {
   "cell_type": "code",
   "execution_count": 21,
   "metadata": {},
   "outputs": [
    {
     "name": "stdout",
     "output_type": "stream",
     "text": [
      "[{'clf__n_estimators': [300], 'clf__learning_rate': [0.01], 'clf__max_depth': [10], 'clf__colsample_bytree': [0.4], 'clf__gamma': [0.4], 'fs__score_func': [<function chi2 at 0x000001DC25895B80>], 'fs__k': [20]}]\n",
      "Fitting 5 folds for each of 1 candidates, totalling 5 fits\n"
     ]
    },
    {
     "name": "stderr",
     "output_type": "stream",
     "text": [
      "[Parallel(n_jobs=-1)]: Using backend LokyBackend with 8 concurrent workers.\n",
      "[Parallel(n_jobs=-1)]: Done   2 out of   5 | elapsed:  6.0min remaining:  9.1min\n",
      "[Parallel(n_jobs=-1)]: Done   5 out of   5 | elapsed:  6.1min finished\n"
     ]
    },
    {
     "name": "stdout",
     "output_type": "stream",
     "text": [
      "{'clf__colsample_bytree': 0.4, 'clf__gamma': 0.4, 'clf__learning_rate': 0.01, 'clf__max_depth': 10, 'clf__n_estimators': 300, 'fs__k': 20, 'fs__score_func': <function chi2 at 0x000001DC25895B80>}\n"
     ]
    }
   ],
   "source": [
    "# Define our search space for grid search\n",
    "\n",
    "\n",
    "search_space = [\n",
    "    {\n",
    "        'clf__n_estimators': [300],\n",
    "        'clf__learning_rate': [0.01],\n",
    "        'clf__max_depth': [10],\n",
    "        'clf__colsample_bytree': [0.4],  #[i/10.0 for i in range(1, 3)]\n",
    "        'clf__gamma': [0.4], # try larger\n",
    "        'fs__score_func': [chi2],\n",
    "        'fs__k': [20],\n",
    "    }\n",
    "]\n",
    "\n",
    "\n",
    "# Define cross validation\n",
    "kfold = KFold(n_splits=5, random_state=42)\n",
    "\n",
    "# AUC and accuracy as score\n",
    "scoring = {'AUC':'roc_auc' ,'Recall':'recall'} # 'Accuracy':make_scorer(accuracy_score)  'AUC':'roc_auc' , 'Recall':'recall'\n",
    "\n",
    "print(search_space)\n",
    "\n",
    "# Define grid search\n",
    "grid = GridSearchCV(\n",
    "  pipe,\n",
    "  param_grid=search_space,\n",
    "  cv=kfold,\n",
    "  scoring=scoring,\n",
    "  refit='Recall', \n",
    "  verbose=1,\n",
    "  n_jobs=-1\n",
    ")\n",
    "\n",
    "# Fit grid search\n",
    "model = grid.fit(df_x, df_y)\n",
    "\n",
    "# print best model's parameter\n",
    "print(model.best_params_)"
   ]
  },
  {
   "cell_type": "code",
   "execution_count": 10,
   "metadata": {},
   "outputs": [],
   "source": [
    "from sklearn.metrics import confusion_matrix\n",
    "# assess model performance\n",
    "from sklearn import metrics"
   ]
  },
  {
   "cell_type": "code",
   "execution_count": 22,
   "metadata": {},
   "outputs": [
    {
     "name": "stdout",
     "output_type": "stream",
     "text": [
      "Best AUC Score: 0.33622436682608614\n",
      "Accuracy: 0.9019123884744771\n",
      "[[97074  7418]\n",
      " [ 3312  1588]]\n"
     ]
    }
   ],
   "source": [
    "predict = model.predict(validate_x)\n",
    "print('Best AUC Score: {}'.format(model.best_score_))\n",
    "print('Accuracy: {}'.format(accuracy_score(validate_y, predict)))\n",
    "print(confusion_matrix(validate_y,predict))"
   ]
  },
  {
   "cell_type": "code",
   "execution_count": 25,
   "metadata": {},
   "outputs": [
    {
     "name": "stdout",
     "output_type": "stream",
     "text": [
      "0.3240816326530612\n",
      "0.1763268931823229\n",
      "0.22839062275276859\n"
     ]
    }
   ],
   "source": [
    "print(metrics.recall_score(validate_y,predict))\n",
    "print(metrics.precision_score(validate_y,predict))\n",
    "print(metrics.f1_score(validate_y,predict))"
   ]
  },
  {
   "cell_type": "code",
   "execution_count": 28,
   "metadata": {},
   "outputs": [
    {
     "data": {
      "text/plain": [
       "XGBClassifier(base_score=0.5, booster='gbtree', colsample_bylevel=1,\n",
       "              colsample_bynode=1, colsample_bytree=0.3, gamma=0.1, gpu_id=-1,\n",
       "              importance_type='gain', interaction_constraints='',\n",
       "              learning_rate=0.01, max_delta_step=0, max_depth=10,\n",
       "              min_child_weight=1, missing=nan, monotone_constraints='()',\n",
       "              n_estimators=250, n_jobs=0, num_parallel_tree=1, random_state=0,\n",
       "              reg_alpha=0, reg_lambda=1, scale_pos_weight=15, subsample=1,\n",
       "              tree_method='exact', validate_parameters=1, verbosity=None)"
      ]
     },
     "execution_count": 28,
     "metadata": {},
     "output_type": "execute_result"
    }
   ],
   "source": [
    "model.best_estimator_.named_steps[\"clf\"]"
   ]
  },
  {
   "cell_type": "code",
   "execution_count": 38,
   "metadata": {},
   "outputs": [],
   "source": [
    "filename = 'XGBoost_1.sav'\n",
    "pickle.dump(model, open(filename, 'wb'))"
   ]
  },
  {
   "cell_type": "code",
   "execution_count": null,
   "metadata": {},
   "outputs": [],
   "source": [
    "# a function that plot the ROC curve\n",
    "\n",
    "def plot_ROC_curve(validate_x,true_y,model,title):\n",
    "    '''\n",
    "    a function that takes into validation data x and validation data y (true y) and output a ROC curve\n",
    "    '''\n",
    "\n",
    "    validate_data_predict = model.predict_proba(validate_x)\n",
    "\n",
    "    false_pos_rate, true_pos_rate, thresholds = roc_curve(np.array(true_y).astype(int), validate_data_predict[:,1])\n",
    "\n",
    "    score = roc_auc_score(np.array(true_y).astype(int), validate_data_predict[:,1])\n",
    "\n",
    "    score_label = 'AUC score: %.3f' %score \n",
    "\n",
    "    fig = plt.figure(figsize=(10,10))\n",
    "    ax = fig.add_subplot(111)\n",
    "    ax.plot(false_pos_rate,true_pos_rate,label=score_label)\n",
    "    ax.set_xlabel(\"False Positive\")\n",
    "    ax.set_ylabel(\"True Positive\")\n",
    "    ax.plot(np.linspace(0,1,10),np.linspace(0,1,10),'k--')\n",
    "    ax.set_title('%s' %title)\n",
    "\n",
    "        \n",
    "    ax.fill_between(false_pos_rate, np.zeros(len(false_pos_rate)),\n",
    "                     true_pos_rate, alpha=0.1,\n",
    "                     color=\"b\")\n",
    "    ax.grid()\n",
    "    plt.legend(loc='best')\n",
    "    \n",
    "    return fig, false_pos_rate, true_pos_rate, thresholds\n"
   ]
  },
  {
   "cell_type": "code",
   "execution_count": 27,
   "metadata": {},
   "outputs": [
    {
     "data": {
      "image/png": "[encoded data removed]",
      "text/plain": [
       "<Figure size 720x720 with 1 Axes>"
      ]
     },
     "metadata": {
      "needs_background": "light"
     },
     "output_type": "display_data"
    }
   ],
   "source": [
    "ROCplot, false_positive_XGBOOST, true_positive_XGBOOST, thresholds_XGBOOST = plot_ROC_curve(validate_x,validate_y,\n",
    "                                                                             model,\n",
    "                                                                             title='Internal_fire_XGBoost_ROC')"
   ]
  },
  {
   "cell_type": "code",
   "execution_count": 12,
   "metadata": {},
   "outputs": [],
   "source": [
    "import pickle\n",
    "from sklearn.metrics import recall_score\n",
    "from sklearn.metrics import precision_recall_curve\n",
    "import seaborn as sns"
   ]
  },
  {
   "cell_type": "code",
   "execution_count": 57,
   "metadata": {},
   "outputs": [],
   "source": [
    "model = pickle.load(open('XGBoost_1.sav', 'rb'))"
   ]
  },
  {
   "cell_type": "code",
   "execution_count": 58,
   "metadata": {},
   "outputs": [],
   "source": [
    "predict = model.predict_proba(validate_x)"
   ]
  },
  {
   "cell_type": "code",
   "execution_count": 60,
   "metadata": {},
   "outputs": [],
   "source": [
    "precision, recall, thresholds = precision_recall_curve(validate_y,predict[:,1])"
   ]
  },
  {
   "cell_type": "code",
   "execution_count": 62,
   "metadata": {},
   "outputs": [
    {
     "data": {
      "text/plain": [
       "array([1.00000000e+00, 9.99795918e-01, 9.99795918e-01, ...,\n",
       "       4.08163265e-04, 2.04081633e-04, 0.00000000e+00])"
      ]
     },
     "execution_count": 62,
     "metadata": {},
     "output_type": "execute_result"
    }
   ],
   "source": [
    "recall"
   ]
  },
  {
   "cell_type": "code",
   "execution_count": 63,
   "metadata": {},
   "outputs": [
    {
     "data": {
      "image/png": "[encoded data removed]",
      "text/plain": [
       "<Figure size 432x432 with 1 Axes>"
      ]
     },
     "metadata": {
      "needs_background": "light"
     },
     "output_type": "display_data"
    }
   ],
   "source": [
    "fig = plt.figure(figsize=(6,6))\n",
    "ax = fig.add_subplot(111)\n",
    "ax.plot(recall,precision,label='Building fires')\n",
    "ax.axhline(precision[0],linestyle='--',color='blue')\n",
    "\n",
    "plt.xlabel('Recall')\n",
    "plt.ylabel('Precision')\n",
    "\n",
    "plt.grid()\n",
    "plt.title('PR curve for building fire prediction using XGBoost')\n",
    "\n",
    "plt.tight_layout()\n",
    "plt.ylim([0,1])\n",
    "plt.xlim([0,1])\n",
    "plt.legend()\n",
    "#plt.savefig('XGBoost_PR_curves.png',dpi=400)"
   ]
  },
  {
   "cell_type": "markdown",
   "metadata": {},
   "source": [
    "# Tune the threshold of the model to find better F1 score."
   ]
  },
  {
   "cell_type": "code",
   "execution_count": 91,
   "metadata": {},
   "outputs": [
    {
     "name": "stdout",
     "output_type": "stream",
     "text": [
      "0.23591836734693877\n",
      "0.26065388951521984\n",
      "0.24767005891805036\n"
     ]
    }
   ],
   "source": [
    "# try different threshold\n",
    "\n",
    "result_boolean2= (predict[:,1] > 0.6)\n",
    "result = 1*result_boolean2\n",
    "print(metrics.recall_score(validate_y,result))\n",
    "print(metrics.precision_score(validate_y,result))\n",
    "print(metrics.f1_score(validate_y,result))"
   ]
  },
  {
   "cell_type": "code",
   "execution_count": 64,
   "metadata": {},
   "outputs": [
    {
     "data": {
      "text/plain": [
       "<matplotlib.axes._subplots.AxesSubplot at 0x18e870e1fa0>"
      ]
     },
     "execution_count": 64,
     "metadata": {},
     "output_type": "execute_result"
    },
    {
     "data": {
      "image/png": "[encoded data removed]",
      "text/plain": [
       "<Figure size 748.8x514.8 with 1 Axes>"
      ]
     },
     "metadata": {
      "needs_background": "light"
     },
     "output_type": "display_data"
    }
   ],
   "source": [
    "# plot the fire probability of each buildings\n",
    "sns.distplot(predict[:,1],kde=False,bins=100)"
   ]
  },
  {
   "cell_type": "code",
   "execution_count": null,
   "metadata": {},
   "outputs": [],
   "source": []
  }
 ],
 "metadata": {
  "kernelspec": {
   "display_name": "Python 3",
   "language": "python",
   "name": "python3"
  },
  "language_info": {
   "codemirror_mode": {
    "name": "ipython",
    "version": 3
   },
   "file_extension": ".py",
   "mimetype": "text/x-python",
   "name": "python",
   "nbconvert_exporter": "python",
   "pygments_lexer": "ipython3",
   "version": "3.8.3"
  }
 },
 "nbformat": 4,
 "nbformat_minor": 4
}
