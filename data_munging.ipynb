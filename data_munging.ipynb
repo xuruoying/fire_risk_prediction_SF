{
 "cells": [
  {
   "cell_type": "code",
   "execution_count": 1,
   "metadata": {},
   "outputs": [],
   "source": [
    "# new notebook\n",
    "import numpy as np\n",
    "import pandas as pd\n",
    "import matplotlib.pyplot as plt\n",
    "from datetime import tzinfo, timedelta, datetime\n",
    "import time\n",
    "from collections import Counter\n",
    "import json\n",
    "import urllib\n",
    "#from fuzzywuzzy import fuzz\n",
    "#from googleplaces import GooglePlaces, types, lang\n",
    "#import googleplaces\n",
    "import re"
   ]
  },
  {
   "cell_type": "code",
   "execution_count": 2,
   "metadata": {
    "collapsed": true
   },
   "outputs": [],
   "source": [
    "parcel_file = 'D:/Study/insight/project/fire_risk_prediction_SF/data/SF_parcel_lu/sf_parcel.geojson'\n",
    "#df_fire = 'D:/Study/insight/project/fire_risk_prediction_SF/data/SF_fire_data/fire-incidents.csv'\n",
    "fire_file = 'D:/Study/insight/project/fire_risk_prediction_SF/data/Fire_Incidents_SF.csv'"
   ]
  },
  {
   "cell_type": "code",
   "execution_count": 3,
   "metadata": {},
   "outputs": [
    {
     "name": "stderr",
     "output_type": "stream",
     "text": [
      "C:\\Users\\Ruoying\\Anaconda3\\lib\\site-packages\\IPython\\core\\interactiveshell.py:2728: DtypeWarning: Columns (10,12,13,20,38,45,46,55,59) have mixed types.Specify dtype option on import or set low_memory=False.\n",
      "  interactivity=interactivity, compiler=compiler, result=result)\n"
     ]
    }
   ],
   "source": [
    "df_fire = pd.read_csv(fire_file)"
   ]
  },
  {
   "cell_type": "code",
   "execution_count": 4,
   "metadata": {},
   "outputs": [
    {
     "data": {
      "text/plain": [
       "(538833, 64)"
      ]
     },
     "execution_count": 4,
     "metadata": {},
     "output_type": "execute_result"
    }
   ],
   "source": [
    "df_fire.shape"
   ]
  },
  {
   "cell_type": "code",
   "execution_count": 5,
   "metadata": {},
   "outputs": [
    {
     "data": {
      "text/html": [
       "<div>\n",
       "<style scoped>\n",
       "    .dataframe tbody tr th:only-of-type {\n",
       "        vertical-align: middle;\n",
       "    }\n",
       "\n",
       "    .dataframe tbody tr th {\n",
       "        vertical-align: top;\n",
       "    }\n",
       "\n",
       "    .dataframe thead th {\n",
       "        text-align: right;\n",
       "    }\n",
       "</style>\n",
       "<table border=\"1\" class=\"dataframe\">\n",
       "  <thead>\n",
       "    <tr style=\"text-align: right;\">\n",
       "      <th></th>\n",
       "      <th>Incident Number</th>\n",
       "      <th>Exposure Number</th>\n",
       "      <th>ID</th>\n",
       "      <th>Address</th>\n",
       "      <th>Incident Date</th>\n",
       "      <th>Call Number</th>\n",
       "      <th>Alarm DtTm</th>\n",
       "      <th>Arrival DtTm</th>\n",
       "      <th>Close DtTm</th>\n",
       "      <th>City</th>\n",
       "      <th>...</th>\n",
       "      <th>Detector Effectiveness</th>\n",
       "      <th>Detector Failure Reason</th>\n",
       "      <th>Automatic Extinguishing System Present</th>\n",
       "      <th>Automatic Extinguishing Sytem Type</th>\n",
       "      <th>Automatic Extinguishing Sytem Perfomance</th>\n",
       "      <th>Automatic Extinguishing Sytem Failure Reason</th>\n",
       "      <th>Number of Sprinkler Heads Operating</th>\n",
       "      <th>Supervisor District</th>\n",
       "      <th>neighborhood_district</th>\n",
       "      <th>point</th>\n",
       "    </tr>\n",
       "  </thead>\n",
       "  <tbody>\n",
       "    <tr>\n",
       "      <th>0</th>\n",
       "      <td>8028304</td>\n",
       "      <td>0</td>\n",
       "      <td>80283040</td>\n",
       "      <td>150 Elsie St.</td>\n",
       "      <td>2008-04-01T00:00:00</td>\n",
       "      <td>80920257</td>\n",
       "      <td>2008-04-01T18:06:37</td>\n",
       "      <td>2008-04-01T18:15:19</td>\n",
       "      <td>2008-04-01T18:21:48</td>\n",
       "      <td>SF</td>\n",
       "      <td>...</td>\n",
       "      <td>NaN</td>\n",
       "      <td>NaN</td>\n",
       "      <td>NaN</td>\n",
       "      <td>NaN</td>\n",
       "      <td>NaN</td>\n",
       "      <td>NaN</td>\n",
       "      <td>NaN</td>\n",
       "      <td>9.0</td>\n",
       "      <td>Bernal Heights</td>\n",
       "      <td>POINT (-122.41837339 37.74208979)</td>\n",
       "    </tr>\n",
       "    <tr>\n",
       "      <th>1</th>\n",
       "      <td>8028303</td>\n",
       "      <td>0</td>\n",
       "      <td>80283030</td>\n",
       "      <td>85 Turner Tr.</td>\n",
       "      <td>2008-04-01T00:00:00</td>\n",
       "      <td>80920256</td>\n",
       "      <td>2008-04-01T18:00:52</td>\n",
       "      <td>2008-04-01T18:06:30</td>\n",
       "      <td>2008-04-01T18:22:18</td>\n",
       "      <td>SF</td>\n",
       "      <td>...</td>\n",
       "      <td>NaN</td>\n",
       "      <td>NaN</td>\n",
       "      <td>NaN</td>\n",
       "      <td>NaN</td>\n",
       "      <td>NaN</td>\n",
       "      <td>NaN</td>\n",
       "      <td>NaN</td>\n",
       "      <td>10.0</td>\n",
       "      <td>Potrero Hill</td>\n",
       "      <td>POINT (-122.39489 37.756291)</td>\n",
       "    </tr>\n",
       "    <tr>\n",
       "      <th>2</th>\n",
       "      <td>8028309</td>\n",
       "      <td>0</td>\n",
       "      <td>80283090</td>\n",
       "      <td>175 6th St.</td>\n",
       "      <td>2008-04-01T00:00:00</td>\n",
       "      <td>80920262</td>\n",
       "      <td>2008-04-01T18:42:06</td>\n",
       "      <td>2008-04-01T18:45:23</td>\n",
       "      <td>2008-04-01T18:53:25</td>\n",
       "      <td>SF</td>\n",
       "      <td>...</td>\n",
       "      <td>NaN</td>\n",
       "      <td>NaN</td>\n",
       "      <td>NaN</td>\n",
       "      <td>NaN</td>\n",
       "      <td>NaN</td>\n",
       "      <td>NaN</td>\n",
       "      <td>NaN</td>\n",
       "      <td>NaN</td>\n",
       "      <td>South of Market</td>\n",
       "      <td>POINT (-122.407468 37.78008)</td>\n",
       "    </tr>\n",
       "    <tr>\n",
       "      <th>3</th>\n",
       "      <td>8028314</td>\n",
       "      <td>0</td>\n",
       "      <td>80283140</td>\n",
       "      <td>633 Hayes St.</td>\n",
       "      <td>2008-04-01T00:00:00</td>\n",
       "      <td>80920268</td>\n",
       "      <td>2008-04-01T19:03:52</td>\n",
       "      <td>2008-04-01T19:08:39</td>\n",
       "      <td>2008-04-01T19:35:36</td>\n",
       "      <td>SF</td>\n",
       "      <td>...</td>\n",
       "      <td>NaN</td>\n",
       "      <td>NaN</td>\n",
       "      <td>NaN</td>\n",
       "      <td>NaN</td>\n",
       "      <td>NaN</td>\n",
       "      <td>NaN</td>\n",
       "      <td>NaN</td>\n",
       "      <td>5.0</td>\n",
       "      <td>Hayes Valley</td>\n",
       "      <td>POINT (-122.42684908 37.77612642)</td>\n",
       "    </tr>\n",
       "    <tr>\n",
       "      <th>4</th>\n",
       "      <td>8028319</td>\n",
       "      <td>0</td>\n",
       "      <td>80283190</td>\n",
       "      <td>27th Av. / Cabrillo St.</td>\n",
       "      <td>2008-04-01T00:00:00</td>\n",
       "      <td>80920273</td>\n",
       "      <td>2008-04-01T19:16:12</td>\n",
       "      <td>2008-04-01T19:23:48</td>\n",
       "      <td>2008-04-01T19:28:49</td>\n",
       "      <td>SF</td>\n",
       "      <td>...</td>\n",
       "      <td>NaN</td>\n",
       "      <td>NaN</td>\n",
       "      <td>NaN</td>\n",
       "      <td>NaN</td>\n",
       "      <td>NaN</td>\n",
       "      <td>NaN</td>\n",
       "      <td>NaN</td>\n",
       "      <td>NaN</td>\n",
       "      <td>Outer Richmond</td>\n",
       "      <td>POINT (-122.4863941 37.77428492)</td>\n",
       "    </tr>\n",
       "  </tbody>\n",
       "</table>\n",
       "<p>5 rows × 64 columns</p>\n",
       "</div>"
      ],
      "text/plain": [
       "   Incident Number  Exposure Number        ID                  Address  \\\n",
       "0          8028304                0  80283040            150 Elsie St.   \n",
       "1          8028303                0  80283030            85 Turner Tr.   \n",
       "2          8028309                0  80283090              175 6th St.   \n",
       "3          8028314                0  80283140            633 Hayes St.   \n",
       "4          8028319                0  80283190  27th Av. / Cabrillo St.   \n",
       "\n",
       "         Incident Date  Call Number           Alarm DtTm         Arrival DtTm  \\\n",
       "0  2008-04-01T00:00:00     80920257  2008-04-01T18:06:37  2008-04-01T18:15:19   \n",
       "1  2008-04-01T00:00:00     80920256  2008-04-01T18:00:52  2008-04-01T18:06:30   \n",
       "2  2008-04-01T00:00:00     80920262  2008-04-01T18:42:06  2008-04-01T18:45:23   \n",
       "3  2008-04-01T00:00:00     80920268  2008-04-01T19:03:52  2008-04-01T19:08:39   \n",
       "4  2008-04-01T00:00:00     80920273  2008-04-01T19:16:12  2008-04-01T19:23:48   \n",
       "\n",
       "            Close DtTm City  ... Detector Effectiveness  \\\n",
       "0  2008-04-01T18:21:48   SF  ...                    NaN   \n",
       "1  2008-04-01T18:22:18   SF  ...                    NaN   \n",
       "2  2008-04-01T18:53:25   SF  ...                    NaN   \n",
       "3  2008-04-01T19:35:36   SF  ...                    NaN   \n",
       "4  2008-04-01T19:28:49   SF  ...                    NaN   \n",
       "\n",
       "  Detector Failure Reason Automatic Extinguishing System Present  \\\n",
       "0                     NaN                                    NaN   \n",
       "1                     NaN                                    NaN   \n",
       "2                     NaN                                    NaN   \n",
       "3                     NaN                                    NaN   \n",
       "4                     NaN                                    NaN   \n",
       "\n",
       "  Automatic Extinguishing Sytem Type  \\\n",
       "0                                NaN   \n",
       "1                                NaN   \n",
       "2                                NaN   \n",
       "3                                NaN   \n",
       "4                                NaN   \n",
       "\n",
       "   Automatic Extinguishing Sytem Perfomance  \\\n",
       "0                                       NaN   \n",
       "1                                       NaN   \n",
       "2                                       NaN   \n",
       "3                                       NaN   \n",
       "4                                       NaN   \n",
       "\n",
       "   Automatic Extinguishing Sytem Failure Reason  \\\n",
       "0                                           NaN   \n",
       "1                                           NaN   \n",
       "2                                           NaN   \n",
       "3                                           NaN   \n",
       "4                                           NaN   \n",
       "\n",
       "   Number of Sprinkler Heads Operating  Supervisor District  \\\n",
       "0                                  NaN                  9.0   \n",
       "1                                  NaN                 10.0   \n",
       "2                                  NaN                  NaN   \n",
       "3                                  NaN                  5.0   \n",
       "4                                  NaN                  NaN   \n",
       "\n",
       "   neighborhood_district                              point  \n",
       "0         Bernal Heights  POINT (-122.41837339 37.74208979)  \n",
       "1           Potrero Hill       POINT (-122.39489 37.756291)  \n",
       "2        South of Market       POINT (-122.407468 37.78008)  \n",
       "3           Hayes Valley  POINT (-122.42684908 37.77612642)  \n",
       "4         Outer Richmond   POINT (-122.4863941 37.77428492)  \n",
       "\n",
       "[5 rows x 64 columns]"
      ]
     },
     "execution_count": 5,
     "metadata": {},
     "output_type": "execute_result"
    }
   ],
   "source": [
    "df_fire.head()"
   ]
  },
  {
   "cell_type": "code",
   "execution_count": 6,
   "metadata": {},
   "outputs": [
    {
     "data": {
      "text/plain": [
       "Index(['Incident Number', 'Exposure Number', 'ID', 'Address', 'Incident Date',\n",
       "       'Call Number', 'Alarm DtTm', 'Arrival DtTm', 'Close DtTm', 'City',\n",
       "       'zipcode', 'Battalion', 'Station Area', 'Box', 'Suppression Units',\n",
       "       'Suppression Personnel', 'EMS Units', 'EMS Personnel', 'Other Units',\n",
       "       'Other Personnel', 'First Unit On Scene', 'Estimated Property Loss',\n",
       "       'Estimated Contents Loss', 'Fire Fatalities', 'Fire Injuries',\n",
       "       'Civilian Fatalities', 'Civilian Injuries', 'Number of Alarms',\n",
       "       'Primary Situation', 'Mutual Aid', 'Action Taken Primary',\n",
       "       'Action Taken Secondary', 'Action Taken Other',\n",
       "       'Detector Alerted Occupants', 'Property Use', 'Area of Fire Origin',\n",
       "       'Ignition Cause', 'Ignition Factor Primary',\n",
       "       'Ignition Factor Secondary', 'Heat Source', 'Item First Ignited',\n",
       "       'Human Factors Associated with Ignition', 'Structure Type',\n",
       "       'Structure Status', 'Floor of Fire Origin', 'Fire Spread',\n",
       "       'No Flame Spead', 'Number of floors with minimum damage',\n",
       "       'Number of floors with significant damage',\n",
       "       'Number of floors with heavy damage',\n",
       "       'Number of floors with extreme damage', 'Detectors Present',\n",
       "       'Detector Type', 'Detector Operation', 'Detector Effectiveness',\n",
       "       'Detector Failure Reason', 'Automatic Extinguishing System Present',\n",
       "       'Automatic Extinguishing Sytem Type',\n",
       "       'Automatic Extinguishing Sytem Perfomance',\n",
       "       'Automatic Extinguishing Sytem Failure Reason',\n",
       "       'Number of Sprinkler Heads Operating', 'Supervisor District',\n",
       "       'neighborhood_district', 'point'],\n",
       "      dtype='object')"
      ]
     },
     "execution_count": 6,
     "metadata": {},
     "output_type": "execute_result"
    }
   ],
   "source": [
    "df_fire.columns"
   ]
  },
  {
   "cell_type": "code",
   "execution_count": 7,
   "metadata": {},
   "outputs": [
    {
     "data": {
      "text/plain": [
       "0    POINT (-122.41837339 37.74208979)\n",
       "1         POINT (-122.39489 37.756291)\n",
       "2         POINT (-122.407468 37.78008)\n",
       "3    POINT (-122.42684908 37.77612642)\n",
       "4     POINT (-122.4863941 37.77428492)\n",
       "Name: point, dtype: object"
      ]
     },
     "execution_count": 7,
     "metadata": {},
     "output_type": "execute_result"
    }
   ],
   "source": [
    "df_fire['point'].head()"
   ]
  },
  {
   "cell_type": "code",
   "execution_count": 8,
   "metadata": {},
   "outputs": [
    {
     "name": "stderr",
     "output_type": "stream",
     "text": [
      "C:\\Users\\Ruoying\\Anaconda3\\lib\\site-packages\\ipykernel_launcher.py:7: SettingWithCopyWarning: \n",
      "A value is trying to be set on a copy of a slice from a DataFrame.\n",
      "Try using .loc[row_indexer,col_indexer] = value instead\n",
      "\n",
      "See the caveats in the documentation: https://pandas.pydata.org/pandas-docs/stable/user_guide/indexing.html#returning-a-view-versus-a-copy\n",
      "  import sys\n"
     ]
    }
   ],
   "source": [
    "# use WKT to generate geometric, needs:\n",
    "# 1. string\n",
    "# 2. not null\n",
    "\n",
    "# create a test dataset that only have 1 column\n",
    "test_fire = df_fire[['Incident Number','point']]\n",
    "test_fire['point'] = test_fire['point'].astype(str)\n",
    "test_fire = test_fire.dropna() # axis = 'point'"
   ]
  },
  {
   "cell_type": "code",
   "execution_count": 9,
   "metadata": {},
   "outputs": [
    {
     "data": {
      "text/plain": [
       "(538833, 2)"
      ]
     },
     "execution_count": 9,
     "metadata": {},
     "output_type": "execute_result"
    }
   ],
   "source": [
    "test_fire.shape"
   ]
  },
  {
   "cell_type": "code",
   "execution_count": 10,
   "metadata": {},
   "outputs": [
    {
     "data": {
      "text/html": [
       "<div>\n",
       "<style scoped>\n",
       "    .dataframe tbody tr th:only-of-type {\n",
       "        vertical-align: middle;\n",
       "    }\n",
       "\n",
       "    .dataframe tbody tr th {\n",
       "        vertical-align: top;\n",
       "    }\n",
       "\n",
       "    .dataframe thead th {\n",
       "        text-align: right;\n",
       "    }\n",
       "</style>\n",
       "<table border=\"1\" class=\"dataframe\">\n",
       "  <thead>\n",
       "    <tr style=\"text-align: right;\">\n",
       "      <th></th>\n",
       "      <th>Incident Number</th>\n",
       "      <th>point</th>\n",
       "    </tr>\n",
       "  </thead>\n",
       "  <tbody>\n",
       "    <tr>\n",
       "      <th>0</th>\n",
       "      <td>8028304</td>\n",
       "      <td>POINT (-122.41837339 37.74208979)</td>\n",
       "    </tr>\n",
       "    <tr>\n",
       "      <th>1</th>\n",
       "      <td>8028303</td>\n",
       "      <td>POINT (-122.39489 37.756291)</td>\n",
       "    </tr>\n",
       "    <tr>\n",
       "      <th>2</th>\n",
       "      <td>8028309</td>\n",
       "      <td>POINT (-122.407468 37.78008)</td>\n",
       "    </tr>\n",
       "    <tr>\n",
       "      <th>3</th>\n",
       "      <td>8028314</td>\n",
       "      <td>POINT (-122.42684908 37.77612642)</td>\n",
       "    </tr>\n",
       "    <tr>\n",
       "      <th>4</th>\n",
       "      <td>8028319</td>\n",
       "      <td>POINT (-122.4863941 37.77428492)</td>\n",
       "    </tr>\n",
       "  </tbody>\n",
       "</table>\n",
       "</div>"
      ],
      "text/plain": [
       "   Incident Number                              point\n",
       "0          8028304  POINT (-122.41837339 37.74208979)\n",
       "1          8028303       POINT (-122.39489 37.756291)\n",
       "2          8028309       POINT (-122.407468 37.78008)\n",
       "3          8028314  POINT (-122.42684908 37.77612642)\n",
       "4          8028319   POINT (-122.4863941 37.77428492)"
      ]
     },
     "execution_count": 10,
     "metadata": {},
     "output_type": "execute_result"
    }
   ],
   "source": [
    "test_fire.head()"
   ]
  },
  {
   "cell_type": "code",
   "execution_count": 11,
   "metadata": {},
   "outputs": [
    {
     "data": {
      "text/html": [
       "<div>\n",
       "<style scoped>\n",
       "    .dataframe tbody tr th:only-of-type {\n",
       "        vertical-align: middle;\n",
       "    }\n",
       "\n",
       "    .dataframe tbody tr th {\n",
       "        vertical-align: top;\n",
       "    }\n",
       "\n",
       "    .dataframe thead th {\n",
       "        text-align: right;\n",
       "    }\n",
       "</style>\n",
       "<table border=\"1\" class=\"dataframe\">\n",
       "  <thead>\n",
       "    <tr style=\"text-align: right;\">\n",
       "      <th></th>\n",
       "      <th>Incident Number</th>\n",
       "      <th>point</th>\n",
       "    </tr>\n",
       "  </thead>\n",
       "  <tbody>\n",
       "    <tr>\n",
       "      <th>86396</th>\n",
       "      <td>5091495</td>\n",
       "      <td>nan</td>\n",
       "    </tr>\n",
       "    <tr>\n",
       "      <th>88761</th>\n",
       "      <td>5099170</td>\n",
       "      <td>nan</td>\n",
       "    </tr>\n",
       "    <tr>\n",
       "      <th>91011</th>\n",
       "      <td>6002862</td>\n",
       "      <td>nan</td>\n",
       "    </tr>\n",
       "    <tr>\n",
       "      <th>248997</th>\n",
       "      <td>11074153</td>\n",
       "      <td>nan</td>\n",
       "    </tr>\n",
       "    <tr>\n",
       "      <th>259669</th>\n",
       "      <td>11084497</td>\n",
       "      <td>nan</td>\n",
       "    </tr>\n",
       "    <tr>\n",
       "      <th>...</th>\n",
       "      <td>...</td>\n",
       "      <td>...</td>\n",
       "    </tr>\n",
       "    <tr>\n",
       "      <th>528828</th>\n",
       "      <td>20058859</td>\n",
       "      <td>nan</td>\n",
       "    </tr>\n",
       "    <tr>\n",
       "      <th>529403</th>\n",
       "      <td>20061454</td>\n",
       "      <td>nan</td>\n",
       "    </tr>\n",
       "    <tr>\n",
       "      <th>531637</th>\n",
       "      <td>20036315</td>\n",
       "      <td>nan</td>\n",
       "    </tr>\n",
       "    <tr>\n",
       "      <th>536286</th>\n",
       "      <td>20086837</td>\n",
       "      <td>nan</td>\n",
       "    </tr>\n",
       "    <tr>\n",
       "      <th>537921</th>\n",
       "      <td>20089713</td>\n",
       "      <td>nan</td>\n",
       "    </tr>\n",
       "  </tbody>\n",
       "</table>\n",
       "<p>87 rows × 2 columns</p>\n",
       "</div>"
      ],
      "text/plain": [
       "        Incident Number point\n",
       "86396           5091495   nan\n",
       "88761           5099170   nan\n",
       "91011           6002862   nan\n",
       "248997         11074153   nan\n",
       "259669         11084497   nan\n",
       "...                 ...   ...\n",
       "528828         20058859   nan\n",
       "529403         20061454   nan\n",
       "531637         20036315   nan\n",
       "536286         20086837   nan\n",
       "537921         20089713   nan\n",
       "\n",
       "[87 rows x 2 columns]"
      ]
     },
     "execution_count": 11,
     "metadata": {},
     "output_type": "execute_result"
    }
   ],
   "source": [
    "# it seems that there is no null value, but instead, have a \"nan\" as a string\n",
    "test_fire[test_fire['point'] == 'nan']"
   ]
  },
  {
   "cell_type": "code",
   "execution_count": 12,
   "metadata": {
    "collapsed": true
   },
   "outputs": [],
   "source": [
    "test_fire = test_fire[test_fire['point'] != 'nan']"
   ]
  },
  {
   "cell_type": "code",
   "execution_count": 13,
   "metadata": {},
   "outputs": [
    {
     "data": {
      "text/plain": [
       "(538746, 2)"
      ]
     },
     "execution_count": 13,
     "metadata": {},
     "output_type": "execute_result"
    }
   ],
   "source": [
    "test_fire.shape"
   ]
  },
  {
   "cell_type": "code",
   "execution_count": 3,
   "metadata": {},
   "outputs": [],
   "source": [
    "import sys"
   ]
  },
  {
   "cell_type": "code",
   "execution_count": 4,
   "metadata": {},
   "outputs": [
    {
     "data": {
      "text/plain": [
       "False"
      ]
     },
     "execution_count": 4,
     "metadata": {},
     "output_type": "execute_result"
    }
   ],
   "source": [
    "'geopandas' in sys.modules"
   ]
  },
  {
   "cell_type": "code",
   "execution_count": 5,
   "metadata": {},
   "outputs": [
    {
     "name": "stdout",
     "output_type": "stream",
     "text": [
      "# packages in environment at C:\\Users\\Ruoying\\anaconda3\\envs\\geoenv:\n",
      "#\n",
      "# Name                    Version                   Build  Channel\n",
      "attrs                     20.2.0                     py_0  \n",
      "backcall                  0.2.0                      py_0  \n",
      "blas                      1.0                         mkl  \n",
      "bzip2                     1.0.8                he774522_0  \n",
      "ca-certificates           2020.7.22                     0  \n",
      "certifi                   2020.6.20                py38_0  \n",
      "cfitsio                   3.470                he774522_6  \n",
      "click                     7.1.2                      py_0  \n",
      "click-plugins             1.1.1                      py_0  \n",
      "cligj                     0.5.0                    py38_0  \n",
      "colorama                  0.4.3                      py_0  \n",
      "curl                      7.67.0               h2a8f88b_0  \n",
      "decorator                 4.4.2                      py_0  \n",
      "expat                     2.2.9                h33f27b4_2  \n",
      "fiona                     1.8.13.post1     py38hd760492_0  \n",
      "freexl                    1.0.5                hfa6e2cd_0  \n",
      "gdal                      3.0.2            py38hdf43c64_0  \n",
      "geopandas                 0.8.1                      py_0    conda-forge\n",
      "geos                      3.8.0                h33f27b4_0  \n",
      "geotiff                   1.5.1                h5770a2b_1  \n",
      "hdf4                      4.2.13               h712560f_2  \n",
      "hdf5                      1.10.4               h7ebc959_0  \n",
      "icc_rt                    2019.0.0             h0cc432a_1  \n",
      "icu                       58.2                 ha925a31_3  \n",
      "intel-openmp              2020.2                      254  \n",
      "ipykernel                 5.3.4            py38h5ca1d4c_0  \n",
      "ipython                   7.18.1           py38h5ca1d4c_0  \n",
      "ipython_genutils          0.2.0                    py38_0  \n",
      "jedi                      0.17.2                   py38_0  \n",
      "jpeg                      9b                   hb83a4c4_2  \n",
      "jupyter_client            6.1.7                      py_0  \n",
      "jupyter_core              4.6.3                    py38_0  \n",
      "kealib                    1.4.7                h07cbb95_6  \n",
      "krb5                      1.16.4               hc04afaa_0  \n",
      "libboost                  1.67.0               hd9e427e_4  \n",
      "libcurl                   7.67.0               h2a8f88b_0  \n",
      "libgdal                   3.0.2                h1155b67_0  \n",
      "libiconv                  1.15                 h1df5818_7  \n",
      "libkml                    1.3.0                he5f2a48_4  \n",
      "libnetcdf                 4.6.1                h411e497_2  \n",
      "libpng                    1.6.37               h2a8f88b_0  \n",
      "libpq                     11.2                 h3235a2c_0  \n",
      "libsodium                 1.0.18               h62dcd97_0  \n",
      "libspatialindex           1.9.3                h33f27b4_0  \n",
      "libspatialite             4.3.0a               h7ffb84d_0  \n",
      "libssh2                   1.9.0                h7a1dbc1_1  \n",
      "libtiff                   4.1.0                h56a325e_0  \n",
      "libxml2                   2.9.10               h464c3ec_1  \n",
      "lz4-c                     1.8.1.2              h2fa13f4_0  \n",
      "m2w64-expat               2.1.1                         2  \n",
      "m2w64-gcc-libgfortran     5.3.0                         6  \n",
      "m2w64-gcc-libs            5.3.0                         7  \n",
      "m2w64-gcc-libs-core       5.3.0                         7  \n",
      "m2w64-gettext             0.19.7                        2  \n",
      "m2w64-gmp                 6.1.0                         2  \n",
      "m2w64-libiconv            1.14                          6  \n",
      "m2w64-libwinpthread-git   5.0.0.4634.697f757               2  \n",
      "m2w64-xz                  5.2.2                         2  \n",
      "mkl                       2020.2                      256  \n",
      "mkl-service               2.3.0            py38hb782905_0  \n",
      "mkl_fft                   1.2.0            py38h45dec08_0  \n",
      "mkl_random                1.1.1            py38h47e9c7a_0  \n",
      "msys2-conda-epoch         20160418                      1  \n",
      "munch                     2.5.0                      py_0  \n",
      "numpy                     1.19.1           py38h5510c5b_0  \n",
      "numpy-base                1.19.1           py38ha3acd2a_0  \n",
      "openjpeg                  2.3.0                h5ec785f_1  \n",
      "openssl                   1.1.1h               he774522_0  \n",
      "pandas                    1.1.1            py38ha925a31_0  \n",
      "parso                     0.7.0                      py_0  \n",
      "pcre                      8.44                 ha925a31_0  \n",
      "pickleshare               0.7.5                 py38_1000  \n",
      "pip                       20.2.2                   py38_0  \n",
      "postgresql                11.2                 h3235a2c_0  \n",
      "proj                      6.2.1                h9f7ef89_0  \n",
      "prompt-toolkit            3.0.7                      py_0  \n",
      "pygments                  2.7.1                      py_0  \n",
      "pyproj                    2.6.1.post1      py38hcfa1391_1  \n",
      "python                    3.8.5                h5fd99cc_1  \n",
      "python-dateutil           2.8.1                      py_0  \n",
      "python_abi                3.8                      1_cp38    conda-forge\n",
      "pytz                      2020.1                     py_0  \n",
      "pywin32                   227              py38he774522_1  \n",
      "pyzmq                     19.0.2           py38ha925a31_1  \n",
      "rtree                     0.9.4            py38h21ff451_1  \n",
      "setuptools                49.6.0                   py38_1  \n",
      "shapely                   1.7.1            py38h210f175_0  \n",
      "six                       1.15.0                     py_0  \n",
      "sqlite                    3.33.0               h2a8f88b_0  \n",
      "tbb                       2018.0.5             he980bc4_0  \n",
      "tiledb                    1.6.3                h7b000aa_0  \n",
      "tk                        8.6.10               he774522_0  \n",
      "tornado                   6.0.4            py38he774522_1  \n",
      "traitlets                 5.0.4                      py_0  \n",
      "vc                        14.1                 h0510ff6_4  \n",
      "vs2015_runtime            14.16.27012          hf0eaf9b_3  \n",
      "wcwidth                   0.2.5                      py_0  \n",
      "wheel                     0.35.1                     py_0  \n",
      "wincertstore              0.2                      py38_0  \n",
      "xerces-c                  3.2.3                ha925a31_0  \n",
      "xz                        5.2.5                h62dcd97_0  \n",
      "zeromq                    4.3.2                ha925a31_3  \n",
      "zlib                      1.2.11               h62dcd97_4  \n",
      "zstd                      1.3.7                h508b16e_0  \n"
     ]
    }
   ],
   "source": [
    "!conda list"
   ]
  },
  {
   "cell_type": "code",
   "execution_count": 6,
   "metadata": {},
   "outputs": [
    {
     "ename": "SyntaxError",
     "evalue": "invalid syntax (<ipython-input-6-68dcfb427789>, line 1)",
     "output_type": "error",
     "traceback": [
      "\u001b[1;36m  File \u001b[1;32m\"<ipython-input-6-68dcfb427789>\"\u001b[1;36m, line \u001b[1;32m1\u001b[0m\n\u001b[1;33m    jupyter kernelspec list\u001b[0m\n\u001b[1;37m            ^\u001b[0m\n\u001b[1;31mSyntaxError\u001b[0m\u001b[1;31m:\u001b[0m invalid syntax\n"
     ]
    }
   ],
   "source": [
    "jupyter kernelspec list"
   ]
  },
  {
   "cell_type": "markdown",
   "metadata": {
    "collapsed": true
   },
   "source": [
    "it seems that geopandas have conflicts in dependency with existing environment\n",
    "so need to create a virtual environment to run geopandas\n",
    "https://medium.com/@sourav_raj/ultimate-easiest-way-to-install-geopandas-on-windows-add-to-jupyter-notebook-which-will-a4b11223f4f2"
   ]
  },
  {
   "cell_type": "code",
   "execution_count": 1,
   "metadata": {},
   "outputs": [
    {
     "ename": "ModuleNotFoundError",
     "evalue": "No module named 'geopandas'",
     "output_type": "error",
     "traceback": [
      "\u001b[1;31m---------------------------------------------------------------------------\u001b[0m",
      "\u001b[1;31mModuleNotFoundError\u001b[0m                       Traceback (most recent call last)",
      "\u001b[1;32m<ipython-input-1-a62d01c1d62e>\u001b[0m in \u001b[0;36m<module>\u001b[1;34m\u001b[0m\n\u001b[1;32m----> 1\u001b[1;33m \u001b[1;32mimport\u001b[0m \u001b[0mgeopandas\u001b[0m \u001b[1;32mas\u001b[0m \u001b[0mgpd\u001b[0m\u001b[1;33m\u001b[0m\u001b[1;33m\u001b[0m\u001b[0m\n\u001b[0m",
      "\u001b[1;31mModuleNotFoundError\u001b[0m: No module named 'geopandas'"
     ]
    }
   ],
   "source": [
    "import geopandas as gpd"
   ]
  },
  {
   "cell_type": "code",
   "execution_count": 15,
   "metadata": {},
   "outputs": [
    {
     "name": "stdout",
     "output_type": "stream",
     "text": [
      "  yrbuilt from_st total_uses     shape_area cie   landuse  mips mapblklot  \\\n",
      "0    1912     838          0  3864.06176213   0  RESIDENT     0   0026013   \n",
      "1    1900     844       3471   3361.0253507   0    MIXRES  3471   0026014   \n",
      "2    1900     848          0  3272.03319647   0  RESIDENT     0   0026015   \n",
      "3    1940     860          0  4570.76766739   0  RESIDENT     0   0026016   \n",
      "4    1938     870          0  5225.82373482   0  RESIDENT     0   0026017   \n",
      "\n",
      "  objectid     shape_leng  ... resunits pdr street retail to_st block_num  \\\n",
      "0        1  327.786363395  ...        5   0    BAY      0   842      0026   \n",
      "1        2  320.352521518  ...        1   0    BAY      0   844      0026   \n",
      "2        3  319.046088472  ...        2   0    BAY      0   850      0026   \n",
      "3        4  279.353001525  ...        2   0    BAY      0   862      0026   \n",
      "4        5   294.35433855  ...        2   0    BAY      0   872      0026   \n",
      "\n",
      "    blklot lot_num med                                           geometry  \n",
      "0  0026013     013   0  MULTIPOLYGON (((-122.42108 37.80478, -122.4211...  \n",
      "1  0026014     014   0  MULTIPOLYGON (((-122.42118 37.80476, -122.4212...  \n",
      "2  0026015     015   0  MULTIPOLYGON (((-122.42126 37.80475, -122.4213...  \n",
      "3  0026016     016   0  MULTIPOLYGON (((-122.42135 37.80474, -122.4215...  \n",
      "4  0026017     017   0  MULTIPOLYGON (((-122.42153 37.80472, -122.4217...  \n",
      "\n",
      "[5 rows x 23 columns]\n"
     ]
    }
   ],
   "source": [
    "df_parcel = gpd.read_file(parcel_file)\n",
    "print(df_parcel.head())\n",
    "#states = states.to_json()"
   ]
  },
  {
   "cell_type": "code",
   "execution_count": 16,
   "metadata": {},
   "outputs": [
    {
     "data": {
      "text/plain": [
       "Index(['yrbuilt', 'from_st', 'total_uses', 'shape_area', 'cie', 'landuse',\n",
       "       'mips', 'mapblklot', 'objectid', 'shape_leng', 'visitor', 'st_type',\n",
       "       'bldgsqft', 'resunits', 'pdr', 'street', 'retail', 'to_st', 'block_num',\n",
       "       'blklot', 'lot_num', 'med', 'geometry'],\n",
       "      dtype='object')"
      ]
     },
     "execution_count": 16,
     "metadata": {},
     "output_type": "execute_result"
    }
   ],
   "source": [
    "# objectid is the key\n",
    "df_parcel.columns"
   ]
  },
  {
   "cell_type": "code",
   "execution_count": 17,
   "metadata": {
    "collapsed": true
   },
   "outputs": [],
   "source": [
    "test_parcel = df_parcel[['objectid', 'geometry']]"
   ]
  },
  {
   "cell_type": "code",
   "execution_count": 18,
   "metadata": {},
   "outputs": [
    {
     "data": {
      "text/plain": [
       "geopandas.geodataframe.GeoDataFrame"
      ]
     },
     "execution_count": 18,
     "metadata": {},
     "output_type": "execute_result"
    }
   ],
   "source": [
    "type(test_parcel)"
   ]
  },
  {
   "cell_type": "code",
   "execution_count": null,
   "metadata": {
    "collapsed": true
   },
   "outputs": [],
   "source": []
  },
  {
   "cell_type": "code",
   "execution_count": 19,
   "metadata": {
    "collapsed": true
   },
   "outputs": [],
   "source": [
    "import geojsonio"
   ]
  },
  {
   "cell_type": "code",
   "execution_count": 20,
   "metadata": {
    "collapsed": true
   },
   "outputs": [],
   "source": [
    "#geojsonio.display(df_parcel)"
   ]
  },
  {
   "cell_type": "code",
   "execution_count": 2,
   "metadata": {},
   "outputs": [
    {
     "ename": "ModuleNotFoundError",
     "evalue": "No module named 'shapely'",
     "output_type": "error",
     "traceback": [
      "\u001b[1;31m---------------------------------------------------------------------------\u001b[0m",
      "\u001b[1;31mModuleNotFoundError\u001b[0m                       Traceback (most recent call last)",
      "\u001b[1;32m<ipython-input-2-321845255bd4>\u001b[0m in \u001b[0;36m<module>\u001b[1;34m\u001b[0m\n\u001b[0;32m      1\u001b[0m \u001b[1;31m# create a gpd from df_fire using \"point\" as geometry\u001b[0m\u001b[1;33m\u001b[0m\u001b[1;33m\u001b[0m\u001b[1;33m\u001b[0m\u001b[0m\n\u001b[0;32m      2\u001b[0m \u001b[1;31m#df_fire['point'].head()\u001b[0m\u001b[1;33m\u001b[0m\u001b[1;33m\u001b[0m\u001b[1;33m\u001b[0m\u001b[0m\n\u001b[1;32m----> 3\u001b[1;33m \u001b[1;32mfrom\u001b[0m \u001b[0mshapely\u001b[0m \u001b[1;32mimport\u001b[0m \u001b[0mwkt\u001b[0m\u001b[1;33m\u001b[0m\u001b[1;33m\u001b[0m\u001b[0m\n\u001b[0m",
      "\u001b[1;31mModuleNotFoundError\u001b[0m: No module named 'shapely'"
     ]
    }
   ],
   "source": [
    "# create a gpd from df_fire using \"point\" as geometry\n",
    "#df_fire['point'].head()\n",
    "from shapely import wkt"
   ]
  },
  {
   "cell_type": "code",
   "execution_count": 22,
   "metadata": {
    "collapsed": true
   },
   "outputs": [],
   "source": [
    "test_fire['point'] = test_fire['point'].apply(wkt.loads)"
   ]
  },
  {
   "cell_type": "code",
   "execution_count": 23,
   "metadata": {
    "collapsed": true
   },
   "outputs": [],
   "source": [
    "gdf_fire = gpd.GeoDataFrame(test_fire, geometry='point')"
   ]
  },
  {
   "cell_type": "code",
   "execution_count": 28,
   "metadata": {},
   "outputs": [],
   "source": [
    "# make sure the two dataset have the same projection\n",
    "\n",
    "#gdf_fire = gdf_fire.to_crs({'init': 'epsg:4326'})\n",
    "gdf_fire.crs = test_parcel.crs"
   ]
  },
  {
   "cell_type": "code",
   "execution_count": 29,
   "metadata": {},
   "outputs": [],
   "source": [
    "# spatial join\n",
    "fire_sjoin = gpd.sjoin(gdf_fire,test_parcel,how = 'left', op='within')"
   ]
  },
  {
   "cell_type": "code",
   "execution_count": 30,
   "metadata": {},
   "outputs": [
    {
     "data": {
      "text/html": [
       "<div>\n",
       "<style scoped>\n",
       "    .dataframe tbody tr th:only-of-type {\n",
       "        vertical-align: middle;\n",
       "    }\n",
       "\n",
       "    .dataframe tbody tr th {\n",
       "        vertical-align: top;\n",
       "    }\n",
       "\n",
       "    .dataframe thead th {\n",
       "        text-align: right;\n",
       "    }\n",
       "</style>\n",
       "<table border=\"1\" class=\"dataframe\">\n",
       "  <thead>\n",
       "    <tr style=\"text-align: right;\">\n",
       "      <th></th>\n",
       "      <th>Incident Number</th>\n",
       "      <th>point</th>\n",
       "      <th>index_right</th>\n",
       "      <th>objectid</th>\n",
       "    </tr>\n",
       "  </thead>\n",
       "  <tbody>\n",
       "    <tr>\n",
       "      <th>0</th>\n",
       "      <td>8028304</td>\n",
       "      <td>POINT (-122.41837 37.74209)</td>\n",
       "      <td>127696.0</td>\n",
       "      <td>127685</td>\n",
       "    </tr>\n",
       "    <tr>\n",
       "      <th>1</th>\n",
       "      <td>8028303</td>\n",
       "      <td>POINT (-122.39489 37.75629)</td>\n",
       "      <td>NaN</td>\n",
       "      <td>NaN</td>\n",
       "    </tr>\n",
       "    <tr>\n",
       "      <th>2</th>\n",
       "      <td>8028309</td>\n",
       "      <td>POINT (-122.40747 37.78008)</td>\n",
       "      <td>NaN</td>\n",
       "      <td>NaN</td>\n",
       "    </tr>\n",
       "    <tr>\n",
       "      <th>3</th>\n",
       "      <td>8028314</td>\n",
       "      <td>POINT (-122.42685 37.77613)</td>\n",
       "      <td>13586.0</td>\n",
       "      <td>13557</td>\n",
       "    </tr>\n",
       "    <tr>\n",
       "      <th>4</th>\n",
       "      <td>8028319</td>\n",
       "      <td>POINT (-122.48639 37.77428)</td>\n",
       "      <td>NaN</td>\n",
       "      <td>NaN</td>\n",
       "    </tr>\n",
       "  </tbody>\n",
       "</table>\n",
       "</div>"
      ],
      "text/plain": [
       "   Incident Number                        point  index_right objectid\n",
       "0          8028304  POINT (-122.41837 37.74209)     127696.0   127685\n",
       "1          8028303  POINT (-122.39489 37.75629)          NaN      NaN\n",
       "2          8028309  POINT (-122.40747 37.78008)          NaN      NaN\n",
       "3          8028314  POINT (-122.42685 37.77613)      13586.0    13557\n",
       "4          8028319  POINT (-122.48639 37.77428)          NaN      NaN"
      ]
     },
     "execution_count": 30,
     "metadata": {},
     "output_type": "execute_result"
    }
   ],
   "source": [
    "fire_sjoin.head()"
   ]
  },
  {
   "cell_type": "code",
   "execution_count": 32,
   "metadata": {},
   "outputs": [
    {
     "data": {
      "text/plain": [
       "(149305, 4)"
      ]
     },
     "execution_count": 32,
     "metadata": {},
     "output_type": "execute_result"
    }
   ],
   "source": [
    "fire_sjoin_not_null = fire_sjoin.dropna()\n",
    "fire_sjoin_not_null.shape"
   ]
  },
  {
   "cell_type": "code",
   "execution_count": 33,
   "metadata": {
    "collapsed": true
   },
   "outputs": [],
   "source": [
    "# of all the 528k fires, 149k are associated with parcel\n",
    "# now groupby objectid and rejoin with parcel data\n",
    "\n",
    "grouped = fire_sjoin_not_null.groupby('objectid').size()\n",
    "df_group = grouped.to_frame().reset_index()\n",
    "df_group.columns = ['objectid','fire_count']"
   ]
  },
  {
   "cell_type": "code",
   "execution_count": 34,
   "metadata": {},
   "outputs": [
    {
     "data": {
      "text/html": [
       "<div>\n",
       "<style scoped>\n",
       "    .dataframe tbody tr th:only-of-type {\n",
       "        vertical-align: middle;\n",
       "    }\n",
       "\n",
       "    .dataframe tbody tr th {\n",
       "        vertical-align: top;\n",
       "    }\n",
       "\n",
       "    .dataframe thead th {\n",
       "        text-align: right;\n",
       "    }\n",
       "</style>\n",
       "<table border=\"1\" class=\"dataframe\">\n",
       "  <thead>\n",
       "    <tr style=\"text-align: right;\">\n",
       "      <th></th>\n",
       "      <th>objectid</th>\n",
       "      <th>fire_count</th>\n",
       "    </tr>\n",
       "  </thead>\n",
       "  <tbody>\n",
       "    <tr>\n",
       "      <th>0</th>\n",
       "      <td>1</td>\n",
       "      <td>2</td>\n",
       "    </tr>\n",
       "    <tr>\n",
       "      <th>1</th>\n",
       "      <td>10</td>\n",
       "      <td>5</td>\n",
       "    </tr>\n",
       "    <tr>\n",
       "      <th>2</th>\n",
       "      <td>100</td>\n",
       "      <td>1</td>\n",
       "    </tr>\n",
       "    <tr>\n",
       "      <th>3</th>\n",
       "      <td>1000</td>\n",
       "      <td>4</td>\n",
       "    </tr>\n",
       "    <tr>\n",
       "      <th>4</th>\n",
       "      <td>100004</td>\n",
       "      <td>1</td>\n",
       "    </tr>\n",
       "  </tbody>\n",
       "</table>\n",
       "</div>"
      ],
      "text/plain": [
       "  objectid  fire_count\n",
       "0        1           2\n",
       "1       10           5\n",
       "2      100           1\n",
       "3     1000           4\n",
       "4   100004           1"
      ]
     },
     "execution_count": 34,
     "metadata": {},
     "output_type": "execute_result"
    }
   ],
   "source": [
    "df_group.head()"
   ]
  },
  {
   "cell_type": "code",
   "execution_count": 35,
   "metadata": {
    "collapsed": true
   },
   "outputs": [],
   "source": [
    "# first convert gpd to pd\n",
    "parcel = pd.DataFrame(df_parcel.drop(columns='geometry'))\n",
    "\n",
    "# then merge using objectid\n",
    "merged_data = parcel.merge(df_group, on='objectid', how='outer')"
   ]
  },
  {
   "cell_type": "code",
   "execution_count": 36,
   "metadata": {},
   "outputs": [
    {
     "data": {
      "text/html": [
       "<div>\n",
       "<style scoped>\n",
       "    .dataframe tbody tr th:only-of-type {\n",
       "        vertical-align: middle;\n",
       "    }\n",
       "\n",
       "    .dataframe tbody tr th {\n",
       "        vertical-align: top;\n",
       "    }\n",
       "\n",
       "    .dataframe thead th {\n",
       "        text-align: right;\n",
       "    }\n",
       "</style>\n",
       "<table border=\"1\" class=\"dataframe\">\n",
       "  <thead>\n",
       "    <tr style=\"text-align: right;\">\n",
       "      <th></th>\n",
       "      <th>yrbuilt</th>\n",
       "      <th>from_st</th>\n",
       "      <th>total_uses</th>\n",
       "      <th>shape_area</th>\n",
       "      <th>cie</th>\n",
       "      <th>landuse</th>\n",
       "      <th>mips</th>\n",
       "      <th>mapblklot</th>\n",
       "      <th>objectid</th>\n",
       "      <th>shape_leng</th>\n",
       "      <th>...</th>\n",
       "      <th>resunits</th>\n",
       "      <th>pdr</th>\n",
       "      <th>street</th>\n",
       "      <th>retail</th>\n",
       "      <th>to_st</th>\n",
       "      <th>block_num</th>\n",
       "      <th>blklot</th>\n",
       "      <th>lot_num</th>\n",
       "      <th>med</th>\n",
       "      <th>fire_count</th>\n",
       "    </tr>\n",
       "  </thead>\n",
       "  <tbody>\n",
       "    <tr>\n",
       "      <th>0</th>\n",
       "      <td>1912</td>\n",
       "      <td>838</td>\n",
       "      <td>0</td>\n",
       "      <td>3864.06176213</td>\n",
       "      <td>0</td>\n",
       "      <td>RESIDENT</td>\n",
       "      <td>0</td>\n",
       "      <td>0026013</td>\n",
       "      <td>1</td>\n",
       "      <td>327.786363395</td>\n",
       "      <td>...</td>\n",
       "      <td>5</td>\n",
       "      <td>0</td>\n",
       "      <td>BAY</td>\n",
       "      <td>0</td>\n",
       "      <td>842</td>\n",
       "      <td>0026</td>\n",
       "      <td>0026013</td>\n",
       "      <td>013</td>\n",
       "      <td>0</td>\n",
       "      <td>2.0</td>\n",
       "    </tr>\n",
       "    <tr>\n",
       "      <th>1</th>\n",
       "      <td>1900</td>\n",
       "      <td>844</td>\n",
       "      <td>3471</td>\n",
       "      <td>3361.0253507</td>\n",
       "      <td>0</td>\n",
       "      <td>MIXRES</td>\n",
       "      <td>3471</td>\n",
       "      <td>0026014</td>\n",
       "      <td>2</td>\n",
       "      <td>320.352521518</td>\n",
       "      <td>...</td>\n",
       "      <td>1</td>\n",
       "      <td>0</td>\n",
       "      <td>BAY</td>\n",
       "      <td>0</td>\n",
       "      <td>844</td>\n",
       "      <td>0026</td>\n",
       "      <td>0026014</td>\n",
       "      <td>014</td>\n",
       "      <td>0</td>\n",
       "      <td>NaN</td>\n",
       "    </tr>\n",
       "    <tr>\n",
       "      <th>2</th>\n",
       "      <td>1900</td>\n",
       "      <td>848</td>\n",
       "      <td>0</td>\n",
       "      <td>3272.03319647</td>\n",
       "      <td>0</td>\n",
       "      <td>RESIDENT</td>\n",
       "      <td>0</td>\n",
       "      <td>0026015</td>\n",
       "      <td>3</td>\n",
       "      <td>319.046088472</td>\n",
       "      <td>...</td>\n",
       "      <td>2</td>\n",
       "      <td>0</td>\n",
       "      <td>BAY</td>\n",
       "      <td>0</td>\n",
       "      <td>850</td>\n",
       "      <td>0026</td>\n",
       "      <td>0026015</td>\n",
       "      <td>015</td>\n",
       "      <td>0</td>\n",
       "      <td>4.0</td>\n",
       "    </tr>\n",
       "    <tr>\n",
       "      <th>3</th>\n",
       "      <td>1940</td>\n",
       "      <td>860</td>\n",
       "      <td>0</td>\n",
       "      <td>4570.76766739</td>\n",
       "      <td>0</td>\n",
       "      <td>RESIDENT</td>\n",
       "      <td>0</td>\n",
       "      <td>0026016</td>\n",
       "      <td>4</td>\n",
       "      <td>279.353001525</td>\n",
       "      <td>...</td>\n",
       "      <td>2</td>\n",
       "      <td>0</td>\n",
       "      <td>BAY</td>\n",
       "      <td>0</td>\n",
       "      <td>862</td>\n",
       "      <td>0026</td>\n",
       "      <td>0026016</td>\n",
       "      <td>016</td>\n",
       "      <td>0</td>\n",
       "      <td>NaN</td>\n",
       "    </tr>\n",
       "    <tr>\n",
       "      <th>4</th>\n",
       "      <td>1938</td>\n",
       "      <td>870</td>\n",
       "      <td>0</td>\n",
       "      <td>5225.82373482</td>\n",
       "      <td>0</td>\n",
       "      <td>RESIDENT</td>\n",
       "      <td>0</td>\n",
       "      <td>0026017</td>\n",
       "      <td>5</td>\n",
       "      <td>294.35433855</td>\n",
       "      <td>...</td>\n",
       "      <td>2</td>\n",
       "      <td>0</td>\n",
       "      <td>BAY</td>\n",
       "      <td>0</td>\n",
       "      <td>872</td>\n",
       "      <td>0026</td>\n",
       "      <td>0026017</td>\n",
       "      <td>017</td>\n",
       "      <td>0</td>\n",
       "      <td>NaN</td>\n",
       "    </tr>\n",
       "  </tbody>\n",
       "</table>\n",
       "<p>5 rows × 23 columns</p>\n",
       "</div>"
      ],
      "text/plain": [
       "  yrbuilt from_st total_uses     shape_area cie   landuse  mips mapblklot  \\\n",
       "0    1912     838          0  3864.06176213   0  RESIDENT     0   0026013   \n",
       "1    1900     844       3471   3361.0253507   0    MIXRES  3471   0026014   \n",
       "2    1900     848          0  3272.03319647   0  RESIDENT     0   0026015   \n",
       "3    1940     860          0  4570.76766739   0  RESIDENT     0   0026016   \n",
       "4    1938     870          0  5225.82373482   0  RESIDENT     0   0026017   \n",
       "\n",
       "  objectid     shape_leng  ... resunits pdr street retail to_st block_num  \\\n",
       "0        1  327.786363395  ...        5   0    BAY      0   842      0026   \n",
       "1        2  320.352521518  ...        1   0    BAY      0   844      0026   \n",
       "2        3  319.046088472  ...        2   0    BAY      0   850      0026   \n",
       "3        4  279.353001525  ...        2   0    BAY      0   862      0026   \n",
       "4        5   294.35433855  ...        2   0    BAY      0   872      0026   \n",
       "\n",
       "    blklot lot_num med fire_count  \n",
       "0  0026013     013   0        2.0  \n",
       "1  0026014     014   0        NaN  \n",
       "2  0026015     015   0        4.0  \n",
       "3  0026016     016   0        NaN  \n",
       "4  0026017     017   0        NaN  \n",
       "\n",
       "[5 rows x 23 columns]"
      ]
     },
     "execution_count": 36,
     "metadata": {},
     "output_type": "execute_result"
    }
   ],
   "source": [
    "merged_data.head()"
   ]
  },
  {
   "cell_type": "code",
   "execution_count": 37,
   "metadata": {
    "collapsed": true
   },
   "outputs": [],
   "source": [
    "merged_data.to_csv('df_alpha.csv',index=False)"
   ]
  },
  {
   "cell_type": "code",
   "execution_count": null,
   "metadata": {
    "collapsed": true
   },
   "outputs": [],
   "source": []
  }
 ],
 "metadata": {
  "kernelspec": {
   "display_name": "Python 3",
   "language": "python",
   "name": "python3"
  },
  "language_info": {
   "codemirror_mode": {
    "name": "ipython",
    "version": 3
   },
   "file_extension": ".py",
   "mimetype": "text/x-python",
   "name": "python",
   "nbconvert_exporter": "python",
   "pygments_lexer": "ipython3",
   "version": "3.8.3"
  }
 },
 "nbformat": 4,
 "nbformat_minor": 2
}
