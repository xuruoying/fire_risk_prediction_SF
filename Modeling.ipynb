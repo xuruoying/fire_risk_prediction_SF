{
 "cells": [
  {
   "cell_type": "code",
   "execution_count": 1,
   "metadata": {},
   "outputs": [],
   "source": [
    "import pandas as pd"
   ]
  },
  {
   "cell_type": "code",
   "execution_count": 17,
   "metadata": {},
   "outputs": [],
   "source": [
    "# first load the building + fire data\n",
    "df = pd.read_csv('third_analysis.csv')"
   ]
  },
  {
   "cell_type": "code",
   "execution_count": 3,
   "metadata": {},
   "outputs": [],
   "source": [
    "# crime + census\n",
    "df_crime = pd.read_csv('sf_crime_census.csv')\n",
    "# link parce with blk\n",
    "df_joint = pd.read_csv('parcel_blk.csv')"
   ]
  },
  {
   "cell_type": "code",
   "execution_count": 5,
   "metadata": {},
   "outputs": [
    {
     "data": {
      "text/plain": [
       "Index(['yrbuilt', 'from_st', 'total_uses', 'shape_area', 'cie', 'landuse',\n",
       "       'mips', 'mapblklot', 'objectid', 'shape_leng', 'visitor', 'st_type',\n",
       "       'bldgsqft', 'resunits', 'pdr', 'street', 'retail', 'to_st', 'block_num',\n",
       "       'blklot', 'lot_num', 'med', 'fire_count', 'fire_count_last year',\n",
       "       'year', 'complaints_count', 'violation_count', 'building_permit'],\n",
       "      dtype='object')"
      ]
     },
     "execution_count": 5,
     "metadata": {},
     "output_type": "execute_result"
    }
   ],
   "source": [
    "df.columns"
   ]
  },
  {
   "cell_type": "code",
   "execution_count": 6,
   "metadata": {},
   "outputs": [
    {
     "data": {
      "text/plain": [
       "Index(['objectid', 'block_id'], dtype='object')"
      ]
     },
     "execution_count": 6,
     "metadata": {},
     "output_type": "execute_result"
    }
   ],
   "source": [
    "df_joint.columns"
   ]
  },
  {
   "cell_type": "code",
   "execution_count": 7,
   "metadata": {},
   "outputs": [
    {
     "data": {
      "text/plain": [
       "Index(['block_id', 'arson_count', 'other_crime_count', 'year',\n",
       "       'nodes_population_1500m', 'block_groups_total_jobs',\n",
       "       'block_groups_median_children', 'block_groups_median_income',\n",
       "       'prop_tenure_1', 'nodes_low_income_hh_1500m',\n",
       "       'nodes_high_income_hh_1500m', 'nodes_jobs_3000m', 'nodes_jobs_20km',\n",
       "       'nodes_population_400m', 'nodes_population_800m',\n",
       "       'block_groups_prop_race_of_head_1', 'block_groups_prop_race_of_head_2',\n",
       "       'block_groups_prop_race_of_head_3', 'block_groups_prop_race_of_head_7',\n",
       "       'block_groups_prop_race_of_head_8', 'block_groups_prop_race_of_head_6',\n",
       "       'pumas_density_residential_units', 'block_groups_density_jobs',\n",
       "       'nodes_jobs_1500m_4445', 'nodes_jobs_3000m_4445', 'nodes_du_5000m',\n",
       "       'nodes_du_800m', 'block_groups_median_rent',\n",
       "       'block_groups_median_persons', 'block_groups_median_age_of_head',\n",
       "       'nodes_ave_year_built_800m'],\n",
       "      dtype='object')"
      ]
     },
     "execution_count": 7,
     "metadata": {},
     "output_type": "execute_result"
    }
   ],
   "source": [
    "df_crime.columns"
   ]
  },
  {
   "cell_type": "code",
   "execution_count": 11,
   "metadata": {},
   "outputs": [
    {
     "name": "stdout",
     "output_type": "stream",
     "text": [
      "(158633, 2)\n",
      "(173243, 31)\n"
     ]
    }
   ],
   "source": [
    "print(df_joint.shape)\n",
    "print(df_crime.shape)"
   ]
  },
  {
   "cell_type": "code",
   "execution_count": 14,
   "metadata": {},
   "outputs": [
    {
     "data": {
      "text/plain": [
       "True"
      ]
     },
     "execution_count": 14,
     "metadata": {},
     "output_type": "execute_result"
    }
   ],
   "source": [
    "# when joining parcel with block, may resulted in duplication\n",
    "df_joint.duplicated(subset=['objectid']).any()"
   ]
  },
  {
   "cell_type": "code",
   "execution_count": 15,
   "metadata": {},
   "outputs": [
    {
     "name": "stdout",
     "output_type": "stream",
     "text": [
      "(155466, 2)\n"
     ]
    }
   ],
   "source": [
    "# drop duplicate\n",
    "df_joint = df_joint.drop_duplicates(subset=['objectid'], keep='first')\n",
    "print(df_joint.shape)"
   ]
  },
  {
   "cell_type": "code",
   "execution_count": 18,
   "metadata": {},
   "outputs": [
    {
     "name": "stdout",
     "output_type": "stream",
     "text": [
      "(1243744, 28)\n",
      "(1243744, 29)\n"
     ]
    }
   ],
   "source": [
    "print(df.shape)\n",
    "# joint df with df_joint on objectid\n",
    "# then join them with df_crime on block_id and year\n",
    "\n",
    "df = df.merge(df_joint,on='objectid', how='left')\n",
    "print(df.shape)"
   ]
  },
  {
   "cell_type": "code",
   "execution_count": 19,
   "metadata": {},
   "outputs": [
    {
     "name": "stdout",
     "output_type": "stream",
     "text": [
      "(1243744, 58)\n"
     ]
    }
   ],
   "source": [
    "# df_crime is from 2007-2019. need to join by year and block_id\n",
    "df = df.merge(df_crime,how='left',left_on=['block_id', 'year'], right_on=['block_id','year'])\n",
    "print(df.shape)"
   ]
  },
  {
   "cell_type": "code",
   "execution_count": 21,
   "metadata": {},
   "outputs": [
    {
     "name": "stdout",
     "output_type": "stream",
     "text": [
      "(1243744, 45)\n",
      "(1123981, 45)\n"
     ]
    }
   ],
   "source": [
    "# select columns to use\n",
    "cols_to_use = ['fire_count','fire_count_last year','year',\n",
    "               'yrbuilt','bldgsqft','total_uses','cie','mips','visitor', 'pdr', 'retail', 'med','resunits',\n",
    "               'complaints_count', 'violation_count','building_permit',\n",
    "              'arson_count', 'other_crime_count', \n",
    "               'nodes_population_1500m', 'block_groups_total_jobs',\n",
    "               'block_groups_median_children', 'block_groups_median_income',\n",
    "               'prop_tenure_1', 'nodes_low_income_hh_1500m',\n",
    "               'nodes_high_income_hh_1500m', 'nodes_jobs_3000m', 'nodes_jobs_20km',\n",
    "               'nodes_population_400m', 'nodes_population_800m',\n",
    "               'block_groups_prop_race_of_head_1', 'block_groups_prop_race_of_head_2',\n",
    "               'block_groups_prop_race_of_head_3', 'block_groups_prop_race_of_head_7',\n",
    "               'block_groups_prop_race_of_head_8', 'block_groups_prop_race_of_head_6',\n",
    "               'pumas_density_residential_units', 'block_groups_density_jobs',\n",
    "               'nodes_jobs_1500m_4445', 'nodes_jobs_3000m_4445', 'nodes_du_5000m',\n",
    "               'nodes_du_800m', 'block_groups_median_rent',\n",
    "               'block_groups_median_persons', 'block_groups_median_age_of_head',\n",
    "               'nodes_ave_year_built_800m']\n",
    "\n",
    "df_model = df[cols_to_use]\n",
    "print(df_model.shape)\n",
    "df_model = df_model.dropna(how='any')\n",
    "print(df_model.shape)"
   ]
  },
  {
   "cell_type": "code",
   "execution_count": 22,
   "metadata": {},
   "outputs": [
    {
     "data": {
      "text/plain": [
       "0.0     1081902\n",
       "1.0       36564\n",
       "2.0        3637\n",
       "3.0         937\n",
       "4.0         409\n",
       "5.0         192\n",
       "6.0         132\n",
       "7.0          72\n",
       "8.0          38\n",
       "9.0          30\n",
       "10.0         25\n",
       "12.0          9\n",
       "11.0          8\n",
       "14.0          4\n",
       "19.0          3\n",
       "22.0          3\n",
       "16.0          3\n",
       "15.0          2\n",
       "18.0          2\n",
       "23.0          2\n",
       "27.0          1\n",
       "21.0          1\n",
       "32.0          1\n",
       "39.0          1\n",
       "37.0          1\n",
       "26.0          1\n",
       "30.0          1\n",
       "Name: fire_count, dtype: int64"
      ]
     },
     "execution_count": 22,
     "metadata": {},
     "output_type": "execute_result"
    }
   ],
   "source": [
    "df_model['fire_count'].value_counts()"
   ]
  },
  {
   "cell_type": "code",
   "execution_count": 23,
   "metadata": {},
   "outputs": [
    {
     "data": {
      "text/plain": [
       "0    1081902\n",
       "1      42079\n",
       "Name: fire, dtype: int64"
      ]
     },
     "execution_count": 23,
     "metadata": {},
     "output_type": "execute_result"
    }
   ],
   "source": [
    "# make fire count binary\n",
    "df_model['fire'] = 0\n",
    "df_model.loc[(df_model['fire_count'] > 0),'fire'] = 1\n",
    "df_model.drop('fire_count',inplace=True, axis=1)\n",
    "df_model['fire'].value_counts()\n",
    "\n",
    "#3.7% of buildings have fire"
   ]
  },
  {
   "cell_type": "code",
   "execution_count": 26,
   "metadata": {},
   "outputs": [
    {
     "data": {
      "text/plain": [
       "2015    151875\n",
       "2017    151159\n",
       "2014    150959\n",
       "2013    150827\n",
       "2016    150563\n",
       "2012    150401\n",
       "2019    109392\n",
       "2018    108805\n",
       "Name: year, dtype: int64"
      ]
     },
     "execution_count": 26,
     "metadata": {},
     "output_type": "execute_result"
    }
   ],
   "source": [
    "df_model['year'].value_counts()"
   ]
  },
  {
   "cell_type": "code",
   "execution_count": 24,
   "metadata": {},
   "outputs": [],
   "source": [
    "from sklearn.model_selection import train_test_split\n",
    "from sklearn.ensemble import RandomForestClassifier, GradientBoostingClassifier\n",
    "from sklearn.feature_selection import SelectFromModel\n",
    "from sklearn.metrics import roc_curve, roc_auc_score\n",
    "from sklearn.pipeline import Pipeline\n",
    "from sklearn.model_selection import cross_validate, GridSearchCV, learning_curve\n",
    "from sklearn.preprocessing import StandardScaler, LabelEncoder\n",
    "from sklearn.linear_model import LogisticRegression\n",
    "from sklearn.model_selection import cross_val_score\n",
    "from sklearn.model_selection import RepeatedStratifiedKFold"
   ]
  },
  {
   "cell_type": "code",
   "execution_count": 25,
   "metadata": {},
   "outputs": [],
   "source": [
    "import numpy as np\n",
    "import pandas as pd\n",
    "import seaborn as sns\n",
    "import matplotlib.pyplot as plt\n",
    "import time\n",
    "import pickle\n",
    "plt.style.use('seaborn-talk')"
   ]
  },
  {
   "cell_type": "code",
   "execution_count": null,
   "metadata": {},
   "outputs": [],
   "source": [
    "# in sklearn, there are many ways of calculating accuracy of models. Use this command to display them all\n",
    "import sklearn\n",
    "sorted(sklearn.metrics.SCORERS.keys())"
   ]
  },
  {
   "cell_type": "code",
   "execution_count": 27,
   "metadata": {},
   "outputs": [],
   "source": [
    "# divide the data\n",
    "x_cols = cols_to_use[1:]\n",
    "\n",
    "validate = df_model[df_model['year']==2019]\n",
    "traintest = df_model[df_model['year']<2019]\n",
    "\n",
    "df_x = traintest[x_cols]\n",
    "df_y = traintest['fire']\n",
    "\n",
    "# a validation set used for ptrediction\n",
    "validate_x = validate[x_cols]\n",
    "validate_y = validate['fire']"
   ]
  },
  {
   "cell_type": "code",
   "execution_count": 28,
   "metadata": {},
   "outputs": [],
   "source": [
    "def generate_pipeline_RC(scale=False,select=True,test_parameters=False):\n",
    "\n",
    "    '''\n",
    "    Set up modelling pipline for random forest classifier\n",
    "    User selects parameters to conduct grid search and number of folds of CV\n",
    "    '''\n",
    "\n",
    "    #Scaling\n",
    "    SC = StandardScaler()\n",
    "\n",
    "    #Classifier \n",
    "    RC = RandomForestClassifier()\n",
    "    #Feature selector\n",
    "    FS = SelectFromModel(estimator=RC,threshold='mean')\n",
    "    #Pipeline\n",
    "    if (scale == True) and (select == True):\n",
    "        RC_pipeline = Pipeline([('scale',SC),('select',FS),('classify', RC)])\n",
    "    elif (scale == True) and (select == False):\n",
    "        RC_pipeline = Pipeline([('scale',SC),('classify', RC)])\n",
    "    elif (scale == False) and (select == True ):\n",
    "        RC_pipeline = Pipeline([('select',FS),('classify', RC)])\n",
    "    else:\n",
    "        RC_pipeline = Pipeline([('classify', RC)])\n",
    "\n",
    "    if test_parameters == False:\n",
    "\n",
    "        #Parameters to search over\n",
    "        test_parameters = {\n",
    "        'classify__n_estimators': [100],\n",
    "        'classify__max_depth': [15],\n",
    "        'classify__min_samples_leaf':[30]\n",
    "        }\n",
    "\n",
    "    #Number of folds\n",
    "    nfolds=5\n",
    "\n",
    "    #Grid search object to set up\n",
    "    grid_search = GridSearchCV(RC_pipeline, test_parameters, \\\n",
    "                           scoring='roc_auc',verbose=1, cv=nfolds, n_jobs=4)\n",
    "\n",
    "    return RC_pipeline, grid_search, test_parameters"
   ]
  },
  {
   "cell_type": "code",
   "execution_count": 29,
   "metadata": {},
   "outputs": [],
   "source": [
    "def perform_grid_search(pipeline_obj,grid_search_obj,X_train,y_train,test_parameters,Xcols,select=True):\n",
    "    \n",
    "    '''\n",
    "    Perform a grid search over hyperparmeters to generate the best model. Takes a generic pipeline object and grid search\n",
    "    object. Prints the length of time it takes to run a model. Runs GridSearchCV over some input range of parameters to\n",
    "    select the best model based in AOC score\n",
    "    '''\n",
    "    \n",
    "    print(\"Performing grid search...\")\n",
    "    print(\"pipeline:\", [name for name, _ in pipeline_obj.steps])\n",
    "    print(\"parameters:\")\n",
    "    print(test_parameters)\n",
    "    t0 = time.time()\n",
    "    \n",
    "    #Do the grid search on the training dataset\n",
    "    grid_search_obj.fit(X_train, y_train)\n",
    "    \n",
    "    print(\"done in %0.3fs\" % (time.time() - t0))\n",
    "    print()\n",
    "\n",
    "    print(\"Best score: %0.3f\" % grid_search_obj.best_score_)\n",
    "    print(\"Best parameters set:\")\n",
    "    best_estimator = grid_search_obj.best_estimator_\n",
    "    best_parameters = best_estimator.get_params()\n",
    "    for param_name in sorted(test_parameters.keys()):\n",
    "        print(\"\\t%s: %r\" % (param_name, best_parameters[param_name]))\n",
    "        \n",
    "    #Get the names of the columns corresponding to the features we want to keep\n",
    "    if select == True:\n",
    "        support = best_estimator.named_steps['select'].get_support()\n",
    "        X_new_cols = [Xcols[i] for i in range(len(support)) if support[i] == True]\n",
    "    else:\n",
    "        X_new_cols = Xcols\n",
    " \n",
    "    #Return the best estimator object for use with the holdout dataset\n",
    "    \n",
    "    return X_new_cols, best_estimator"
   ]
  },
  {
   "cell_type": "code",
   "execution_count": null,
   "metadata": {},
   "outputs": [
    {
     "name": "stdout",
     "output_type": "stream",
     "text": [
      "Performing grid search...\n",
      "pipeline: ['select', 'classify']\n",
      "parameters:\n",
      "{'classify__n_estimators': [100, 200], 'classify__max_depth': [10, 15], 'classify__min_samples_split': [8, 20], 'classify__min_samples_leaf': [20, 30.4], 'classify__class_weight': ['balanced', 'balanced_subsample']}\n",
      "Fitting 5 folds for each of 32 candidates, totalling 160 fits\n"
     ]
    },
    {
     "name": "stderr",
     "output_type": "stream",
     "text": [
      "[Parallel(n_jobs=4)]: Using backend LokyBackend with 4 concurrent workers.\n",
      "[Parallel(n_jobs=4)]: Done  42 tasks      | elapsed: 59.5min\n"
     ]
    }
   ],
   "source": [
    "test_parameters_RF = {\n",
    "        'classify__n_estimators': [100,200],\n",
    "        'classify__max_depth': [10,15],\n",
    "        'classify__min_samples_split':[8,20],\n",
    "        'classify__min_samples_leaf':[20,30.40],\n",
    "        'classify__class_weight':['balanced','balanced_subsample']\n",
    "}\n",
    "\n",
    "pipeline, gridsearch, testparams = generate_pipeline_RC(test_parameters=test_parameters_RF,select=True)\n",
    "\n",
    "#Run grid search for the best model\n",
    "Xcols, RF_model_structure = perform_grid_search(pipeline,gridsearch,df_x,df_y,testparams,list(df_x.columns),select=True)"
   ]
  },
  {
   "cell_type": "code",
   "execution_count": 31,
   "metadata": {},
   "outputs": [],
   "source": [
    "def plot_ROC_curve(Xdata,Ytrue,model,title):\n",
    "\n",
    "    '''\n",
    "    Plot ROC curve for this model \n",
    "    '''\n",
    "\n",
    "    fires_holdout_predict = model.predict_proba(Xdata)\n",
    "\n",
    "    fpr, tpr, thresholds1 = roc_curve(np.array(Ytrue).astype(int), fires_holdout_predict[:,1])\n",
    "\n",
    "    score = roc_auc_score(np.array(Ytrue).astype(int), fires_holdout_predict[:,1])\n",
    "\n",
    "    score_label = 'AOC score: %.3f' %score \n",
    "\n",
    "    fig = plt.figure(figsize=(10,10))\n",
    "    ax = fig.add_subplot(111)\n",
    "    ax.plot(fpr,tpr,label=score_label)\n",
    "    ax.set_xlabel(\"False Positive\")\n",
    "    ax.set_ylabel(\"True Positive\")\n",
    "    ax.plot(np.linspace(0,1,10),np.linspace(0,1,10),'k--')\n",
    "    ax.set_title('%s' %title)\n",
    "\n",
    "        \n",
    "    ax.fill_between(fpr, np.zeros(len(fpr)),\n",
    "                     tpr, alpha=0.1,\n",
    "                     color=\"b\")\n",
    "    ax.grid()\n",
    "    plt.legend(loc='best')\n",
    "    fname = 'AOC_%s.png' %title\n",
    "    plt.savefig(fname,dpi=400)\n",
    "\n",
    "    return fig, fpr, tpr, thresholds1\n"
   ]
  },
  {
   "cell_type": "code",
   "execution_count": 32,
   "metadata": {},
   "outputs": [
    {
     "data": {
      "image/png": "[encoded data removed]",
      "text/plain": [
       "<Figure size 720x720 with 1 Axes>"
      ]
     },
     "metadata": {
      "needs_background": "light"
     },
     "output_type": "display_data"
    }
   ],
   "source": [
    "ROCplot, false_positive_EF, true_positive_EF, thresholds_EF = plot_ROC_curve(validate_x,validate_y,\n",
    "                                                                             RF_model_structure,\n",
    "                                                                             title='Structure_fire_ROC_curve')"
   ]
  },
  {
   "cell_type": "code",
   "execution_count": 33,
   "metadata": {},
   "outputs": [],
   "source": [
    "# assess model performance\n",
    "from sklearn import metrics"
   ]
  },
  {
   "cell_type": "code",
   "execution_count": 35,
   "metadata": {},
   "outputs": [
    {
     "data": {
      "text/plain": [
       "0.4206122448979592"
      ]
     },
     "execution_count": 35,
     "metadata": {},
     "output_type": "execute_result"
    }
   ],
   "source": [
    "fprobs = RF_model_structure.predict_proba(validate_x)\n",
    "fclass = RF_model_structure.predict(validate_x)\n",
    "metrics.recall_score(validate_y,fclass)"
   ]
  },
  {
   "cell_type": "code",
   "execution_count": 36,
   "metadata": {},
   "outputs": [
    {
     "data": {
      "text/plain": [
       "0.127230075930613"
      ]
     },
     "execution_count": 36,
     "metadata": {},
     "output_type": "execute_result"
    }
   ],
   "source": [
    "metrics.precision_score(validate_y,fclass)"
   ]
  },
  {
   "cell_type": "code",
   "execution_count": 37,
   "metadata": {},
   "outputs": [
    {
     "data": {
      "text/plain": [
       "0.19536470922792548"
      ]
     },
     "execution_count": 37,
     "metadata": {},
     "output_type": "execute_result"
    }
   ],
   "source": [
    "metrics.f1_score(validate_y,fclass)"
   ]
  },
  {
   "cell_type": "code",
   "execution_count": 40,
   "metadata": {},
   "outputs": [
    {
     "data": {
      "text/plain": [
       "['fire_count_last year',\n",
       " 'year',\n",
       " 'yrbuilt',\n",
       " 'bldgsqft',\n",
       " 'total_uses',\n",
       " 'resunits',\n",
       " 'other_crime_count',\n",
       " 'prop_tenure_1']"
      ]
     },
     "execution_count": 40,
     "metadata": {},
     "output_type": "execute_result"
    }
   ],
   "source": [
    "feature_importances = RF_model_structure.named_steps['classify'].feature_importances_\n",
    "inds = feature_importances.argsort()[::-1]\n",
    "fnames = []\n",
    "fvals = []\n",
    "for index in inds:\n",
    "    fvals.append(feature_importances[index])\n",
    "    fnames.append(Xcols[index])\n",
    "\n",
    "Xcols"
   ]
  },
  {
   "cell_type": "code",
   "execution_count": 41,
   "metadata": {},
   "outputs": [
    {
     "data": {
      "image/png": "[encoded data removed]",
      "text/plain": [
       "<Figure size 720x432 with 1 Axes>"
      ]
     },
     "metadata": {
      "needs_background": "light"
     },
     "output_type": "display_data"
    }
   ],
   "source": [
    "xlabels = fnames\n",
    "ylabels = fvals\n",
    "\n",
    "#Better label names for plot\n",
    "#xlabels = ['#crimes','#external fires','Lon','Area','Lat','#inspections','#residents','year','building_age_sd','landvalue']\n",
    "\n",
    "fig = plt.figure(figsize=(10,6))\n",
    "ax1 = fig.add_subplot(111)\n",
    "ax1.bar(xlabels,ylabels,alpha=0.5)\n",
    "rects = ax1.patches \n",
    "\n",
    "for rect, label in zip(rects, ylabels):\n",
    "    label = '%.2f' %label\n",
    "    height = rect.get_height()\n",
    "    ax1.text(rect.get_x() + rect.get_width() / 2, height + 0.01, label,\n",
    "            ha='center', va='bottom', fontsize=14)\n",
    "\n",
    "plt.xticks(rotation=90)\n",
    "ax1.set_title(\"Feature importances\",pad=20)\n",
    "plt.tight_layout()\n",
    "#plt.savefig(\"External_fires_fimportance_final.png\",dpi=400)"
   ]
  },
  {
   "cell_type": "code",
   "execution_count": 43,
   "metadata": {},
   "outputs": [
    {
     "data": {
      "text/plain": [
       "<matplotlib.axes._subplots.AxesSubplot at 0x1fe27787340>"
      ]
     },
     "execution_count": 43,
     "metadata": {},
     "output_type": "execute_result"
    },
    {
     "data": {
      "image/png": "[encoded data removed]",
      "text/plain": [
       "<Figure size 748.8x514.8 with 1 Axes>"
      ]
     },
     "metadata": {
      "needs_background": "light"
     },
     "output_type": "display_data"
    }
   ],
   "source": [
    "EF_2018_pred = RF_model_structure.predict_proba(validate_x)\n",
    "#Plot the distribution of fire probabilities \n",
    "sns.distplot(EF_2018_pred[:,1],kde=False,bins=100)"
   ]
  },
  {
   "cell_type": "code",
   "execution_count": null,
   "metadata": {},
   "outputs": [],
   "source": []
  },
  {
   "cell_type": "code",
   "execution_count": null,
   "metadata": {},
   "outputs": [],
   "source": []
  }
 ],
 "metadata": {
  "kernelspec": {
   "display_name": "Python 3",
   "language": "python",
   "name": "python3"
  },
  "language_info": {
   "codemirror_mode": {
    "name": "ipython",
    "version": 3
   },
   "file_extension": ".py",
   "mimetype": "text/x-python",
   "name": "python",
   "nbconvert_exporter": "python",
   "pygments_lexer": "ipython3",
   "version": "3.8.3"
  }
 },
 "nbformat": 4,
 "nbformat_minor": 4
}
