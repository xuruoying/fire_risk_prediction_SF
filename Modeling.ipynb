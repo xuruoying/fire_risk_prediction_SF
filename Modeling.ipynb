{
 "cells": [
  {
   "cell_type": "code",
   "execution_count": 1,
   "metadata": {},
   "outputs": [],
   "source": [
    "import pandas as pd"
   ]
  },
  {
   "cell_type": "code",
   "execution_count": 8,
   "metadata": {},
   "outputs": [],
   "source": [
    "# first load the building + fire data\n",
    "df = pd.read_csv('third_analysis.csv')"
   ]
  },
  {
   "cell_type": "code",
   "execution_count": 9,
   "metadata": {},
   "outputs": [],
   "source": [
    "# crime + census\n",
    "df_crime = pd.read_csv('sf_crime_census.csv')\n",
    "# link parce with blk\n",
    "df_joint = pd.read_csv('parcel_blk.csv')"
   ]
  },
  {
   "cell_type": "code",
   "execution_count": 10,
   "metadata": {},
   "outputs": [
    {
     "data": {
      "text/plain": [
       "Index(['yrbuilt', 'from_st', 'total_uses', 'shape_area', 'cie', 'landuse',\n",
       "       'mips', 'mapblklot', 'objectid', 'shape_leng', 'visitor', 'st_type',\n",
       "       'bldgsqft', 'resunits', 'pdr', 'street', 'retail', 'to_st', 'block_num',\n",
       "       'blklot', 'lot_num', 'med', 'fire_count', 'fire_count_last year',\n",
       "       'year', 'complaints_count', 'violation_count', 'building_permit'],\n",
       "      dtype='object')"
      ]
     },
     "execution_count": 10,
     "metadata": {},
     "output_type": "execute_result"
    }
   ],
   "source": [
    "df.columns"
   ]
  },
  {
   "cell_type": "code",
   "execution_count": 11,
   "metadata": {},
   "outputs": [
    {
     "data": {
      "text/plain": [
       "Index(['objectid', 'block_id'], dtype='object')"
      ]
     },
     "execution_count": 11,
     "metadata": {},
     "output_type": "execute_result"
    }
   ],
   "source": [
    "df_joint.columns"
   ]
  },
  {
   "cell_type": "code",
   "execution_count": 12,
   "metadata": {},
   "outputs": [
    {
     "data": {
      "text/plain": [
       "Index(['block_id', 'arson_count', 'other_crime_count', 'year',\n",
       "       'nodes_population_1500m', 'block_groups_total_jobs',\n",
       "       'block_groups_median_children', 'block_groups_median_income',\n",
       "       'prop_tenure_1', 'nodes_low_income_hh_1500m',\n",
       "       'nodes_high_income_hh_1500m', 'nodes_jobs_3000m', 'nodes_jobs_20km',\n",
       "       'nodes_population_400m', 'nodes_population_800m',\n",
       "       'block_groups_prop_race_of_head_1', 'block_groups_prop_race_of_head_2',\n",
       "       'block_groups_prop_race_of_head_3', 'block_groups_prop_race_of_head_7',\n",
       "       'block_groups_prop_race_of_head_8', 'block_groups_prop_race_of_head_6',\n",
       "       'pumas_density_residential_units', 'block_groups_density_jobs',\n",
       "       'nodes_jobs_1500m_4445', 'nodes_jobs_3000m_4445', 'nodes_du_5000m',\n",
       "       'nodes_du_800m', 'block_groups_median_rent',\n",
       "       'block_groups_median_persons', 'block_groups_median_age_of_head',\n",
       "       'nodes_ave_year_built_800m'],\n",
       "      dtype='object')"
      ]
     },
     "execution_count": 12,
     "metadata": {},
     "output_type": "execute_result"
    }
   ],
   "source": [
    "df_crime.columns"
   ]
  },
  {
   "cell_type": "code",
   "execution_count": 13,
   "metadata": {},
   "outputs": [
    {
     "name": "stdout",
     "output_type": "stream",
     "text": [
      "(158633, 2)\n",
      "(173243, 31)\n"
     ]
    }
   ],
   "source": [
    "print(df_joint.shape)\n",
    "print(df_crime.shape)"
   ]
  },
  {
   "cell_type": "code",
   "execution_count": 14,
   "metadata": {},
   "outputs": [
    {
     "data": {
      "text/plain": [
       "True"
      ]
     },
     "execution_count": 14,
     "metadata": {},
     "output_type": "execute_result"
    }
   ],
   "source": [
    "# when joining parcel with block, may resulted in duplication\n",
    "df_joint.duplicated(subset=['objectid']).any()"
   ]
  },
  {
   "cell_type": "code",
   "execution_count": 15,
   "metadata": {},
   "outputs": [
    {
     "name": "stdout",
     "output_type": "stream",
     "text": [
      "(155466, 2)\n"
     ]
    }
   ],
   "source": [
    "# drop duplicate\n",
    "df_joint = df_joint.drop_duplicates(subset=['objectid'], keep='first')\n",
    "print(df_joint.shape)"
   ]
  },
  {
   "cell_type": "code",
   "execution_count": 16,
   "metadata": {},
   "outputs": [
    {
     "name": "stdout",
     "output_type": "stream",
     "text": [
      "(1243744, 28)\n",
      "(1243744, 29)\n"
     ]
    }
   ],
   "source": [
    "print(df.shape)\n",
    "# joint df with df_joint on objectid\n",
    "# then join them with df_crime on block_id and year\n",
    "\n",
    "df = df.merge(df_joint,on='objectid', how='left')\n",
    "print(df.shape)"
   ]
  },
  {
   "cell_type": "code",
   "execution_count": 17,
   "metadata": {},
   "outputs": [
    {
     "name": "stdout",
     "output_type": "stream",
     "text": [
      "(1243744, 58)\n"
     ]
    }
   ],
   "source": [
    "# df_crime is from 2007-2019. need to join by year and block_id\n",
    "df = df.merge(df_crime,how='left',left_on=['block_id', 'year'], right_on=['block_id','year'])\n",
    "print(df.shape)"
   ]
  },
  {
   "cell_type": "code",
   "execution_count": 18,
   "metadata": {},
   "outputs": [
    {
     "name": "stdout",
     "output_type": "stream",
     "text": [
      "(1243744, 45)\n",
      "(1123981, 45)\n"
     ]
    }
   ],
   "source": [
    "# select columns to use\n",
    "cols_to_use = ['fire_count','fire_count_last year','year',\n",
    "               'yrbuilt','bldgsqft','total_uses','cie','mips','visitor', 'pdr', 'retail', 'med','resunits',\n",
    "               'complaints_count', 'violation_count','building_permit',\n",
    "              'arson_count', 'other_crime_count', \n",
    "               'nodes_population_1500m', 'block_groups_total_jobs',\n",
    "               'block_groups_median_children', 'block_groups_median_income',\n",
    "               'prop_tenure_1', 'nodes_low_income_hh_1500m',\n",
    "               'nodes_high_income_hh_1500m', 'nodes_jobs_3000m', 'nodes_jobs_20km',\n",
    "               'nodes_population_400m', 'nodes_population_800m',\n",
    "               'block_groups_prop_race_of_head_1', 'block_groups_prop_race_of_head_2',\n",
    "               'block_groups_prop_race_of_head_3', 'block_groups_prop_race_of_head_7',\n",
    "               'block_groups_prop_race_of_head_8', 'block_groups_prop_race_of_head_6',\n",
    "               'pumas_density_residential_units', 'block_groups_density_jobs',\n",
    "               'nodes_jobs_1500m_4445', 'nodes_jobs_3000m_4445', 'nodes_du_5000m',\n",
    "               'nodes_du_800m', 'block_groups_median_rent',\n",
    "               'block_groups_median_persons', 'block_groups_median_age_of_head',\n",
    "               'nodes_ave_year_built_800m']\n",
    "\n",
    "df_model = df[cols_to_use]\n",
    "print(df_model.shape)\n",
    "df_model = df_model.dropna(how='any')\n",
    "print(df_model.shape)"
   ]
  },
  {
   "cell_type": "code",
   "execution_count": 19,
   "metadata": {},
   "outputs": [
    {
     "data": {
      "text/plain": [
       "0.0     1081902\n",
       "1.0       36564\n",
       "2.0        3637\n",
       "3.0         937\n",
       "4.0         409\n",
       "5.0         192\n",
       "6.0         132\n",
       "7.0          72\n",
       "8.0          38\n",
       "9.0          30\n",
       "10.0         25\n",
       "12.0          9\n",
       "11.0          8\n",
       "14.0          4\n",
       "19.0          3\n",
       "22.0          3\n",
       "16.0          3\n",
       "15.0          2\n",
       "18.0          2\n",
       "23.0          2\n",
       "27.0          1\n",
       "21.0          1\n",
       "32.0          1\n",
       "39.0          1\n",
       "37.0          1\n",
       "26.0          1\n",
       "30.0          1\n",
       "Name: fire_count, dtype: int64"
      ]
     },
     "execution_count": 19,
     "metadata": {},
     "output_type": "execute_result"
    }
   ],
   "source": [
    "df_model['fire_count'].value_counts()"
   ]
  },
  {
   "cell_type": "code",
   "execution_count": 20,
   "metadata": {},
   "outputs": [
    {
     "data": {
      "text/plain": [
       "0    1081902\n",
       "1      42079\n",
       "Name: fire, dtype: int64"
      ]
     },
     "execution_count": 20,
     "metadata": {},
     "output_type": "execute_result"
    }
   ],
   "source": [
    "# make fire count binary\n",
    "df_model['fire'] = 0\n",
    "df_model.loc[(df_model['fire_count'] > 0),'fire'] = 1\n",
    "df_model.drop('fire_count',inplace=True, axis=1)\n",
    "df_model['fire'].value_counts()\n",
    "\n",
    "#3.7% of buildings have fire"
   ]
  },
  {
   "cell_type": "code",
   "execution_count": 21,
   "metadata": {},
   "outputs": [
    {
     "data": {
      "text/plain": [
       "2015    151875\n",
       "2017    151159\n",
       "2014    150959\n",
       "2013    150827\n",
       "2016    150563\n",
       "2012    150401\n",
       "2019    109392\n",
       "2018    108805\n",
       "Name: year, dtype: int64"
      ]
     },
     "execution_count": 21,
     "metadata": {},
     "output_type": "execute_result"
    }
   ],
   "source": [
    "df_model['year'].value_counts()"
   ]
  },
  {
   "cell_type": "code",
   "execution_count": 2,
   "metadata": {},
   "outputs": [],
   "source": [
    "from sklearn.model_selection import train_test_split\n",
    "from sklearn.ensemble import RandomForestClassifier, GradientBoostingClassifier\n",
    "from sklearn.feature_selection import SelectFromModel\n",
    "from sklearn.metrics import roc_curve, roc_auc_score\n",
    "from sklearn.pipeline import Pipeline\n",
    "from sklearn.model_selection import cross_validate, GridSearchCV, learning_curve\n",
    "from sklearn.preprocessing import StandardScaler, LabelEncoder\n",
    "from sklearn.linear_model import LogisticRegression\n",
    "from sklearn.model_selection import cross_val_score\n",
    "from sklearn.model_selection import RepeatedStratifiedKFold"
   ]
  },
  {
   "cell_type": "code",
   "execution_count": 3,
   "metadata": {},
   "outputs": [],
   "source": [
    "import numpy as np\n",
    "import pandas as pd\n",
    "import seaborn as sns\n",
    "import matplotlib.pyplot as plt\n",
    "import time\n",
    "import pickle\n",
    "plt.style.use('seaborn-talk')"
   ]
  },
  {
   "cell_type": "code",
   "execution_count": 119,
   "metadata": {},
   "outputs": [
    {
     "data": {
      "text/plain": [
       "['accuracy',\n",
       " 'adjusted_mutual_info_score',\n",
       " 'adjusted_rand_score',\n",
       " 'average_precision',\n",
       " 'balanced_accuracy',\n",
       " 'completeness_score',\n",
       " 'explained_variance',\n",
       " 'f1',\n",
       " 'f1_macro',\n",
       " 'f1_micro',\n",
       " 'f1_samples',\n",
       " 'f1_weighted',\n",
       " 'fowlkes_mallows_score',\n",
       " 'homogeneity_score',\n",
       " 'jaccard',\n",
       " 'jaccard_macro',\n",
       " 'jaccard_micro',\n",
       " 'jaccard_samples',\n",
       " 'jaccard_weighted',\n",
       " 'max_error',\n",
       " 'mutual_info_score',\n",
       " 'neg_brier_score',\n",
       " 'neg_log_loss',\n",
       " 'neg_mean_absolute_error',\n",
       " 'neg_mean_gamma_deviance',\n",
       " 'neg_mean_poisson_deviance',\n",
       " 'neg_mean_squared_error',\n",
       " 'neg_mean_squared_log_error',\n",
       " 'neg_median_absolute_error',\n",
       " 'neg_root_mean_squared_error',\n",
       " 'normalized_mutual_info_score',\n",
       " 'precision',\n",
       " 'precision_macro',\n",
       " 'precision_micro',\n",
       " 'precision_samples',\n",
       " 'precision_weighted',\n",
       " 'r2',\n",
       " 'recall',\n",
       " 'recall_macro',\n",
       " 'recall_micro',\n",
       " 'recall_samples',\n",
       " 'recall_weighted',\n",
       " 'roc_auc',\n",
       " 'roc_auc_ovo',\n",
       " 'roc_auc_ovo_weighted',\n",
       " 'roc_auc_ovr',\n",
       " 'roc_auc_ovr_weighted',\n",
       " 'v_measure_score']"
      ]
     },
     "execution_count": 119,
     "metadata": {},
     "output_type": "execute_result"
    }
   ],
   "source": [
    "# in sklearn, there are many ways of calculating accuracy of models. Use this command to display them all\n",
    "import sklearn\n",
    "sorted(sklearn.metrics.SCORERS.keys())"
   ]
  },
  {
   "cell_type": "code",
   "execution_count": 22,
   "metadata": {},
   "outputs": [],
   "source": [
    "# divide the data\n",
    "x_cols = cols_to_use[1:]\n",
    "\n",
    "validate = df_model[df_model['year']==2019]\n",
    "traintest = df_model[df_model['year']<2019]\n",
    "\n",
    "df_x = traintest[x_cols]\n",
    "df_y = traintest['fire']\n",
    "\n",
    "# a validation set used for ptrediction\n",
    "validate_x = validate[x_cols]\n",
    "validate_y = validate['fire']"
   ]
  },
  {
   "cell_type": "markdown",
   "metadata": {},
   "source": [
    "# try random forest"
   ]
  },
  {
   "cell_type": "code",
   "execution_count": 28,
   "metadata": {},
   "outputs": [],
   "source": [
    "def generate_pipeline_RC(scale=False,select=True,test_parameters=False):\n",
    "\n",
    "    '''\n",
    "    Set up modelling pipline for random forest classifier\n",
    "    User selects parameters to conduct grid search and number of folds of CV\n",
    "    '''\n",
    "\n",
    "    #Scaling\n",
    "    SC = StandardScaler()\n",
    "\n",
    "    #Classifier \n",
    "    RC = RandomForestClassifier()\n",
    "    #Feature selector\n",
    "    FS = SelectFromModel(estimator=RC,threshold='mean')\n",
    "    #Pipeline\n",
    "    if (scale == True) and (select == True):\n",
    "        RC_pipeline = Pipeline([('scale',SC),('select',FS),('classify', RC)])\n",
    "    elif (scale == True) and (select == False):\n",
    "        RC_pipeline = Pipeline([('scale',SC),('classify', RC)])\n",
    "    elif (scale == False) and (select == True ):\n",
    "        RC_pipeline = Pipeline([('select',FS),('classify', RC)])\n",
    "    else:\n",
    "        RC_pipeline = Pipeline([('classify', RC)])\n",
    "\n",
    "    if test_parameters == False:\n",
    "\n",
    "        #Parameters to search over\n",
    "        test_parameters = {\n",
    "        'classify__n_estimators': [100],\n",
    "        'classify__max_depth': [15],\n",
    "        'classify__min_samples_leaf':[30]\n",
    "        }\n",
    "\n",
    "    #Number of folds\n",
    "    nfolds=5\n",
    "\n",
    "    #Grid search object to set up\n",
    "    grid_search = GridSearchCV(RC_pipeline, test_parameters, \\\n",
    "                           scoring='roc_auc',verbose=1, cv=nfolds, n_jobs=4)\n",
    "\n",
    "    return RC_pipeline, grid_search, test_parameters"
   ]
  },
  {
   "cell_type": "code",
   "execution_count": 29,
   "metadata": {},
   "outputs": [],
   "source": [
    "def perform_grid_search(pipeline_obj,grid_search_obj,X_train,y_train,test_parameters,Xcols,select=True):\n",
    "    \n",
    "    '''\n",
    "    Perform a grid search over hyperparmeters to generate the best model. Takes a generic pipeline object and grid search\n",
    "    object. Prints the length of time it takes to run a model. Runs GridSearchCV over some input range of parameters to\n",
    "    select the best model based in AOC score\n",
    "    '''\n",
    "    \n",
    "    print(\"Performing grid search...\")\n",
    "    print(\"pipeline:\", [name for name, _ in pipeline_obj.steps])\n",
    "    print(\"parameters:\")\n",
    "    print(test_parameters)\n",
    "    t0 = time.time()\n",
    "    \n",
    "    #Do the grid search on the training dataset\n",
    "    grid_search_obj.fit(X_train, y_train)\n",
    "    \n",
    "    print(\"done in %0.3fs\" % (time.time() - t0))\n",
    "    print()\n",
    "\n",
    "    print(\"Best score: %0.3f\" % grid_search_obj.best_score_)\n",
    "    print(\"Best parameters set:\")\n",
    "    best_estimator = grid_search_obj.best_estimator_\n",
    "    best_parameters = best_estimator.get_params()\n",
    "    for param_name in sorted(test_parameters.keys()):\n",
    "        print(\"\\t%s: %r\" % (param_name, best_parameters[param_name]))\n",
    "        \n",
    "    #Get the names of the columns corresponding to the features we want to keep\n",
    "    if select == True:\n",
    "        support = best_estimator.named_steps['select'].get_support()\n",
    "        X_new_cols = [Xcols[i] for i in range(len(support)) if support[i] == True]\n",
    "    else:\n",
    "        X_new_cols = Xcols\n",
    " \n",
    "    #Return the best estimator object for use with the holdout dataset\n",
    "    \n",
    "    return X_new_cols, best_estimator"
   ]
  },
  {
   "cell_type": "code",
   "execution_count": 44,
   "metadata": {},
   "outputs": [
    {
     "name": "stdout",
     "output_type": "stream",
     "text": [
      "Performing grid search...\n",
      "pipeline: ['select', 'classify']\n",
      "parameters:\n",
      "{'classify__n_estimators': [100, 200], 'classify__max_depth': [10, 15], 'classify__min_samples_split': [8, 20], 'classify__min_samples_leaf': [20, 30.4], 'classify__class_weight': ['balanced', 'balanced_subsample']}\n",
      "Fitting 5 folds for each of 32 candidates, totalling 160 fits\n"
     ]
    },
    {
     "name": "stderr",
     "output_type": "stream",
     "text": [
      "[Parallel(n_jobs=4)]: Using backend LokyBackend with 4 concurrent workers.\n",
      "[Parallel(n_jobs=4)]: Done  42 tasks      | elapsed: 59.5min\n",
      "[Parallel(n_jobs=4)]: Done 160 out of 160 | elapsed: 234.9min finished\n"
     ]
    },
    {
     "name": "stdout",
     "output_type": "stream",
     "text": [
      "done in 14543.848s\n",
      "\n",
      "Best score: 0.714\n",
      "Best parameters set:\n",
      "\tclassify__class_weight: 'balanced_subsample'\n",
      "\tclassify__max_depth: 10\n",
      "\tclassify__min_samples_leaf: 20\n",
      "\tclassify__min_samples_split: 20\n",
      "\tclassify__n_estimators: 200\n"
     ]
    }
   ],
   "source": [
    "test_parameters_RF = {\n",
    "        'classify__n_estimators': [100,200],\n",
    "        'classify__max_depth': [10,15],\n",
    "        'classify__min_samples_split':[8,20],\n",
    "        'classify__min_samples_leaf':[20,30.40],\n",
    "        'classify__class_weight':['balanced','balanced_subsample']\n",
    "}\n",
    "\n",
    "pipeline, gridsearch, testparams = generate_pipeline_RC(test_parameters=test_parameters_RF,select=True)\n",
    "\n",
    "#Run grid search for the best model\n",
    "Xcols, RF_model_structure = perform_grid_search(pipeline,gridsearch,df_x,df_y,testparams,list(df_x.columns),select=True)"
   ]
  },
  {
   "cell_type": "markdown",
   "metadata": {},
   "source": [
    "Best score: 0.714\n",
    "Best parameters set:\n",
    "\tclassify__class_weight: 'balanced_subsample'\n",
    "\tclassify__max_depth: 10\n",
    "\tclassify__min_samples_leaf: 20\n",
    "\tclassify__min_samples_split: 20\n",
    "\tclassify__n_estimators: 200"
   ]
  },
  {
   "cell_type": "code",
   "execution_count": 154,
   "metadata": {},
   "outputs": [],
   "source": [
    "def plot_ROC_curve(Xdata,Ytrue,model,title):\n",
    "\n",
    "    '''\n",
    "    Plot ROC curve for this model \n",
    "    '''\n",
    "\n",
    "    fires_holdout_predict = model.predict_proba(Xdata)\n",
    "\n",
    "    fpr, tpr, thresholds1 = roc_curve(np.array(Ytrue).astype(int), fires_holdout_predict[:,1])\n",
    "\n",
    "    score = roc_auc_score(np.array(Ytrue).astype(int), fires_holdout_predict[:,1])\n",
    "\n",
    "    score_label = 'AOC score: %.3f' %score \n",
    "\n",
    "    fig = plt.figure(figsize=(10,10))\n",
    "    ax = fig.add_subplot(111)\n",
    "    ax.plot(fpr,tpr,label=score_label)\n",
    "    ax.set_xlabel(\"False Positive\")\n",
    "    ax.set_ylabel(\"True Positive\")\n",
    "    ax.plot(np.linspace(0,1,10),np.linspace(0,1,10),'k--')\n",
    "    ax.set_title('%s' %title)\n",
    "\n",
    "        \n",
    "    ax.fill_between(fpr, np.zeros(len(fpr)),\n",
    "                     tpr, alpha=0.1,\n",
    "                     color=\"b\")\n",
    "    ax.grid()\n",
    "    plt.legend(loc='best')\n",
    "    fname = 'AOC_%s.png' %title\n",
    "    plt.savefig(fname,dpi=400)\n",
    "\n",
    "    return fig, fpr, tpr, thresholds1\n"
   ]
  },
  {
   "cell_type": "code",
   "execution_count": 157,
   "metadata": {},
   "outputs": [
    {
     "ename": "ValueError",
     "evalue": "X has a different shape than during fitting.",
     "output_type": "error",
     "traceback": [
      "\u001b[1;31m---------------------------------------------------------------------------\u001b[0m",
      "\u001b[1;31mValueError\u001b[0m                                Traceback (most recent call last)",
      "\u001b[1;32m<ipython-input-157-04b033b41ce2>\u001b[0m in \u001b[0;36m<module>\u001b[1;34m\u001b[0m\n\u001b[1;32m----> 1\u001b[1;33m ROCplot, false_positive_EF, true_positive_EF, thresholds_EF = plot_ROC_curve(validate_x,validate_y,\n\u001b[0m\u001b[0;32m      2\u001b[0m                                                                              \u001b[0mprediction_model\u001b[0m\u001b[1;33m,\u001b[0m\u001b[1;33m\u001b[0m\u001b[1;33m\u001b[0m\u001b[0m\n\u001b[0;32m      3\u001b[0m                                                                              title='Internal_fire_ROC_RF')\n",
      "\u001b[1;32m<ipython-input-154-efb87e60295b>\u001b[0m in \u001b[0;36mplot_ROC_curve\u001b[1;34m(Xdata, Ytrue, model, title)\u001b[0m\n\u001b[0;32m      5\u001b[0m     '''\n\u001b[0;32m      6\u001b[0m \u001b[1;33m\u001b[0m\u001b[0m\n\u001b[1;32m----> 7\u001b[1;33m     \u001b[0mfires_holdout_predict\u001b[0m \u001b[1;33m=\u001b[0m \u001b[0mmodel\u001b[0m\u001b[1;33m.\u001b[0m\u001b[0mpredict_proba\u001b[0m\u001b[1;33m(\u001b[0m\u001b[0mXdata\u001b[0m\u001b[1;33m)\u001b[0m\u001b[1;33m\u001b[0m\u001b[1;33m\u001b[0m\u001b[0m\n\u001b[0m\u001b[0;32m      8\u001b[0m \u001b[1;33m\u001b[0m\u001b[0m\n\u001b[0;32m      9\u001b[0m     \u001b[0mfpr\u001b[0m\u001b[1;33m,\u001b[0m \u001b[0mtpr\u001b[0m\u001b[1;33m,\u001b[0m \u001b[0mthresholds1\u001b[0m \u001b[1;33m=\u001b[0m \u001b[0mroc_curve\u001b[0m\u001b[1;33m(\u001b[0m\u001b[0mnp\u001b[0m\u001b[1;33m.\u001b[0m\u001b[0marray\u001b[0m\u001b[1;33m(\u001b[0m\u001b[0mYtrue\u001b[0m\u001b[1;33m)\u001b[0m\u001b[1;33m.\u001b[0m\u001b[0mastype\u001b[0m\u001b[1;33m(\u001b[0m\u001b[0mint\u001b[0m\u001b[1;33m)\u001b[0m\u001b[1;33m,\u001b[0m \u001b[0mfires_holdout_predict\u001b[0m\u001b[1;33m[\u001b[0m\u001b[1;33m:\u001b[0m\u001b[1;33m,\u001b[0m\u001b[1;36m1\u001b[0m\u001b[1;33m]\u001b[0m\u001b[1;33m)\u001b[0m\u001b[1;33m\u001b[0m\u001b[1;33m\u001b[0m\u001b[0m\n",
      "\u001b[1;32m~\\anaconda3\\lib\\site-packages\\sklearn\\utils\\metaestimators.py\u001b[0m in \u001b[0;36m<lambda>\u001b[1;34m(*args, **kwargs)\u001b[0m\n\u001b[0;32m    117\u001b[0m \u001b[1;33m\u001b[0m\u001b[0m\n\u001b[0;32m    118\u001b[0m         \u001b[1;31m# lambda, but not partial, allows help() to work with update_wrapper\u001b[0m\u001b[1;33m\u001b[0m\u001b[1;33m\u001b[0m\u001b[1;33m\u001b[0m\u001b[0m\n\u001b[1;32m--> 119\u001b[1;33m         \u001b[0mout\u001b[0m \u001b[1;33m=\u001b[0m \u001b[1;32mlambda\u001b[0m \u001b[1;33m*\u001b[0m\u001b[0margs\u001b[0m\u001b[1;33m,\u001b[0m \u001b[1;33m**\u001b[0m\u001b[0mkwargs\u001b[0m\u001b[1;33m:\u001b[0m \u001b[0mself\u001b[0m\u001b[1;33m.\u001b[0m\u001b[0mfn\u001b[0m\u001b[1;33m(\u001b[0m\u001b[0mobj\u001b[0m\u001b[1;33m,\u001b[0m \u001b[1;33m*\u001b[0m\u001b[0margs\u001b[0m\u001b[1;33m,\u001b[0m \u001b[1;33m**\u001b[0m\u001b[0mkwargs\u001b[0m\u001b[1;33m)\u001b[0m\u001b[1;33m\u001b[0m\u001b[1;33m\u001b[0m\u001b[0m\n\u001b[0m\u001b[0;32m    120\u001b[0m         \u001b[1;31m# update the docstring of the returned function\u001b[0m\u001b[1;33m\u001b[0m\u001b[1;33m\u001b[0m\u001b[1;33m\u001b[0m\u001b[0m\n\u001b[0;32m    121\u001b[0m         \u001b[0mupdate_wrapper\u001b[0m\u001b[1;33m(\u001b[0m\u001b[0mout\u001b[0m\u001b[1;33m,\u001b[0m \u001b[0mself\u001b[0m\u001b[1;33m.\u001b[0m\u001b[0mfn\u001b[0m\u001b[1;33m)\u001b[0m\u001b[1;33m\u001b[0m\u001b[1;33m\u001b[0m\u001b[0m\n",
      "\u001b[1;32m~\\anaconda3\\lib\\site-packages\\sklearn\\pipeline.py\u001b[0m in \u001b[0;36mpredict_proba\u001b[1;34m(self, X)\u001b[0m\n\u001b[0;32m    461\u001b[0m         \u001b[0mXt\u001b[0m \u001b[1;33m=\u001b[0m \u001b[0mX\u001b[0m\u001b[1;33m\u001b[0m\u001b[1;33m\u001b[0m\u001b[0m\n\u001b[0;32m    462\u001b[0m         \u001b[1;32mfor\u001b[0m \u001b[0m_\u001b[0m\u001b[1;33m,\u001b[0m \u001b[0mname\u001b[0m\u001b[1;33m,\u001b[0m \u001b[0mtransform\u001b[0m \u001b[1;32min\u001b[0m \u001b[0mself\u001b[0m\u001b[1;33m.\u001b[0m\u001b[0m_iter\u001b[0m\u001b[1;33m(\u001b[0m\u001b[0mwith_final\u001b[0m\u001b[1;33m=\u001b[0m\u001b[1;32mFalse\u001b[0m\u001b[1;33m)\u001b[0m\u001b[1;33m:\u001b[0m\u001b[1;33m\u001b[0m\u001b[1;33m\u001b[0m\u001b[0m\n\u001b[1;32m--> 463\u001b[1;33m             \u001b[0mXt\u001b[0m \u001b[1;33m=\u001b[0m \u001b[0mtransform\u001b[0m\u001b[1;33m.\u001b[0m\u001b[0mtransform\u001b[0m\u001b[1;33m(\u001b[0m\u001b[0mXt\u001b[0m\u001b[1;33m)\u001b[0m\u001b[1;33m\u001b[0m\u001b[1;33m\u001b[0m\u001b[0m\n\u001b[0m\u001b[0;32m    464\u001b[0m         \u001b[1;32mreturn\u001b[0m \u001b[0mself\u001b[0m\u001b[1;33m.\u001b[0m\u001b[0msteps\u001b[0m\u001b[1;33m[\u001b[0m\u001b[1;33m-\u001b[0m\u001b[1;36m1\u001b[0m\u001b[1;33m]\u001b[0m\u001b[1;33m[\u001b[0m\u001b[1;33m-\u001b[0m\u001b[1;36m1\u001b[0m\u001b[1;33m]\u001b[0m\u001b[1;33m.\u001b[0m\u001b[0mpredict_proba\u001b[0m\u001b[1;33m(\u001b[0m\u001b[0mXt\u001b[0m\u001b[1;33m)\u001b[0m\u001b[1;33m\u001b[0m\u001b[1;33m\u001b[0m\u001b[0m\n\u001b[0;32m    465\u001b[0m \u001b[1;33m\u001b[0m\u001b[0m\n",
      "\u001b[1;32m~\\anaconda3\\lib\\site-packages\\sklearn\\feature_selection\\_base.py\u001b[0m in \u001b[0;36mtransform\u001b[1;34m(self, X)\u001b[0m\n\u001b[0;32m     82\u001b[0m             \u001b[1;32mreturn\u001b[0m \u001b[0mnp\u001b[0m\u001b[1;33m.\u001b[0m\u001b[0mempty\u001b[0m\u001b[1;33m(\u001b[0m\u001b[1;36m0\u001b[0m\u001b[1;33m)\u001b[0m\u001b[1;33m.\u001b[0m\u001b[0mreshape\u001b[0m\u001b[1;33m(\u001b[0m\u001b[1;33m(\u001b[0m\u001b[0mX\u001b[0m\u001b[1;33m.\u001b[0m\u001b[0mshape\u001b[0m\u001b[1;33m[\u001b[0m\u001b[1;36m0\u001b[0m\u001b[1;33m]\u001b[0m\u001b[1;33m,\u001b[0m \u001b[1;36m0\u001b[0m\u001b[1;33m)\u001b[0m\u001b[1;33m)\u001b[0m\u001b[1;33m\u001b[0m\u001b[1;33m\u001b[0m\u001b[0m\n\u001b[0;32m     83\u001b[0m         \u001b[1;32mif\u001b[0m \u001b[0mlen\u001b[0m\u001b[1;33m(\u001b[0m\u001b[0mmask\u001b[0m\u001b[1;33m)\u001b[0m \u001b[1;33m!=\u001b[0m \u001b[0mX\u001b[0m\u001b[1;33m.\u001b[0m\u001b[0mshape\u001b[0m\u001b[1;33m[\u001b[0m\u001b[1;36m1\u001b[0m\u001b[1;33m]\u001b[0m\u001b[1;33m:\u001b[0m\u001b[1;33m\u001b[0m\u001b[1;33m\u001b[0m\u001b[0m\n\u001b[1;32m---> 84\u001b[1;33m             \u001b[1;32mraise\u001b[0m \u001b[0mValueError\u001b[0m\u001b[1;33m(\u001b[0m\u001b[1;34m\"X has a different shape than during fitting.\"\u001b[0m\u001b[1;33m)\u001b[0m\u001b[1;33m\u001b[0m\u001b[1;33m\u001b[0m\u001b[0m\n\u001b[0m\u001b[0;32m     85\u001b[0m         \u001b[1;32mreturn\u001b[0m \u001b[0mX\u001b[0m\u001b[1;33m[\u001b[0m\u001b[1;33m:\u001b[0m\u001b[1;33m,\u001b[0m \u001b[0msafe_mask\u001b[0m\u001b[1;33m(\u001b[0m\u001b[0mX\u001b[0m\u001b[1;33m,\u001b[0m \u001b[0mmask\u001b[0m\u001b[1;33m)\u001b[0m\u001b[1;33m]\u001b[0m\u001b[1;33m\u001b[0m\u001b[1;33m\u001b[0m\u001b[0m\n\u001b[0;32m     86\u001b[0m \u001b[1;33m\u001b[0m\u001b[0m\n",
      "\u001b[1;31mValueError\u001b[0m: X has a different shape than during fitting."
     ]
    }
   ],
   "source": [
    "ROCplot, false_positive_EF, true_positive_EF, thresholds_EF = plot_ROC_curve(validate_x,validate_y,\n",
    "                                                                             prediction_model,\n",
    "                                                                             title='Internal_fire_ROC_RF')"
   ]
  },
  {
   "cell_type": "code",
   "execution_count": 33,
   "metadata": {},
   "outputs": [],
   "source": [
    "# assess model performance\n",
    "from sklearn import metrics"
   ]
  },
  {
   "cell_type": "code",
   "execution_count": 47,
   "metadata": {},
   "outputs": [
    {
     "data": {
      "text/plain": [
       "0.5216326530612245"
      ]
     },
     "execution_count": 47,
     "metadata": {},
     "output_type": "execute_result"
    }
   ],
   "source": [
    "fprobs = RF_model_structure.predict_proba(validate_x)\n",
    "fclass = RF_model_structure.predict(validate_x)\n",
    "metrics.recall_score(validate_y,fclass)"
   ]
  },
  {
   "cell_type": "code",
   "execution_count": 48,
   "metadata": {},
   "outputs": [
    {
     "data": {
      "text/plain": [
       "0.1014164980359481"
      ]
     },
     "execution_count": 48,
     "metadata": {},
     "output_type": "execute_result"
    }
   ],
   "source": [
    "metrics.precision_score(validate_y,fclass)"
   ]
  },
  {
   "cell_type": "code",
   "execution_count": 49,
   "metadata": {},
   "outputs": [
    {
     "data": {
      "text/plain": [
       "0.1698169617646082"
      ]
     },
     "execution_count": 49,
     "metadata": {},
     "output_type": "execute_result"
    }
   ],
   "source": [
    "metrics.f1_score(validate_y,fclass)"
   ]
  },
  {
   "cell_type": "code",
   "execution_count": 50,
   "metadata": {},
   "outputs": [
    {
     "data": {
      "text/plain": [
       "['fire_count_last year',\n",
       " 'year',\n",
       " 'yrbuilt',\n",
       " 'bldgsqft',\n",
       " 'total_uses',\n",
       " 'resunits',\n",
       " 'other_crime_count',\n",
       " 'prop_tenure_1']"
      ]
     },
     "execution_count": 50,
     "metadata": {},
     "output_type": "execute_result"
    }
   ],
   "source": [
    "feature_importances = RF_model_structure.named_steps['classify'].feature_importances_\n",
    "inds = feature_importances.argsort()[::-1]\n",
    "fnames = []\n",
    "fvals = []\n",
    "for index in inds:\n",
    "    fvals.append(feature_importances[index])\n",
    "    fnames.append(Xcols[index])\n",
    "\n",
    "Xcols"
   ]
  },
  {
   "cell_type": "code",
   "execution_count": 51,
   "metadata": {},
   "outputs": [
    {
     "data": {
      "image/png": "[encoded data removed]",
      "text/plain": [
       "<Figure size 720x432 with 1 Axes>"
      ]
     },
     "metadata": {
      "needs_background": "light"
     },
     "output_type": "display_data"
    }
   ],
   "source": [
    "xlabels = fnames\n",
    "ylabels = fvals\n",
    "\n",
    "#Better label names for plot\n",
    "#xlabels = ['#crimes','#external fires','Lon','Area','Lat','#inspections','#residents','year','building_age_sd','landvalue']\n",
    "\n",
    "fig = plt.figure(figsize=(10,6))\n",
    "ax1 = fig.add_subplot(111)\n",
    "ax1.bar(xlabels,ylabels,alpha=0.5)\n",
    "rects = ax1.patches \n",
    "\n",
    "for rect, label in zip(rects, ylabels):\n",
    "    label = '%.2f' %label\n",
    "    height = rect.get_height()\n",
    "    ax1.text(rect.get_x() + rect.get_width() / 2, height + 0.01, label,\n",
    "            ha='center', va='bottom', fontsize=14)\n",
    "\n",
    "plt.xticks(rotation=90)\n",
    "ax1.set_title(\"Feature importances\",pad=20)\n",
    "plt.tight_layout()\n",
    "#plt.savefig(\"External_fires_fimportance_final.png\",dpi=400)"
   ]
  },
  {
   "cell_type": "code",
   "execution_count": 52,
   "metadata": {},
   "outputs": [
    {
     "data": {
      "text/plain": [
       "<matplotlib.axes._subplots.AxesSubplot at 0x1fe3585ee50>"
      ]
     },
     "execution_count": 52,
     "metadata": {},
     "output_type": "execute_result"
    },
    {
     "data": {
      "image/png": "[encoded data removed]",
      "text/plain": [
       "<Figure size 748.8x514.8 with 1 Axes>"
      ]
     },
     "metadata": {
      "needs_background": "light"
     },
     "output_type": "display_data"
    }
   ],
   "source": [
    "EF_2018_pred = RF_model_structure.predict_proba(validate_x)\n",
    "#Plot the distribution of fire probabilities \n",
    "sns.distplot(EF_2018_pred[:,1],kde=False,bins=100)"
   ]
  },
  {
   "cell_type": "code",
   "execution_count": null,
   "metadata": {},
   "outputs": [],
   "source": [
    "filename = 'RC_model_internal.sav'\n",
    "pickle.dump(RF_model_structure, open(filename, 'wb'))"
   ]
  },
  {
   "cell_type": "code",
   "execution_count": 156,
   "metadata": {},
   "outputs": [],
   "source": [
    "pickle_in = open(\"RC_model_internal.sav\", \"rb\")\n",
    "prediction_model = pickle.load(pickle_in)"
   ]
  },
  {
   "cell_type": "code",
   "execution_count": 5,
   "metadata": {},
   "outputs": [
    {
     "data": {
      "text/plain": [
       "Pipeline(steps=[('select',\n",
       "                 SelectFromModel(estimator=RandomForestClassifier(),\n",
       "                                 threshold='mean')),\n",
       "                ('classify',\n",
       "                 RandomForestClassifier(class_weight='balanced_subsample',\n",
       "                                        max_depth=10, min_samples_leaf=20,\n",
       "                                        min_samples_split=20,\n",
       "                                        n_estimators=200))])"
      ]
     },
     "execution_count": 5,
     "metadata": {},
     "output_type": "execute_result"
    }
   ],
   "source": [
    "prediction_model"
   ]
  },
  {
   "cell_type": "code",
   "execution_count": 7,
   "metadata": {},
   "outputs": [
    {
     "data": {
      "text/plain": [
       "GradientBoostingRegressor(criterion='mse', max_depth=18, max_features=0.3,\n",
       "                          min_samples_leaf=25, n_estimators=500)"
      ]
     },
     "execution_count": 7,
     "metadata": {},
     "output_type": "execute_result"
    }
   ],
   "source": [
    "pickle_in = open(\"premitive_model.pkl\", \"rb\")\n",
    "prediction_model = pickle.load(pickle_in)\n",
    "prediction_model"
   ]
  },
  {
   "cell_type": "code",
   "execution_count": 25,
   "metadata": {},
   "outputs": [
    {
     "data": {
      "text/plain": [
       "array([1, 1, 1, ..., 0, 0, 0], dtype=int64)"
      ]
     },
     "execution_count": 25,
     "metadata": {},
     "output_type": "execute_result"
    }
   ],
   "source": [
    "a = prediction_model.predict(validate_x)\n",
    "a"
   ]
  },
  {
   "cell_type": "code",
   "execution_count": 43,
   "metadata": {},
   "outputs": [
    {
     "data": {
      "text/html": [
       "<div>\n",
       "<style scoped>\n",
       "    .dataframe tbody tr th:only-of-type {\n",
       "        vertical-align: middle;\n",
       "    }\n",
       "\n",
       "    .dataframe tbody tr th {\n",
       "        vertical-align: top;\n",
       "    }\n",
       "\n",
       "    .dataframe thead th {\n",
       "        text-align: right;\n",
       "    }\n",
       "</style>\n",
       "<table border=\"1\" class=\"dataframe\">\n",
       "  <thead>\n",
       "    <tr style=\"text-align: right;\">\n",
       "      <th></th>\n",
       "      <th>fire_count_last year</th>\n",
       "      <th>year</th>\n",
       "      <th>yrbuilt</th>\n",
       "      <th>bldgsqft</th>\n",
       "      <th>total_uses</th>\n",
       "      <th>cie</th>\n",
       "      <th>mips</th>\n",
       "      <th>visitor</th>\n",
       "      <th>pdr</th>\n",
       "      <th>retail</th>\n",
       "      <th>...</th>\n",
       "      <th>pumas_density_residential_units</th>\n",
       "      <th>block_groups_density_jobs</th>\n",
       "      <th>nodes_jobs_1500m_4445</th>\n",
       "      <th>nodes_jobs_3000m_4445</th>\n",
       "      <th>nodes_du_5000m</th>\n",
       "      <th>nodes_du_800m</th>\n",
       "      <th>block_groups_median_rent</th>\n",
       "      <th>block_groups_median_persons</th>\n",
       "      <th>block_groups_median_age_of_head</th>\n",
       "      <th>nodes_ave_year_built_800m</th>\n",
       "    </tr>\n",
       "  </thead>\n",
       "  <tbody>\n",
       "    <tr>\n",
       "      <th>1088276</th>\n",
       "      <td>0.0</td>\n",
       "      <td>2019</td>\n",
       "      <td>1912</td>\n",
       "      <td>5460</td>\n",
       "      <td>0</td>\n",
       "      <td>0</td>\n",
       "      <td>0</td>\n",
       "      <td>0</td>\n",
       "      <td>0</td>\n",
       "      <td>0</td>\n",
       "      <td>...</td>\n",
       "      <td>23.543241</td>\n",
       "      <td>17.192362</td>\n",
       "      <td>7.154541</td>\n",
       "      <td>8.253163</td>\n",
       "      <td>11.000925</td>\n",
       "      <td>6.927312</td>\n",
       "      <td>2201.1</td>\n",
       "      <td>1.0</td>\n",
       "      <td>49.0</td>\n",
       "      <td>1948.841309</td>\n",
       "    </tr>\n",
       "    <tr>\n",
       "      <th>1088277</th>\n",
       "      <td>0.0</td>\n",
       "      <td>2019</td>\n",
       "      <td>1900</td>\n",
       "      <td>4500</td>\n",
       "      <td>3471</td>\n",
       "      <td>0</td>\n",
       "      <td>3471</td>\n",
       "      <td>0</td>\n",
       "      <td>0</td>\n",
       "      <td>0</td>\n",
       "      <td>...</td>\n",
       "      <td>23.543241</td>\n",
       "      <td>17.192362</td>\n",
       "      <td>7.154541</td>\n",
       "      <td>8.253163</td>\n",
       "      <td>11.000925</td>\n",
       "      <td>6.927312</td>\n",
       "      <td>2201.1</td>\n",
       "      <td>1.0</td>\n",
       "      <td>49.0</td>\n",
       "      <td>1948.841309</td>\n",
       "    </tr>\n",
       "    <tr>\n",
       "      <th>1088278</th>\n",
       "      <td>0.0</td>\n",
       "      <td>2019</td>\n",
       "      <td>1900</td>\n",
       "      <td>5783</td>\n",
       "      <td>0</td>\n",
       "      <td>0</td>\n",
       "      <td>0</td>\n",
       "      <td>0</td>\n",
       "      <td>0</td>\n",
       "      <td>0</td>\n",
       "      <td>...</td>\n",
       "      <td>23.543241</td>\n",
       "      <td>17.192362</td>\n",
       "      <td>7.154541</td>\n",
       "      <td>8.253163</td>\n",
       "      <td>11.000925</td>\n",
       "      <td>6.927312</td>\n",
       "      <td>2201.1</td>\n",
       "      <td>1.0</td>\n",
       "      <td>49.0</td>\n",
       "      <td>1948.841309</td>\n",
       "    </tr>\n",
       "    <tr>\n",
       "      <th>1088279</th>\n",
       "      <td>0.0</td>\n",
       "      <td>2019</td>\n",
       "      <td>1940</td>\n",
       "      <td>3700</td>\n",
       "      <td>0</td>\n",
       "      <td>0</td>\n",
       "      <td>0</td>\n",
       "      <td>0</td>\n",
       "      <td>0</td>\n",
       "      <td>0</td>\n",
       "      <td>...</td>\n",
       "      <td>23.543241</td>\n",
       "      <td>17.192362</td>\n",
       "      <td>7.154541</td>\n",
       "      <td>8.253163</td>\n",
       "      <td>11.000925</td>\n",
       "      <td>6.927312</td>\n",
       "      <td>2201.1</td>\n",
       "      <td>1.0</td>\n",
       "      <td>49.0</td>\n",
       "      <td>1948.841309</td>\n",
       "    </tr>\n",
       "    <tr>\n",
       "      <th>1088280</th>\n",
       "      <td>0.0</td>\n",
       "      <td>2019</td>\n",
       "      <td>1938</td>\n",
       "      <td>4543</td>\n",
       "      <td>0</td>\n",
       "      <td>0</td>\n",
       "      <td>0</td>\n",
       "      <td>0</td>\n",
       "      <td>0</td>\n",
       "      <td>0</td>\n",
       "      <td>...</td>\n",
       "      <td>23.543241</td>\n",
       "      <td>17.192362</td>\n",
       "      <td>7.154541</td>\n",
       "      <td>8.253163</td>\n",
       "      <td>11.000925</td>\n",
       "      <td>6.927312</td>\n",
       "      <td>2201.1</td>\n",
       "      <td>1.0</td>\n",
       "      <td>49.0</td>\n",
       "      <td>1948.841309</td>\n",
       "    </tr>\n",
       "    <tr>\n",
       "      <th>...</th>\n",
       "      <td>...</td>\n",
       "      <td>...</td>\n",
       "      <td>...</td>\n",
       "      <td>...</td>\n",
       "      <td>...</td>\n",
       "      <td>...</td>\n",
       "      <td>...</td>\n",
       "      <td>...</td>\n",
       "      <td>...</td>\n",
       "      <td>...</td>\n",
       "      <td>...</td>\n",
       "      <td>...</td>\n",
       "      <td>...</td>\n",
       "      <td>...</td>\n",
       "      <td>...</td>\n",
       "      <td>...</td>\n",
       "      <td>...</td>\n",
       "      <td>...</td>\n",
       "      <td>...</td>\n",
       "      <td>...</td>\n",
       "      <td>...</td>\n",
       "    </tr>\n",
       "    <tr>\n",
       "      <th>1243739</th>\n",
       "      <td>0.0</td>\n",
       "      <td>2019</td>\n",
       "      <td>1906</td>\n",
       "      <td>3440</td>\n",
       "      <td>0</td>\n",
       "      <td>0</td>\n",
       "      <td>0</td>\n",
       "      <td>0</td>\n",
       "      <td>0</td>\n",
       "      <td>0</td>\n",
       "      <td>...</td>\n",
       "      <td>11.864567</td>\n",
       "      <td>19.749188</td>\n",
       "      <td>5.605044</td>\n",
       "      <td>6.656763</td>\n",
       "      <td>10.675330</td>\n",
       "      <td>7.553971</td>\n",
       "      <td>1455.0</td>\n",
       "      <td>1.0</td>\n",
       "      <td>42.0</td>\n",
       "      <td>1946.150024</td>\n",
       "    </tr>\n",
       "    <tr>\n",
       "      <th>1243740</th>\n",
       "      <td>0.0</td>\n",
       "      <td>2019</td>\n",
       "      <td>1923</td>\n",
       "      <td>628</td>\n",
       "      <td>0</td>\n",
       "      <td>0</td>\n",
       "      <td>0</td>\n",
       "      <td>0</td>\n",
       "      <td>0</td>\n",
       "      <td>0</td>\n",
       "      <td>...</td>\n",
       "      <td>11.864567</td>\n",
       "      <td>879.621932</td>\n",
       "      <td>4.691154</td>\n",
       "      <td>6.292357</td>\n",
       "      <td>10.492486</td>\n",
       "      <td>7.307858</td>\n",
       "      <td>1381.0</td>\n",
       "      <td>1.0</td>\n",
       "      <td>48.5</td>\n",
       "      <td>1948.997681</td>\n",
       "    </tr>\n",
       "    <tr>\n",
       "      <th>1243741</th>\n",
       "      <td>0.0</td>\n",
       "      <td>2019</td>\n",
       "      <td>1956</td>\n",
       "      <td>1887</td>\n",
       "      <td>0</td>\n",
       "      <td>0</td>\n",
       "      <td>0</td>\n",
       "      <td>0</td>\n",
       "      <td>0</td>\n",
       "      <td>0</td>\n",
       "      <td>...</td>\n",
       "      <td>7.171621</td>\n",
       "      <td>0.434842</td>\n",
       "      <td>4.961212</td>\n",
       "      <td>5.794124</td>\n",
       "      <td>10.217301</td>\n",
       "      <td>7.082530</td>\n",
       "      <td>1706.0</td>\n",
       "      <td>2.0</td>\n",
       "      <td>57.0</td>\n",
       "      <td>1950.317139</td>\n",
       "    </tr>\n",
       "    <tr>\n",
       "      <th>1243742</th>\n",
       "      <td>0.0</td>\n",
       "      <td>2019</td>\n",
       "      <td>1921</td>\n",
       "      <td>1360</td>\n",
       "      <td>0</td>\n",
       "      <td>0</td>\n",
       "      <td>0</td>\n",
       "      <td>0</td>\n",
       "      <td>0</td>\n",
       "      <td>0</td>\n",
       "      <td>...</td>\n",
       "      <td>7.171621</td>\n",
       "      <td>4.214045</td>\n",
       "      <td>4.897986</td>\n",
       "      <td>6.326653</td>\n",
       "      <td>10.225996</td>\n",
       "      <td>7.065642</td>\n",
       "      <td>1448.0</td>\n",
       "      <td>3.0</td>\n",
       "      <td>53.0</td>\n",
       "      <td>1941.913574</td>\n",
       "    </tr>\n",
       "    <tr>\n",
       "      <th>1243743</th>\n",
       "      <td>0.0</td>\n",
       "      <td>2019</td>\n",
       "      <td>1937</td>\n",
       "      <td>4366</td>\n",
       "      <td>0</td>\n",
       "      <td>0</td>\n",
       "      <td>0</td>\n",
       "      <td>0</td>\n",
       "      <td>0</td>\n",
       "      <td>0</td>\n",
       "      <td>...</td>\n",
       "      <td>23.543241</td>\n",
       "      <td>17.192362</td>\n",
       "      <td>7.068902</td>\n",
       "      <td>8.375348</td>\n",
       "      <td>11.021954</td>\n",
       "      <td>7.495691</td>\n",
       "      <td>2201.1</td>\n",
       "      <td>1.0</td>\n",
       "      <td>49.0</td>\n",
       "      <td>1950.645020</td>\n",
       "    </tr>\n",
       "  </tbody>\n",
       "</table>\n",
       "<p>109392 rows × 44 columns</p>\n",
       "</div>"
      ],
      "text/plain": [
       "         fire_count_last year  year  yrbuilt  bldgsqft  total_uses  cie  mips  \\\n",
       "1088276                   0.0  2019     1912      5460           0    0     0   \n",
       "1088277                   0.0  2019     1900      4500        3471    0  3471   \n",
       "1088278                   0.0  2019     1900      5783           0    0     0   \n",
       "1088279                   0.0  2019     1940      3700           0    0     0   \n",
       "1088280                   0.0  2019     1938      4543           0    0     0   \n",
       "...                       ...   ...      ...       ...         ...  ...   ...   \n",
       "1243739                   0.0  2019     1906      3440           0    0     0   \n",
       "1243740                   0.0  2019     1923       628           0    0     0   \n",
       "1243741                   0.0  2019     1956      1887           0    0     0   \n",
       "1243742                   0.0  2019     1921      1360           0    0     0   \n",
       "1243743                   0.0  2019     1937      4366           0    0     0   \n",
       "\n",
       "         visitor  pdr  retail  ...  pumas_density_residential_units  \\\n",
       "1088276        0    0       0  ...                        23.543241   \n",
       "1088277        0    0       0  ...                        23.543241   \n",
       "1088278        0    0       0  ...                        23.543241   \n",
       "1088279        0    0       0  ...                        23.543241   \n",
       "1088280        0    0       0  ...                        23.543241   \n",
       "...          ...  ...     ...  ...                              ...   \n",
       "1243739        0    0       0  ...                        11.864567   \n",
       "1243740        0    0       0  ...                        11.864567   \n",
       "1243741        0    0       0  ...                         7.171621   \n",
       "1243742        0    0       0  ...                         7.171621   \n",
       "1243743        0    0       0  ...                        23.543241   \n",
       "\n",
       "         block_groups_density_jobs  nodes_jobs_1500m_4445  \\\n",
       "1088276                  17.192362               7.154541   \n",
       "1088277                  17.192362               7.154541   \n",
       "1088278                  17.192362               7.154541   \n",
       "1088279                  17.192362               7.154541   \n",
       "1088280                  17.192362               7.154541   \n",
       "...                            ...                    ...   \n",
       "1243739                  19.749188               5.605044   \n",
       "1243740                 879.621932               4.691154   \n",
       "1243741                   0.434842               4.961212   \n",
       "1243742                   4.214045               4.897986   \n",
       "1243743                  17.192362               7.068902   \n",
       "\n",
       "         nodes_jobs_3000m_4445  nodes_du_5000m  nodes_du_800m  \\\n",
       "1088276               8.253163       11.000925       6.927312   \n",
       "1088277               8.253163       11.000925       6.927312   \n",
       "1088278               8.253163       11.000925       6.927312   \n",
       "1088279               8.253163       11.000925       6.927312   \n",
       "1088280               8.253163       11.000925       6.927312   \n",
       "...                        ...             ...            ...   \n",
       "1243739               6.656763       10.675330       7.553971   \n",
       "1243740               6.292357       10.492486       7.307858   \n",
       "1243741               5.794124       10.217301       7.082530   \n",
       "1243742               6.326653       10.225996       7.065642   \n",
       "1243743               8.375348       11.021954       7.495691   \n",
       "\n",
       "         block_groups_median_rent  block_groups_median_persons  \\\n",
       "1088276                    2201.1                          1.0   \n",
       "1088277                    2201.1                          1.0   \n",
       "1088278                    2201.1                          1.0   \n",
       "1088279                    2201.1                          1.0   \n",
       "1088280                    2201.1                          1.0   \n",
       "...                           ...                          ...   \n",
       "1243739                    1455.0                          1.0   \n",
       "1243740                    1381.0                          1.0   \n",
       "1243741                    1706.0                          2.0   \n",
       "1243742                    1448.0                          3.0   \n",
       "1243743                    2201.1                          1.0   \n",
       "\n",
       "         block_groups_median_age_of_head  nodes_ave_year_built_800m  \n",
       "1088276                             49.0                1948.841309  \n",
       "1088277                             49.0                1948.841309  \n",
       "1088278                             49.0                1948.841309  \n",
       "1088279                             49.0                1948.841309  \n",
       "1088280                             49.0                1948.841309  \n",
       "...                                  ...                        ...  \n",
       "1243739                             42.0                1946.150024  \n",
       "1243740                             48.5                1948.997681  \n",
       "1243741                             57.0                1950.317139  \n",
       "1243742                             53.0                1941.913574  \n",
       "1243743                             49.0                1950.645020  \n",
       "\n",
       "[109392 rows x 44 columns]"
      ]
     },
     "execution_count": 43,
     "metadata": {},
     "output_type": "execute_result"
    }
   ],
   "source": [
    "validate_x"
   ]
  },
  {
   "cell_type": "code",
   "execution_count": 29,
   "metadata": {},
   "outputs": [
    {
     "data": {
      "text/plain": [
       "16.0"
      ]
     },
     "execution_count": 29,
     "metadata": {},
     "output_type": "execute_result"
    }
   ],
   "source": [
    "# check the data\n",
    "df_model['other_crime_count'][0]"
   ]
  },
  {
   "cell_type": "code",
   "execution_count": 30,
   "metadata": {},
   "outputs": [
    {
     "data": {
      "text/plain": [
       "0.370786516854"
      ]
     },
     "execution_count": 30,
     "metadata": {},
     "output_type": "execute_result"
    }
   ],
   "source": [
    "df_model['prop_tenure_1'][0]"
   ]
  },
  {
   "cell_type": "code",
   "execution_count": 31,
   "metadata": {},
   "outputs": [
    {
     "data": {
      "text/plain": [
       "2012"
      ]
     },
     "execution_count": 31,
     "metadata": {},
     "output_type": "execute_result"
    }
   ],
   "source": [
    "df_model['year'][0]"
   ]
  },
  {
   "cell_type": "code",
   "execution_count": 33,
   "metadata": {},
   "outputs": [
    {
     "data": {
      "text/plain": [
       "0"
      ]
     },
     "execution_count": 33,
     "metadata": {},
     "output_type": "execute_result"
    }
   ],
   "source": [
    "df_model['total_uses'][0]"
   ]
  },
  {
   "cell_type": "code",
   "execution_count": 34,
   "metadata": {},
   "outputs": [
    {
     "data": {
      "text/plain": [
       "0.0"
      ]
     },
     "execution_count": 34,
     "metadata": {},
     "output_type": "execute_result"
    }
   ],
   "source": [
    "df_model['fire_count_last year'][0]"
   ]
  },
  {
   "cell_type": "code",
   "execution_count": 57,
   "metadata": {},
   "outputs": [],
   "source": [
    "fire_count_last_year = 0\n",
    "year = 2019\n",
    "yrbuilt = 1912 ##\n",
    "bldgsqft = 5461 ##\n",
    "total_uses = 0 ##\n",
    "cie = 0\n",
    "mips = 0\n",
    "visitor = 0\n",
    "pdr = 0\n",
    "retail = 0\n",
    "med = 0\n",
    "resunits = 5 #\n",
    "complaints_count = 0\n",
    "violation_count = 0\n",
    "building_permit = 0\n",
    "arson_count = 0\n",
    "other_crime_count  = 313 #\n",
    "nodes_population_1500m = 0\n",
    "block_groups_total_jobs = 0\n",
    "block_groups_median_children = 0\n",
    "block_groups_median_income = 0\n",
    "prop_tenure_1 = 0.37 #\n",
    "nodes_low_income_hh_1500m = 0\n",
    "nodes_high_income_hh_1500m = 0\n",
    "nodes_jobs_3000m = 0\n",
    "nodes_jobs_20km = 0\n",
    "nodes_population_400m = 0\n",
    "nodes_population_800m = 0\n",
    "block_groups_prop_race_of_head_1 = 0\n",
    "block_groups_prop_race_of_head_2 = 0\n",
    "block_groups_prop_race_of_head_3 = 0\n",
    "block_groups_prop_race_of_head_7 = 0\n",
    "block_groups_prop_race_of_head_8 = 0\n",
    "block_groups_prop_race_of_head_6 = 0\n",
    "pumas_density_residential_units = 0\n",
    "block_groups_density_jobs = 0\n",
    "nodes_jobs_1500m_4445 = 0\n",
    "nodes_jobs_3000m_4445 = 0\n",
    "nodes_du_5000m = 0\n",
    "nodes_du_800m = 0\n",
    "block_groups_median_rent = 0\n",
    "block_groups_median_persons = 0\n",
    "block_groups_median_age_of_head = 0 \n",
    "nodes_ave_year_built_800m = 0"
   ]
  },
  {
   "cell_type": "code",
   "execution_count": 58,
   "metadata": {},
   "outputs": [],
   "source": [
    "mode_input = [fire_count_last_year, year,\n",
    "               yrbuilt,bldgsqft,total_uses,cie,mips,visitor, pdr, retail, med,resunits,\n",
    "               complaints_count, violation_count,building_permit,\n",
    "               arson_count, other_crime_count, \n",
    "               nodes_population_1500m, block_groups_total_jobs,\n",
    "               block_groups_median_children, block_groups_median_income,\n",
    "               prop_tenure_1, nodes_low_income_hh_1500m,\n",
    "               nodes_high_income_hh_1500m, nodes_jobs_3000m, nodes_jobs_20km,\n",
    "               nodes_population_400m, nodes_population_800m,\n",
    "               block_groups_prop_race_of_head_1, block_groups_prop_race_of_head_2,\n",
    "               block_groups_prop_race_of_head_3, block_groups_prop_race_of_head_7,\n",
    "               block_groups_prop_race_of_head_8, block_groups_prop_race_of_head_6,\n",
    "               pumas_density_residential_units, block_groups_density_jobs,\n",
    "               nodes_jobs_1500m_4445, nodes_jobs_3000m_4445, nodes_du_5000m,\n",
    "               nodes_du_800m, block_groups_median_rent,\n",
    "               block_groups_median_persons, block_groups_median_age_of_head,\n",
    "               nodes_ave_year_built_800m]\n"
   ]
  },
  {
   "cell_type": "code",
   "execution_count": 59,
   "metadata": {},
   "outputs": [
    {
     "data": {
      "text/plain": [
       "array([0], dtype=int64)"
      ]
     },
     "execution_count": 59,
     "metadata": {},
     "output_type": "execute_result"
    }
   ],
   "source": [
    "a = prediction_model.predict([test])\n",
    "a"
   ]
  },
  {
   "cell_type": "code",
   "execution_count": 41,
   "metadata": {},
   "outputs": [
    {
     "name": "stdout",
     "output_type": "stream",
     "text": [
      "[0]\n"
     ]
    }
   ],
   "source": [
    "print(a)"
   ]
  },
  {
   "cell_type": "code",
   "execution_count": 61,
   "metadata": {},
   "outputs": [
    {
     "data": {
      "text/plain": [
       "array([0.00000000e+00, 2.01900000e+03, 1.91200000e+03, 5.46000000e+03,\n",
       "       0.00000000e+00, 0.00000000e+00, 0.00000000e+00, 0.00000000e+00,\n",
       "       0.00000000e+00, 0.00000000e+00, 0.00000000e+00, 5.00000000e+00,\n",
       "       0.00000000e+00, 0.00000000e+00, 0.00000000e+00, 0.00000000e+00,\n",
       "       3.13000000e+02, 1.01908817e+01, 1.12600000e+03, 0.00000000e+00,\n",
       "       1.34000000e+05, 3.70786517e-01, 7.07019234e+00, 7.57593489e+00,\n",
       "       1.06838017e+01, 1.31005497e+01, 6.50727749e+00, 8.64523411e+00,\n",
       "       8.53246753e-01, 7.79220779e-03, 1.29870130e-03, 1.29870130e-03,\n",
       "       9.09090909e-03, 1.03896104e-01, 2.35432415e+01, 1.71923620e+01,\n",
       "       7.15454102e+00, 8.25316334e+00, 1.10009251e+01, 6.92731190e+00,\n",
       "       2.20110000e+03, 1.00000000e+00, 4.90000000e+01, 1.94884131e+03])"
      ]
     },
     "execution_count": 61,
     "metadata": {},
     "output_type": "execute_result"
    }
   ],
   "source": [
    "validate_x.iloc[0].values"
   ]
  },
  {
   "cell_type": "code",
   "execution_count": 63,
   "metadata": {},
   "outputs": [
    {
     "data": {
      "text/plain": [
       "array([1], dtype=int64)"
      ]
     },
     "execution_count": 63,
     "metadata": {},
     "output_type": "execute_result"
    }
   ],
   "source": [
    "test_input = validate_x.iloc[0].values\n",
    "b = prediction_model.predict([test_input])\n",
    "b"
   ]
  },
  {
   "cell_type": "code",
   "execution_count": 65,
   "metadata": {},
   "outputs": [
    {
     "data": {
      "text/plain": [
       "1"
      ]
     },
     "execution_count": 65,
     "metadata": {},
     "output_type": "execute_result"
    }
   ],
   "source": [
    "b.item(0)"
   ]
  },
  {
   "cell_type": "markdown",
   "metadata": {},
   "source": [
    "# try XGBOOST"
   ]
  },
  {
   "cell_type": "code",
   "execution_count": 99,
   "metadata": {},
   "outputs": [
    {
     "name": "stdout",
     "output_type": "stream",
     "text": [
      "(155466, 2)\n",
      "(1243744, 28)\n",
      "(1243744, 29)\n",
      "(1243744, 58)\n"
     ]
    }
   ],
   "source": [
    "import pandas as pd\n",
    "# first load the building + fire data\n",
    "df = pd.read_csv('third_analysis.csv')\n",
    "# crime + census\n",
    "df_crime = pd.read_csv('sf_crime_census.csv')\n",
    "# link parce with blk\n",
    "df_joint = pd.read_csv('parcel_blk.csv')\n",
    "# drop duplicate\n",
    "df_joint = df_joint.drop_duplicates(subset=['objectid'], keep='first')\n",
    "print(df_joint.shape)\n",
    "print(df.shape)\n",
    "# joint df with df_joint on objectid\n",
    "# then join them with df_crime on block_id and year\n",
    "\n",
    "df = df.merge(df_joint,on='objectid', how='left')\n",
    "print(df.shape)\n",
    "# df_crime is from 2007-2019. need to join by year and block_id\n",
    "df = df.merge(df_crime,how='left',left_on=['block_id', 'year'], right_on=['block_id','year'])\n",
    "print(df.shape)\n"
   ]
  },
  {
   "cell_type": "code",
   "execution_count": 100,
   "metadata": {},
   "outputs": [
    {
     "name": "stdout",
     "output_type": "stream",
     "text": [
      "(1243744, 25)\n",
      "(1123981, 25)\n"
     ]
    }
   ],
   "source": [
    "# select columns to use\n",
    "cols_to_use = ['fire_count','fire_count_last year','year',\n",
    "               'yrbuilt','bldgsqft','total_uses','cie','mips','visitor', 'pdr', 'retail', 'med','resunits',\n",
    "               'complaints_count', 'violation_count','building_permit',\n",
    "               'arson_count', 'other_crime_count', \n",
    "               'nodes_population_1500m', 'block_groups_total_jobs','block_groups_median_income',\n",
    "               'prop_tenure_1', 'pumas_density_residential_units', 'nodes_du_800m', 'block_groups_median_rent']\n",
    "\n",
    "df_model = df[cols_to_use]\n",
    "print(df_model.shape)\n",
    "df_model = df_model.dropna(how='any')\n",
    "print(df_model.shape)\n"
   ]
  },
  {
   "cell_type": "code",
   "execution_count": 101,
   "metadata": {},
   "outputs": [
    {
     "name": "stdout",
     "output_type": "stream",
     "text": [
      "(1123981, 25)\n"
     ]
    }
   ],
   "source": [
    "# make fire count binary\n",
    "df_model['fire'] = 0\n",
    "df_model.loc[(df_model['fire_count'] > 0),'fire'] = 1\n",
    "df_model.drop('fire_count',inplace=True, axis=1)\n",
    "df_model['fire'].value_counts()\n",
    "\n",
    "for cols in df_model.columns.tolist()[1:]:\n",
    "    df_model = df_model.loc[df_model[cols] >= 0]  \n",
    "    \n",
    "# divide the data\n",
    "x_cols = cols_to_use[1:]\n",
    "\n",
    "validate = df_model[df_model['year']==2019]\n",
    "traintest = df_model[df_model['year']<2019]\n",
    "\n",
    "df_x = traintest[x_cols]\n",
    "df_y = traintest['fire']\n",
    "\n",
    "# a validation set used for ptrediction\n",
    "validate_x = validate[x_cols]\n",
    "validate_y = validate['fire']\n",
    "\n",
    "print(df_model.shape)"
   ]
  },
  {
   "cell_type": "code",
   "execution_count": null,
   "metadata": {},
   "outputs": [],
   "source": []
  },
  {
   "cell_type": "code",
   "execution_count": 70,
   "metadata": {},
   "outputs": [],
   "source": [
    "import xgboost as xgb"
   ]
  },
  {
   "cell_type": "code",
   "execution_count": 74,
   "metadata": {},
   "outputs": [],
   "source": [
    "from sklearn.base import BaseEstimator, TransformerMixin\n",
    "from sklearn.preprocessing import MinMaxScaler\n",
    "\n",
    "class PreprocessTransformer(BaseEstimator, TransformerMixin):\n",
    "    def __init__(self, cat_features, num_features):\n",
    "        self.cat_features = cat_features\n",
    "        self.num_features = num_features\n",
    "        \n",
    "    def fit(self, X, y=None):\n",
    "        return self\n",
    "    \n",
    "    def transform(self, X, y=None):\n",
    "        df = X.copy()\n",
    "        \n",
    "        # Convert columns to categorical\n",
    "        for name in self.cat_features:\n",
    "            col = pd.Categorical(df[name])\n",
    "            df[name] = col.codes\n",
    "            \n",
    "        # Normalize numerical features\n",
    "        scaler = MinMaxScaler()\n",
    "        df[self.num_features] = scaler.fit_transform(df[num_features])\n",
    "        return df"
   ]
  },
  {
   "cell_type": "code",
   "execution_count": 75,
   "metadata": {},
   "outputs": [],
   "source": [
    "class PreprocessTransformer(BaseEstimator, TransformerMixin):\n",
    "    def __init__(self, num_features):\n",
    "        \n",
    "        self.num_features = num_features\n",
    "        \n",
    "    def fit(self, X, y=None):\n",
    "        return self\n",
    "    \n",
    "    def transform(self, X, y=None):\n",
    "        df = X.copy()\n",
    "            \n",
    "        # Normalize numerical features\n",
    "        scaler = MinMaxScaler()\n",
    "        df[self.num_features] = scaler.fit_transform(df[num_features])\n",
    "        return df"
   ]
  },
  {
   "cell_type": "code",
   "execution_count": 77,
   "metadata": {},
   "outputs": [],
   "source": [
    "from sklearn.pipeline import Pipeline\n",
    "from sklearn.feature_selection import SelectKBest, chi2\n",
    "from sklearn.model_selection import KFold, GridSearchCV\n",
    "from sklearn.metrics import accuracy_score, make_scorer"
   ]
  },
  {
   "cell_type": "code",
   "execution_count": 128,
   "metadata": {},
   "outputs": [],
   "source": [
    "#categorical_features = df.select_dtypes('object').columns.tolist()\n",
    "#numerical_features = df.select_dtypes('int64').columns.tolist()\n",
    "\n",
    "numerical_features = df_model.columns.tolist()\n",
    "# Create a pipeline\n",
    "pipe = Pipeline([('scale', MinMaxScaler()), #('preproc', PreprocessTransformer(numerical_features))  ('scale', StandardScaler()),\n",
    "                 ('fs', SelectKBest()),\n",
    "                 ('clf', xgb.XGBClassifier(scale_pos_weight=15,objective='binary:logistic'))\n",
    "                ])"
   ]
  },
  {
   "cell_type": "code",
   "execution_count": 147,
   "metadata": {},
   "outputs": [
    {
     "name": "stdout",
     "output_type": "stream",
     "text": [
      "Fitting 5 folds for each of 32 candidates, totalling 160 fits\n"
     ]
    },
    {
     "name": "stderr",
     "output_type": "stream",
     "text": [
      "[Parallel(n_jobs=-1)]: Using backend LokyBackend with 8 concurrent workers.\n",
      "[Parallel(n_jobs=-1)]: Done  34 tasks      | elapsed:  6.1min\n",
      "[Parallel(n_jobs=-1)]: Done 160 out of 160 | elapsed: 36.8min finished\n"
     ]
    }
   ],
   "source": [
    "# Define our search space for grid search\n",
    "search_space = [\n",
    "    {\n",
    "        'clf__n_estimators': [100,200],\n",
    "        'clf__learning_rate': [0.01,0.1],\n",
    "        'clf__max_depth': [15,20],\n",
    "        'clf__colsample_bytree': [0.1,0.2],  #[i/10.0 for i in range(1, 3)]\n",
    "        'clf__gamma': [0.1,0.2],\n",
    "        'fs__score_func': [chi2],\n",
    "        'fs__k': [10],\n",
    "    }\n",
    "]\n",
    "\n",
    "\n",
    "# Define cross validation\n",
    "kfold = KFold(n_splits=5, random_state=42)\n",
    "\n",
    "# AUC and accuracy as score\n",
    "scoring = {'AUC':'roc_auc', 'Recall':'recall'} # 'Accuracy':make_scorer(accuracy_score)\n",
    "\n",
    "# Define grid search\n",
    "grid = GridSearchCV(\n",
    "  pipe,\n",
    "  param_grid=search_space,\n",
    "  cv=kfold,\n",
    "  scoring=scoring,\n",
    "  refit='AUC',\n",
    "  verbose=1,\n",
    "  n_jobs=-1\n",
    ")\n",
    "\n",
    "# Fit grid search\n",
    "model = grid.fit(df_x, df_y)"
   ]
  },
  {
   "cell_type": "code",
   "execution_count": null,
   "metadata": {},
   "outputs": [],
   "source": [
    "from sklearn.metrics import confusion_matrix\n",
    "# assess model performance\n",
    "from sklearn import metrics"
   ]
  },
  {
   "cell_type": "code",
   "execution_count": 148,
   "metadata": {},
   "outputs": [
    {
     "name": "stdout",
     "output_type": "stream",
     "text": [
      "Best AUC Score: 0.7169985953313912\n",
      "Accuracy: 0.9168677782653211\n",
      "[[98897  5595]\n",
      " [ 3499  1401]]\n"
     ]
    }
   ],
   "source": [
    "predict = model.predict(validate_x)\n",
    "print('Best AUC Score: {}'.format(model.best_score_))\n",
    "print('Accuracy: {}'.format(accuracy_score(validate_y, predict)))\n",
    "print(confusion_matrix(validate_y,predict))"
   ]
  },
  {
   "cell_type": "code",
   "execution_count": 149,
   "metadata": {},
   "outputs": [
    {
     "name": "stdout",
     "output_type": "stream",
     "text": [
      "{'clf__colsample_bytree': 0.2, 'clf__gamma': 0.1, 'clf__learning_rate': 0.01, 'clf__max_depth': 15, 'clf__n_estimators': 200, 'fs__k': 10, 'fs__score_func': <function chi2 at 0x0000019FC46DD700>}\n"
     ]
    }
   ],
   "source": [
    "print(model.best_params_)"
   ]
  },
  {
   "cell_type": "code",
   "execution_count": 150,
   "metadata": {},
   "outputs": [
    {
     "name": "stdout",
     "output_type": "stream",
     "text": [
      "0.28591836734693876\n",
      "0.20025728987993138\n",
      "0.23554135843981167\n"
     ]
    }
   ],
   "source": [
    "print(metrics.recall_score(validate_y,predict))\n",
    "print(metrics.precision_score(validate_y,predict))\n",
    "print(metrics.f1_score(validate_y,predict))"
   ]
  },
  {
   "cell_type": "code",
   "execution_count": 151,
   "metadata": {},
   "outputs": [
    {
     "data": {
      "text/plain": [
       "XGBClassifier(base_score=0.5, booster='gbtree', colsample_bylevel=1,\n",
       "              colsample_bynode=1, colsample_bytree=0.2, gamma=0.1, gpu_id=-1,\n",
       "              importance_type='gain', interaction_constraints='',\n",
       "              learning_rate=0.01, max_delta_step=0, max_depth=15,\n",
       "              min_child_weight=1, missing=nan, monotone_constraints='()',\n",
       "              n_estimators=200, n_jobs=0, num_parallel_tree=1, random_state=0,\n",
       "              reg_alpha=0, reg_lambda=1, scale_pos_weight=15, subsample=1,\n",
       "              tree_method='exact', validate_parameters=1, verbosity=None)"
      ]
     },
     "execution_count": 151,
     "metadata": {},
     "output_type": "execute_result"
    }
   ],
   "source": [
    "model.best_estimator_.named_steps[\"clf\"]"
   ]
  },
  {
   "cell_type": "code",
   "execution_count": 152,
   "metadata": {},
   "outputs": [],
   "source": [
    "filename = 'XGBoost_internal.sav'\n",
    "pickle.dump(model, open(filename, 'wb'))"
   ]
  },
  {
   "cell_type": "code",
   "execution_count": 158,
   "metadata": {},
   "outputs": [
    {
     "data": {
      "image/png": "[encoded data removed]",
      "text/plain": [
       "<Figure size 720x720 with 1 Axes>"
      ]
     },
     "metadata": {
      "needs_background": "light"
     },
     "output_type": "display_data"
    }
   ],
   "source": [
    "ROCplot, false_positive_XGBOOST, true_positive_XGBOOST, thresholds_XGBOOST = plot_ROC_curve(validate_x,validate_y,\n",
    "                                                                             model,\n",
    "                                                                             title='Internal_fire_RF_ROC')"
   ]
  },
  {
   "cell_type": "code",
   "execution_count": null,
   "metadata": {},
   "outputs": [],
   "source": []
  }
 ],
 "metadata": {
  "kernelspec": {
   "display_name": "Python 3",
   "language": "python",
   "name": "python3"
  },
  "language_info": {
   "codemirror_mode": {
    "name": "ipython",
    "version": 3
   },
   "file_extension": ".py",
   "mimetype": "text/x-python",
   "name": "python",
   "nbconvert_exporter": "python",
   "pygments_lexer": "ipython3",
   "version": "3.8.3"
  }
 },
 "nbformat": 4,
 "nbformat_minor": 4
}
